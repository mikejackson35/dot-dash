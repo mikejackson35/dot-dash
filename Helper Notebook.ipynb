{
 "cells": [
  {
   "cell_type": "code",
   "execution_count": 1,
   "id": "4dc1cbc6",
   "metadata": {},
   "outputs": [
    {
     "name": "stderr",
     "output_type": "stream",
     "text": [
      "2023-12-14 09:31:01.386 INFO    numexpr.utils: NumExpr defaulting to 8 threads.\n"
     ]
    }
   ],
   "source": [
    "import streamlit as st\n",
    "import pandas as pd\n",
    "import plotly.express as px"
   ]
  },
  {
   "cell_type": "code",
   "execution_count": 2,
   "id": "724497bc",
   "metadata": {},
   "outputs": [],
   "source": [
    "def get_data_from_csv():\n",
    "    df = pd.read_csv('all_sales_data.csv')\n",
    "    return df\n",
    "df = get_data_from_csv()\n",
    "\n",
    "### MASTER DATA ###\n",
    "all_sales = df.copy()"
   ]
  },
  {
   "cell_type": "code",
   "execution_count": 3,
   "id": "8d1bbef2",
   "metadata": {},
   "outputs": [
    {
     "name": "stdout",
     "output_type": "stream",
     "text": [
      "<class 'pandas.core.frame.DataFrame'>\n",
      "RangeIndex: 86985 entries, 0 to 86984\n",
      "Data columns (total 12 columns):\n",
      " #   Column                 Non-Null Count  Dtype         \n",
      "---  ------                 --------------  -----         \n",
      " 0   Dollars                86985 non-null  float64       \n",
      " 1   Customer               86985 non-null  object        \n",
      " 2   Customer Order Number  86985 non-null  object        \n",
      " 3   Dollars Formatted      86985 non-null  float64       \n",
      " 4   Invoice Date           86985 non-null  datetime64[ns]\n",
      " 5   Item Full Description  86985 non-null  object        \n",
      " 6   Market Segment         86985 non-null  object        \n",
      " 7   Parent Customer        86985 non-null  object        \n",
      " 8   Sale Origin            86985 non-null  object        \n",
      " 9   Sales by Parent        86985 non-null  float64       \n",
      " 10  Suffix                 3990 non-null   object        \n",
      " 11  Vistar Retail          86985 non-null  object        \n",
      "dtypes: datetime64[ns](1), float64(3), object(8)\n",
      "memory usage: 8.0+ MB\n"
     ]
    }
   ],
   "source": [
    "all_sales['Invoice Date'] = pd.to_datetime(all_sales['Invoice Date'])\n",
    "all_sales['Invoice Date'] = all_sales['Invoice Date'].dt.normalize()\n",
    "all_sales['Invoice Date'] = all_sales['Invoice Date'].dt.floor('D')\n",
    "all_sales.info()"
   ]
  },
  {
   "cell_type": "code",
   "execution_count": 4,
   "id": "ceac6805",
   "metadata": {},
   "outputs": [],
   "source": [
    "year = all_sales['Invoice Date'].dt.year.unique()\n",
    "segment = all_sales['Market Segment'].unique()"
   ]
  },
  {
   "cell_type": "code",
   "execution_count": 5,
   "id": "430c04d5",
   "metadata": {},
   "outputs": [
    {
     "data": {
      "text/html": [
       "<div>\n",
       "<style scoped>\n",
       "    .dataframe tbody tr th:only-of-type {\n",
       "        vertical-align: middle;\n",
       "    }\n",
       "\n",
       "    .dataframe tbody tr th {\n",
       "        vertical-align: top;\n",
       "    }\n",
       "\n",
       "    .dataframe thead th {\n",
       "        text-align: right;\n",
       "    }\n",
       "</style>\n",
       "<table border=\"1\" class=\"dataframe\">\n",
       "  <thead>\n",
       "    <tr style=\"text-align: right;\">\n",
       "      <th></th>\n",
       "      <th>Dollars</th>\n",
       "      <th>Customer</th>\n",
       "      <th>Customer Order Number</th>\n",
       "      <th>Dollars Formatted</th>\n",
       "      <th>Invoice Date</th>\n",
       "      <th>Item Full Description</th>\n",
       "      <th>Market Segment</th>\n",
       "      <th>Parent Customer</th>\n",
       "      <th>Sale Origin</th>\n",
       "      <th>Sales by Parent</th>\n",
       "      <th>Suffix</th>\n",
       "      <th>Vistar Retail</th>\n",
       "    </tr>\n",
       "  </thead>\n",
       "  <tbody>\n",
       "    <tr>\n",
       "      <th>0</th>\n",
       "      <td>34.9875</td>\n",
       "      <td>Amazon SC</td>\n",
       "      <td>SO-00099997</td>\n",
       "      <td>34.987500</td>\n",
       "      <td>2023-05-17</td>\n",
       "      <td>50ct Pouch - Variety Pk Choc Bites</td>\n",
       "      <td>Online</td>\n",
       "      <td>Amazon</td>\n",
       "      <td>Unleashed</td>\n",
       "      <td>2.473553e+06</td>\n",
       "      <td>NaN</td>\n",
       "      <td>No</td>\n",
       "    </tr>\n",
       "    <tr>\n",
       "      <th>1</th>\n",
       "      <td>34.9875</td>\n",
       "      <td>Amazon SC</td>\n",
       "      <td>SO-00099972</td>\n",
       "      <td>34.987500</td>\n",
       "      <td>2023-05-17</td>\n",
       "      <td>50ct Pouch - Variety Pk Choc Bites</td>\n",
       "      <td>Online</td>\n",
       "      <td>Amazon</td>\n",
       "      <td>Unleashed</td>\n",
       "      <td>2.473553e+06</td>\n",
       "      <td>NaN</td>\n",
       "      <td>No</td>\n",
       "    </tr>\n",
       "    <tr>\n",
       "      <th>2</th>\n",
       "      <td>34.9875</td>\n",
       "      <td>Amazon SC</td>\n",
       "      <td>SO-00100026</td>\n",
       "      <td>34.987500</td>\n",
       "      <td>2023-05-17</td>\n",
       "      <td>50ct Pouch - Variety Pk Choc Bites</td>\n",
       "      <td>Online</td>\n",
       "      <td>Amazon</td>\n",
       "      <td>Unleashed</td>\n",
       "      <td>2.473553e+06</td>\n",
       "      <td>NaN</td>\n",
       "      <td>No</td>\n",
       "    </tr>\n",
       "    <tr>\n",
       "      <th>3</th>\n",
       "      <td>34.9875</td>\n",
       "      <td>Amazon SC</td>\n",
       "      <td>SO-00100069</td>\n",
       "      <td>34.987500</td>\n",
       "      <td>2023-05-17</td>\n",
       "      <td>50ct Pouch - Variety Pk Choc Bites</td>\n",
       "      <td>Online</td>\n",
       "      <td>Amazon</td>\n",
       "      <td>Unleashed</td>\n",
       "      <td>2.473553e+06</td>\n",
       "      <td>NaN</td>\n",
       "      <td>No</td>\n",
       "    </tr>\n",
       "    <tr>\n",
       "      <th>4</th>\n",
       "      <td>34.9875</td>\n",
       "      <td>Amazon SC</td>\n",
       "      <td>SO-00100085</td>\n",
       "      <td>34.987500</td>\n",
       "      <td>2023-05-17</td>\n",
       "      <td>50ct Pouch - Variety Pk Choc Bites</td>\n",
       "      <td>Online</td>\n",
       "      <td>Amazon</td>\n",
       "      <td>Unleashed</td>\n",
       "      <td>2.473553e+06</td>\n",
       "      <td>NaN</td>\n",
       "      <td>No</td>\n",
       "    </tr>\n",
       "    <tr>\n",
       "      <th>...</th>\n",
       "      <td>...</td>\n",
       "      <td>...</td>\n",
       "      <td>...</td>\n",
       "      <td>...</td>\n",
       "      <td>...</td>\n",
       "      <td>...</td>\n",
       "      <td>...</td>\n",
       "      <td>...</td>\n",
       "      <td>...</td>\n",
       "      <td>...</td>\n",
       "      <td>...</td>\n",
       "      <td>...</td>\n",
       "    </tr>\n",
       "    <tr>\n",
       "      <th>86980</th>\n",
       "      <td>2575.1250</td>\n",
       "      <td>Vistar/ VSA Corporate</td>\n",
       "      <td>SO-00074694</td>\n",
       "      <td>2.575125</td>\n",
       "      <td>2022-04-01</td>\n",
       "      <td>6 x 50ct Change Maker - AWAKE Chocolate Bites ...</td>\n",
       "      <td>Alternate Retail</td>\n",
       "      <td>Vistar Retail</td>\n",
       "      <td>Unleashed</td>\n",
       "      <td>1.978810e+06</td>\n",
       "      <td>K</td>\n",
       "      <td>Yes</td>\n",
       "    </tr>\n",
       "    <tr>\n",
       "      <th>86981</th>\n",
       "      <td>1383.4650</td>\n",
       "      <td>Vistar/ VSA Corporate</td>\n",
       "      <td>SO-00079448</td>\n",
       "      <td>1.383465</td>\n",
       "      <td>2022-07-18</td>\n",
       "      <td>6 x 50ct Change Maker - AWAKE Chocolate Bites ...</td>\n",
       "      <td>Alternate Retail</td>\n",
       "      <td>Vistar Retail</td>\n",
       "      <td>Unleashed</td>\n",
       "      <td>1.978810e+06</td>\n",
       "      <td>K</td>\n",
       "      <td>Yes</td>\n",
       "    </tr>\n",
       "    <tr>\n",
       "      <th>86982</th>\n",
       "      <td>122.6250</td>\n",
       "      <td>Vistar/ VSA Corporate</td>\n",
       "      <td>SO-00074694</td>\n",
       "      <td>122.625000</td>\n",
       "      <td>2022-04-01</td>\n",
       "      <td>6 x 50ct Change Maker - AWAKE Chocolate Bites ...</td>\n",
       "      <td>Alternate Retail</td>\n",
       "      <td>Vistar Retail</td>\n",
       "      <td>Unleashed</td>\n",
       "      <td>1.978810e+06</td>\n",
       "      <td>NaN</td>\n",
       "      <td>Yes</td>\n",
       "    </tr>\n",
       "    <tr>\n",
       "      <th>86983</th>\n",
       "      <td>1509.2325</td>\n",
       "      <td>Vistar/ VSA Corporate</td>\n",
       "      <td>SO-00079448</td>\n",
       "      <td>1.509232</td>\n",
       "      <td>2022-07-18</td>\n",
       "      <td>6 x 50ct Change Maker - AWAKE Chocolate Bites ...</td>\n",
       "      <td>Alternate Retail</td>\n",
       "      <td>Vistar Retail</td>\n",
       "      <td>Unleashed</td>\n",
       "      <td>1.978810e+06</td>\n",
       "      <td>K</td>\n",
       "      <td>Yes</td>\n",
       "    </tr>\n",
       "    <tr>\n",
       "      <th>86984</th>\n",
       "      <td>7050.0000</td>\n",
       "      <td>Vistar/ VSA Corporate</td>\n",
       "      <td>SO-00087921</td>\n",
       "      <td>7.050000</td>\n",
       "      <td>2022-10-14</td>\n",
       "      <td>Mint Bites 13.5g Change Maker (6 x 50)</td>\n",
       "      <td>Alternate Retail</td>\n",
       "      <td>Vistar Retail</td>\n",
       "      <td>Unleashed</td>\n",
       "      <td>1.978810e+06</td>\n",
       "      <td>K</td>\n",
       "      <td>Yes</td>\n",
       "    </tr>\n",
       "  </tbody>\n",
       "</table>\n",
       "<p>86985 rows × 12 columns</p>\n",
       "</div>"
      ],
      "text/plain": [
       "         Dollars               Customer Customer Order Number  \\\n",
       "0        34.9875              Amazon SC           SO-00099997   \n",
       "1        34.9875              Amazon SC           SO-00099972   \n",
       "2        34.9875              Amazon SC           SO-00100026   \n",
       "3        34.9875              Amazon SC           SO-00100069   \n",
       "4        34.9875              Amazon SC           SO-00100085   \n",
       "...          ...                    ...                   ...   \n",
       "86980  2575.1250  Vistar/ VSA Corporate           SO-00074694   \n",
       "86981  1383.4650  Vistar/ VSA Corporate           SO-00079448   \n",
       "86982   122.6250  Vistar/ VSA Corporate           SO-00074694   \n",
       "86983  1509.2325  Vistar/ VSA Corporate           SO-00079448   \n",
       "86984  7050.0000  Vistar/ VSA Corporate           SO-00087921   \n",
       "\n",
       "       Dollars Formatted Invoice Date  \\\n",
       "0              34.987500   2023-05-17   \n",
       "1              34.987500   2023-05-17   \n",
       "2              34.987500   2023-05-17   \n",
       "3              34.987500   2023-05-17   \n",
       "4              34.987500   2023-05-17   \n",
       "...                  ...          ...   \n",
       "86980           2.575125   2022-04-01   \n",
       "86981           1.383465   2022-07-18   \n",
       "86982         122.625000   2022-04-01   \n",
       "86983           1.509232   2022-07-18   \n",
       "86984           7.050000   2022-10-14   \n",
       "\n",
       "                                   Item Full Description    Market Segment  \\\n",
       "0                     50ct Pouch - Variety Pk Choc Bites            Online   \n",
       "1                     50ct Pouch - Variety Pk Choc Bites            Online   \n",
       "2                     50ct Pouch - Variety Pk Choc Bites            Online   \n",
       "3                     50ct Pouch - Variety Pk Choc Bites            Online   \n",
       "4                     50ct Pouch - Variety Pk Choc Bites            Online   \n",
       "...                                                  ...               ...   \n",
       "86980  6 x 50ct Change Maker - AWAKE Chocolate Bites ...  Alternate Retail   \n",
       "86981  6 x 50ct Change Maker - AWAKE Chocolate Bites ...  Alternate Retail   \n",
       "86982  6 x 50ct Change Maker - AWAKE Chocolate Bites ...  Alternate Retail   \n",
       "86983  6 x 50ct Change Maker - AWAKE Chocolate Bites ...  Alternate Retail   \n",
       "86984             Mint Bites 13.5g Change Maker (6 x 50)  Alternate Retail   \n",
       "\n",
       "      Parent Customer Sale Origin  Sales by Parent Suffix Vistar Retail  \n",
       "0              Amazon   Unleashed     2.473553e+06    NaN            No  \n",
       "1              Amazon   Unleashed     2.473553e+06    NaN            No  \n",
       "2              Amazon   Unleashed     2.473553e+06    NaN            No  \n",
       "3              Amazon   Unleashed     2.473553e+06    NaN            No  \n",
       "4              Amazon   Unleashed     2.473553e+06    NaN            No  \n",
       "...               ...         ...              ...    ...           ...  \n",
       "86980   Vistar Retail   Unleashed     1.978810e+06      K           Yes  \n",
       "86981   Vistar Retail   Unleashed     1.978810e+06      K           Yes  \n",
       "86982   Vistar Retail   Unleashed     1.978810e+06    NaN           Yes  \n",
       "86983   Vistar Retail   Unleashed     1.978810e+06      K           Yes  \n",
       "86984   Vistar Retail   Unleashed     1.978810e+06      K           Yes  \n",
       "\n",
       "[86985 rows x 12 columns]"
      ]
     },
     "execution_count": 5,
     "metadata": {},
     "output_type": "execute_result"
    }
   ],
   "source": [
    "df_selection = all_sales[\n",
    "    (all_sales['Invoice Date'].dt.year.isin(year)) &\n",
    "    (all_sales['Market Segment'].isin(segment))\n",
    "    ]\n",
    "df_selection"
   ]
  },
  {
   "cell_type": "code",
   "execution_count": 56,
   "id": "83db9cc4",
   "metadata": {},
   "outputs": [
    {
     "name": "stdout",
     "output_type": "stream",
     "text": [
      "<class 'pandas.core.series.Series'>\n",
      "MultiIndex: 812 entries, ('Alternate Retail', 2022, 1) to ('Vending', 2023, 50)\n",
      "Series name: Dollars\n",
      "Non-Null Count  Dtype  \n",
      "--------------  -----  \n",
      "812 non-null    float64\n",
      "dtypes: float64(1)\n",
      "memory usage: 9.5+ KB\n"
     ]
    }
   ],
   "source": [
    "# year = df_selection['Invoice Date'].dt.year\n",
    "# week = df_selection['Invoice Date'].dt.isocalendar().week\n",
    "\n",
    "sales_per_day.info()"
   ]
  },
  {
   "cell_type": "code",
   "execution_count": 63,
   "id": "15445d37",
   "metadata": {},
   "outputs": [
    {
     "name": "stderr",
     "output_type": "stream",
     "text": [
      "C:\\Users\\mikej\\AppData\\Local\\Temp/ipykernel_30752/1626673484.py:1: FutureWarning:\n",
      "\n",
      "Indexing with multiple keys (implicitly converted to a tuple of keys) will be deprecated, use a list instead.\n",
      "\n",
      "C:\\Users\\mikej\\AppData\\Local\\Temp/ipykernel_30752/1626673484.py:1: FutureWarning:\n",
      "\n",
      "Dropping invalid columns in DataFrameGroupBy.transform is deprecated. In a future version, a TypeError will be raised. Before calling .transform, select only columns which should be valid for the function.\n",
      "\n"
     ]
    },
    {
     "data": {
      "text/html": [
       "<div>\n",
       "<style scoped>\n",
       "    .dataframe tbody tr th:only-of-type {\n",
       "        vertical-align: middle;\n",
       "    }\n",
       "\n",
       "    .dataframe tbody tr th {\n",
       "        vertical-align: top;\n",
       "    }\n",
       "\n",
       "    .dataframe thead th {\n",
       "        text-align: right;\n",
       "    }\n",
       "</style>\n",
       "<table border=\"1\" class=\"dataframe\">\n",
       "  <thead>\n",
       "    <tr style=\"text-align: right;\">\n",
       "      <th></th>\n",
       "      <th>Dollars</th>\n",
       "    </tr>\n",
       "  </thead>\n",
       "  <tbody>\n",
       "    <tr>\n",
       "      <th>0</th>\n",
       "      <td>38890.2850</td>\n",
       "    </tr>\n",
       "    <tr>\n",
       "      <th>1</th>\n",
       "      <td>38890.2850</td>\n",
       "    </tr>\n",
       "    <tr>\n",
       "      <th>2</th>\n",
       "      <td>38890.2850</td>\n",
       "    </tr>\n",
       "    <tr>\n",
       "      <th>3</th>\n",
       "      <td>38890.2850</td>\n",
       "    </tr>\n",
       "    <tr>\n",
       "      <th>4</th>\n",
       "      <td>38890.2850</td>\n",
       "    </tr>\n",
       "    <tr>\n",
       "      <th>...</th>\n",
       "      <td>...</td>\n",
       "    </tr>\n",
       "    <tr>\n",
       "      <th>86980</th>\n",
       "      <td>64479.4750</td>\n",
       "    </tr>\n",
       "    <tr>\n",
       "      <th>86981</th>\n",
       "      <td>58343.1775</td>\n",
       "    </tr>\n",
       "    <tr>\n",
       "      <th>86982</th>\n",
       "      <td>64479.4750</td>\n",
       "    </tr>\n",
       "    <tr>\n",
       "      <th>86983</th>\n",
       "      <td>58343.1775</td>\n",
       "    </tr>\n",
       "    <tr>\n",
       "      <th>86984</th>\n",
       "      <td>28458.6375</td>\n",
       "    </tr>\n",
       "  </tbody>\n",
       "</table>\n",
       "<p>86985 rows × 1 columns</p>\n",
       "</div>"
      ],
      "text/plain": [
       "          Dollars\n",
       "0      38890.2850\n",
       "1      38890.2850\n",
       "2      38890.2850\n",
       "3      38890.2850\n",
       "4      38890.2850\n",
       "...           ...\n",
       "86980  64479.4750\n",
       "86981  58343.1775\n",
       "86982  64479.4750\n",
       "86983  58343.1775\n",
       "86984  28458.6375\n",
       "\n",
       "[86985 rows x 1 columns]"
      ]
     },
     "execution_count": 63,
     "metadata": {},
     "output_type": "execute_result"
    }
   ],
   "source": [
    "sales_per_day = df_selection.groupby([year,week,'Market Segment'])['Invoice Date','Dollars'].transform(func='sum')\n",
    "sales_per_day"
   ]
  },
  {
   "cell_type": "code",
   "execution_count": 65,
   "id": "1c4f11d2",
   "metadata": {},
   "outputs": [
    {
     "data": {
      "application/vnd.plotly.v1+json": {
       "config": {
        "plotlyServerURL": "https://plot.ly"
       },
       "data": [
        {
         "hovertemplate": "Market Segment=Alternate Retail<br>x=%{x}<br><b>$USD</b>=%{y}<extra></extra>",
         "legendgroup": "Alternate Retail",
         "marker": {
          "color": "#636efa",
          "symbol": "circle"
         },
         "mode": "markers",
         "name": "Alternate Retail",
         "orientation": "v",
         "showlegend": true,
         "type": "scatter",
         "x": [
          0,
          1,
          2,
          3,
          4,
          5,
          6,
          7,
          8,
          9,
          10,
          11,
          12,
          13,
          14,
          15,
          16,
          17,
          18,
          19,
          20,
          21,
          22,
          23,
          24,
          25,
          26,
          27,
          28,
          29,
          30,
          31,
          32,
          33,
          34,
          35,
          36,
          37,
          38,
          39,
          40,
          41,
          42,
          43,
          44,
          45,
          46,
          47,
          48,
          49,
          50,
          51,
          52,
          53,
          54,
          55,
          56,
          57,
          58,
          59,
          60,
          61,
          62,
          63,
          64,
          65,
          66,
          67,
          68,
          69,
          70,
          71,
          72,
          73,
          74,
          75,
          76,
          77,
          78,
          79,
          80,
          81,
          82,
          83,
          84,
          85,
          86,
          87,
          88,
          89,
          90,
          91,
          92,
          93,
          94,
          95,
          96,
          97,
          98,
          99,
          100,
          101
         ],
         "xaxis": "x",
         "y": [
          16266.28,
          64248.96,
          11248.8,
          15036.7,
          18674.97,
          32686,
          39388.72,
          25465.920000000002,
          16363.08,
          22288.32,
          21163.44,
          17239.440000000002,
          64479.475,
          56636.4,
          39553.92,
          57598.98,
          26761.68,
          17658,
          48926.705,
          27468,
          18519.18,
          31836.72,
          26704.08,
          24219.255,
          29398.600000000002,
          11876.64,
          18207.36,
          20551.28,
          58343.177500000005,
          25139.760000000002,
          41908.28,
          22288.32,
          45649.200000000004,
          51948.44,
          63647.28,
          29639.280000000002,
          38340.04,
          73248,
          27651.12,
          31675.800000000003,
          28458.6375,
          63331.86,
          36437.04,
          35627.92,
          29152.68,
          51153.9,
          21820.16,
          29150.8,
          18632.8,
          32560.16,
          8938.92,
          9641.88,
          7542.56,
          74751.6,
          59874.5,
          28882.86,
          51803.380000000005,
          44676.88,
          34556.46,
          20360.4,
          83752.18,
          21617.64,
          32428.58,
          61062.04,
          37351.84,
          23810.16,
          95765.58,
          34943.56,
          22842.94,
          34233.52,
          35229.32,
          21253.4,
          36677.2,
          3051.24,
          21684.86,
          49582.44,
          15040.94,
          64111.76,
          41926.44,
          29587.440000000002,
          35496.28,
          21427.28,
          64209.520000000004,
          31233.38,
          41184.8,
          -6303.28,
          38442.4,
          14805,
          41532.020000000004,
          52916.36,
          47741.02,
          26676.26,
          54925.14,
          61737.26,
          40713.28,
          22904.98,
          29102.4,
          72930.84,
          25780.440000000002,
          13865,
          24118.52,
          11037.48
         ],
         "yaxis": "y"
        },
        {
         "hovertemplate": "Market Segment=Broadline Distributor<br>x=%{x}<br><b>$USD</b>=%{y}<extra></extra>",
         "legendgroup": "Broadline Distributor",
         "marker": {
          "color": "#EF553B",
          "symbol": "circle"
         },
         "mode": "markers",
         "name": "Broadline Distributor",
         "orientation": "v",
         "showlegend": true,
         "type": "scatter",
         "x": [
          102,
          103,
          104,
          105,
          106,
          107,
          108,
          109,
          110,
          111,
          112,
          113,
          114,
          115,
          116,
          117,
          118,
          119,
          120,
          121,
          122,
          123,
          124,
          125,
          126,
          127,
          128,
          129,
          130,
          131,
          132,
          133,
          134,
          135,
          136,
          137,
          138,
          139,
          140,
          141,
          142,
          143,
          144,
          145,
          146,
          147,
          148,
          149,
          150,
          151,
          152,
          153,
          154,
          155,
          156,
          157,
          158,
          159,
          160,
          161,
          162,
          163,
          164,
          165,
          166,
          167,
          168,
          169,
          170,
          171,
          172,
          173,
          174,
          175,
          176,
          177,
          178,
          179,
          180,
          181,
          182,
          183,
          184,
          185,
          186,
          187,
          188,
          189,
          190,
          191,
          192,
          193,
          194,
          195,
          196,
          197,
          198,
          199,
          200,
          201
         ],
         "xaxis": "x",
         "y": [
          1098.72,
          313.92,
          1621.92,
          1491.1200000000001,
          523.2,
          1151.04,
          758.6400000000001,
          1909.68,
          1177.1999999999998,
          601.6800000000001,
          340.08000000000004,
          1438.8000000000002,
          2431.7200000000003,
          915.6000000000001,
          2799.12,
          1020.24,
          941.76,
          340.08000000000004,
          0,
          758.6400000000001,
          497.04,
          392.4,
          418.56000000000006,
          366.24,
          706.32,
          732.48,
          1831.2,
          235.44,
          2589.84,
          1317.74,
          2066.6400000000003,
          1360.3200000000002,
          1308,
          1438.8000000000002,
          837.12,
          5598.24,
          2432.88,
          2764.54,
          141,
          2754.58,
          1583.42,
          2420.5,
          1424.1,
          1192.8600000000001,
          790.54,
          2018.18,
          1474.86,
          342.16,
          171.08,
          141,
          1897.8600000000001,
          564,
          705,
          4347.96,
          1102.62,
          2099.02,
          3407.5,
          1620.56,
          1162.78,
          709.7,
          1555.7,
          508.54,
          1479.5600000000002,
          1902.56,
          654.24,
          1359.24,
          1500.24,
          1303.78,
          1756.8600000000001,
          961.62,
          1273.7,
          1978.7,
          820.62,
          966.32,
          483.16,
          508.54,
          3811.7,
          2880.16,
          624.1600000000001,
          11652.24,
          1525.62,
          1927.94,
          1893.16,
          2371.62,
          2860.3900000000003,
          1551,
          1329.16,
          1222.94,
          114,
          1728.3200000000002,
          987,
          2544.24,
          2804.02,
          931.54,
          7952.1,
          1615.8600000000001,
          961.62,
          3466.78,
          1503.4,
          282
         ],
         "yaxis": "y"
        },
        {
         "hovertemplate": "Market Segment=Canada<br>x=%{x}<br><b>$USD</b>=%{y}<extra></extra>",
         "legendgroup": "Canada",
         "marker": {
          "color": "#00cc96",
          "symbol": "circle"
         },
         "mode": "markers",
         "name": "Canada",
         "orientation": "v",
         "showlegend": true,
         "type": "scatter",
         "x": [
          202,
          203,
          204,
          205,
          206,
          207,
          208,
          209,
          210,
          211,
          212,
          213,
          214,
          215,
          216,
          217,
          218,
          219,
          220,
          221,
          222,
          223,
          224,
          225,
          226,
          227,
          228,
          229,
          230,
          231,
          232,
          233,
          234,
          235,
          236,
          237,
          238,
          239,
          240,
          241,
          242,
          243,
          244,
          245,
          246,
          247,
          248,
          249,
          250,
          251,
          252,
          253,
          254,
          255,
          256,
          257,
          258,
          259,
          260,
          261,
          262,
          263,
          264,
          265,
          266,
          267,
          268,
          269,
          270,
          271,
          272
         ],
         "xaxis": "x",
         "y": [
          7956,
          22446,
          4830,
          1854.72,
          4071.1499999999996,
          10599.720000000001,
          4896,
          22321.92,
          2763,
          21195.36,
          52111.44,
          3168,
          41121.72,
          612,
          22984.920000000002,
          4024.62,
          18261.72,
          12884.1975,
          12174.720000000001,
          29425.5,
          18724.425,
          10602,
          15308.220000000001,
          7410.75,
          3672,
          1584,
          39982.47,
          4354.5,
          25404.48,
          23328,
          59665.335,
          4185.6,
          48952.619999999995,
          2502,
          34844.64,
          11075.76,
          6067.5,
          44935.905,
          13613.28,
          77100.8625,
          23452.95,
          12959.7,
          16163.85,
          9619.125,
          6370.68,
          56643.39,
          2295,
          3180.6,
          18467.115,
          11413.92,
          11669.932499999999,
          3031.95,
          26322.4875,
          32691.36,
          4321.665,
          4785.705,
          10264.32,
          94233.825,
          3545.085,
          102258.72,
          4124.31,
          21852.0075,
          94798.83,
          9492.33,
          12835.755000000001,
          20719.065,
          72924.555,
          2783.49,
          7098.33,
          45897.375,
          38756.7975
         ],
         "yaxis": "y"
        },
        {
         "hovertemplate": "Market Segment=Convenience<br>x=%{x}<br><b>$USD</b>=%{y}<extra></extra>",
         "legendgroup": "Convenience",
         "marker": {
          "color": "#ab63fa",
          "symbol": "circle"
         },
         "mode": "markers",
         "name": "Convenience",
         "orientation": "v",
         "showlegend": true,
         "type": "scatter",
         "x": [
          273,
          274,
          275,
          276,
          277,
          278,
          279,
          280,
          281,
          282,
          283,
          284,
          285,
          286,
          287,
          288,
          289,
          290,
          291,
          292,
          293,
          294,
          295,
          296,
          297,
          298,
          299,
          300,
          301,
          302,
          303,
          304,
          305,
          306,
          307,
          308,
          309,
          310,
          311,
          312,
          313,
          314,
          315,
          316,
          317,
          318,
          319,
          320,
          321,
          322,
          323,
          324,
          325,
          326,
          327,
          328,
          329,
          330,
          331,
          332,
          333,
          334,
          335,
          336,
          337,
          338,
          339,
          340,
          341,
          342,
          343,
          344,
          345,
          346,
          347,
          348,
          349,
          350,
          351,
          352,
          353,
          354,
          355,
          356,
          357,
          358,
          359,
          360,
          361,
          362,
          363,
          364,
          365,
          366,
          367,
          368,
          369,
          370,
          371,
          372,
          373,
          374
         ],
         "xaxis": "x",
         "y": [
          15346.11,
          6435.360000000001,
          5990.64,
          5807.52,
          19994.415,
          11719.68,
          17662.905,
          22222.920000000002,
          10114.11,
          19358.4,
          17904.885000000002,
          15200.595000000001,
          42681.435,
          11819.960000000001,
          25296.72,
          36962.445,
          26809.36,
          13812.480000000001,
          14279,
          42165.56,
          17634.17,
          16350,
          10082.44,
          59808.71,
          13415.720000000001,
          20185.8675,
          18181.2,
          5441.280000000001,
          18429.7275,
          14171.677500000002,
          15819.220000000001,
          13251.0375,
          15225.12,
          11510.4,
          27486.1125,
          18692.325,
          11118,
          44772.825,
          29013.48,
          18100.64,
          29926.18,
          17733.100000000002,
          11123.960000000001,
          27321.605,
          26935.7,
          13807.66,
          15615.82,
          21068.64,
          12277.64,
          7414.12,
          15408.64,
          48546.12,
          6733.2,
          14172.380000000001,
          10763,
          11981.24,
          17843.079999999998,
          22126.66,
          11976.07,
          14429.94,
          24576.0425,
          24013.24,
          20647.1,
          17242.8,
          52509.2475,
          18003.82,
          15670.74,
          36549.86,
          20354.855,
          16248.84,
          17588.48,
          12619.5,
          19121.48,
          21650.08,
          9006.14,
          8844.62,
          9380.26,
          28518.094999999998,
          9085.0975,
          10448.14,
          27163.54,
          18363,
          23171.24,
          11775.84,
          8742.94,
          52678.28,
          10643.14,
          6054.38,
          16353.52,
          16668.36,
          8550.76,
          15132.12,
          21523.383798319,
          35424.455,
          7771.92,
          53101.9275,
          8567.16,
          27147,
          7903.52,
          4697.18,
          13519.84,
          256.62
         ],
         "yaxis": "y"
        },
        {
         "hovertemplate": "Market Segment=Direct University<br>x=%{x}<br><b>$USD</b>=%{y}<extra></extra>",
         "legendgroup": "Direct University",
         "marker": {
          "color": "#FFA15A",
          "symbol": "circle"
         },
         "mode": "markers",
         "name": "Direct University",
         "orientation": "v",
         "showlegend": true,
         "type": "scatter",
         "x": [
          375,
          376,
          377,
          378,
          379,
          380,
          381,
          382,
          383,
          384,
          385,
          386,
          387,
          388,
          389,
          390,
          391,
          392,
          393,
          394,
          395,
          396,
          397,
          398,
          399,
          400,
          401,
          402,
          403,
          404,
          405,
          406,
          407,
          408,
          409,
          410,
          411
         ],
         "xaxis": "x",
         "y": [
          8568.675,
          1962,
          601.6800000000001,
          2515.3875,
          173.7,
          130.28,
          2263.8374999999996,
          303.98,
          2490.24,
          108.56,
          195.42000000000002,
          303.98,
          4014.41,
          65.14,
          173.7,
          173.7,
          65.14,
          390.82,
          2679,
          85.54,
          312.08000000000004,
          85.54,
          226.54000000000002,
          85.54,
          312.08000000000004,
          312.08000000000004,
          508.54,
          342.16,
          846,
          342.16,
          2538,
          141,
          5080.2,
          141,
          141,
          2538,
          282
         ],
         "yaxis": "y"
        },
        {
         "hovertemplate": "Market Segment=Grocery<br>x=%{x}<br><b>$USD</b>=%{y}<extra></extra>",
         "legendgroup": "Grocery",
         "marker": {
          "color": "#19d3f3",
          "symbol": "circle"
         },
         "mode": "markers",
         "name": "Grocery",
         "orientation": "v",
         "showlegend": true,
         "type": "scatter",
         "x": [
          412,
          413,
          414,
          415,
          416,
          417,
          418,
          419,
          420,
          421,
          422,
          423,
          424,
          425,
          426,
          427,
          428,
          429,
          430,
          431,
          432,
          433,
          434,
          435,
          436,
          437,
          438,
          439,
          440,
          441,
          442,
          443,
          444,
          445,
          446,
          447,
          448,
          449,
          450,
          451,
          452,
          453,
          454,
          455,
          456,
          457,
          458,
          459,
          460,
          461,
          462,
          463,
          464,
          465,
          466,
          467,
          468,
          469,
          470,
          471,
          472,
          473,
          474,
          475,
          476,
          477,
          478,
          479,
          480,
          481,
          482,
          483,
          484,
          485,
          486,
          487,
          488,
          489,
          490,
          491,
          492,
          493,
          494,
          495,
          496,
          497,
          498,
          499,
          500,
          501,
          502,
          503,
          504,
          505,
          506,
          507,
          508,
          509
         ],
         "xaxis": "x",
         "y": [
          4267.35,
          1875,
          235.44,
          7015.56,
          2831.3250000000003,
          78.48,
          15632.49,
          156.96,
          78.48,
          7039.965,
          1953.48,
          0,
          313.92,
          13594.4025,
          16877.865,
          9261.7875,
          2653.605,
          3325.59,
          78.48,
          78.48,
          313.92,
          8728.3425,
          313.92,
          2305.3574999999996,
          2198.73,
          392.4,
          10159.7775,
          10005.960000000001,
          2410.05,
          14250.4425,
          3169.38,
          5594.22,
          13255.4325,
          632.0775,
          6024.712500000001,
          2380.71,
          27294.555,
          5740.24,
          5411.76,
          256.62,
          85.54,
          8256.36,
          2958.08,
          10756.9075,
          17982.96,
          13632.125,
          85.54,
          171.08,
          19709.8275,
          14792.845000000001,
          427.70000000000005,
          256.62,
          85.54,
          25270.435,
          256.62,
          6624.599999999999,
          171.08,
          25494.795,
          256.62,
          24968.1275,
          26014.177499999998,
          256.62,
          342.16,
          26272.1625,
          7775.96,
          85.54,
          564,
          171.08,
          2808.12,
          342.16,
          1711.2,
          27191.3375,
          13674.3025,
          8186.585,
          256.62,
          12428.8775,
          6206.9225,
          11356.22,
          13216.619999999999,
          85.54,
          85.54,
          13090.539999999999,
          6485.4,
          7182.8,
          2706.12,
          23359.68,
          37146.265,
          342.16,
          243.74,
          18181.5575,
          4373.0650000000005,
          10700.62,
          427.70000000000005,
          13164.8825,
          3239.52,
          13411.125,
          427.70000000000005,
          3847.14
         ],
         "yaxis": "y"
        },
        {
         "hovertemplate": "Market Segment=Online<br>x=%{x}<br><b>$USD</b>=%{y}<extra></extra>",
         "legendgroup": "Online",
         "marker": {
          "color": "#FF6692",
          "symbol": "circle"
         },
         "mode": "markers",
         "name": "Online",
         "orientation": "v",
         "showlegend": true,
         "type": "scatter",
         "x": [
          510,
          511,
          512,
          513,
          514,
          515,
          516,
          517,
          518,
          519,
          520,
          521,
          522,
          523,
          524,
          525,
          526,
          527,
          528,
          529,
          530,
          531,
          532,
          533,
          534,
          535,
          536,
          537,
          538,
          539,
          540,
          541,
          542,
          543,
          544,
          545,
          546,
          547,
          548,
          549,
          550,
          551,
          552,
          553,
          554,
          555,
          556,
          557,
          558,
          559,
          560,
          561,
          562,
          563,
          564,
          565,
          566,
          567,
          568,
          569,
          570,
          571,
          572,
          573,
          574,
          575,
          576,
          577,
          578,
          579,
          580,
          581,
          582,
          583,
          584,
          585,
          586,
          587,
          588,
          589,
          590,
          591,
          592,
          593,
          594,
          595,
          596,
          597,
          598,
          599,
          600,
          601,
          602,
          603,
          604,
          605,
          606,
          607,
          608,
          609,
          610,
          611
         ],
         "xaxis": "x",
         "y": [
          34747.5975,
          35498.3175,
          10765.925,
          4000.68,
          89062.985,
          57492.44,
          20545.66,
          22344.0225,
          50714.2525,
          42535.3875,
          21070.73,
          17723.855,
          33103.4225,
          12436.2375,
          31621.2575,
          53878.4925,
          45329.6,
          25558.2975,
          104320.56,
          5709.4525,
          18620.2,
          18663.015,
          17373.88,
          40935.2975,
          47969.01,
          25984.035000000003,
          6688.290000000001,
          7519.89,
          37263.052500000005,
          20382.120000000003,
          43133.2725,
          19371.757500000003,
          23290.605000000003,
          50470.027500000004,
          39300.915,
          17886.787500000002,
          72835.45,
          59288.335,
          37111.612499999996,
          23007.942499999997,
          22868.9675,
          19823.327999999998,
          18146.3675,
          123063.6075,
          11929.1525,
          13892.74,
          97913.955,
          35635.505,
          7729.6525,
          10406.875,
          68130.165,
          75388.955,
          740.0625,
          4904.5775,
          7271.635,
          5073.435,
          132936.6875,
          2948.0625,
          4231.2325,
          668.915,
          129297.2475,
          9250.6625,
          28442.4025,
          6252.0175,
          184974.6625,
          342.16,
          3876.13,
          24509.02,
          132134.8525,
          18389.6325,
          30190.965,
          38890.284999999996,
          5575.8,
          101086.83,
          22720.2875,
          32149.39,
          36207.265,
          99901.2825,
          19950.12,
          47445.93,
          36314.409999999996,
          40225.667499999996,
          64096.7675,
          27513.585,
          26349.135,
          23998.62,
          84080.7425,
          42926.0925,
          59909.845,
          50051.0275,
          42723.7125,
          26594.442499999997,
          67047.87,
          26452.03,
          15368.6475,
          145249.305,
          4642.41,
          57535.425,
          24528.329999999998,
          108651.7,
          11393.3025,
          20950.125
         ],
         "yaxis": "y"
        },
        {
         "hovertemplate": "Market Segment=Other (to be categorized)<br>x=%{x}<br><b>$USD</b>=%{y}<extra></extra>",
         "legendgroup": "Other (to be categorized)",
         "marker": {
          "color": "#B6E880",
          "symbol": "circle"
         },
         "mode": "markers",
         "name": "Other (to be categorized)",
         "orientation": "v",
         "showlegend": true,
         "type": "scatter",
         "x": [
          612,
          613,
          614,
          615,
          616,
          617,
          618,
          619,
          620,
          621,
          622,
          623,
          624,
          625,
          626,
          627,
          628,
          629,
          630,
          631,
          632,
          633,
          634,
          635,
          636,
          637,
          638,
          639,
          640,
          641,
          642,
          643,
          644,
          645,
          646,
          647,
          648,
          649,
          650,
          651,
          652,
          653,
          654,
          655,
          656,
          657,
          658,
          659,
          660,
          661,
          662,
          663,
          664,
          665,
          666,
          667,
          668,
          669,
          670,
          671,
          672,
          673,
          674,
          675,
          676,
          677,
          678,
          679,
          680,
          681,
          682,
          683,
          684,
          685,
          686,
          687,
          688,
          689,
          690,
          691,
          692,
          693,
          694,
          695,
          696,
          697,
          698,
          699,
          700,
          701,
          702,
          703,
          704,
          705
         ],
         "xaxis": "x",
         "y": [
          431.63,
          1514.96,
          431.64000000000004,
          547.5600000000001,
          2957.24,
          575.5200000000001,
          6110.47,
          1232.1175,
          976.5,
          1136.8,
          1090.44,
          1280.68,
          2781.61,
          236.89,
          1492.48,
          2195.7200000000003,
          1934.28,
          1236.6399999999999,
          544.12,
          2145.12,
          507.5,
          340.08000000000004,
          261.6,
          719.4,
          1072.56,
          1064.7,
          1755.33,
          653.595,
          3248.1575000000003,
          3817.8825,
          1085.64,
          282.52,
          808.34,
          497.04,
          997.4350000000001,
          601.6800000000001,
          585.26,
          688,
          1579.5,
          206.98000000000002,
          1066.52,
          2168.94,
          2059.54,
          176.9,
          5252.9,
          695.96,
          1689.56,
          1907.7,
          513.24,
          342.16,
          141,
          1561.2,
          580.34,
          997.9825,
          141,
          85.5675,
          2469.6800000000003,
          85.54,
          312.08000000000004,
          282,
          2667.3225,
          3666,
          735.08,
          3985.6275,
          282,
          342.16,
          141,
          1883.4,
          6555.04,
          5922,
          1102.62,
          1895.4,
          141,
          1128,
          794.5,
          282,
          85.54,
          282,
          996.4,
          2877.79,
          486.88,
          1671.32,
          0,
          2905.54,
          282,
          624.1600000000001,
          1045.8799999999999,
          557.86,
          2815.44,
          820.27,
          256.68,
          85.54,
          2656.3199999999997,
          85.54
         ],
         "yaxis": "y"
        },
        {
         "hovertemplate": "Market Segment=Outlet<br>x=%{x}<br><b>$USD</b>=%{y}<extra></extra>",
         "legendgroup": "Outlet",
         "marker": {
          "color": "#FF97FF",
          "symbol": "circle"
         },
         "mode": "markers",
         "name": "Outlet",
         "orientation": "v",
         "showlegend": true,
         "type": "scatter",
         "x": [
          706,
          707,
          708,
          709
         ],
         "xaxis": "x",
         "y": [
          9999.96,
          4700.01,
          5299.995,
          19299.982500000002
         ],
         "yaxis": "y"
        },
        {
         "hovertemplate": "Market Segment=Vending<br>x=%{x}<br><b>$USD</b>=%{y}<extra></extra>",
         "legendgroup": "Vending",
         "marker": {
          "color": "#FECB52",
          "symbol": "circle"
         },
         "mode": "markers",
         "name": "Vending",
         "orientation": "v",
         "showlegend": true,
         "type": "scatter",
         "x": [
          710,
          711,
          712,
          713,
          714,
          715,
          716,
          717,
          718,
          719,
          720,
          721,
          722,
          723,
          724,
          725,
          726,
          727,
          728,
          729,
          730,
          731,
          732,
          733,
          734,
          735,
          736,
          737,
          738,
          739,
          740,
          741,
          742,
          743,
          744,
          745,
          746,
          747,
          748,
          749,
          750,
          751,
          752,
          753,
          754,
          755,
          756,
          757,
          758,
          759,
          760,
          761,
          762,
          763,
          764,
          765,
          766,
          767,
          768,
          769,
          770,
          771,
          772,
          773,
          774,
          775,
          776,
          777,
          778,
          779,
          780,
          781,
          782,
          783,
          784,
          785,
          786,
          787,
          788,
          789,
          790,
          791,
          792,
          793,
          794,
          795,
          796,
          797,
          798,
          799,
          800,
          801,
          802,
          803,
          804,
          805,
          806,
          807,
          808,
          809,
          810,
          811
         ],
         "xaxis": "x",
         "y": [
          24014.88,
          8711.28,
          15120.48,
          4865.76,
          20430.96,
          27572.64,
          19044.48,
          23936.4,
          14178.720000000001,
          31078.08,
          38455.200000000004,
          49337.76,
          45021.36,
          30502.56,
          50113.44,
          32987.76,
          57014.64,
          34662,
          41489.76,
          30528.72,
          15120.480000000001,
          45466.08,
          39606.24,
          34897.0151,
          36952.3894,
          18727.0213,
          31025.760000000002,
          25270.56,
          33510.96,
          30424.08,
          33275.52,
          20509.440000000002,
          45309.12,
          39030.72,
          45335.28,
          37748.88,
          27241.68,
          73666.56,
          34269.6,
          25835.12,
          58966.94,
          89355.84,
          54947.22,
          28885.06,
          51420.2,
          34498.62,
          18177.7,
          25639.22,
          43732.9,
          48959.880000000005,
          33458.2,
          37914.84,
          45469.18,
          35264.06,
          44113.58,
          34403.4,
          56388.6,
          62095.36,
          74840.4,
          70839.32,
          94935.26000000001,
          42564.92,
          62511.78,
          45657.7,
          24740.8,
          80386.9,
          76227.5,
          60059.86,
          42960.38,
          43519.18,
          35239.66,
          47522.64,
          34319.4,
          38085.04,
          41050.74,
          36154.28,
          46177.5,
          44736.479999999996,
          30252.96,
          45684.94,
          45976.34,
          61826.62,
          39453.68,
          55291.74,
          45024.119999999995,
          63288.32,
          54499.76,
          60230.96,
          65258.56,
          47243.46,
          84044.45999999999,
          93361.73999999999,
          85976.68,
          77781.66,
          59171.12,
          38953.6,
          60373.380000000005,
          67241.02,
          54184.42,
          45099.32,
          42327.26,
          4743.24
         ],
         "yaxis": "y"
        },
        {
         "hovertemplate": "<b>Rolling mean trendline</b><br><br>x=%{x}<br><b>$USD</b>=%{y} <b>(trend)</b><extra></extra>",
         "legendgroup": "Overall Trendline",
         "line": {
          "color": "#636efa"
         },
         "mode": "lines",
         "name": "Overall Trendline",
         "showlegend": true,
         "type": "scatter",
         "x": [
          0,
          1,
          2,
          3,
          4,
          5,
          6,
          7,
          8,
          9,
          10,
          11,
          12,
          13,
          14,
          15,
          16,
          17,
          18,
          19,
          20,
          21,
          22,
          23,
          24,
          25,
          26,
          27,
          28,
          29,
          30,
          31,
          32,
          33,
          34,
          35,
          36,
          37,
          38,
          39,
          40,
          41,
          42,
          43,
          44,
          45,
          46,
          47,
          48,
          49,
          50,
          51,
          52,
          53,
          54,
          55,
          56,
          57,
          58,
          59,
          60,
          61,
          62,
          63,
          64,
          65,
          66,
          67,
          68,
          69,
          70,
          71,
          72,
          73,
          74,
          75,
          76,
          77,
          78,
          79,
          80,
          81,
          82,
          83,
          84,
          85,
          86,
          87,
          88,
          89,
          90,
          91,
          92,
          93,
          94,
          95,
          96,
          97,
          98,
          99,
          100,
          101,
          102,
          103,
          104,
          105,
          106,
          107,
          108,
          109,
          110,
          111,
          112,
          113,
          114,
          115,
          116,
          117,
          118,
          119,
          120,
          121,
          122,
          123,
          124,
          125,
          126,
          127,
          128,
          129,
          130,
          131,
          132,
          133,
          134,
          135,
          136,
          137,
          138,
          139,
          140,
          141,
          142,
          143,
          144,
          145,
          146,
          147,
          148,
          149,
          150,
          151,
          152,
          153,
          154,
          155,
          156,
          157,
          158,
          159,
          160,
          161,
          162,
          163,
          164,
          165,
          166,
          167,
          168,
          169,
          170,
          171,
          172,
          173,
          174,
          175,
          176,
          177,
          178,
          179,
          180,
          181,
          182,
          183,
          184,
          185,
          186,
          187,
          188,
          189,
          190,
          191,
          192,
          193,
          194,
          195,
          196,
          197,
          198,
          199,
          200,
          201,
          202,
          203,
          204,
          205,
          206,
          207,
          208,
          209,
          210,
          211,
          212,
          213,
          214,
          215,
          216,
          217,
          218,
          219,
          220,
          221,
          222,
          223,
          224,
          225,
          226,
          227,
          228,
          229,
          230,
          231,
          232,
          233,
          234,
          235,
          236,
          237,
          238,
          239,
          240,
          241,
          242,
          243,
          244,
          245,
          246,
          247,
          248,
          249,
          250,
          251,
          252,
          253,
          254,
          255,
          256,
          257,
          258,
          259,
          260,
          261,
          262,
          263,
          264,
          265,
          266,
          267,
          268,
          269,
          270,
          271,
          272,
          273,
          274,
          275,
          276,
          277,
          278,
          279,
          280,
          281,
          282,
          283,
          284,
          285,
          286,
          287,
          288,
          289,
          290,
          291,
          292,
          293,
          294,
          295,
          296,
          297,
          298,
          299,
          300,
          301,
          302,
          303,
          304,
          305,
          306,
          307,
          308,
          309,
          310,
          311,
          312,
          313,
          314,
          315,
          316,
          317,
          318,
          319,
          320,
          321,
          322,
          323,
          324,
          325,
          326,
          327,
          328,
          329,
          330,
          331,
          332,
          333,
          334,
          335,
          336,
          337,
          338,
          339,
          340,
          341,
          342,
          343,
          344,
          345,
          346,
          347,
          348,
          349,
          350,
          351,
          352,
          353,
          354,
          355,
          356,
          357,
          358,
          359,
          360,
          361,
          362,
          363,
          364,
          365,
          366,
          367,
          368,
          369,
          370,
          371,
          372,
          373,
          374,
          375,
          376,
          377,
          378,
          379,
          380,
          381,
          382,
          383,
          384,
          385,
          386,
          387,
          388,
          389,
          390,
          391,
          392,
          393,
          394,
          395,
          396,
          397,
          398,
          399,
          400,
          401,
          402,
          403,
          404,
          405,
          406,
          407,
          408,
          409,
          410,
          411,
          412,
          413,
          414,
          415,
          416,
          417,
          418,
          419,
          420,
          421,
          422,
          423,
          424,
          425,
          426,
          427,
          428,
          429,
          430,
          431,
          432,
          433,
          434,
          435,
          436,
          437,
          438,
          439,
          440,
          441,
          442,
          443,
          444,
          445,
          446,
          447,
          448,
          449,
          450,
          451,
          452,
          453,
          454,
          455,
          456,
          457,
          458,
          459,
          460,
          461,
          462,
          463,
          464,
          465,
          466,
          467,
          468,
          469,
          470,
          471,
          472,
          473,
          474,
          475,
          476,
          477,
          478,
          479,
          480,
          481,
          482,
          483,
          484,
          485,
          486,
          487,
          488,
          489,
          490,
          491,
          492,
          493,
          494,
          495,
          496,
          497,
          498,
          499,
          500,
          501,
          502,
          503,
          504,
          505,
          506,
          507,
          508,
          509,
          510,
          511,
          512,
          513,
          514,
          515,
          516,
          517,
          518,
          519,
          520,
          521,
          522,
          523,
          524,
          525,
          526,
          527,
          528,
          529,
          530,
          531,
          532,
          533,
          534,
          535,
          536,
          537,
          538,
          539,
          540,
          541,
          542,
          543,
          544,
          545,
          546,
          547,
          548,
          549,
          550,
          551,
          552,
          553,
          554,
          555,
          556,
          557,
          558,
          559,
          560,
          561,
          562,
          563,
          564,
          565,
          566,
          567,
          568,
          569,
          570,
          571,
          572,
          573,
          574,
          575,
          576,
          577,
          578,
          579,
          580,
          581,
          582,
          583,
          584,
          585,
          586,
          587,
          588,
          589,
          590,
          591,
          592,
          593,
          594,
          595,
          596,
          597,
          598,
          599,
          600,
          601,
          602,
          603,
          604,
          605,
          606,
          607,
          608,
          609,
          610,
          611,
          612,
          613,
          614,
          615,
          616,
          617,
          618,
          619,
          620,
          621,
          622,
          623,
          624,
          625,
          626,
          627,
          628,
          629,
          630,
          631,
          632,
          633,
          634,
          635,
          636,
          637,
          638,
          639,
          640,
          641,
          642,
          643,
          644,
          645,
          646,
          647,
          648,
          649,
          650,
          651,
          652,
          653,
          654,
          655,
          656,
          657,
          658,
          659,
          660,
          661,
          662,
          663,
          664,
          665,
          666,
          667,
          668,
          669,
          670,
          671,
          672,
          673,
          674,
          675,
          676,
          677,
          678,
          679,
          680,
          681,
          682,
          683,
          684,
          685,
          686,
          687,
          688,
          689,
          690,
          691,
          692,
          693,
          694,
          695,
          696,
          697,
          698,
          699,
          700,
          701,
          702,
          703,
          704,
          705,
          706,
          707,
          708,
          709,
          710,
          711,
          712,
          713,
          714,
          715,
          716,
          717,
          718,
          719,
          720,
          721,
          722,
          723,
          724,
          725,
          726,
          727,
          728,
          729,
          730,
          731,
          732,
          733,
          734,
          735,
          736,
          737,
          738,
          739,
          740,
          741,
          742,
          743,
          744,
          745,
          746,
          747,
          748,
          749,
          750,
          751,
          752,
          753,
          754,
          755,
          756,
          757,
          758,
          759,
          760,
          761,
          762,
          763,
          764,
          765,
          766,
          767,
          768,
          769,
          770,
          771,
          772,
          773,
          774,
          775,
          776,
          777,
          778,
          779,
          780,
          781,
          782,
          783,
          784,
          785,
          786,
          787,
          788,
          789,
          790,
          791,
          792,
          793,
          794,
          795,
          796,
          797,
          798,
          799,
          800,
          801,
          802,
          803,
          804,
          805,
          806,
          807,
          808,
          809,
          810,
          811
         ],
         "xaxis": "x",
         "y": [
          null,
          null,
          null,
          null,
          null,
          26360.285,
          30214.024999999998,
          23750.185,
          24602.565,
          25811.168333333335,
          26225.913333333334,
          23651.486666666668,
          27833.279166666664,
          33028.35916666667,
          36893.49916666667,
          42778.60916666667,
          43711.64916666667,
          43781.40916666667,
          41189.28083333334,
          36327.880833333336,
          32822.090833333335,
          28528.380833333333,
          28518.780833333334,
          29612.323333333334,
          26357.639166666664,
          23759.079166666666,
          23707.109166666665,
          21826.2025,
          27099.385416666668,
          27252.802916666667,
          29337.749583333334,
          31073.029583333337,
          35646.669583333336,
          40879.52958333333,
          41763.54666666667,
          42513.46666666667,
          41918.76,
          50412.04,
          47412.35999999999,
          44033.58666666667,
          38168.81291666667,
          43784.24291666667,
          43467.076250000006,
          37197.06291666667,
          37447.322916666664,
          40693.67291666667,
          39587.26,
          33890.416666666664,
          30923.043333333335,
          30411.75,
          27042.789999999997,
          20124.12,
          17744.52,
          25344.653333333335,
          32218.27,
          31605.38666666667,
          38749.46333333334,
          44588.630000000005,
          49090.94666666666,
          40025.746666666666,
          44005.36000000001,
          42794.49,
          39565.35666666667,
          42296.21666666667,
          42762.113333333335,
          43337.073333333334,
          45339.306666666664,
          47560.293333333335,
          45962.68666666667,
          41491.26666666666,
          41137.51333333333,
          40711.386666666665,
          30863.323333333334,
          25547.936666666665,
          25354.92333333333,
          27913.076666666664,
          24548.346666666665,
          31691.406666666666,
          32566.28,
          36988.98,
          39290.88333333334,
          34598.35666666667,
          42793.12,
          37313.39,
          37189.78333333333,
          31207.99666666667,
          31699.016666666666,
          30595.303333333333,
          26815.72,
          30429.550000000003,
          31522.25333333333,
          37018.84333333334,
          39765.96666666667,
          47588.01,
          47451.55333333334,
          42449.65666666666,
          39343.22,
          47052.31666666666,
          42194.86666666667,
          34216.15666666667,
          31450.36333333333,
          29472.446666666667,
          24805.16666666666,
          12702.346666666666,
          8675.926666666666,
          6613.613333333334,
          2681.06,
          1033.32,
          976.64,
          1242.6000000000001,
          1168.48,
          1020.2400000000001,
          989.7200000000001,
          1037.68,
          1316.5266666666666,
          1150.8466666666666,
          1421.1666666666667,
          1490.9266666666665,
          1591.2066666666667,
          1408.0866666666668,
          1002.7999999999998,
          976.64,
          592.96,
          488.3200000000001,
          401.12000000000006,
          405.48,
          523.2,
          518.84,
          741.1999999999999,
          715.04,
          1076.92,
          1235.5033333333333,
          1462.2233333333334,
          1566.8633333333335,
          1479.6633333333336,
          1680.2233333333334,
          1388.1033333333335,
          2101.52,
          2162.56,
          2396.596666666667,
          2202.096666666667,
          2421.3933333333334,
          2545.7766666666666,
          2016.1533333333334,
          1848.0233333333335,
          1586.0766666666666,
          1694.3333333333333,
          1571.6000000000001,
          1553.506666666667,
          1207.1166666666666,
          998.2800000000001,
          822.9699999999999,
          1007.5233333333334,
          765.16,
          636.85,
          1304.4833333333333,
          1459.74,
          1786.0766666666668,
          2037.6833333333334,
          2213.7766666666666,
          2290.0733333333333,
          1683.6966666666665,
          1759.21,
          1494.1299999999999,
          1172.8066666666666,
          1219.8066666666666,
          1135.05,
          1243.3066666666666,
          1234.0633333333333,
          1366.6033333333332,
          1412.82,
          1255.9966666666667,
          1359.24,
          1462.4833333333336,
          1349.2133333333334,
          1292.97,
          1080.6866666666667,
          1005.1733333333333,
          1428.1733333333334,
          1578.4166666666667,
          1545.6733333333332,
          3326.66,
          3500.403333333333,
          3736.97,
          3417.2133333333336,
          3332.456666666667,
          3705.1616666666664,
          2021.6216666666667,
          1988.8783333333338,
          1871.3783333333333,
          1574.8516666666667,
          1467.6350000000002,
          1155.4033333333334,
          1320.9433333333334,
          1566.7533333333333,
          1518.1866666666665,
          2824.536666666667,
          2805.793333333333,
          2801.5633333333335,
          2955.3199999999997,
          2738.5499999999997,
          2630.2933333333335,
          2630.943333333333,
          6102.633333333334,
          6747.363333333332,
          6478.686666666666,
          6906.6449999999995,
          8626.265,
          8116.264999999999,
          8095.584999999999,
          7751.084999999999,
          10974.525,
          18981.24,
          17742.62,
          23780.24,
          20161.92,
          23532.24,
          20670.45,
          15028.83,
          16648.196249999997,
          11823.696249999999,
          16625.946249999997,
          15915.863749999999,
          17012.093749999996,
          16519.84375,
          15607.602499999999,
          14190.482499999998,
          9550.232499999998,
          13093.239999999998,
          12051.989999999998,
          13734.699999999997,
          16387.574999999997,
          25719.797499999997,
          26153.397499999995,
          27648.422499999997,
          27339.672499999997,
          28913.032499999998,
          26870.992499999993,
          17938.019999999997,
          24729.7375,
          18839.847499999996,
          31272.991250000003,
          29374.376249999998,
          29688.366250000003,
          31371.09125,
          25484.961250000004,
          24277.861249999998,
          20868.282499999998,
          17341.9575,
          15712.107499999996,
          16095.984999999999,
          16395.117499999997,
          17278.326249999995,
          8343.086249999998,
          12347.667499999996,
          17266.1275,
          14908.552499999998,
          13803.849999999999,
          13569.581249999996,
          28769.89375,
          24973.66,
          36568.219999999994,
          36535.3275,
          39379.71125,
          53468.79624999999,
          39345.21375,
          40893.65875,
          27303.716249999998,
          38770.423749999994,
          35592.3375,
          20975.587499999998,
          27043.094999999998,
          31363.26875,
          30467.776249999995,
          19386.243749999998,
          19920.76875,
          19705.633749999997,
          15388.47375,
          10882.287499999999,
          11268.419999999998,
          13899.679999999998,
          14586.924999999997,
          16845.405,
          16497.149999999998,
          17077.302499999998,
          21247.0575,
          19513.23083333333,
          22043.665833333333,
          24977.67333333333,
          26461.7525,
          26230.399999999998,
          21496.66083333333,
          26554.26083333333,
          25277.169166666663,
          21841.76166666666,
          19053.941666666662,
          26719.98,
          26576.099999999995,
          22912.817916666667,
          23003.98958333333,
          21185.86958333333,
          22577.084166666667,
          14970.91208333333,
          15371.495416666665,
          14215.690416666665,
          13723.010416666664,
          14734.530416666666,
          16243.927916666662,
          16997.369166666667,
          16213.832499999999,
          21467.46375,
          23765.523749999997,
          24863.897083333333,
          25270.574999999997,
          25110.704166666666,
          25111.6975,
          22203.16083333333,
          21856.864166666666,
          21141.367499999997,
          18756.3075,
          19312.23083333333,
          19504.51083333333,
          16186.596666666665,
          14265.419999999996,
          20055.163333333334,
          18574.726666666666,
          17425.35,
          17172.91,
          17934.096666666668,
          18339.836666666666,
          13936.59333333333,
          14810.404999999999,
          14853.331666666665,
          17155.505416666663,
          19160.83875,
          19628.17541666666,
          18814.19875,
          25569.728333333333,
          26165.374999999996,
          24681.157916666663,
          26770.594583333328,
          26721.88708333333,
          26556.22708333333,
          20736.099166666663,
          19838.712499999998,
          20413.83583333333,
          17930.539166666666,
          16039.086666666664,
          14805.049999999997,
          13437.01333333333,
          16086.779166666665,
          14414.048749999996,
          12547.058749999997,
          15573.292083333332,
          17159.688749999998,
          19458.185416666664,
          16667.809583333332,
          16610.783333333333,
          23649.14,
          20895.739999999994,
          18844.30333333333,
          17708.016666666666,
          18523.436666666665,
          18491.406666666662,
          12233.713333333331,
          14047.087299719831,
          18942.099799719832,
          17511.833133053162,
          23584.09438305316,
          23586.8277163865,
          25589.3077163865,
          23319.330416666664,
          18198.117916666666,
          19156.10458333333,
          10348.553333333331,
          10348.805833333332,
          6151.305833333332,
          4934.332499999998,
          4570.700416666664,
          2346.3437499999977,
          2325.287083333331,
          1274.480833333331,
          998.1441666666642,
          1312.9041666666642,
          911.7662499999975,
          915.3862499999974,
          944.3362499999976,
          1236.0983333333309,
          1196.2916666666642,
          810.2016666666642,
          821.058333333331,
          799.3449999999975,
          813.8183333333309,
          591.2499999999976,
          594.6499999999976,
          617.7133333333309,
          603.0199999999976,
          629.9199999999977,
          579.0399999999976,
          184.55333333333093,
          222.3099999999976,
          255.05333333333093,
          297.82333333333094,
          401.0666666666643,
          443.8366666666643,
          814.823333333331,
          786.3099999999977,
          1548.253333333331,
          1514.7266666666644,
          1397.2266666666644,
          1763.1999999999978,
          1387.1999999999978,
          2074.9249999999975,
          1540.7249999999976,
          1556.4649999999976,
          2702.2249999999976,
          2751.1124999999975,
          2717.192499999998,
          4611.382499999997,
          4325.042499999998,
          4298.882499999998,
          4302.949999999998,
          4156.642499999997,
          4143.562499999997,
          1590.4674999999977,
          3830.041249999998,
          6629.938749999998,
          7000.242499999998,
          7116.929999999998,
          7671.194999999997,
          7631.954999999998,
          5379.301249999998,
          2618.643749999998,
          2529.7362499999977,
          2139.788749999998,
          1969.749999999998,
          2323.1249999999977,
          2375.4449999999974,
          4016.4212499999976,
          4229.357499999997,
          4578.712499999998,
          6569.559999999998,
          6731.334999999998,
          7598.304999999998,
          8114.247499999998,
          6551.933749999997,
          7154.377499999998,
          5176.088749999998,
          9196.951249999998,
          9221.287916666664,
          7914.009166666663,
          7851.432916666664,
          6861.5708333333305,
          7840.84583333333,
          3784.766666666664,
          4620.8779166666645,
          6716.077916666664,
          8945.328749999997,
          8945.328749999997,
          7597.782083333332,
          10389.739999999998,
          11062.396249999998,
          8136.519583333331,
          5907.268749999998,
          5907.2687499999965,
          10090.494583333331,
          6848.293333333331,
          5486.919166666664,
          5444.149166666664,
          9650.511666666664,
          9679.024999999998,
          9628.640416666663,
          13921.566666666664,
          12860.236666666662,
          12888.749999999995,
          13018.311249999997,
          14271.534583333332,
          10124.436666666663,
          5882.740416666664,
          5868.483749999997,
          6279.4770833333305,
          1957.8099999999977,
          947.0166666666643,
          5464.649583333331,
          7649.699999999998,
          8985.617499999998,
          8560.367499999998,
          10574.820416666664,
          11324.107499999998,
          8684.921249999998,
          8608.640833333331,
          7258.4666666666635,
          7229.95333333333,
          7340.2304166666645,
          7386.643333333331,
          6691.07333333333,
          4939.323333333331,
          8818.346666666665,
          14995.134166666665,
          12870.404166666665,
          11830.127499999997,
          13663.253749999998,
          13941.077916666667,
          11831.234583333331,
          5711.473749999997,
          7848.594166666665,
          8347.890833333331,
          7552.8187499999985,
          6895.257916666665,
          5753.011249999999,
          11472.994166666665,
          15195.233333333332,
          16449.634166666667,
          14881.226666666667,
          29653.774166666666,
          38594.6575,
          36227.667916666665,
          34035.285416666666,
          40693.34,
          47115.79125,
          35783.74875,
          29155.65125,
          31248.611666666664,
          29597.314166666663,
          26415.14833333333,
          28305.665833333333,
          32348.810833333326,
          33654.55125,
          45524.07416666666,
          44402.94333333333,
          42236.10041666666,
          36366.854166666664,
          31707.567499999994,
          34270.40083333333,
          24878.475833333334,
          28257.572916666668,
          26268.921250000003,
          24411.73375,
          27726.595833333336,
          24301.066250000003,
          23495.11,
          22393.06375,
          25160.116250000003,
          32318.472500000003,
          32658.116250000003,
          32242.227500000005,
          37192.59041666667,
          43845.35333333333,
          46148.854583333334,
          41571.840416666666,
          38833.1825,
          39155.939249999996,
          30041.092166666665,
          40670.304249999994,
          36473.22758333333,
          34954.02716666666,
          47461.525083333334,
          50096.88791666667,
          48360.768749999996,
          29584.646666666667,
          38951.482083333336,
          49200.85125000001,
          33005.2025,
          27883.381250000002,
          27807.045,
          26918.138333333332,
          37719.22541666666,
          25645.74333333333,
          26227.604999999996,
          25521.661249999994,
          45859.26333333333,
          46555.46791666667,
          29139.753749999993,
          29690.412916666664,
          59814.31791666666,
          59759.85874999999,
          38856.339166666665,
          41399.39875,
          58681.473750000005,
          60704.40958333333,
          34907.12666666666,
          41331.814166666656,
          41615.09249999999,
          54378.06083333333,
          36142.299999999996,
          38435.59291666666,
          39438.30958333333,
          49606.809166666666,
          52002.52916666667,
          43062.37916666666,
          45328.066249999996,
          46674.11249999999,
          51322.362916666665,
          39257.746666666666,
          40324.24916666666,
          36416.36416666666,
          44377.41958333333,
          44827.49041666666,
          44129.66999999999,
          47885.91041666665,
          50615.00666666666,
          51047.64374999999,
          48208.831666666665,
          45463.15458333333,
          38039.62166666666,
          53906.001249999994,
          47559.117499999986,
          52715.94791666666,
          45629.35791666666,
          59329.30291666666,
          58666.74541666665,
          37950.215416666666,
          37248.41875,
          27911.674583333326,
          23895.559583333325,
          5878.202916666662,
          4472.192499999995,
          1076.4249999999952,
          2022.8983333333283,
          1975.757916666662,
          2066.567916666662,
          2164.774583333329,
          1853.6412499999951,
          1971.1679166666618,
          1416.3579166666616,
          1250.486666666662,
          1336.4833333333283,
          1512.969999999995,
          1653.6099999999951,
          1646.269999999995,
          1273.3549999999952,
          1591.3933333333287,
          1427.2299999999952,
          1117.9566666666617,
          839.1766666666618,
          752.9699999999951,
          841.0433333333285,
          660.9733333333285,
          868.9449999999952,
          921.1974999999951,
          1418.9570833333285,
          1935.3708333333286,
          1937.5508333333285,
          1807.1874999999952,
          1649.3558333333285,
          1623.2633333333288,
          1248.142916666662,
          712.109166666662,
          628.7124999999951,
          696.2924999999951,
          824.8191666666618,
          776.4758333333285,
          787.9899999999951,
          1049.1999999999953,
          1294.9133333333286,
          1209.7299999999952,
          1821.9633333333284,
          1903.4599999999953,
          2007.299999999995,
          1963.759999999995,
          1706.0433333333285,
          1733.5866666666616,
          881.6033333333285,
          1025.8099999999952,
          840.9399999999952,
          689.3204166666618,
          627.2804166666618,
          584.5149999999952,
          972.6283333333286,
          726.6849999999951,
          681.9749999999951,
          562.6445833333286,
          983.6983333333286,
          1580.4370833333287,
          1291.3370833333286,
          1941.351666666662,
          1936.3383333333286,
          1946.3649999999952,
          1525.3112499999952,
          1228.211249999995,
          2198.2045833333286,
          2520.9333333333284,
          2657.7033333333284,
          2916.576666666662,
          2916.576666666662,
          2790.676666666662,
          1830.5866666666616,
          890.5866666666619,
          721.0733333333286,
          452.17333333332846,
          594.7399999999951,
          886.3716666666618,
          835.1016666666618,
          1066.6549999999952,
          1052.3983333333283,
          1489.6549999999952,
          1370.5883333333286,
          994.9833333333285,
          1088.149999999995,
          902.5733333333286,
          1371.8133333333287,
          1024.2683333333284,
          1020.0483333333286,
          930.2783333333285,
          1198.6849999999952,
          1119.9649999999951,
          2317.384999999995,
          2964.008333333328,
          3804.560833333328,
          7006.967916666661,
          10566.727916666661,
          12004.351249999994,
          12857.771249999996,
          12885.396249999996,
          15407.223749999996,
          16785.999999999996,
          15957.599999999993,
          18495.119999999995,
          18338.159999999993,
          22706.879999999994,
          25710.919999999995,
          29338.44,
          33667.91999999999,
          34762.27999999999,
          40751.399999999994,
          41069.68,
          44162.91999999999,
          41716.96,
          41128.35999999999,
          41132.72,
          35300.56,
          37380.28,
          34478.88,
          34518.04918333333,
          33761.82075,
          31794.870966666665,
          34445.75096666667,
          31079.83096666666,
          30063.95096666666,
          29318.461783333332,
          28705.65021666666,
          29002.719999999998,
          31383.279999999995,
          33676.63999999999,
          35647.35999999999,
          36868.159999999996,
          35862.52,
          44722.04,
          42882.119999999995,
          40682.853333333325,
          42954.79666666666,
          51555.956666666665,
          56173.54666666666,
          48709.963333333326,
          51568.39666666666,
          53012.313333333324,
          46214.10666666666,
          35594.66999999999,
          33725.61666666666,
          37071.41999999999,
          34077.75333333333,
          34647.12333333333,
          39195.70333333333,
          40799.84333333333,
          40863.29,
          38437.21,
          42258.94333333333,
          46289.03,
          51184.23333333333,
          57113.44333333333,
          65583.72333333333,
          66943.97666666665,
          67964.50666666667,
          65224.89666666667,
          56874.963333333326,
          58466.226666666655,
          55348.26666666666,
          58264.09,
          55005.52333333332,
          54649.103333333325,
          56398.91333333333,
          50921.53666666666,
          43936.85333333333,
          40274.38333333333,
          39956.10999999999,
          38728.62666666666,
          40551.6,
          40087.23999999999,
          39409.49999999999,
          40676.149999999994,
          41497.08333333332,
          45775.806666666664,
          44655.16999999999,
          46414.38,
          48876.23999999999,
          51810.13666666666,
          53230.706666666665,
          52964.76333333333,
          57265.57666666666,
          55924.19666666666,
          62427.58666666666,
          67439.82333333332,
          72685.97666666665,
          75611.09333333332,
          74596.52,
          73214.87666666666,
          69269.69666666666,
          64916.243333333325,
          59617.53333333333,
          54170.47666666666,
          51363.166666666664,
          45661.44
         ],
         "yaxis": "y"
        }
       ],
       "layout": {
        "legend": {
         "title": {
          "text": "Market Segment"
         },
         "tracegroupgap": 0
        },
        "template": {
         "data": {
          "bar": [
           {
            "error_x": {
             "color": "#2a3f5f"
            },
            "error_y": {
             "color": "#2a3f5f"
            },
            "marker": {
             "line": {
              "color": "white",
              "width": 0.5
             },
             "pattern": {
              "fillmode": "overlay",
              "size": 10,
              "solidity": 0.2
             }
            },
            "type": "bar"
           }
          ],
          "barpolar": [
           {
            "marker": {
             "line": {
              "color": "white",
              "width": 0.5
             },
             "pattern": {
              "fillmode": "overlay",
              "size": 10,
              "solidity": 0.2
             }
            },
            "type": "barpolar"
           }
          ],
          "carpet": [
           {
            "aaxis": {
             "endlinecolor": "#2a3f5f",
             "gridcolor": "#C8D4E3",
             "linecolor": "#C8D4E3",
             "minorgridcolor": "#C8D4E3",
             "startlinecolor": "#2a3f5f"
            },
            "baxis": {
             "endlinecolor": "#2a3f5f",
             "gridcolor": "#C8D4E3",
             "linecolor": "#C8D4E3",
             "minorgridcolor": "#C8D4E3",
             "startlinecolor": "#2a3f5f"
            },
            "type": "carpet"
           }
          ],
          "choropleth": [
           {
            "colorbar": {
             "outlinewidth": 0,
             "ticks": ""
            },
            "type": "choropleth"
           }
          ],
          "contour": [
           {
            "colorbar": {
             "outlinewidth": 0,
             "ticks": ""
            },
            "colorscale": [
             [
              0,
              "#0d0887"
             ],
             [
              0.1111111111111111,
              "#46039f"
             ],
             [
              0.2222222222222222,
              "#7201a8"
             ],
             [
              0.3333333333333333,
              "#9c179e"
             ],
             [
              0.4444444444444444,
              "#bd3786"
             ],
             [
              0.5555555555555556,
              "#d8576b"
             ],
             [
              0.6666666666666666,
              "#ed7953"
             ],
             [
              0.7777777777777778,
              "#fb9f3a"
             ],
             [
              0.8888888888888888,
              "#fdca26"
             ],
             [
              1,
              "#f0f921"
             ]
            ],
            "type": "contour"
           }
          ],
          "contourcarpet": [
           {
            "colorbar": {
             "outlinewidth": 0,
             "ticks": ""
            },
            "type": "contourcarpet"
           }
          ],
          "heatmap": [
           {
            "colorbar": {
             "outlinewidth": 0,
             "ticks": ""
            },
            "colorscale": [
             [
              0,
              "#0d0887"
             ],
             [
              0.1111111111111111,
              "#46039f"
             ],
             [
              0.2222222222222222,
              "#7201a8"
             ],
             [
              0.3333333333333333,
              "#9c179e"
             ],
             [
              0.4444444444444444,
              "#bd3786"
             ],
             [
              0.5555555555555556,
              "#d8576b"
             ],
             [
              0.6666666666666666,
              "#ed7953"
             ],
             [
              0.7777777777777778,
              "#fb9f3a"
             ],
             [
              0.8888888888888888,
              "#fdca26"
             ],
             [
              1,
              "#f0f921"
             ]
            ],
            "type": "heatmap"
           }
          ],
          "heatmapgl": [
           {
            "colorbar": {
             "outlinewidth": 0,
             "ticks": ""
            },
            "colorscale": [
             [
              0,
              "#0d0887"
             ],
             [
              0.1111111111111111,
              "#46039f"
             ],
             [
              0.2222222222222222,
              "#7201a8"
             ],
             [
              0.3333333333333333,
              "#9c179e"
             ],
             [
              0.4444444444444444,
              "#bd3786"
             ],
             [
              0.5555555555555556,
              "#d8576b"
             ],
             [
              0.6666666666666666,
              "#ed7953"
             ],
             [
              0.7777777777777778,
              "#fb9f3a"
             ],
             [
              0.8888888888888888,
              "#fdca26"
             ],
             [
              1,
              "#f0f921"
             ]
            ],
            "type": "heatmapgl"
           }
          ],
          "histogram": [
           {
            "marker": {
             "pattern": {
              "fillmode": "overlay",
              "size": 10,
              "solidity": 0.2
             }
            },
            "type": "histogram"
           }
          ],
          "histogram2d": [
           {
            "colorbar": {
             "outlinewidth": 0,
             "ticks": ""
            },
            "colorscale": [
             [
              0,
              "#0d0887"
             ],
             [
              0.1111111111111111,
              "#46039f"
             ],
             [
              0.2222222222222222,
              "#7201a8"
             ],
             [
              0.3333333333333333,
              "#9c179e"
             ],
             [
              0.4444444444444444,
              "#bd3786"
             ],
             [
              0.5555555555555556,
              "#d8576b"
             ],
             [
              0.6666666666666666,
              "#ed7953"
             ],
             [
              0.7777777777777778,
              "#fb9f3a"
             ],
             [
              0.8888888888888888,
              "#fdca26"
             ],
             [
              1,
              "#f0f921"
             ]
            ],
            "type": "histogram2d"
           }
          ],
          "histogram2dcontour": [
           {
            "colorbar": {
             "outlinewidth": 0,
             "ticks": ""
            },
            "colorscale": [
             [
              0,
              "#0d0887"
             ],
             [
              0.1111111111111111,
              "#46039f"
             ],
             [
              0.2222222222222222,
              "#7201a8"
             ],
             [
              0.3333333333333333,
              "#9c179e"
             ],
             [
              0.4444444444444444,
              "#bd3786"
             ],
             [
              0.5555555555555556,
              "#d8576b"
             ],
             [
              0.6666666666666666,
              "#ed7953"
             ],
             [
              0.7777777777777778,
              "#fb9f3a"
             ],
             [
              0.8888888888888888,
              "#fdca26"
             ],
             [
              1,
              "#f0f921"
             ]
            ],
            "type": "histogram2dcontour"
           }
          ],
          "mesh3d": [
           {
            "colorbar": {
             "outlinewidth": 0,
             "ticks": ""
            },
            "type": "mesh3d"
           }
          ],
          "parcoords": [
           {
            "line": {
             "colorbar": {
              "outlinewidth": 0,
              "ticks": ""
             }
            },
            "type": "parcoords"
           }
          ],
          "pie": [
           {
            "automargin": true,
            "type": "pie"
           }
          ],
          "scatter": [
           {
            "fillpattern": {
             "fillmode": "overlay",
             "size": 10,
             "solidity": 0.2
            },
            "type": "scatter"
           }
          ],
          "scatter3d": [
           {
            "line": {
             "colorbar": {
              "outlinewidth": 0,
              "ticks": ""
             }
            },
            "marker": {
             "colorbar": {
              "outlinewidth": 0,
              "ticks": ""
             }
            },
            "type": "scatter3d"
           }
          ],
          "scattercarpet": [
           {
            "marker": {
             "colorbar": {
              "outlinewidth": 0,
              "ticks": ""
             }
            },
            "type": "scattercarpet"
           }
          ],
          "scattergeo": [
           {
            "marker": {
             "colorbar": {
              "outlinewidth": 0,
              "ticks": ""
             }
            },
            "type": "scattergeo"
           }
          ],
          "scattergl": [
           {
            "marker": {
             "colorbar": {
              "outlinewidth": 0,
              "ticks": ""
             }
            },
            "type": "scattergl"
           }
          ],
          "scattermapbox": [
           {
            "marker": {
             "colorbar": {
              "outlinewidth": 0,
              "ticks": ""
             }
            },
            "type": "scattermapbox"
           }
          ],
          "scatterpolar": [
           {
            "marker": {
             "colorbar": {
              "outlinewidth": 0,
              "ticks": ""
             }
            },
            "type": "scatterpolar"
           }
          ],
          "scatterpolargl": [
           {
            "marker": {
             "colorbar": {
              "outlinewidth": 0,
              "ticks": ""
             }
            },
            "type": "scatterpolargl"
           }
          ],
          "scatterternary": [
           {
            "marker": {
             "colorbar": {
              "outlinewidth": 0,
              "ticks": ""
             }
            },
            "type": "scatterternary"
           }
          ],
          "surface": [
           {
            "colorbar": {
             "outlinewidth": 0,
             "ticks": ""
            },
            "colorscale": [
             [
              0,
              "#0d0887"
             ],
             [
              0.1111111111111111,
              "#46039f"
             ],
             [
              0.2222222222222222,
              "#7201a8"
             ],
             [
              0.3333333333333333,
              "#9c179e"
             ],
             [
              0.4444444444444444,
              "#bd3786"
             ],
             [
              0.5555555555555556,
              "#d8576b"
             ],
             [
              0.6666666666666666,
              "#ed7953"
             ],
             [
              0.7777777777777778,
              "#fb9f3a"
             ],
             [
              0.8888888888888888,
              "#fdca26"
             ],
             [
              1,
              "#f0f921"
             ]
            ],
            "type": "surface"
           }
          ],
          "table": [
           {
            "cells": {
             "fill": {
              "color": "#EBF0F8"
             },
             "line": {
              "color": "white"
             }
            },
            "header": {
             "fill": {
              "color": "#C8D4E3"
             },
             "line": {
              "color": "white"
             }
            },
            "type": "table"
           }
          ]
         },
         "layout": {
          "annotationdefaults": {
           "arrowcolor": "#2a3f5f",
           "arrowhead": 0,
           "arrowwidth": 1
          },
          "autotypenumbers": "strict",
          "coloraxis": {
           "colorbar": {
            "outlinewidth": 0,
            "ticks": ""
           }
          },
          "colorscale": {
           "diverging": [
            [
             0,
             "#8e0152"
            ],
            [
             0.1,
             "#c51b7d"
            ],
            [
             0.2,
             "#de77ae"
            ],
            [
             0.3,
             "#f1b6da"
            ],
            [
             0.4,
             "#fde0ef"
            ],
            [
             0.5,
             "#f7f7f7"
            ],
            [
             0.6,
             "#e6f5d0"
            ],
            [
             0.7,
             "#b8e186"
            ],
            [
             0.8,
             "#7fbc41"
            ],
            [
             0.9,
             "#4d9221"
            ],
            [
             1,
             "#276419"
            ]
           ],
           "sequential": [
            [
             0,
             "#0d0887"
            ],
            [
             0.1111111111111111,
             "#46039f"
            ],
            [
             0.2222222222222222,
             "#7201a8"
            ],
            [
             0.3333333333333333,
             "#9c179e"
            ],
            [
             0.4444444444444444,
             "#bd3786"
            ],
            [
             0.5555555555555556,
             "#d8576b"
            ],
            [
             0.6666666666666666,
             "#ed7953"
            ],
            [
             0.7777777777777778,
             "#fb9f3a"
            ],
            [
             0.8888888888888888,
             "#fdca26"
            ],
            [
             1,
             "#f0f921"
            ]
           ],
           "sequentialminus": [
            [
             0,
             "#0d0887"
            ],
            [
             0.1111111111111111,
             "#46039f"
            ],
            [
             0.2222222222222222,
             "#7201a8"
            ],
            [
             0.3333333333333333,
             "#9c179e"
            ],
            [
             0.4444444444444444,
             "#bd3786"
            ],
            [
             0.5555555555555556,
             "#d8576b"
            ],
            [
             0.6666666666666666,
             "#ed7953"
            ],
            [
             0.7777777777777778,
             "#fb9f3a"
            ],
            [
             0.8888888888888888,
             "#fdca26"
            ],
            [
             1,
             "#f0f921"
            ]
           ]
          },
          "colorway": [
           "#636efa",
           "#EF553B",
           "#00cc96",
           "#ab63fa",
           "#FFA15A",
           "#19d3f3",
           "#FF6692",
           "#B6E880",
           "#FF97FF",
           "#FECB52"
          ],
          "font": {
           "color": "#2a3f5f"
          },
          "geo": {
           "bgcolor": "white",
           "lakecolor": "white",
           "landcolor": "white",
           "showlakes": true,
           "showland": true,
           "subunitcolor": "#C8D4E3"
          },
          "hoverlabel": {
           "align": "left"
          },
          "hovermode": "closest",
          "mapbox": {
           "style": "light"
          },
          "paper_bgcolor": "white",
          "plot_bgcolor": "white",
          "polar": {
           "angularaxis": {
            "gridcolor": "#EBF0F8",
            "linecolor": "#EBF0F8",
            "ticks": ""
           },
           "bgcolor": "white",
           "radialaxis": {
            "gridcolor": "#EBF0F8",
            "linecolor": "#EBF0F8",
            "ticks": ""
           }
          },
          "scene": {
           "xaxis": {
            "backgroundcolor": "white",
            "gridcolor": "#DFE8F3",
            "gridwidth": 2,
            "linecolor": "#EBF0F8",
            "showbackground": true,
            "ticks": "",
            "zerolinecolor": "#EBF0F8"
           },
           "yaxis": {
            "backgroundcolor": "white",
            "gridcolor": "#DFE8F3",
            "gridwidth": 2,
            "linecolor": "#EBF0F8",
            "showbackground": true,
            "ticks": "",
            "zerolinecolor": "#EBF0F8"
           },
           "zaxis": {
            "backgroundcolor": "white",
            "gridcolor": "#DFE8F3",
            "gridwidth": 2,
            "linecolor": "#EBF0F8",
            "showbackground": true,
            "ticks": "",
            "zerolinecolor": "#EBF0F8"
           }
          },
          "shapedefaults": {
           "line": {
            "color": "#2a3f5f"
           }
          },
          "ternary": {
           "aaxis": {
            "gridcolor": "#DFE8F3",
            "linecolor": "#A2B1C6",
            "ticks": ""
           },
           "baxis": {
            "gridcolor": "#DFE8F3",
            "linecolor": "#A2B1C6",
            "ticks": ""
           },
           "bgcolor": "white",
           "caxis": {
            "gridcolor": "#DFE8F3",
            "linecolor": "#A2B1C6",
            "ticks": ""
           }
          },
          "title": {
           "x": 0.05
          },
          "xaxis": {
           "automargin": true,
           "gridcolor": "#EBF0F8",
           "linecolor": "#EBF0F8",
           "ticks": "",
           "title": {
            "standoff": 15
           },
           "zerolinecolor": "#EBF0F8",
           "zerolinewidth": 2
          },
          "yaxis": {
           "automargin": true,
           "gridcolor": "#EBF0F8",
           "linecolor": "#EBF0F8",
           "ticks": "",
           "title": {
            "standoff": 15
           },
           "zerolinecolor": "#EBF0F8",
           "zerolinewidth": 2
          }
         }
        },
        "title": {
         "text": "<b>Weekly Sales</b>"
        },
        "xaxis": {
         "anchor": "y",
         "domain": [
          0,
          1
         ],
         "title": {
          "text": "x"
         }
        },
        "yaxis": {
         "anchor": "x",
         "domain": [
          0,
          1
         ],
         "title": {
          "text": "<b>$USD</b>"
         }
        }
       }
      },
      "text/html": [
       "<div>                            <div id=\"4060ce03-efd1-48a3-a33e-a3751041899a\" class=\"plotly-graph-div\" style=\"height:525px; width:100%;\"></div>            <script type=\"text/javascript\">                require([\"plotly\"], function(Plotly) {                    window.PLOTLYENV=window.PLOTLYENV || {};                                    if (document.getElementById(\"4060ce03-efd1-48a3-a33e-a3751041899a\")) {                    Plotly.newPlot(                        \"4060ce03-efd1-48a3-a33e-a3751041899a\",                        [{\"hovertemplate\":\"Market Segment=Alternate Retail<br>x=%{x}<br><b>$USD</b>=%{y}<extra></extra>\",\"legendgroup\":\"Alternate Retail\",\"marker\":{\"color\":\"#636efa\",\"symbol\":\"circle\"},\"mode\":\"markers\",\"name\":\"Alternate Retail\",\"orientation\":\"v\",\"showlegend\":true,\"x\":[0,1,2,3,4,5,6,7,8,9,10,11,12,13,14,15,16,17,18,19,20,21,22,23,24,25,26,27,28,29,30,31,32,33,34,35,36,37,38,39,40,41,42,43,44,45,46,47,48,49,50,51,52,53,54,55,56,57,58,59,60,61,62,63,64,65,66,67,68,69,70,71,72,73,74,75,76,77,78,79,80,81,82,83,84,85,86,87,88,89,90,91,92,93,94,95,96,97,98,99,100,101],\"xaxis\":\"x\",\"y\":[16266.28,64248.96,11248.8,15036.7,18674.97,32686.0,39388.72,25465.920000000002,16363.08,22288.32,21163.44,17239.440000000002,64479.475,56636.4,39553.92,57598.98,26761.68,17658.0,48926.705,27468.0,18519.18,31836.72,26704.08,24219.255,29398.600000000002,11876.64,18207.36,20551.28,58343.177500000005,25139.760000000002,41908.28,22288.32,45649.200000000004,51948.44,63647.28,29639.280000000002,38340.04,73248.0,27651.12,31675.800000000003,28458.6375,63331.86,36437.04,35627.92,29152.68,51153.9,21820.16,29150.8,18632.8,32560.16,8938.92,9641.88,7542.56,74751.6,59874.5,28882.86,51803.380000000005,44676.88,34556.46,20360.4,83752.18,21617.64,32428.58,61062.04,37351.84,23810.16,95765.58,34943.56,22842.94,34233.52,35229.32,21253.4,36677.2,3051.24,21684.86,49582.44,15040.94,64111.76,41926.44,29587.440000000002,35496.28,21427.28,64209.520000000004,31233.38,41184.8,-6303.28,38442.4,14805.0,41532.020000000004,52916.36,47741.02,26676.26,54925.14,61737.26,40713.28,22904.98,29102.4,72930.84,25780.440000000002,13865.0,24118.52,11037.48],\"yaxis\":\"y\",\"type\":\"scatter\"},{\"hovertemplate\":\"Market Segment=Broadline Distributor<br>x=%{x}<br><b>$USD</b>=%{y}<extra></extra>\",\"legendgroup\":\"Broadline Distributor\",\"marker\":{\"color\":\"#EF553B\",\"symbol\":\"circle\"},\"mode\":\"markers\",\"name\":\"Broadline Distributor\",\"orientation\":\"v\",\"showlegend\":true,\"x\":[102,103,104,105,106,107,108,109,110,111,112,113,114,115,116,117,118,119,120,121,122,123,124,125,126,127,128,129,130,131,132,133,134,135,136,137,138,139,140,141,142,143,144,145,146,147,148,149,150,151,152,153,154,155,156,157,158,159,160,161,162,163,164,165,166,167,168,169,170,171,172,173,174,175,176,177,178,179,180,181,182,183,184,185,186,187,188,189,190,191,192,193,194,195,196,197,198,199,200,201],\"xaxis\":\"x\",\"y\":[1098.72,313.92,1621.92,1491.1200000000001,523.2,1151.04,758.6400000000001,1909.68,1177.1999999999998,601.6800000000001,340.08000000000004,1438.8000000000002,2431.7200000000003,915.6000000000001,2799.12,1020.24,941.76,340.08000000000004,0.0,758.6400000000001,497.04,392.4,418.56000000000006,366.24,706.32,732.48,1831.2,235.44,2589.84,1317.74,2066.6400000000003,1360.3200000000002,1308.0,1438.8000000000002,837.12,5598.24,2432.88,2764.54,141.0,2754.58,1583.42,2420.5,1424.1,1192.8600000000001,790.54,2018.18,1474.86,342.16,171.08,141.0,1897.8600000000001,564.0,705.0,4347.96,1102.62,2099.02,3407.5,1620.56,1162.78,709.7,1555.7,508.54,1479.5600000000002,1902.56,654.24,1359.24,1500.24,1303.78,1756.8600000000001,961.62,1273.7,1978.7,820.62,966.32,483.16,508.54,3811.7,2880.16,624.1600000000001,11652.24,1525.62,1927.94,1893.16,2371.62,2860.3900000000003,1551.0,1329.16,1222.94,114.0,1728.3200000000002,987.0,2544.24,2804.02,931.54,7952.1,1615.8600000000001,961.62,3466.78,1503.4,282.0],\"yaxis\":\"y\",\"type\":\"scatter\"},{\"hovertemplate\":\"Market Segment=Canada<br>x=%{x}<br><b>$USD</b>=%{y}<extra></extra>\",\"legendgroup\":\"Canada\",\"marker\":{\"color\":\"#00cc96\",\"symbol\":\"circle\"},\"mode\":\"markers\",\"name\":\"Canada\",\"orientation\":\"v\",\"showlegend\":true,\"x\":[202,203,204,205,206,207,208,209,210,211,212,213,214,215,216,217,218,219,220,221,222,223,224,225,226,227,228,229,230,231,232,233,234,235,236,237,238,239,240,241,242,243,244,245,246,247,248,249,250,251,252,253,254,255,256,257,258,259,260,261,262,263,264,265,266,267,268,269,270,271,272],\"xaxis\":\"x\",\"y\":[7956.0,22446.0,4830.0,1854.72,4071.1499999999996,10599.720000000001,4896.0,22321.92,2763.0,21195.36,52111.44,3168.0,41121.72,612.0,22984.920000000002,4024.62,18261.72,12884.1975,12174.720000000001,29425.5,18724.425,10602.0,15308.220000000001,7410.75,3672.0,1584.0,39982.47,4354.5,25404.48,23328.0,59665.335,4185.6,48952.619999999995,2502.0,34844.64,11075.76,6067.5,44935.905,13613.28,77100.8625,23452.95,12959.7,16163.85,9619.125,6370.68,56643.39,2295.0,3180.6,18467.115,11413.92,11669.932499999999,3031.95,26322.4875,32691.36,4321.665,4785.705,10264.32,94233.825,3545.085,102258.72,4124.31,21852.0075,94798.83,9492.33,12835.755000000001,20719.065,72924.555,2783.49,7098.33,45897.375,38756.7975],\"yaxis\":\"y\",\"type\":\"scatter\"},{\"hovertemplate\":\"Market Segment=Convenience<br>x=%{x}<br><b>$USD</b>=%{y}<extra></extra>\",\"legendgroup\":\"Convenience\",\"marker\":{\"color\":\"#ab63fa\",\"symbol\":\"circle\"},\"mode\":\"markers\",\"name\":\"Convenience\",\"orientation\":\"v\",\"showlegend\":true,\"x\":[273,274,275,276,277,278,279,280,281,282,283,284,285,286,287,288,289,290,291,292,293,294,295,296,297,298,299,300,301,302,303,304,305,306,307,308,309,310,311,312,313,314,315,316,317,318,319,320,321,322,323,324,325,326,327,328,329,330,331,332,333,334,335,336,337,338,339,340,341,342,343,344,345,346,347,348,349,350,351,352,353,354,355,356,357,358,359,360,361,362,363,364,365,366,367,368,369,370,371,372,373,374],\"xaxis\":\"x\",\"y\":[15346.11,6435.360000000001,5990.64,5807.52,19994.415,11719.68,17662.905,22222.920000000002,10114.11,19358.4,17904.885000000002,15200.595000000001,42681.435,11819.960000000001,25296.72,36962.445,26809.36,13812.480000000001,14279.0,42165.56,17634.17,16350.0,10082.44,59808.71,13415.720000000001,20185.8675,18181.2,5441.280000000001,18429.7275,14171.677500000002,15819.220000000001,13251.0375,15225.12,11510.4,27486.1125,18692.325,11118.0,44772.825,29013.48,18100.64,29926.18,17733.100000000002,11123.960000000001,27321.605,26935.7,13807.66,15615.82,21068.64,12277.64,7414.12,15408.64,48546.12,6733.2,14172.380000000001,10763.0,11981.24,17843.079999999998,22126.66,11976.07,14429.94,24576.0425,24013.24,20647.1,17242.8,52509.2475,18003.82,15670.74,36549.86,20354.855,16248.84,17588.48,12619.5,19121.48,21650.08,9006.14,8844.62,9380.26,28518.094999999998,9085.0975,10448.14,27163.54,18363.0,23171.24,11775.84,8742.94,52678.28,10643.14,6054.38,16353.52,16668.36,8550.76,15132.12,21523.383798319,35424.455,7771.92,53101.9275,8567.16,27147.0,7903.52,4697.18,13519.84,256.62],\"yaxis\":\"y\",\"type\":\"scatter\"},{\"hovertemplate\":\"Market Segment=Direct University<br>x=%{x}<br><b>$USD</b>=%{y}<extra></extra>\",\"legendgroup\":\"Direct University\",\"marker\":{\"color\":\"#FFA15A\",\"symbol\":\"circle\"},\"mode\":\"markers\",\"name\":\"Direct University\",\"orientation\":\"v\",\"showlegend\":true,\"x\":[375,376,377,378,379,380,381,382,383,384,385,386,387,388,389,390,391,392,393,394,395,396,397,398,399,400,401,402,403,404,405,406,407,408,409,410,411],\"xaxis\":\"x\",\"y\":[8568.675,1962.0,601.6800000000001,2515.3875,173.7,130.28,2263.8374999999996,303.98,2490.24,108.56,195.42000000000002,303.98,4014.41,65.14,173.7,173.7,65.14,390.82,2679.0,85.54,312.08000000000004,85.54,226.54000000000002,85.54,312.08000000000004,312.08000000000004,508.54,342.16,846.0,342.16,2538.0,141.0,5080.2,141.0,141.0,2538.0,282.0],\"yaxis\":\"y\",\"type\":\"scatter\"},{\"hovertemplate\":\"Market Segment=Grocery<br>x=%{x}<br><b>$USD</b>=%{y}<extra></extra>\",\"legendgroup\":\"Grocery\",\"marker\":{\"color\":\"#19d3f3\",\"symbol\":\"circle\"},\"mode\":\"markers\",\"name\":\"Grocery\",\"orientation\":\"v\",\"showlegend\":true,\"x\":[412,413,414,415,416,417,418,419,420,421,422,423,424,425,426,427,428,429,430,431,432,433,434,435,436,437,438,439,440,441,442,443,444,445,446,447,448,449,450,451,452,453,454,455,456,457,458,459,460,461,462,463,464,465,466,467,468,469,470,471,472,473,474,475,476,477,478,479,480,481,482,483,484,485,486,487,488,489,490,491,492,493,494,495,496,497,498,499,500,501,502,503,504,505,506,507,508,509],\"xaxis\":\"x\",\"y\":[4267.35,1875.0,235.44,7015.56,2831.3250000000003,78.48,15632.49,156.96,78.48,7039.965,1953.48,0.0,313.92,13594.4025,16877.865,9261.7875,2653.605,3325.59,78.48,78.48,313.92,8728.3425,313.92,2305.3574999999996,2198.73,392.4,10159.7775,10005.960000000001,2410.05,14250.4425,3169.38,5594.22,13255.4325,632.0775,6024.712500000001,2380.71,27294.555,5740.24,5411.76,256.62,85.54,8256.36,2958.08,10756.9075,17982.96,13632.125,85.54,171.08,19709.8275,14792.845000000001,427.70000000000005,256.62,85.54,25270.435,256.62,6624.599999999999,171.08,25494.795,256.62,24968.1275,26014.177499999998,256.62,342.16,26272.1625,7775.96,85.54,564.0,171.08,2808.12,342.16,1711.2,27191.3375,13674.3025,8186.585,256.62,12428.8775,6206.9225,11356.22,13216.619999999999,85.54,85.54,13090.539999999999,6485.4,7182.8,2706.12,23359.68,37146.265,342.16,243.74,18181.5575,4373.0650000000005,10700.62,427.70000000000005,13164.8825,3239.52,13411.125,427.70000000000005,3847.14],\"yaxis\":\"y\",\"type\":\"scatter\"},{\"hovertemplate\":\"Market Segment=Online<br>x=%{x}<br><b>$USD</b>=%{y}<extra></extra>\",\"legendgroup\":\"Online\",\"marker\":{\"color\":\"#FF6692\",\"symbol\":\"circle\"},\"mode\":\"markers\",\"name\":\"Online\",\"orientation\":\"v\",\"showlegend\":true,\"x\":[510,511,512,513,514,515,516,517,518,519,520,521,522,523,524,525,526,527,528,529,530,531,532,533,534,535,536,537,538,539,540,541,542,543,544,545,546,547,548,549,550,551,552,553,554,555,556,557,558,559,560,561,562,563,564,565,566,567,568,569,570,571,572,573,574,575,576,577,578,579,580,581,582,583,584,585,586,587,588,589,590,591,592,593,594,595,596,597,598,599,600,601,602,603,604,605,606,607,608,609,610,611],\"xaxis\":\"x\",\"y\":[34747.5975,35498.3175,10765.925,4000.68,89062.985,57492.44,20545.66,22344.0225,50714.2525,42535.3875,21070.73,17723.855,33103.4225,12436.2375,31621.2575,53878.4925,45329.6,25558.2975,104320.56,5709.4525,18620.2,18663.015,17373.88,40935.2975,47969.01,25984.035000000003,6688.290000000001,7519.89,37263.052500000005,20382.120000000003,43133.2725,19371.757500000003,23290.605000000003,50470.027500000004,39300.915,17886.787500000002,72835.45,59288.335,37111.612499999996,23007.942499999997,22868.9675,19823.327999999998,18146.3675,123063.6075,11929.1525,13892.74,97913.955,35635.505,7729.6525,10406.875,68130.165,75388.955,740.0625,4904.5775,7271.635,5073.435,132936.6875,2948.0625,4231.2325,668.915,129297.2475,9250.6625,28442.4025,6252.0175,184974.6625,342.16,3876.13,24509.02,132134.8525,18389.6325,30190.965,38890.284999999996,5575.8,101086.83,22720.2875,32149.39,36207.265,99901.2825,19950.12,47445.93,36314.409999999996,40225.667499999996,64096.7675,27513.585,26349.135,23998.62,84080.7425,42926.0925,59909.845,50051.0275,42723.7125,26594.442499999997,67047.87,26452.03,15368.6475,145249.305,4642.41,57535.425,24528.329999999998,108651.7,11393.3025,20950.125],\"yaxis\":\"y\",\"type\":\"scatter\"},{\"hovertemplate\":\"Market Segment=Other (to be categorized)<br>x=%{x}<br><b>$USD</b>=%{y}<extra></extra>\",\"legendgroup\":\"Other (to be categorized)\",\"marker\":{\"color\":\"#B6E880\",\"symbol\":\"circle\"},\"mode\":\"markers\",\"name\":\"Other (to be categorized)\",\"orientation\":\"v\",\"showlegend\":true,\"x\":[612,613,614,615,616,617,618,619,620,621,622,623,624,625,626,627,628,629,630,631,632,633,634,635,636,637,638,639,640,641,642,643,644,645,646,647,648,649,650,651,652,653,654,655,656,657,658,659,660,661,662,663,664,665,666,667,668,669,670,671,672,673,674,675,676,677,678,679,680,681,682,683,684,685,686,687,688,689,690,691,692,693,694,695,696,697,698,699,700,701,702,703,704,705],\"xaxis\":\"x\",\"y\":[431.63,1514.96,431.64000000000004,547.5600000000001,2957.24,575.5200000000001,6110.47,1232.1175,976.5,1136.8,1090.44,1280.68,2781.61,236.89,1492.48,2195.7200000000003,1934.28,1236.6399999999999,544.12,2145.12,507.5,340.08000000000004,261.6,719.4,1072.56,1064.7,1755.33,653.595,3248.1575000000003,3817.8825,1085.64,282.52,808.34,497.04,997.4350000000001,601.6800000000001,585.26,688.0,1579.5,206.98000000000002,1066.52,2168.94,2059.54,176.9,5252.9,695.96,1689.56,1907.7,513.24,342.16,141.0,1561.2,580.34,997.9825,141.0,85.5675,2469.6800000000003,85.54,312.08000000000004,282.0,2667.3225,3666.0,735.08,3985.6275,282.0,342.16,141.0,1883.4,6555.04,5922.0,1102.62,1895.4,141.0,1128.0,794.5,282.0,85.54,282.0,996.4,2877.79,486.88,1671.32,0.0,2905.54,282.0,624.1600000000001,1045.8799999999999,557.86,2815.44,820.27,256.68,85.54,2656.3199999999997,85.54],\"yaxis\":\"y\",\"type\":\"scatter\"},{\"hovertemplate\":\"Market Segment=Outlet<br>x=%{x}<br><b>$USD</b>=%{y}<extra></extra>\",\"legendgroup\":\"Outlet\",\"marker\":{\"color\":\"#FF97FF\",\"symbol\":\"circle\"},\"mode\":\"markers\",\"name\":\"Outlet\",\"orientation\":\"v\",\"showlegend\":true,\"x\":[706,707,708,709],\"xaxis\":\"x\",\"y\":[9999.96,4700.01,5299.995,19299.982500000002],\"yaxis\":\"y\",\"type\":\"scatter\"},{\"hovertemplate\":\"Market Segment=Vending<br>x=%{x}<br><b>$USD</b>=%{y}<extra></extra>\",\"legendgroup\":\"Vending\",\"marker\":{\"color\":\"#FECB52\",\"symbol\":\"circle\"},\"mode\":\"markers\",\"name\":\"Vending\",\"orientation\":\"v\",\"showlegend\":true,\"x\":[710,711,712,713,714,715,716,717,718,719,720,721,722,723,724,725,726,727,728,729,730,731,732,733,734,735,736,737,738,739,740,741,742,743,744,745,746,747,748,749,750,751,752,753,754,755,756,757,758,759,760,761,762,763,764,765,766,767,768,769,770,771,772,773,774,775,776,777,778,779,780,781,782,783,784,785,786,787,788,789,790,791,792,793,794,795,796,797,798,799,800,801,802,803,804,805,806,807,808,809,810,811],\"xaxis\":\"x\",\"y\":[24014.88,8711.28,15120.48,4865.76,20430.96,27572.64,19044.48,23936.4,14178.720000000001,31078.08,38455.200000000004,49337.76,45021.36,30502.56,50113.44,32987.76,57014.64,34662.0,41489.76,30528.72,15120.480000000001,45466.08,39606.24,34897.0151,36952.3894,18727.0213,31025.760000000002,25270.56,33510.96,30424.08,33275.52,20509.440000000002,45309.12,39030.72,45335.28,37748.88,27241.68,73666.56,34269.6,25835.12,58966.94,89355.84,54947.22,28885.06,51420.2,34498.62,18177.7,25639.22,43732.9,48959.880000000005,33458.2,37914.84,45469.18,35264.06,44113.58,34403.4,56388.6,62095.36,74840.4,70839.32,94935.26000000001,42564.92,62511.78,45657.7,24740.8,80386.9,76227.5,60059.86,42960.38,43519.18,35239.66,47522.64,34319.4,38085.04,41050.74,36154.28,46177.5,44736.479999999996,30252.96,45684.94,45976.34,61826.62,39453.68,55291.74,45024.119999999995,63288.32,54499.76,60230.96,65258.56,47243.46,84044.45999999999,93361.73999999999,85976.68,77781.66,59171.12,38953.6,60373.380000000005,67241.02,54184.42,45099.32,42327.26,4743.24],\"yaxis\":\"y\",\"type\":\"scatter\"},{\"hovertemplate\":\"<b>Rolling mean trendline</b><br><br>x=%{x}<br><b>$USD</b>=%{y} <b>(trend)</b><extra></extra>\",\"legendgroup\":\"Overall Trendline\",\"line\":{\"color\":\"#636efa\"},\"mode\":\"lines\",\"name\":\"Overall Trendline\",\"showlegend\":true,\"x\":[0,1,2,3,4,5,6,7,8,9,10,11,12,13,14,15,16,17,18,19,20,21,22,23,24,25,26,27,28,29,30,31,32,33,34,35,36,37,38,39,40,41,42,43,44,45,46,47,48,49,50,51,52,53,54,55,56,57,58,59,60,61,62,63,64,65,66,67,68,69,70,71,72,73,74,75,76,77,78,79,80,81,82,83,84,85,86,87,88,89,90,91,92,93,94,95,96,97,98,99,100,101,102,103,104,105,106,107,108,109,110,111,112,113,114,115,116,117,118,119,120,121,122,123,124,125,126,127,128,129,130,131,132,133,134,135,136,137,138,139,140,141,142,143,144,145,146,147,148,149,150,151,152,153,154,155,156,157,158,159,160,161,162,163,164,165,166,167,168,169,170,171,172,173,174,175,176,177,178,179,180,181,182,183,184,185,186,187,188,189,190,191,192,193,194,195,196,197,198,199,200,201,202,203,204,205,206,207,208,209,210,211,212,213,214,215,216,217,218,219,220,221,222,223,224,225,226,227,228,229,230,231,232,233,234,235,236,237,238,239,240,241,242,243,244,245,246,247,248,249,250,251,252,253,254,255,256,257,258,259,260,261,262,263,264,265,266,267,268,269,270,271,272,273,274,275,276,277,278,279,280,281,282,283,284,285,286,287,288,289,290,291,292,293,294,295,296,297,298,299,300,301,302,303,304,305,306,307,308,309,310,311,312,313,314,315,316,317,318,319,320,321,322,323,324,325,326,327,328,329,330,331,332,333,334,335,336,337,338,339,340,341,342,343,344,345,346,347,348,349,350,351,352,353,354,355,356,357,358,359,360,361,362,363,364,365,366,367,368,369,370,371,372,373,374,375,376,377,378,379,380,381,382,383,384,385,386,387,388,389,390,391,392,393,394,395,396,397,398,399,400,401,402,403,404,405,406,407,408,409,410,411,412,413,414,415,416,417,418,419,420,421,422,423,424,425,426,427,428,429,430,431,432,433,434,435,436,437,438,439,440,441,442,443,444,445,446,447,448,449,450,451,452,453,454,455,456,457,458,459,460,461,462,463,464,465,466,467,468,469,470,471,472,473,474,475,476,477,478,479,480,481,482,483,484,485,486,487,488,489,490,491,492,493,494,495,496,497,498,499,500,501,502,503,504,505,506,507,508,509,510,511,512,513,514,515,516,517,518,519,520,521,522,523,524,525,526,527,528,529,530,531,532,533,534,535,536,537,538,539,540,541,542,543,544,545,546,547,548,549,550,551,552,553,554,555,556,557,558,559,560,561,562,563,564,565,566,567,568,569,570,571,572,573,574,575,576,577,578,579,580,581,582,583,584,585,586,587,588,589,590,591,592,593,594,595,596,597,598,599,600,601,602,603,604,605,606,607,608,609,610,611,612,613,614,615,616,617,618,619,620,621,622,623,624,625,626,627,628,629,630,631,632,633,634,635,636,637,638,639,640,641,642,643,644,645,646,647,648,649,650,651,652,653,654,655,656,657,658,659,660,661,662,663,664,665,666,667,668,669,670,671,672,673,674,675,676,677,678,679,680,681,682,683,684,685,686,687,688,689,690,691,692,693,694,695,696,697,698,699,700,701,702,703,704,705,706,707,708,709,710,711,712,713,714,715,716,717,718,719,720,721,722,723,724,725,726,727,728,729,730,731,732,733,734,735,736,737,738,739,740,741,742,743,744,745,746,747,748,749,750,751,752,753,754,755,756,757,758,759,760,761,762,763,764,765,766,767,768,769,770,771,772,773,774,775,776,777,778,779,780,781,782,783,784,785,786,787,788,789,790,791,792,793,794,795,796,797,798,799,800,801,802,803,804,805,806,807,808,809,810,811],\"y\":[null,null,null,null,null,26360.285,30214.024999999998,23750.185,24602.565,25811.168333333335,26225.913333333334,23651.486666666668,27833.279166666664,33028.35916666667,36893.49916666667,42778.60916666667,43711.64916666667,43781.40916666667,41189.28083333334,36327.880833333336,32822.090833333335,28528.380833333333,28518.780833333334,29612.323333333334,26357.639166666664,23759.079166666666,23707.109166666665,21826.2025,27099.385416666668,27252.802916666667,29337.749583333334,31073.029583333337,35646.669583333336,40879.52958333333,41763.54666666667,42513.46666666667,41918.76,50412.04,47412.35999999999,44033.58666666667,38168.81291666667,43784.24291666667,43467.076250000006,37197.06291666667,37447.322916666664,40693.67291666667,39587.26,33890.416666666664,30923.043333333335,30411.75,27042.789999999997,20124.12,17744.52,25344.653333333335,32218.27,31605.38666666667,38749.46333333334,44588.630000000005,49090.94666666666,40025.746666666666,44005.36000000001,42794.49,39565.35666666667,42296.21666666667,42762.113333333335,43337.073333333334,45339.306666666664,47560.293333333335,45962.68666666667,41491.26666666666,41137.51333333333,40711.386666666665,30863.323333333334,25547.936666666665,25354.92333333333,27913.076666666664,24548.346666666665,31691.406666666666,32566.28,36988.98,39290.88333333334,34598.35666666667,42793.12,37313.39,37189.78333333333,31207.99666666667,31699.016666666666,30595.303333333333,26815.72,30429.550000000003,31522.25333333333,37018.84333333334,39765.96666666667,47588.01,47451.55333333334,42449.65666666666,39343.22,47052.31666666666,42194.86666666667,34216.15666666667,31450.36333333333,29472.446666666667,24805.16666666666,12702.346666666666,8675.926666666666,6613.613333333334,2681.06,1033.32,976.64,1242.6000000000001,1168.48,1020.2400000000001,989.7200000000001,1037.68,1316.5266666666666,1150.8466666666666,1421.1666666666667,1490.9266666666665,1591.2066666666667,1408.0866666666668,1002.7999999999998,976.64,592.96,488.3200000000001,401.12000000000006,405.48,523.2,518.84,741.1999999999999,715.04,1076.92,1235.5033333333333,1462.2233333333334,1566.8633333333335,1479.6633333333336,1680.2233333333334,1388.1033333333335,2101.52,2162.56,2396.596666666667,2202.096666666667,2421.3933333333334,2545.7766666666666,2016.1533333333334,1848.0233333333335,1586.0766666666666,1694.3333333333333,1571.6000000000001,1553.506666666667,1207.1166666666666,998.2800000000001,822.9699999999999,1007.5233333333334,765.16,636.85,1304.4833333333333,1459.74,1786.0766666666668,2037.6833333333334,2213.7766666666666,2290.0733333333333,1683.6966666666665,1759.21,1494.1299999999999,1172.8066666666666,1219.8066666666666,1135.05,1243.3066666666666,1234.0633333333333,1366.6033333333332,1412.82,1255.9966666666667,1359.24,1462.4833333333336,1349.2133333333334,1292.97,1080.6866666666667,1005.1733333333333,1428.1733333333334,1578.4166666666667,1545.6733333333332,3326.66,3500.403333333333,3736.97,3417.2133333333336,3332.456666666667,3705.1616666666664,2021.6216666666667,1988.8783333333338,1871.3783333333333,1574.8516666666667,1467.6350000000002,1155.4033333333334,1320.9433333333334,1566.7533333333333,1518.1866666666665,2824.536666666667,2805.793333333333,2801.5633333333335,2955.3199999999997,2738.5499999999997,2630.2933333333335,2630.943333333333,6102.633333333334,6747.363333333332,6478.686666666666,6906.6449999999995,8626.265,8116.264999999999,8095.584999999999,7751.084999999999,10974.525,18981.24,17742.62,23780.24,20161.92,23532.24,20670.45,15028.83,16648.196249999997,11823.696249999999,16625.946249999997,15915.863749999999,17012.093749999996,16519.84375,15607.602499999999,14190.482499999998,9550.232499999998,13093.239999999998,12051.989999999998,13734.699999999997,16387.574999999997,25719.797499999997,26153.397499999995,27648.422499999997,27339.672499999997,28913.032499999998,26870.992499999993,17938.019999999997,24729.7375,18839.847499999996,31272.991250000003,29374.376249999998,29688.366250000003,31371.09125,25484.961250000004,24277.861249999998,20868.282499999998,17341.9575,15712.107499999996,16095.984999999999,16395.117499999997,17278.326249999995,8343.086249999998,12347.667499999996,17266.1275,14908.552499999998,13803.849999999999,13569.581249999996,28769.89375,24973.66,36568.219999999994,36535.3275,39379.71125,53468.79624999999,39345.21375,40893.65875,27303.716249999998,38770.423749999994,35592.3375,20975.587499999998,27043.094999999998,31363.26875,30467.776249999995,19386.243749999998,19920.76875,19705.633749999997,15388.47375,10882.287499999999,11268.419999999998,13899.679999999998,14586.924999999997,16845.405,16497.149999999998,17077.302499999998,21247.0575,19513.23083333333,22043.665833333333,24977.67333333333,26461.7525,26230.399999999998,21496.66083333333,26554.26083333333,25277.169166666663,21841.76166666666,19053.941666666662,26719.98,26576.099999999995,22912.817916666667,23003.98958333333,21185.86958333333,22577.084166666667,14970.91208333333,15371.495416666665,14215.690416666665,13723.010416666664,14734.530416666666,16243.927916666662,16997.369166666667,16213.832499999999,21467.46375,23765.523749999997,24863.897083333333,25270.574999999997,25110.704166666666,25111.6975,22203.16083333333,21856.864166666666,21141.367499999997,18756.3075,19312.23083333333,19504.51083333333,16186.596666666665,14265.419999999996,20055.163333333334,18574.726666666666,17425.35,17172.91,17934.096666666668,18339.836666666666,13936.59333333333,14810.404999999999,14853.331666666665,17155.505416666663,19160.83875,19628.17541666666,18814.19875,25569.728333333333,26165.374999999996,24681.157916666663,26770.594583333328,26721.88708333333,26556.22708333333,20736.099166666663,19838.712499999998,20413.83583333333,17930.539166666666,16039.086666666664,14805.049999999997,13437.01333333333,16086.779166666665,14414.048749999996,12547.058749999997,15573.292083333332,17159.688749999998,19458.185416666664,16667.809583333332,16610.783333333333,23649.14,20895.739999999994,18844.30333333333,17708.016666666666,18523.436666666665,18491.406666666662,12233.713333333331,14047.087299719831,18942.099799719832,17511.833133053162,23584.09438305316,23586.8277163865,25589.3077163865,23319.330416666664,18198.117916666666,19156.10458333333,10348.553333333331,10348.805833333332,6151.305833333332,4934.332499999998,4570.700416666664,2346.3437499999977,2325.287083333331,1274.480833333331,998.1441666666642,1312.9041666666642,911.7662499999975,915.3862499999974,944.3362499999976,1236.0983333333309,1196.2916666666642,810.2016666666642,821.058333333331,799.3449999999975,813.8183333333309,591.2499999999976,594.6499999999976,617.7133333333309,603.0199999999976,629.9199999999977,579.0399999999976,184.55333333333093,222.3099999999976,255.05333333333093,297.82333333333094,401.0666666666643,443.8366666666643,814.823333333331,786.3099999999977,1548.253333333331,1514.7266666666644,1397.2266666666644,1763.1999999999978,1387.1999999999978,2074.9249999999975,1540.7249999999976,1556.4649999999976,2702.2249999999976,2751.1124999999975,2717.192499999998,4611.382499999997,4325.042499999998,4298.882499999998,4302.949999999998,4156.642499999997,4143.562499999997,1590.4674999999977,3830.041249999998,6629.938749999998,7000.242499999998,7116.929999999998,7671.194999999997,7631.954999999998,5379.301249999998,2618.643749999998,2529.7362499999977,2139.788749999998,1969.749999999998,2323.1249999999977,2375.4449999999974,4016.4212499999976,4229.357499999997,4578.712499999998,6569.559999999998,6731.334999999998,7598.304999999998,8114.247499999998,6551.933749999997,7154.377499999998,5176.088749999998,9196.951249999998,9221.287916666664,7914.009166666663,7851.432916666664,6861.5708333333305,7840.84583333333,3784.766666666664,4620.8779166666645,6716.077916666664,8945.328749999997,8945.328749999997,7597.782083333332,10389.739999999998,11062.396249999998,8136.519583333331,5907.268749999998,5907.2687499999965,10090.494583333331,6848.293333333331,5486.919166666664,5444.149166666664,9650.511666666664,9679.024999999998,9628.640416666663,13921.566666666664,12860.236666666662,12888.749999999995,13018.311249999997,14271.534583333332,10124.436666666663,5882.740416666664,5868.483749999997,6279.4770833333305,1957.8099999999977,947.0166666666643,5464.649583333331,7649.699999999998,8985.617499999998,8560.367499999998,10574.820416666664,11324.107499999998,8684.921249999998,8608.640833333331,7258.4666666666635,7229.95333333333,7340.2304166666645,7386.643333333331,6691.07333333333,4939.323333333331,8818.346666666665,14995.134166666665,12870.404166666665,11830.127499999997,13663.253749999998,13941.077916666667,11831.234583333331,5711.473749999997,7848.594166666665,8347.890833333331,7552.8187499999985,6895.257916666665,5753.011249999999,11472.994166666665,15195.233333333332,16449.634166666667,14881.226666666667,29653.774166666666,38594.6575,36227.667916666665,34035.285416666666,40693.34,47115.79125,35783.74875,29155.65125,31248.611666666664,29597.314166666663,26415.14833333333,28305.665833333333,32348.810833333326,33654.55125,45524.07416666666,44402.94333333333,42236.10041666666,36366.854166666664,31707.567499999994,34270.40083333333,24878.475833333334,28257.572916666668,26268.921250000003,24411.73375,27726.595833333336,24301.066250000003,23495.11,22393.06375,25160.116250000003,32318.472500000003,32658.116250000003,32242.227500000005,37192.59041666667,43845.35333333333,46148.854583333334,41571.840416666666,38833.1825,39155.939249999996,30041.092166666665,40670.304249999994,36473.22758333333,34954.02716666666,47461.525083333334,50096.88791666667,48360.768749999996,29584.646666666667,38951.482083333336,49200.85125000001,33005.2025,27883.381250000002,27807.045,26918.138333333332,37719.22541666666,25645.74333333333,26227.604999999996,25521.661249999994,45859.26333333333,46555.46791666667,29139.753749999993,29690.412916666664,59814.31791666666,59759.85874999999,38856.339166666665,41399.39875,58681.473750000005,60704.40958333333,34907.12666666666,41331.814166666656,41615.09249999999,54378.06083333333,36142.299999999996,38435.59291666666,39438.30958333333,49606.809166666666,52002.52916666667,43062.37916666666,45328.066249999996,46674.11249999999,51322.362916666665,39257.746666666666,40324.24916666666,36416.36416666666,44377.41958333333,44827.49041666666,44129.66999999999,47885.91041666665,50615.00666666666,51047.64374999999,48208.831666666665,45463.15458333333,38039.62166666666,53906.001249999994,47559.117499999986,52715.94791666666,45629.35791666666,59329.30291666666,58666.74541666665,37950.215416666666,37248.41875,27911.674583333326,23895.559583333325,5878.202916666662,4472.192499999995,1076.4249999999952,2022.8983333333283,1975.757916666662,2066.567916666662,2164.774583333329,1853.6412499999951,1971.1679166666618,1416.3579166666616,1250.486666666662,1336.4833333333283,1512.969999999995,1653.6099999999951,1646.269999999995,1273.3549999999952,1591.3933333333287,1427.2299999999952,1117.9566666666617,839.1766666666618,752.9699999999951,841.0433333333285,660.9733333333285,868.9449999999952,921.1974999999951,1418.9570833333285,1935.3708333333286,1937.5508333333285,1807.1874999999952,1649.3558333333285,1623.2633333333288,1248.142916666662,712.109166666662,628.7124999999951,696.2924999999951,824.8191666666618,776.4758333333285,787.9899999999951,1049.1999999999953,1294.9133333333286,1209.7299999999952,1821.9633333333284,1903.4599999999953,2007.299999999995,1963.759999999995,1706.0433333333285,1733.5866666666616,881.6033333333285,1025.8099999999952,840.9399999999952,689.3204166666618,627.2804166666618,584.5149999999952,972.6283333333286,726.6849999999951,681.9749999999951,562.6445833333286,983.6983333333286,1580.4370833333287,1291.3370833333286,1941.351666666662,1936.3383333333286,1946.3649999999952,1525.3112499999952,1228.211249999995,2198.2045833333286,2520.9333333333284,2657.7033333333284,2916.576666666662,2916.576666666662,2790.676666666662,1830.5866666666616,890.5866666666619,721.0733333333286,452.17333333332846,594.7399999999951,886.3716666666618,835.1016666666618,1066.6549999999952,1052.3983333333283,1489.6549999999952,1370.5883333333286,994.9833333333285,1088.149999999995,902.5733333333286,1371.8133333333287,1024.2683333333284,1020.0483333333286,930.2783333333285,1198.6849999999952,1119.9649999999951,2317.384999999995,2964.008333333328,3804.560833333328,7006.967916666661,10566.727916666661,12004.351249999994,12857.771249999996,12885.396249999996,15407.223749999996,16785.999999999996,15957.599999999993,18495.119999999995,18338.159999999993,22706.879999999994,25710.919999999995,29338.44,33667.91999999999,34762.27999999999,40751.399999999994,41069.68,44162.91999999999,41716.96,41128.35999999999,41132.72,35300.56,37380.28,34478.88,34518.04918333333,33761.82075,31794.870966666665,34445.75096666667,31079.83096666666,30063.95096666666,29318.461783333332,28705.65021666666,29002.719999999998,31383.279999999995,33676.63999999999,35647.35999999999,36868.159999999996,35862.52,44722.04,42882.119999999995,40682.853333333325,42954.79666666666,51555.956666666665,56173.54666666666,48709.963333333326,51568.39666666666,53012.313333333324,46214.10666666666,35594.66999999999,33725.61666666666,37071.41999999999,34077.75333333333,34647.12333333333,39195.70333333333,40799.84333333333,40863.29,38437.21,42258.94333333333,46289.03,51184.23333333333,57113.44333333333,65583.72333333333,66943.97666666665,67964.50666666667,65224.89666666667,56874.963333333326,58466.226666666655,55348.26666666666,58264.09,55005.52333333332,54649.103333333325,56398.91333333333,50921.53666666666,43936.85333333333,40274.38333333333,39956.10999999999,38728.62666666666,40551.6,40087.23999999999,39409.49999999999,40676.149999999994,41497.08333333332,45775.806666666664,44655.16999999999,46414.38,48876.23999999999,51810.13666666666,53230.706666666665,52964.76333333333,57265.57666666666,55924.19666666666,62427.58666666666,67439.82333333332,72685.97666666665,75611.09333333332,74596.52,73214.87666666666,69269.69666666666,64916.243333333325,59617.53333333333,54170.47666666666,51363.166666666664,45661.44],\"type\":\"scatter\",\"xaxis\":\"x\",\"yaxis\":\"y\"}],                        {\"template\":{\"data\":{\"barpolar\":[{\"marker\":{\"line\":{\"color\":\"white\",\"width\":0.5},\"pattern\":{\"fillmode\":\"overlay\",\"size\":10,\"solidity\":0.2}},\"type\":\"barpolar\"}],\"bar\":[{\"error_x\":{\"color\":\"#2a3f5f\"},\"error_y\":{\"color\":\"#2a3f5f\"},\"marker\":{\"line\":{\"color\":\"white\",\"width\":0.5},\"pattern\":{\"fillmode\":\"overlay\",\"size\":10,\"solidity\":0.2}},\"type\":\"bar\"}],\"carpet\":[{\"aaxis\":{\"endlinecolor\":\"#2a3f5f\",\"gridcolor\":\"#C8D4E3\",\"linecolor\":\"#C8D4E3\",\"minorgridcolor\":\"#C8D4E3\",\"startlinecolor\":\"#2a3f5f\"},\"baxis\":{\"endlinecolor\":\"#2a3f5f\",\"gridcolor\":\"#C8D4E3\",\"linecolor\":\"#C8D4E3\",\"minorgridcolor\":\"#C8D4E3\",\"startlinecolor\":\"#2a3f5f\"},\"type\":\"carpet\"}],\"choropleth\":[{\"colorbar\":{\"outlinewidth\":0,\"ticks\":\"\"},\"type\":\"choropleth\"}],\"contourcarpet\":[{\"colorbar\":{\"outlinewidth\":0,\"ticks\":\"\"},\"type\":\"contourcarpet\"}],\"contour\":[{\"colorbar\":{\"outlinewidth\":0,\"ticks\":\"\"},\"colorscale\":[[0.0,\"#0d0887\"],[0.1111111111111111,\"#46039f\"],[0.2222222222222222,\"#7201a8\"],[0.3333333333333333,\"#9c179e\"],[0.4444444444444444,\"#bd3786\"],[0.5555555555555556,\"#d8576b\"],[0.6666666666666666,\"#ed7953\"],[0.7777777777777778,\"#fb9f3a\"],[0.8888888888888888,\"#fdca26\"],[1.0,\"#f0f921\"]],\"type\":\"contour\"}],\"heatmapgl\":[{\"colorbar\":{\"outlinewidth\":0,\"ticks\":\"\"},\"colorscale\":[[0.0,\"#0d0887\"],[0.1111111111111111,\"#46039f\"],[0.2222222222222222,\"#7201a8\"],[0.3333333333333333,\"#9c179e\"],[0.4444444444444444,\"#bd3786\"],[0.5555555555555556,\"#d8576b\"],[0.6666666666666666,\"#ed7953\"],[0.7777777777777778,\"#fb9f3a\"],[0.8888888888888888,\"#fdca26\"],[1.0,\"#f0f921\"]],\"type\":\"heatmapgl\"}],\"heatmap\":[{\"colorbar\":{\"outlinewidth\":0,\"ticks\":\"\"},\"colorscale\":[[0.0,\"#0d0887\"],[0.1111111111111111,\"#46039f\"],[0.2222222222222222,\"#7201a8\"],[0.3333333333333333,\"#9c179e\"],[0.4444444444444444,\"#bd3786\"],[0.5555555555555556,\"#d8576b\"],[0.6666666666666666,\"#ed7953\"],[0.7777777777777778,\"#fb9f3a\"],[0.8888888888888888,\"#fdca26\"],[1.0,\"#f0f921\"]],\"type\":\"heatmap\"}],\"histogram2dcontour\":[{\"colorbar\":{\"outlinewidth\":0,\"ticks\":\"\"},\"colorscale\":[[0.0,\"#0d0887\"],[0.1111111111111111,\"#46039f\"],[0.2222222222222222,\"#7201a8\"],[0.3333333333333333,\"#9c179e\"],[0.4444444444444444,\"#bd3786\"],[0.5555555555555556,\"#d8576b\"],[0.6666666666666666,\"#ed7953\"],[0.7777777777777778,\"#fb9f3a\"],[0.8888888888888888,\"#fdca26\"],[1.0,\"#f0f921\"]],\"type\":\"histogram2dcontour\"}],\"histogram2d\":[{\"colorbar\":{\"outlinewidth\":0,\"ticks\":\"\"},\"colorscale\":[[0.0,\"#0d0887\"],[0.1111111111111111,\"#46039f\"],[0.2222222222222222,\"#7201a8\"],[0.3333333333333333,\"#9c179e\"],[0.4444444444444444,\"#bd3786\"],[0.5555555555555556,\"#d8576b\"],[0.6666666666666666,\"#ed7953\"],[0.7777777777777778,\"#fb9f3a\"],[0.8888888888888888,\"#fdca26\"],[1.0,\"#f0f921\"]],\"type\":\"histogram2d\"}],\"histogram\":[{\"marker\":{\"pattern\":{\"fillmode\":\"overlay\",\"size\":10,\"solidity\":0.2}},\"type\":\"histogram\"}],\"mesh3d\":[{\"colorbar\":{\"outlinewidth\":0,\"ticks\":\"\"},\"type\":\"mesh3d\"}],\"parcoords\":[{\"line\":{\"colorbar\":{\"outlinewidth\":0,\"ticks\":\"\"}},\"type\":\"parcoords\"}],\"pie\":[{\"automargin\":true,\"type\":\"pie\"}],\"scatter3d\":[{\"line\":{\"colorbar\":{\"outlinewidth\":0,\"ticks\":\"\"}},\"marker\":{\"colorbar\":{\"outlinewidth\":0,\"ticks\":\"\"}},\"type\":\"scatter3d\"}],\"scattercarpet\":[{\"marker\":{\"colorbar\":{\"outlinewidth\":0,\"ticks\":\"\"}},\"type\":\"scattercarpet\"}],\"scattergeo\":[{\"marker\":{\"colorbar\":{\"outlinewidth\":0,\"ticks\":\"\"}},\"type\":\"scattergeo\"}],\"scattergl\":[{\"marker\":{\"colorbar\":{\"outlinewidth\":0,\"ticks\":\"\"}},\"type\":\"scattergl\"}],\"scattermapbox\":[{\"marker\":{\"colorbar\":{\"outlinewidth\":0,\"ticks\":\"\"}},\"type\":\"scattermapbox\"}],\"scatterpolargl\":[{\"marker\":{\"colorbar\":{\"outlinewidth\":0,\"ticks\":\"\"}},\"type\":\"scatterpolargl\"}],\"scatterpolar\":[{\"marker\":{\"colorbar\":{\"outlinewidth\":0,\"ticks\":\"\"}},\"type\":\"scatterpolar\"}],\"scatter\":[{\"fillpattern\":{\"fillmode\":\"overlay\",\"size\":10,\"solidity\":0.2},\"type\":\"scatter\"}],\"scatterternary\":[{\"marker\":{\"colorbar\":{\"outlinewidth\":0,\"ticks\":\"\"}},\"type\":\"scatterternary\"}],\"surface\":[{\"colorbar\":{\"outlinewidth\":0,\"ticks\":\"\"},\"colorscale\":[[0.0,\"#0d0887\"],[0.1111111111111111,\"#46039f\"],[0.2222222222222222,\"#7201a8\"],[0.3333333333333333,\"#9c179e\"],[0.4444444444444444,\"#bd3786\"],[0.5555555555555556,\"#d8576b\"],[0.6666666666666666,\"#ed7953\"],[0.7777777777777778,\"#fb9f3a\"],[0.8888888888888888,\"#fdca26\"],[1.0,\"#f0f921\"]],\"type\":\"surface\"}],\"table\":[{\"cells\":{\"fill\":{\"color\":\"#EBF0F8\"},\"line\":{\"color\":\"white\"}},\"header\":{\"fill\":{\"color\":\"#C8D4E3\"},\"line\":{\"color\":\"white\"}},\"type\":\"table\"}]},\"layout\":{\"annotationdefaults\":{\"arrowcolor\":\"#2a3f5f\",\"arrowhead\":0,\"arrowwidth\":1},\"autotypenumbers\":\"strict\",\"coloraxis\":{\"colorbar\":{\"outlinewidth\":0,\"ticks\":\"\"}},\"colorscale\":{\"diverging\":[[0,\"#8e0152\"],[0.1,\"#c51b7d\"],[0.2,\"#de77ae\"],[0.3,\"#f1b6da\"],[0.4,\"#fde0ef\"],[0.5,\"#f7f7f7\"],[0.6,\"#e6f5d0\"],[0.7,\"#b8e186\"],[0.8,\"#7fbc41\"],[0.9,\"#4d9221\"],[1,\"#276419\"]],\"sequential\":[[0.0,\"#0d0887\"],[0.1111111111111111,\"#46039f\"],[0.2222222222222222,\"#7201a8\"],[0.3333333333333333,\"#9c179e\"],[0.4444444444444444,\"#bd3786\"],[0.5555555555555556,\"#d8576b\"],[0.6666666666666666,\"#ed7953\"],[0.7777777777777778,\"#fb9f3a\"],[0.8888888888888888,\"#fdca26\"],[1.0,\"#f0f921\"]],\"sequentialminus\":[[0.0,\"#0d0887\"],[0.1111111111111111,\"#46039f\"],[0.2222222222222222,\"#7201a8\"],[0.3333333333333333,\"#9c179e\"],[0.4444444444444444,\"#bd3786\"],[0.5555555555555556,\"#d8576b\"],[0.6666666666666666,\"#ed7953\"],[0.7777777777777778,\"#fb9f3a\"],[0.8888888888888888,\"#fdca26\"],[1.0,\"#f0f921\"]]},\"colorway\":[\"#636efa\",\"#EF553B\",\"#00cc96\",\"#ab63fa\",\"#FFA15A\",\"#19d3f3\",\"#FF6692\",\"#B6E880\",\"#FF97FF\",\"#FECB52\"],\"font\":{\"color\":\"#2a3f5f\"},\"geo\":{\"bgcolor\":\"white\",\"lakecolor\":\"white\",\"landcolor\":\"white\",\"showlakes\":true,\"showland\":true,\"subunitcolor\":\"#C8D4E3\"},\"hoverlabel\":{\"align\":\"left\"},\"hovermode\":\"closest\",\"mapbox\":{\"style\":\"light\"},\"paper_bgcolor\":\"white\",\"plot_bgcolor\":\"white\",\"polar\":{\"angularaxis\":{\"gridcolor\":\"#EBF0F8\",\"linecolor\":\"#EBF0F8\",\"ticks\":\"\"},\"bgcolor\":\"white\",\"radialaxis\":{\"gridcolor\":\"#EBF0F8\",\"linecolor\":\"#EBF0F8\",\"ticks\":\"\"}},\"scene\":{\"xaxis\":{\"backgroundcolor\":\"white\",\"gridcolor\":\"#DFE8F3\",\"gridwidth\":2,\"linecolor\":\"#EBF0F8\",\"showbackground\":true,\"ticks\":\"\",\"zerolinecolor\":\"#EBF0F8\"},\"yaxis\":{\"backgroundcolor\":\"white\",\"gridcolor\":\"#DFE8F3\",\"gridwidth\":2,\"linecolor\":\"#EBF0F8\",\"showbackground\":true,\"ticks\":\"\",\"zerolinecolor\":\"#EBF0F8\"},\"zaxis\":{\"backgroundcolor\":\"white\",\"gridcolor\":\"#DFE8F3\",\"gridwidth\":2,\"linecolor\":\"#EBF0F8\",\"showbackground\":true,\"ticks\":\"\",\"zerolinecolor\":\"#EBF0F8\"}},\"shapedefaults\":{\"line\":{\"color\":\"#2a3f5f\"}},\"ternary\":{\"aaxis\":{\"gridcolor\":\"#DFE8F3\",\"linecolor\":\"#A2B1C6\",\"ticks\":\"\"},\"baxis\":{\"gridcolor\":\"#DFE8F3\",\"linecolor\":\"#A2B1C6\",\"ticks\":\"\"},\"bgcolor\":\"white\",\"caxis\":{\"gridcolor\":\"#DFE8F3\",\"linecolor\":\"#A2B1C6\",\"ticks\":\"\"}},\"title\":{\"x\":0.05},\"xaxis\":{\"automargin\":true,\"gridcolor\":\"#EBF0F8\",\"linecolor\":\"#EBF0F8\",\"ticks\":\"\",\"title\":{\"standoff\":15},\"zerolinecolor\":\"#EBF0F8\",\"zerolinewidth\":2},\"yaxis\":{\"automargin\":true,\"gridcolor\":\"#EBF0F8\",\"linecolor\":\"#EBF0F8\",\"ticks\":\"\",\"title\":{\"standoff\":15},\"zerolinecolor\":\"#EBF0F8\",\"zerolinewidth\":2}}},\"xaxis\":{\"anchor\":\"y\",\"domain\":[0.0,1.0],\"title\":{\"text\":\"x\"}},\"yaxis\":{\"anchor\":\"x\",\"domain\":[0.0,1.0],\"title\":{\"text\":\"<b>$USD</b>\"}},\"legend\":{\"title\":{\"text\":\"Market Segment\"},\"tracegroupgap\":0},\"title\":{\"text\":\"<b>Weekly Sales</b>\"}},                        {\"responsive\": true}                    ).then(function(){\n",
       "                            \n",
       "var gd = document.getElementById('4060ce03-efd1-48a3-a33e-a3751041899a');\n",
       "var x = new MutationObserver(function (mutations, observer) {{\n",
       "        var display = window.getComputedStyle(gd).display;\n",
       "        if (!display || display === 'none') {{\n",
       "            console.log([gd, 'removed!']);\n",
       "            Plotly.purge(gd);\n",
       "            observer.disconnect();\n",
       "        }}\n",
       "}});\n",
       "\n",
       "// Listen for the removal of the full notebook cells\n",
       "var notebookContainer = gd.closest('#notebook-container');\n",
       "if (notebookContainer) {{\n",
       "    x.observe(notebookContainer, {childList: true});\n",
       "}}\n",
       "\n",
       "// Listen for the clearing of the current output cell\n",
       "var outputEl = gd.closest('.output');\n",
       "if (outputEl) {{\n",
       "    x.observe(outputEl, {childList: true});\n",
       "}}\n",
       "\n",
       "                        })                };                });            </script>        </div>"
      ]
     },
     "metadata": {},
     "output_type": "display_data"
    }
   ],
   "source": [
    "# sales_per_day = df_selection.groupby(pd.Grouper(freq='W', key='Invoice Date'))[['Market Segment','Dollars']].sum()\n",
    "sales_per_day = df_selection.groupby(['Market Segment',year,week],as_index=False)['Dollars'].sum()\n",
    "fig_sales_per_day = px.scatter(\n",
    "    sales_per_day.reset_index(drop=True),\n",
    "    x=sales_per_day.index,\n",
    "    y='Dollars',\n",
    "    title='<b>Weekly Sales</b>',\n",
    "    template = 'plotly_white',\n",
    "    labels={'Invoice Date':'',\n",
    "            'Dollars':'<b>$USD</b>'},\n",
    "    trendline=\"rolling\", trendline_options=dict(function=\"mean\", window=6), trendline_scope=\"overall\",\n",
    "    color = 'Market Segment'\n",
    "\n",
    ")\n",
    "fig_sales_per_day.show()"
   ]
  },
  {
   "cell_type": "code",
   "execution_count": null,
   "id": "cd9cd7ad",
   "metadata": {},
   "outputs": [],
   "source": []
  },
  {
   "cell_type": "code",
   "execution_count": null,
   "id": "db521c07",
   "metadata": {},
   "outputs": [],
   "source": []
  },
  {
   "cell_type": "code",
   "execution_count": null,
   "id": "b39a96d8",
   "metadata": {},
   "outputs": [],
   "source": []
  },
  {
   "cell_type": "code",
   "execution_count": null,
   "id": "88411896",
   "metadata": {},
   "outputs": [],
   "source": []
  },
  {
   "cell_type": "code",
   "execution_count": 8,
   "id": "d08721d2",
   "metadata": {},
   "outputs": [],
   "source": [
    "df_selection = all_sales[(all_sales['Invoice Date'].dt.year.isin(year)) & (all_sales['Market Segment'].isin(segment))]"
   ]
  },
  {
   "cell_type": "code",
   "execution_count": 17,
   "id": "5bb10a15",
   "metadata": {},
   "outputs": [
    {
     "data": {
      "text/html": [
       "<div>\n",
       "<style scoped>\n",
       "    .dataframe tbody tr th:only-of-type {\n",
       "        vertical-align: middle;\n",
       "    }\n",
       "\n",
       "    .dataframe tbody tr th {\n",
       "        vertical-align: top;\n",
       "    }\n",
       "\n",
       "    .dataframe thead th {\n",
       "        text-align: right;\n",
       "    }\n",
       "</style>\n",
       "<table border=\"1\" class=\"dataframe\">\n",
       "  <thead>\n",
       "    <tr style=\"text-align: right;\">\n",
       "      <th></th>\n",
       "      <th>Invoice Date</th>\n",
       "      <th>Sale Origin</th>\n",
       "      <th>Market Segment</th>\n",
       "      <th>Parent Customer</th>\n",
       "      <th>Customer</th>\n",
       "      <th>Customer Order Number</th>\n",
       "      <th>Item Full Description</th>\n",
       "      <th>Dollars</th>\n",
       "    </tr>\n",
       "  </thead>\n",
       "  <tbody>\n",
       "    <tr>\n",
       "      <th>0</th>\n",
       "      <td>2022-01-03</td>\n",
       "      <td>Unleashed</td>\n",
       "      <td>Online</td>\n",
       "      <td>Shopify</td>\n",
       "      <td>Shopify USA Mello</td>\n",
       "      <td>SO-00071293</td>\n",
       "      <td>Mello Chocolate - Dark Pouch 102g / 3.6oz</td>\n",
       "      <td>0.00</td>\n",
       "    </tr>\n",
       "    <tr>\n",
       "      <th>1</th>\n",
       "      <td>2022-01-03</td>\n",
       "      <td>Unleashed</td>\n",
       "      <td>Online</td>\n",
       "      <td>Shopify</td>\n",
       "      <td>Shopify USA Mello</td>\n",
       "      <td>SO-00071305</td>\n",
       "      <td>Mello Chocolate - Dark Pouch 102g / 3.6oz</td>\n",
       "      <td>0.00</td>\n",
       "    </tr>\n",
       "    <tr>\n",
       "      <th>2</th>\n",
       "      <td>2022-01-03</td>\n",
       "      <td>Unleashed</td>\n",
       "      <td>Online</td>\n",
       "      <td>Shopify</td>\n",
       "      <td>Shopify USA Mello</td>\n",
       "      <td>SO-00071314</td>\n",
       "      <td>Mello Chocolate - Milk Pouch 102g / 3.6oz</td>\n",
       "      <td>0.00</td>\n",
       "    </tr>\n",
       "    <tr>\n",
       "      <th>3</th>\n",
       "      <td>2022-01-03</td>\n",
       "      <td>Unleashed</td>\n",
       "      <td>Online</td>\n",
       "      <td>Shopify</td>\n",
       "      <td>Shopify USA Mello</td>\n",
       "      <td>SO-00071356</td>\n",
       "      <td>Mello Chocolate - Milk Pouch 102g / 3.6oz</td>\n",
       "      <td>0.00</td>\n",
       "    </tr>\n",
       "    <tr>\n",
       "      <th>4</th>\n",
       "      <td>2022-01-03</td>\n",
       "      <td>Dot</td>\n",
       "      <td>Alternate Retail</td>\n",
       "      <td>Tropical</td>\n",
       "      <td>Tropical Texas</td>\n",
       "      <td>2322411</td>\n",
       "      <td>CAFFEINATED CHOCOLATE BITES SINGLES DARK</td>\n",
       "      <td>261.60</td>\n",
       "    </tr>\n",
       "    <tr>\n",
       "      <th>...</th>\n",
       "      <td>...</td>\n",
       "      <td>...</td>\n",
       "      <td>...</td>\n",
       "      <td>...</td>\n",
       "      <td>...</td>\n",
       "      <td>...</td>\n",
       "      <td>...</td>\n",
       "      <td>...</td>\n",
       "    </tr>\n",
       "    <tr>\n",
       "      <th>86980</th>\n",
       "      <td>2023-12-11</td>\n",
       "      <td>Unleashed</td>\n",
       "      <td>Online</td>\n",
       "      <td>Amazon</td>\n",
       "      <td>Amazon SC</td>\n",
       "      <td>SO-00131429</td>\n",
       "      <td>50ct Pouch - Dark Choc Bites</td>\n",
       "      <td>34.99</td>\n",
       "    </tr>\n",
       "    <tr>\n",
       "      <th>86981</th>\n",
       "      <td>2023-12-11</td>\n",
       "      <td>Unleashed</td>\n",
       "      <td>Online</td>\n",
       "      <td>Amazon</td>\n",
       "      <td>Amazon SC</td>\n",
       "      <td>SO-00131422</td>\n",
       "      <td>50ct Pouch - Dark Choc Bites</td>\n",
       "      <td>34.99</td>\n",
       "    </tr>\n",
       "    <tr>\n",
       "      <th>86982</th>\n",
       "      <td>2023-12-11</td>\n",
       "      <td>Unleashed</td>\n",
       "      <td>Online</td>\n",
       "      <td>Amazon</td>\n",
       "      <td>Amazon SC</td>\n",
       "      <td>SO-00131420</td>\n",
       "      <td>50ct Pouch - Dark Choc Bites</td>\n",
       "      <td>34.99</td>\n",
       "    </tr>\n",
       "    <tr>\n",
       "      <th>86983</th>\n",
       "      <td>2023-12-11</td>\n",
       "      <td>Unleashed</td>\n",
       "      <td>Online</td>\n",
       "      <td>Amazon</td>\n",
       "      <td>Amazon SC</td>\n",
       "      <td>SO-00131460</td>\n",
       "      <td>50ct Pouch - Dark Choc Bites</td>\n",
       "      <td>34.99</td>\n",
       "    </tr>\n",
       "    <tr>\n",
       "      <th>86984</th>\n",
       "      <td>2023-12-11</td>\n",
       "      <td>Unleashed</td>\n",
       "      <td>Online</td>\n",
       "      <td>World Pantry</td>\n",
       "      <td>World Pantry</td>\n",
       "      <td>SO-00131076</td>\n",
       "      <td>AWAKE NSA 2 Flav Variety Pk Pouches 14 x 50ct</td>\n",
       "      <td>1035.72</td>\n",
       "    </tr>\n",
       "  </tbody>\n",
       "</table>\n",
       "<p>86985 rows × 8 columns</p>\n",
       "</div>"
      ],
      "text/plain": [
       "      Invoice Date Sale Origin    Market Segment Parent Customer  \\\n",
       "0       2022-01-03   Unleashed            Online         Shopify   \n",
       "1       2022-01-03   Unleashed            Online         Shopify   \n",
       "2       2022-01-03   Unleashed            Online         Shopify   \n",
       "3       2022-01-03   Unleashed            Online         Shopify   \n",
       "4       2022-01-03         Dot  Alternate Retail        Tropical   \n",
       "...            ...         ...               ...             ...   \n",
       "86980   2023-12-11   Unleashed            Online          Amazon   \n",
       "86981   2023-12-11   Unleashed            Online          Amazon   \n",
       "86982   2023-12-11   Unleashed            Online          Amazon   \n",
       "86983   2023-12-11   Unleashed            Online          Amazon   \n",
       "86984   2023-12-11   Unleashed            Online    World Pantry   \n",
       "\n",
       "                Customer Customer Order Number  \\\n",
       "0      Shopify USA Mello           SO-00071293   \n",
       "1      Shopify USA Mello           SO-00071305   \n",
       "2      Shopify USA Mello           SO-00071314   \n",
       "3      Shopify USA Mello           SO-00071356   \n",
       "4         Tropical Texas               2322411   \n",
       "...                  ...                   ...   \n",
       "86980          Amazon SC           SO-00131429   \n",
       "86981          Amazon SC           SO-00131422   \n",
       "86982          Amazon SC           SO-00131420   \n",
       "86983          Amazon SC           SO-00131460   \n",
       "86984       World Pantry           SO-00131076   \n",
       "\n",
       "                               Item Full Description  Dollars  \n",
       "0          Mello Chocolate - Dark Pouch 102g / 3.6oz     0.00  \n",
       "1          Mello Chocolate - Dark Pouch 102g / 3.6oz     0.00  \n",
       "2          Mello Chocolate - Milk Pouch 102g / 3.6oz     0.00  \n",
       "3          Mello Chocolate - Milk Pouch 102g / 3.6oz     0.00  \n",
       "4           CAFFEINATED CHOCOLATE BITES SINGLES DARK   261.60  \n",
       "...                                              ...      ...  \n",
       "86980                   50ct Pouch - Dark Choc Bites    34.99  \n",
       "86981                   50ct Pouch - Dark Choc Bites    34.99  \n",
       "86982                   50ct Pouch - Dark Choc Bites    34.99  \n",
       "86983                   50ct Pouch - Dark Choc Bites    34.99  \n",
       "86984  AWAKE NSA 2 Flav Variety Pk Pouches 14 x 50ct  1035.72  \n",
       "\n",
       "[86985 rows x 8 columns]"
      ]
     },
     "execution_count": 17,
     "metadata": {},
     "output_type": "execute_result"
    }
   ],
   "source": [
    "df_selection[['Invoice Date', 'Sale Origin', 'Market Segment', 'Parent Customer', 'Customer', 'Customer Order Number','Item Full Description','Dollars']].round(2).sort_values(by='Invoice Date').reset_index(drop=True)"
   ]
  },
  {
   "cell_type": "code",
   "execution_count": 19,
   "id": "52f78381",
   "metadata": {},
   "outputs": [
    {
     "data": {
      "text/html": [
       "<div>\n",
       "<style scoped>\n",
       "    .dataframe tbody tr th:only-of-type {\n",
       "        vertical-align: middle;\n",
       "    }\n",
       "\n",
       "    .dataframe tbody tr th {\n",
       "        vertical-align: top;\n",
       "    }\n",
       "\n",
       "    .dataframe thead th {\n",
       "        text-align: right;\n",
       "    }\n",
       "</style>\n",
       "<table border=\"1\" class=\"dataframe\">\n",
       "  <thead>\n",
       "    <tr style=\"text-align: right;\">\n",
       "      <th></th>\n",
       "      <th>Dollars</th>\n",
       "      <th>Customer</th>\n",
       "      <th>Customer Order Number</th>\n",
       "      <th>Dollars Formatted</th>\n",
       "      <th>Invoice Date</th>\n",
       "      <th>Item Full Description</th>\n",
       "      <th>Market Segment</th>\n",
       "      <th>Parent Customer</th>\n",
       "      <th>Sale Origin</th>\n",
       "      <th>Sales by Parent</th>\n",
       "      <th>Suffix</th>\n",
       "      <th>Vistar Retail</th>\n",
       "    </tr>\n",
       "  </thead>\n",
       "  <tbody>\n",
       "    <tr>\n",
       "      <th>0</th>\n",
       "      <td>34.99</td>\n",
       "      <td>Amazon SC</td>\n",
       "      <td>SO-00099997</td>\n",
       "      <td>34.99</td>\n",
       "      <td>2023-05-17</td>\n",
       "      <td>50ct Pouch - Variety Pk Choc Bites</td>\n",
       "      <td>Online</td>\n",
       "      <td>Amazon</td>\n",
       "      <td>Unleashed</td>\n",
       "      <td>2473552.55</td>\n",
       "      <td>NaN</td>\n",
       "      <td>No</td>\n",
       "    </tr>\n",
       "    <tr>\n",
       "      <th>1</th>\n",
       "      <td>34.99</td>\n",
       "      <td>Amazon SC</td>\n",
       "      <td>SO-00099972</td>\n",
       "      <td>34.99</td>\n",
       "      <td>2023-05-17</td>\n",
       "      <td>50ct Pouch - Variety Pk Choc Bites</td>\n",
       "      <td>Online</td>\n",
       "      <td>Amazon</td>\n",
       "      <td>Unleashed</td>\n",
       "      <td>2473552.55</td>\n",
       "      <td>NaN</td>\n",
       "      <td>No</td>\n",
       "    </tr>\n",
       "    <tr>\n",
       "      <th>2</th>\n",
       "      <td>34.99</td>\n",
       "      <td>Amazon SC</td>\n",
       "      <td>SO-00100026</td>\n",
       "      <td>34.99</td>\n",
       "      <td>2023-05-17</td>\n",
       "      <td>50ct Pouch - Variety Pk Choc Bites</td>\n",
       "      <td>Online</td>\n",
       "      <td>Amazon</td>\n",
       "      <td>Unleashed</td>\n",
       "      <td>2473552.55</td>\n",
       "      <td>NaN</td>\n",
       "      <td>No</td>\n",
       "    </tr>\n",
       "    <tr>\n",
       "      <th>3</th>\n",
       "      <td>34.99</td>\n",
       "      <td>Amazon SC</td>\n",
       "      <td>SO-00100069</td>\n",
       "      <td>34.99</td>\n",
       "      <td>2023-05-17</td>\n",
       "      <td>50ct Pouch - Variety Pk Choc Bites</td>\n",
       "      <td>Online</td>\n",
       "      <td>Amazon</td>\n",
       "      <td>Unleashed</td>\n",
       "      <td>2473552.55</td>\n",
       "      <td>NaN</td>\n",
       "      <td>No</td>\n",
       "    </tr>\n",
       "    <tr>\n",
       "      <th>4</th>\n",
       "      <td>34.99</td>\n",
       "      <td>Amazon SC</td>\n",
       "      <td>SO-00100085</td>\n",
       "      <td>34.99</td>\n",
       "      <td>2023-05-17</td>\n",
       "      <td>50ct Pouch - Variety Pk Choc Bites</td>\n",
       "      <td>Online</td>\n",
       "      <td>Amazon</td>\n",
       "      <td>Unleashed</td>\n",
       "      <td>2473552.55</td>\n",
       "      <td>NaN</td>\n",
       "      <td>No</td>\n",
       "    </tr>\n",
       "    <tr>\n",
       "      <th>...</th>\n",
       "      <td>...</td>\n",
       "      <td>...</td>\n",
       "      <td>...</td>\n",
       "      <td>...</td>\n",
       "      <td>...</td>\n",
       "      <td>...</td>\n",
       "      <td>...</td>\n",
       "      <td>...</td>\n",
       "      <td>...</td>\n",
       "      <td>...</td>\n",
       "      <td>...</td>\n",
       "      <td>...</td>\n",
       "    </tr>\n",
       "    <tr>\n",
       "      <th>86980</th>\n",
       "      <td>2575.12</td>\n",
       "      <td>Vistar/ VSA Corporate</td>\n",
       "      <td>SO-00074694</td>\n",
       "      <td>2.58</td>\n",
       "      <td>2022-04-01</td>\n",
       "      <td>6 x 50ct Change Maker - AWAKE Chocolate Bites ...</td>\n",
       "      <td>Alternate Retail</td>\n",
       "      <td>Vistar Retail</td>\n",
       "      <td>Unleashed</td>\n",
       "      <td>1978810.10</td>\n",
       "      <td>K</td>\n",
       "      <td>Yes</td>\n",
       "    </tr>\n",
       "    <tr>\n",
       "      <th>86981</th>\n",
       "      <td>1383.46</td>\n",
       "      <td>Vistar/ VSA Corporate</td>\n",
       "      <td>SO-00079448</td>\n",
       "      <td>1.38</td>\n",
       "      <td>2022-07-18</td>\n",
       "      <td>6 x 50ct Change Maker - AWAKE Chocolate Bites ...</td>\n",
       "      <td>Alternate Retail</td>\n",
       "      <td>Vistar Retail</td>\n",
       "      <td>Unleashed</td>\n",
       "      <td>1978810.10</td>\n",
       "      <td>K</td>\n",
       "      <td>Yes</td>\n",
       "    </tr>\n",
       "    <tr>\n",
       "      <th>86982</th>\n",
       "      <td>122.62</td>\n",
       "      <td>Vistar/ VSA Corporate</td>\n",
       "      <td>SO-00074694</td>\n",
       "      <td>122.62</td>\n",
       "      <td>2022-04-01</td>\n",
       "      <td>6 x 50ct Change Maker - AWAKE Chocolate Bites ...</td>\n",
       "      <td>Alternate Retail</td>\n",
       "      <td>Vistar Retail</td>\n",
       "      <td>Unleashed</td>\n",
       "      <td>1978810.10</td>\n",
       "      <td>NaN</td>\n",
       "      <td>Yes</td>\n",
       "    </tr>\n",
       "    <tr>\n",
       "      <th>86983</th>\n",
       "      <td>1509.23</td>\n",
       "      <td>Vistar/ VSA Corporate</td>\n",
       "      <td>SO-00079448</td>\n",
       "      <td>1.51</td>\n",
       "      <td>2022-07-18</td>\n",
       "      <td>6 x 50ct Change Maker - AWAKE Chocolate Bites ...</td>\n",
       "      <td>Alternate Retail</td>\n",
       "      <td>Vistar Retail</td>\n",
       "      <td>Unleashed</td>\n",
       "      <td>1978810.10</td>\n",
       "      <td>K</td>\n",
       "      <td>Yes</td>\n",
       "    </tr>\n",
       "    <tr>\n",
       "      <th>86984</th>\n",
       "      <td>7050.00</td>\n",
       "      <td>Vistar/ VSA Corporate</td>\n",
       "      <td>SO-00087921</td>\n",
       "      <td>7.05</td>\n",
       "      <td>2022-10-14</td>\n",
       "      <td>Mint Bites 13.5g Change Maker (6 x 50)</td>\n",
       "      <td>Alternate Retail</td>\n",
       "      <td>Vistar Retail</td>\n",
       "      <td>Unleashed</td>\n",
       "      <td>1978810.10</td>\n",
       "      <td>K</td>\n",
       "      <td>Yes</td>\n",
       "    </tr>\n",
       "  </tbody>\n",
       "</table>\n",
       "<p>86985 rows × 12 columns</p>\n",
       "</div>"
      ],
      "text/plain": [
       "       Dollars               Customer Customer Order Number  \\\n",
       "0        34.99              Amazon SC           SO-00099997   \n",
       "1        34.99              Amazon SC           SO-00099972   \n",
       "2        34.99              Amazon SC           SO-00100026   \n",
       "3        34.99              Amazon SC           SO-00100069   \n",
       "4        34.99              Amazon SC           SO-00100085   \n",
       "...        ...                    ...                   ...   \n",
       "86980  2575.12  Vistar/ VSA Corporate           SO-00074694   \n",
       "86981  1383.46  Vistar/ VSA Corporate           SO-00079448   \n",
       "86982   122.62  Vistar/ VSA Corporate           SO-00074694   \n",
       "86983  1509.23  Vistar/ VSA Corporate           SO-00079448   \n",
       "86984  7050.00  Vistar/ VSA Corporate           SO-00087921   \n",
       "\n",
       "       Dollars Formatted Invoice Date  \\\n",
       "0                  34.99   2023-05-17   \n",
       "1                  34.99   2023-05-17   \n",
       "2                  34.99   2023-05-17   \n",
       "3                  34.99   2023-05-17   \n",
       "4                  34.99   2023-05-17   \n",
       "...                  ...          ...   \n",
       "86980               2.58   2022-04-01   \n",
       "86981               1.38   2022-07-18   \n",
       "86982             122.62   2022-04-01   \n",
       "86983               1.51   2022-07-18   \n",
       "86984               7.05   2022-10-14   \n",
       "\n",
       "                                   Item Full Description    Market Segment  \\\n",
       "0                     50ct Pouch - Variety Pk Choc Bites            Online   \n",
       "1                     50ct Pouch - Variety Pk Choc Bites            Online   \n",
       "2                     50ct Pouch - Variety Pk Choc Bites            Online   \n",
       "3                     50ct Pouch - Variety Pk Choc Bites            Online   \n",
       "4                     50ct Pouch - Variety Pk Choc Bites            Online   \n",
       "...                                                  ...               ...   \n",
       "86980  6 x 50ct Change Maker - AWAKE Chocolate Bites ...  Alternate Retail   \n",
       "86981  6 x 50ct Change Maker - AWAKE Chocolate Bites ...  Alternate Retail   \n",
       "86982  6 x 50ct Change Maker - AWAKE Chocolate Bites ...  Alternate Retail   \n",
       "86983  6 x 50ct Change Maker - AWAKE Chocolate Bites ...  Alternate Retail   \n",
       "86984             Mint Bites 13.5g Change Maker (6 x 50)  Alternate Retail   \n",
       "\n",
       "      Parent Customer Sale Origin  Sales by Parent Suffix Vistar Retail  \n",
       "0              Amazon   Unleashed       2473552.55    NaN            No  \n",
       "1              Amazon   Unleashed       2473552.55    NaN            No  \n",
       "2              Amazon   Unleashed       2473552.55    NaN            No  \n",
       "3              Amazon   Unleashed       2473552.55    NaN            No  \n",
       "4              Amazon   Unleashed       2473552.55    NaN            No  \n",
       "...               ...         ...              ...    ...           ...  \n",
       "86980   Vistar Retail   Unleashed       1978810.10      K           Yes  \n",
       "86981   Vistar Retail   Unleashed       1978810.10      K           Yes  \n",
       "86982   Vistar Retail   Unleashed       1978810.10    NaN           Yes  \n",
       "86983   Vistar Retail   Unleashed       1978810.10      K           Yes  \n",
       "86984   Vistar Retail   Unleashed       1978810.10      K           Yes  \n",
       "\n",
       "[86985 rows x 12 columns]"
      ]
     },
     "execution_count": 19,
     "metadata": {},
     "output_type": "execute_result"
    }
   ],
   "source": [
    "df_selection['Invoice Date'] = pd.to_datetime(df_selection['Invoice Date'])\n",
    "df_selection['Invoice Date'] = df_selection['Invoice Date'].dt.normalize()\n",
    "\n",
    "df_selection['Invoice Date'] = df_selection['Invoice Date'].dt.floor('D')\n",
    "df_selection.round(2)"
   ]
  },
  {
   "cell_type": "code",
   "execution_count": 45,
   "id": "b719d4da",
   "metadata": {},
   "outputs": [
    {
     "data": {
      "text/plain": [
       "0.21"
      ]
     },
     "execution_count": 45,
     "metadata": {},
     "output_type": "execute_result"
    }
   ],
   "source": [
    "sales_23 = df_selection[df_selection['Invoice Date'].dt.year == 2023].Dollars.sum()\n",
    "sales_22 = df_selection[df_selection['Invoice Date'].dt.year == 2022].Dollars.sum()\n",
    "\n",
    "yoy_diff = round(int(sales_23-sales_22) / sales_22,2)\n",
    "yoy_diff.round(2)"
   ]
  },
  {
   "cell_type": "code",
   "execution_count": 11,
   "id": "de2781bf",
   "metadata": {},
   "outputs": [
    {
     "data": {
      "text/plain": [
       "Index(['Dollars', 'Customer', 'Customer Order Number', 'Dollars Formatted',\n",
       "       'Invoice Date', 'Item Full Description', 'Market Segment',\n",
       "       'Parent Customer', 'Sale Origin', 'Sales by Parent', 'Suffix',\n",
       "       'Vistar Retail'],\n",
       "      dtype='object')"
      ]
     },
     "execution_count": 11,
     "metadata": {},
     "output_type": "execute_result"
    }
   ],
   "source": [
    "df_selection.columns"
   ]
  },
  {
   "cell_type": "code",
   "execution_count": 18,
   "id": "d526fa60",
   "metadata": {},
   "outputs": [
    {
     "data": {
      "text/html": [
       "<div>\n",
       "<style scoped>\n",
       "    .dataframe tbody tr th:only-of-type {\n",
       "        vertical-align: middle;\n",
       "    }\n",
       "\n",
       "    .dataframe tbody tr th {\n",
       "        vertical-align: top;\n",
       "    }\n",
       "\n",
       "    .dataframe thead th {\n",
       "        text-align: right;\n",
       "    }\n",
       "</style>\n",
       "<table border=\"1\" class=\"dataframe\">\n",
       "  <thead>\n",
       "    <tr style=\"text-align: right;\">\n",
       "      <th></th>\n",
       "      <th>Table</th>\n",
       "      <th>Invoice Date</th>\n",
       "      <th>Parent Customer</th>\n",
       "      <th>Customer Name</th>\n",
       "      <th>MFG #</th>\n",
       "      <th>Item Full Description</th>\n",
       "      <th>Qty Ordered</th>\n",
       "      <th>Qty Received</th>\n",
       "      <th>Dollars</th>\n",
       "      <th>Segment Description 2</th>\n",
       "    </tr>\n",
       "  </thead>\n",
       "  <tbody>\n",
       "    <tr>\n",
       "      <th>0</th>\n",
       "      <td>Dot</td>\n",
       "      <td>2022-01-03</td>\n",
       "      <td>J. POLEP</td>\n",
       "      <td>J. POLEP</td>\n",
       "      <td>00453U</td>\n",
       "      <td>CAFFEINATED CHOCOLATE BITES SINGLES CARAMEL</td>\n",
       "      <td>8</td>\n",
       "      <td>8.0</td>\n",
       "      <td>1046.40</td>\n",
       "      <td>CONVENIENCE STORE</td>\n",
       "    </tr>\n",
       "    <tr>\n",
       "      <th>1</th>\n",
       "      <td>Dot</td>\n",
       "      <td>2022-01-03</td>\n",
       "      <td>J. POLEP</td>\n",
       "      <td>J. POLEP</td>\n",
       "      <td>00460U</td>\n",
       "      <td>CAFFEINATED CHOCOLATE BITES SINGLES PB CHOC</td>\n",
       "      <td>8</td>\n",
       "      <td>8.0</td>\n",
       "      <td>1046.40</td>\n",
       "      <td>CONVENIENCE STORE</td>\n",
       "    </tr>\n",
       "    <tr>\n",
       "      <th>2</th>\n",
       "      <td>Dot</td>\n",
       "      <td>2022-01-03</td>\n",
       "      <td>R.C. TAYLOR</td>\n",
       "      <td>R.C. TAYLOR</td>\n",
       "      <td>00105U</td>\n",
       "      <td>AWAKE CHOCOLATE AWAKE CAFF MILK CHOC- 6X12PK M...</td>\n",
       "      <td>1</td>\n",
       "      <td>1.0</td>\n",
       "      <td>78.48</td>\n",
       "      <td>CONVENIENCE STORE</td>\n",
       "    </tr>\n",
       "    <tr>\n",
       "      <th>3</th>\n",
       "      <td>Dot</td>\n",
       "      <td>2022-01-03</td>\n",
       "      <td>Tropical</td>\n",
       "      <td>TROPICAL FOODS--TX</td>\n",
       "      <td>00150U</td>\n",
       "      <td>CAFFEINATED CHOCOLATE BITES SINGLES</td>\n",
       "      <td>2</td>\n",
       "      <td>2.0</td>\n",
       "      <td>261.60</td>\n",
       "      <td>ALTERNATE RETAIL</td>\n",
       "    </tr>\n",
       "    <tr>\n",
       "      <th>4</th>\n",
       "      <td>Dot</td>\n",
       "      <td>2022-01-03</td>\n",
       "      <td>Tropical</td>\n",
       "      <td>TROPICAL FOODS--TX</td>\n",
       "      <td>00453U</td>\n",
       "      <td>CAFFEINATED CHOCOLATE BITES SINGLES CARAMEL</td>\n",
       "      <td>2</td>\n",
       "      <td>2.0</td>\n",
       "      <td>261.60</td>\n",
       "      <td>ALTERNATE RETAIL</td>\n",
       "    </tr>\n",
       "    <tr>\n",
       "      <th>...</th>\n",
       "      <td>...</td>\n",
       "      <td>...</td>\n",
       "      <td>...</td>\n",
       "      <td>...</td>\n",
       "      <td>...</td>\n",
       "      <td>...</td>\n",
       "      <td>...</td>\n",
       "      <td>...</td>\n",
       "      <td>...</td>\n",
       "      <td>...</td>\n",
       "    </tr>\n",
       "    <tr>\n",
       "      <th>16653</th>\n",
       "      <td>Dot</td>\n",
       "      <td>2023-12-08</td>\n",
       "      <td>Vistar</td>\n",
       "      <td>VISTAR-NEW ENGLAND</td>\n",
       "      <td>00254U</td>\n",
       "      <td>AWAKE CHOCOLATE AWAKE CAFF DARK CHOC- 6X12PK M...</td>\n",
       "      <td>5</td>\n",
       "      <td>5.0</td>\n",
       "      <td>427.70</td>\n",
       "      <td>VENDING</td>\n",
       "    </tr>\n",
       "    <tr>\n",
       "      <th>16654</th>\n",
       "      <td>Dot</td>\n",
       "      <td>2023-12-08</td>\n",
       "      <td>Vistar</td>\n",
       "      <td>VISTAR-NEW ENGLAND</td>\n",
       "      <td>00493U</td>\n",
       "      <td>AWAKE NO SUGAR ADDED 6 X 50CT BITES CHANGEMAKE...</td>\n",
       "      <td>3</td>\n",
       "      <td>3.0</td>\n",
       "      <td>423.00</td>\n",
       "      <td>VENDING</td>\n",
       "    </tr>\n",
       "    <tr>\n",
       "      <th>16655</th>\n",
       "      <td>Dot</td>\n",
       "      <td>2023-12-08</td>\n",
       "      <td>Vistar</td>\n",
       "      <td>VISTAR-NEW ENGLAND</td>\n",
       "      <td>00494U</td>\n",
       "      <td>AWAKE NO SUGAR ADDED 6 X 50CT BITES CHANGEMAKE...</td>\n",
       "      <td>2</td>\n",
       "      <td>2.0</td>\n",
       "      <td>282.00</td>\n",
       "      <td>VENDING</td>\n",
       "    </tr>\n",
       "    <tr>\n",
       "      <th>16656</th>\n",
       "      <td>Dot</td>\n",
       "      <td>2023-12-08</td>\n",
       "      <td>Vistar</td>\n",
       "      <td>VISTAR-PHOENIX</td>\n",
       "      <td>00254U</td>\n",
       "      <td>AWAKE CHOCOLATE AWAKE CAFF DARK CHOC- 6X12PK M...</td>\n",
       "      <td>2</td>\n",
       "      <td>2.0</td>\n",
       "      <td>171.08</td>\n",
       "      <td>VENDING</td>\n",
       "    </tr>\n",
       "    <tr>\n",
       "      <th>16657</th>\n",
       "      <td>Dot</td>\n",
       "      <td>2023-12-08</td>\n",
       "      <td>Vistar</td>\n",
       "      <td>VISTAR-PHOENIX</td>\n",
       "      <td>00453U</td>\n",
       "      <td>CAFFEINATED CHOCOLATE BITES SINGLES CARAMEL</td>\n",
       "      <td>13</td>\n",
       "      <td>13.0</td>\n",
       "      <td>1833.00</td>\n",
       "      <td>VENDING</td>\n",
       "    </tr>\n",
       "  </tbody>\n",
       "</table>\n",
       "<p>16658 rows × 10 columns</p>\n",
       "</div>"
      ],
      "text/plain": [
       "      Table Invoice Date Parent Customer       Customer Name   MFG #  \\\n",
       "0       Dot   2022-01-03        J. POLEP            J. POLEP  00453U   \n",
       "1       Dot   2022-01-03        J. POLEP            J. POLEP  00460U   \n",
       "2       Dot   2022-01-03     R.C. TAYLOR         R.C. TAYLOR  00105U   \n",
       "3       Dot   2022-01-03        Tropical  TROPICAL FOODS--TX  00150U   \n",
       "4       Dot   2022-01-03        Tropical  TROPICAL FOODS--TX  00453U   \n",
       "...     ...          ...             ...                 ...     ...   \n",
       "16653   Dot   2023-12-08          Vistar  VISTAR-NEW ENGLAND  00254U   \n",
       "16654   Dot   2023-12-08          Vistar  VISTAR-NEW ENGLAND  00493U   \n",
       "16655   Dot   2023-12-08          Vistar  VISTAR-NEW ENGLAND  00494U   \n",
       "16656   Dot   2023-12-08          Vistar      VISTAR-PHOENIX  00254U   \n",
       "16657   Dot   2023-12-08          Vistar      VISTAR-PHOENIX  00453U   \n",
       "\n",
       "                                   Item Full Description  Qty Ordered  \\\n",
       "0            CAFFEINATED CHOCOLATE BITES SINGLES CARAMEL            8   \n",
       "1            CAFFEINATED CHOCOLATE BITES SINGLES PB CHOC            8   \n",
       "2      AWAKE CHOCOLATE AWAKE CAFF MILK CHOC- 6X12PK M...            1   \n",
       "3                    CAFFEINATED CHOCOLATE BITES SINGLES            2   \n",
       "4            CAFFEINATED CHOCOLATE BITES SINGLES CARAMEL            2   \n",
       "...                                                  ...          ...   \n",
       "16653  AWAKE CHOCOLATE AWAKE CAFF DARK CHOC- 6X12PK M...            5   \n",
       "16654  AWAKE NO SUGAR ADDED 6 X 50CT BITES CHANGEMAKE...            3   \n",
       "16655  AWAKE NO SUGAR ADDED 6 X 50CT BITES CHANGEMAKE...            2   \n",
       "16656  AWAKE CHOCOLATE AWAKE CAFF DARK CHOC- 6X12PK M...            2   \n",
       "16657        CAFFEINATED CHOCOLATE BITES SINGLES CARAMEL           13   \n",
       "\n",
       "       Qty Received  Dollars Segment Description 2  \n",
       "0               8.0  1046.40     CONVENIENCE STORE  \n",
       "1               8.0  1046.40     CONVENIENCE STORE  \n",
       "2               1.0    78.48     CONVENIENCE STORE  \n",
       "3               2.0   261.60      ALTERNATE RETAIL  \n",
       "4               2.0   261.60      ALTERNATE RETAIL  \n",
       "...             ...      ...                   ...  \n",
       "16653           5.0   427.70               VENDING  \n",
       "16654           3.0   423.00               VENDING  \n",
       "16655           2.0   282.00               VENDING  \n",
       "16656           2.0   171.08               VENDING  \n",
       "16657          13.0  1833.00               VENDING  \n",
       "\n",
       "[16658 rows x 10 columns]"
      ]
     },
     "execution_count": 18,
     "metadata": {},
     "output_type": "execute_result"
    }
   ],
   "source": [
    "df_selection = df[\n",
    "    (df['Invoice Date'].dt.year.isin(year)) & (df['Segment Description 2'].isin(segment))\n",
    "    ][['Table',\n",
    "       'Invoice Date',\n",
    "       'Parent Customer',\n",
    "       'Customer Name',\n",
    "       'MFG #',\n",
    "       'Item Full Description',\n",
    "       'Qty Ordered',\n",
    "       'Qty Received',\n",
    "       'Dollars',\n",
    "       'Segment Description 2']]\n",
    "\n",
    "df_selection"
   ]
  },
  {
   "cell_type": "code",
   "execution_count": 11,
   "id": "1b6cfce8",
   "metadata": {},
   "outputs": [
    {
     "data": {
      "application/vnd.plotly.v1+json": {
       "config": {
        "plotlyServerURL": "https://plot.ly"
       },
       "data": [
        {
         "alignmentgroup": "True",
         "hovertemplate": "Market Segment=%{y}<br>Sales in $USD=%{x}<extra></extra>",
         "legendgroup": "VENDING",
         "marker": {
          "color": "#636efa",
          "pattern": {
           "shape": ""
          }
         },
         "name": "VENDING",
         "offsetgroup": "VENDING",
         "orientation": "h",
         "showlegend": true,
         "textposition": "auto",
         "type": "bar",
         "x": [
          4459422.1258
         ],
         "xaxis": "x",
         "y": [
          "VENDING"
         ],
         "yaxis": "y"
        },
        {
         "alignmentgroup": "True",
         "hovertemplate": "Market Segment=%{y}<br>Sales in $USD=%{x}<extra></extra>",
         "legendgroup": "ALTERNATE RETAIL",
         "marker": {
          "color": "#EF553B",
          "pattern": {
           "shape": ""
          }
         },
         "name": "ALTERNATE RETAIL",
         "offsetgroup": "ALTERNATE RETAIL",
         "orientation": "h",
         "showlegend": true,
         "textposition": "auto",
         "type": "bar",
         "x": [
          3507554.1
         ],
         "xaxis": "x",
         "y": [
          "ALTERNATE RETAIL"
         ],
         "yaxis": "y"
        },
        {
         "alignmentgroup": "True",
         "hovertemplate": "Market Segment=%{y}<br>Sales in $USD=%{x}<extra></extra>",
         "legendgroup": "CONVENIENCE STORE",
         "marker": {
          "color": "#00cc96",
          "pattern": {
           "shape": ""
          }
         },
         "name": "CONVENIENCE STORE",
         "offsetgroup": "CONVENIENCE STORE",
         "orientation": "h",
         "showlegend": true,
         "textposition": "auto",
         "type": "bar",
         "x": [
          1384872.5137983193
         ],
         "xaxis": "x",
         "y": [
          "CONVENIENCE STORE"
         ],
         "yaxis": "y"
        },
        {
         "alignmentgroup": "True",
         "hovertemplate": "Market Segment=%{y}<br>Sales in $USD=%{x}<extra></extra>",
         "legendgroup": "BROADLINE DISTRIBUTOR",
         "marker": {
          "color": "#ab63fa",
          "pattern": {
           "shape": ""
          }
         },
         "name": "BROADLINE DISTRIBUTOR",
         "offsetgroup": "BROADLINE DISTRIBUTOR",
         "orientation": "h",
         "showlegend": true,
         "textposition": "auto",
         "type": "bar",
         "x": [
          167641.9
         ],
         "xaxis": "x",
         "y": [
          "BROADLINE DISTRIBUTOR"
         ],
         "yaxis": "y"
        },
        {
         "alignmentgroup": "True",
         "hovertemplate": "Market Segment=%{y}<br>Sales in $USD=%{x}<extra></extra>",
         "legendgroup": "ONLINE DISTRIBUTORS",
         "marker": {
          "color": "#FFA15A",
          "pattern": {
           "shape": ""
          }
         },
         "name": "ONLINE DISTRIBUTORS",
         "offsetgroup": "ONLINE DISTRIBUTORS",
         "orientation": "h",
         "showlegend": true,
         "textposition": "auto",
         "type": "bar",
         "x": [
          46069.4455
         ],
         "xaxis": "x",
         "y": [
          "ONLINE DISTRIBUTORS"
         ],
         "yaxis": "y"
        },
        {
         "alignmentgroup": "True",
         "hovertemplate": "Market Segment=%{y}<br>Sales in $USD=%{x}<extra></extra>",
         "legendgroup": "GROCERY",
         "marker": {
          "color": "#19d3f3",
          "pattern": {
           "shape": ""
          }
         },
         "name": "GROCERY",
         "offsetgroup": "GROCERY",
         "orientation": "h",
         "showlegend": true,
         "textposition": "auto",
         "type": "bar",
         "x": [
          16129.460000000001
         ],
         "xaxis": "x",
         "y": [
          "GROCERY"
         ],
         "yaxis": "y"
        },
        {
         "alignmentgroup": "True",
         "hovertemplate": "Market Segment=%{y}<br>Sales in $USD=%{x}<extra></extra>",
         "legendgroup": "FOOD PROCESSORS",
         "marker": {
          "color": "#FF6692",
          "pattern": {
           "shape": ""
          }
         },
         "name": "FOOD PROCESSORS",
         "offsetgroup": "FOOD PROCESSORS",
         "orientation": "h",
         "showlegend": true,
         "textposition": "auto",
         "type": "bar",
         "x": [
          14226.68
         ],
         "xaxis": "x",
         "y": [
          "FOOD PROCESSORS"
         ],
         "yaxis": "y"
        },
        {
         "alignmentgroup": "True",
         "hovertemplate": "Market Segment=%{y}<br>Sales in $USD=%{x}<extra></extra>",
         "legendgroup": "JAN/SAN/PAPER",
         "marker": {
          "color": "#B6E880",
          "pattern": {
           "shape": ""
          }
         },
         "name": "JAN/SAN/PAPER",
         "offsetgroup": "JAN/SAN/PAPER",
         "orientation": "h",
         "showlegend": true,
         "textposition": "auto",
         "type": "bar",
         "x": [
          884.98
         ],
         "xaxis": "x",
         "y": [
          "JAN/SAN/PAPER"
         ],
         "yaxis": "y"
        },
        {
         "alignmentgroup": "True",
         "hovertemplate": "Market Segment=%{y}<br>Sales in $USD=%{x}<extra></extra>",
         "legendgroup": "E&S DEALERS",
         "marker": {
          "color": "#FF97FF",
          "pattern": {
           "shape": ""
          }
         },
         "name": "E&S DEALERS",
         "offsetgroup": "E&S DEALERS",
         "orientation": "h",
         "showlegend": true,
         "textposition": "auto",
         "type": "bar",
         "x": [
          85.54
         ],
         "xaxis": "x",
         "y": [
          "E&S DEALERS"
         ],
         "yaxis": "y"
        }
       ],
       "layout": {
        "barmode": "relative",
        "legend": {
         "title": {
          "text": "Market Segment"
         },
         "tracegroupgap": 0
        },
        "showlegend": false,
        "template": {
         "data": {
          "bar": [
           {
            "error_x": {
             "color": "#2a3f5f"
            },
            "error_y": {
             "color": "#2a3f5f"
            },
            "marker": {
             "line": {
              "color": "white",
              "width": 0.5
             },
             "pattern": {
              "fillmode": "overlay",
              "size": 10,
              "solidity": 0.2
             }
            },
            "type": "bar"
           }
          ],
          "barpolar": [
           {
            "marker": {
             "line": {
              "color": "white",
              "width": 0.5
             },
             "pattern": {
              "fillmode": "overlay",
              "size": 10,
              "solidity": 0.2
             }
            },
            "type": "barpolar"
           }
          ],
          "carpet": [
           {
            "aaxis": {
             "endlinecolor": "#2a3f5f",
             "gridcolor": "#C8D4E3",
             "linecolor": "#C8D4E3",
             "minorgridcolor": "#C8D4E3",
             "startlinecolor": "#2a3f5f"
            },
            "baxis": {
             "endlinecolor": "#2a3f5f",
             "gridcolor": "#C8D4E3",
             "linecolor": "#C8D4E3",
             "minorgridcolor": "#C8D4E3",
             "startlinecolor": "#2a3f5f"
            },
            "type": "carpet"
           }
          ],
          "choropleth": [
           {
            "colorbar": {
             "outlinewidth": 0,
             "ticks": ""
            },
            "type": "choropleth"
           }
          ],
          "contour": [
           {
            "colorbar": {
             "outlinewidth": 0,
             "ticks": ""
            },
            "colorscale": [
             [
              0,
              "#0d0887"
             ],
             [
              0.1111111111111111,
              "#46039f"
             ],
             [
              0.2222222222222222,
              "#7201a8"
             ],
             [
              0.3333333333333333,
              "#9c179e"
             ],
             [
              0.4444444444444444,
              "#bd3786"
             ],
             [
              0.5555555555555556,
              "#d8576b"
             ],
             [
              0.6666666666666666,
              "#ed7953"
             ],
             [
              0.7777777777777778,
              "#fb9f3a"
             ],
             [
              0.8888888888888888,
              "#fdca26"
             ],
             [
              1,
              "#f0f921"
             ]
            ],
            "type": "contour"
           }
          ],
          "contourcarpet": [
           {
            "colorbar": {
             "outlinewidth": 0,
             "ticks": ""
            },
            "type": "contourcarpet"
           }
          ],
          "heatmap": [
           {
            "colorbar": {
             "outlinewidth": 0,
             "ticks": ""
            },
            "colorscale": [
             [
              0,
              "#0d0887"
             ],
             [
              0.1111111111111111,
              "#46039f"
             ],
             [
              0.2222222222222222,
              "#7201a8"
             ],
             [
              0.3333333333333333,
              "#9c179e"
             ],
             [
              0.4444444444444444,
              "#bd3786"
             ],
             [
              0.5555555555555556,
              "#d8576b"
             ],
             [
              0.6666666666666666,
              "#ed7953"
             ],
             [
              0.7777777777777778,
              "#fb9f3a"
             ],
             [
              0.8888888888888888,
              "#fdca26"
             ],
             [
              1,
              "#f0f921"
             ]
            ],
            "type": "heatmap"
           }
          ],
          "heatmapgl": [
           {
            "colorbar": {
             "outlinewidth": 0,
             "ticks": ""
            },
            "colorscale": [
             [
              0,
              "#0d0887"
             ],
             [
              0.1111111111111111,
              "#46039f"
             ],
             [
              0.2222222222222222,
              "#7201a8"
             ],
             [
              0.3333333333333333,
              "#9c179e"
             ],
             [
              0.4444444444444444,
              "#bd3786"
             ],
             [
              0.5555555555555556,
              "#d8576b"
             ],
             [
              0.6666666666666666,
              "#ed7953"
             ],
             [
              0.7777777777777778,
              "#fb9f3a"
             ],
             [
              0.8888888888888888,
              "#fdca26"
             ],
             [
              1,
              "#f0f921"
             ]
            ],
            "type": "heatmapgl"
           }
          ],
          "histogram": [
           {
            "marker": {
             "pattern": {
              "fillmode": "overlay",
              "size": 10,
              "solidity": 0.2
             }
            },
            "type": "histogram"
           }
          ],
          "histogram2d": [
           {
            "colorbar": {
             "outlinewidth": 0,
             "ticks": ""
            },
            "colorscale": [
             [
              0,
              "#0d0887"
             ],
             [
              0.1111111111111111,
              "#46039f"
             ],
             [
              0.2222222222222222,
              "#7201a8"
             ],
             [
              0.3333333333333333,
              "#9c179e"
             ],
             [
              0.4444444444444444,
              "#bd3786"
             ],
             [
              0.5555555555555556,
              "#d8576b"
             ],
             [
              0.6666666666666666,
              "#ed7953"
             ],
             [
              0.7777777777777778,
              "#fb9f3a"
             ],
             [
              0.8888888888888888,
              "#fdca26"
             ],
             [
              1,
              "#f0f921"
             ]
            ],
            "type": "histogram2d"
           }
          ],
          "histogram2dcontour": [
           {
            "colorbar": {
             "outlinewidth": 0,
             "ticks": ""
            },
            "colorscale": [
             [
              0,
              "#0d0887"
             ],
             [
              0.1111111111111111,
              "#46039f"
             ],
             [
              0.2222222222222222,
              "#7201a8"
             ],
             [
              0.3333333333333333,
              "#9c179e"
             ],
             [
              0.4444444444444444,
              "#bd3786"
             ],
             [
              0.5555555555555556,
              "#d8576b"
             ],
             [
              0.6666666666666666,
              "#ed7953"
             ],
             [
              0.7777777777777778,
              "#fb9f3a"
             ],
             [
              0.8888888888888888,
              "#fdca26"
             ],
             [
              1,
              "#f0f921"
             ]
            ],
            "type": "histogram2dcontour"
           }
          ],
          "mesh3d": [
           {
            "colorbar": {
             "outlinewidth": 0,
             "ticks": ""
            },
            "type": "mesh3d"
           }
          ],
          "parcoords": [
           {
            "line": {
             "colorbar": {
              "outlinewidth": 0,
              "ticks": ""
             }
            },
            "type": "parcoords"
           }
          ],
          "pie": [
           {
            "automargin": true,
            "type": "pie"
           }
          ],
          "scatter": [
           {
            "fillpattern": {
             "fillmode": "overlay",
             "size": 10,
             "solidity": 0.2
            },
            "type": "scatter"
           }
          ],
          "scatter3d": [
           {
            "line": {
             "colorbar": {
              "outlinewidth": 0,
              "ticks": ""
             }
            },
            "marker": {
             "colorbar": {
              "outlinewidth": 0,
              "ticks": ""
             }
            },
            "type": "scatter3d"
           }
          ],
          "scattercarpet": [
           {
            "marker": {
             "colorbar": {
              "outlinewidth": 0,
              "ticks": ""
             }
            },
            "type": "scattercarpet"
           }
          ],
          "scattergeo": [
           {
            "marker": {
             "colorbar": {
              "outlinewidth": 0,
              "ticks": ""
             }
            },
            "type": "scattergeo"
           }
          ],
          "scattergl": [
           {
            "marker": {
             "colorbar": {
              "outlinewidth": 0,
              "ticks": ""
             }
            },
            "type": "scattergl"
           }
          ],
          "scattermapbox": [
           {
            "marker": {
             "colorbar": {
              "outlinewidth": 0,
              "ticks": ""
             }
            },
            "type": "scattermapbox"
           }
          ],
          "scatterpolar": [
           {
            "marker": {
             "colorbar": {
              "outlinewidth": 0,
              "ticks": ""
             }
            },
            "type": "scatterpolar"
           }
          ],
          "scatterpolargl": [
           {
            "marker": {
             "colorbar": {
              "outlinewidth": 0,
              "ticks": ""
             }
            },
            "type": "scatterpolargl"
           }
          ],
          "scatterternary": [
           {
            "marker": {
             "colorbar": {
              "outlinewidth": 0,
              "ticks": ""
             }
            },
            "type": "scatterternary"
           }
          ],
          "surface": [
           {
            "colorbar": {
             "outlinewidth": 0,
             "ticks": ""
            },
            "colorscale": [
             [
              0,
              "#0d0887"
             ],
             [
              0.1111111111111111,
              "#46039f"
             ],
             [
              0.2222222222222222,
              "#7201a8"
             ],
             [
              0.3333333333333333,
              "#9c179e"
             ],
             [
              0.4444444444444444,
              "#bd3786"
             ],
             [
              0.5555555555555556,
              "#d8576b"
             ],
             [
              0.6666666666666666,
              "#ed7953"
             ],
             [
              0.7777777777777778,
              "#fb9f3a"
             ],
             [
              0.8888888888888888,
              "#fdca26"
             ],
             [
              1,
              "#f0f921"
             ]
            ],
            "type": "surface"
           }
          ],
          "table": [
           {
            "cells": {
             "fill": {
              "color": "#EBF0F8"
             },
             "line": {
              "color": "white"
             }
            },
            "header": {
             "fill": {
              "color": "#C8D4E3"
             },
             "line": {
              "color": "white"
             }
            },
            "type": "table"
           }
          ]
         },
         "layout": {
          "annotationdefaults": {
           "arrowcolor": "#2a3f5f",
           "arrowhead": 0,
           "arrowwidth": 1
          },
          "autotypenumbers": "strict",
          "coloraxis": {
           "colorbar": {
            "outlinewidth": 0,
            "ticks": ""
           }
          },
          "colorscale": {
           "diverging": [
            [
             0,
             "#8e0152"
            ],
            [
             0.1,
             "#c51b7d"
            ],
            [
             0.2,
             "#de77ae"
            ],
            [
             0.3,
             "#f1b6da"
            ],
            [
             0.4,
             "#fde0ef"
            ],
            [
             0.5,
             "#f7f7f7"
            ],
            [
             0.6,
             "#e6f5d0"
            ],
            [
             0.7,
             "#b8e186"
            ],
            [
             0.8,
             "#7fbc41"
            ],
            [
             0.9,
             "#4d9221"
            ],
            [
             1,
             "#276419"
            ]
           ],
           "sequential": [
            [
             0,
             "#0d0887"
            ],
            [
             0.1111111111111111,
             "#46039f"
            ],
            [
             0.2222222222222222,
             "#7201a8"
            ],
            [
             0.3333333333333333,
             "#9c179e"
            ],
            [
             0.4444444444444444,
             "#bd3786"
            ],
            [
             0.5555555555555556,
             "#d8576b"
            ],
            [
             0.6666666666666666,
             "#ed7953"
            ],
            [
             0.7777777777777778,
             "#fb9f3a"
            ],
            [
             0.8888888888888888,
             "#fdca26"
            ],
            [
             1,
             "#f0f921"
            ]
           ],
           "sequentialminus": [
            [
             0,
             "#0d0887"
            ],
            [
             0.1111111111111111,
             "#46039f"
            ],
            [
             0.2222222222222222,
             "#7201a8"
            ],
            [
             0.3333333333333333,
             "#9c179e"
            ],
            [
             0.4444444444444444,
             "#bd3786"
            ],
            [
             0.5555555555555556,
             "#d8576b"
            ],
            [
             0.6666666666666666,
             "#ed7953"
            ],
            [
             0.7777777777777778,
             "#fb9f3a"
            ],
            [
             0.8888888888888888,
             "#fdca26"
            ],
            [
             1,
             "#f0f921"
            ]
           ]
          },
          "colorway": [
           "#636efa",
           "#EF553B",
           "#00cc96",
           "#ab63fa",
           "#FFA15A",
           "#19d3f3",
           "#FF6692",
           "#B6E880",
           "#FF97FF",
           "#FECB52"
          ],
          "font": {
           "color": "#2a3f5f"
          },
          "geo": {
           "bgcolor": "white",
           "lakecolor": "white",
           "landcolor": "white",
           "showlakes": true,
           "showland": true,
           "subunitcolor": "#C8D4E3"
          },
          "hoverlabel": {
           "align": "left"
          },
          "hovermode": "closest",
          "mapbox": {
           "style": "light"
          },
          "paper_bgcolor": "white",
          "plot_bgcolor": "white",
          "polar": {
           "angularaxis": {
            "gridcolor": "#EBF0F8",
            "linecolor": "#EBF0F8",
            "ticks": ""
           },
           "bgcolor": "white",
           "radialaxis": {
            "gridcolor": "#EBF0F8",
            "linecolor": "#EBF0F8",
            "ticks": ""
           }
          },
          "scene": {
           "xaxis": {
            "backgroundcolor": "white",
            "gridcolor": "#DFE8F3",
            "gridwidth": 2,
            "linecolor": "#EBF0F8",
            "showbackground": true,
            "ticks": "",
            "zerolinecolor": "#EBF0F8"
           },
           "yaxis": {
            "backgroundcolor": "white",
            "gridcolor": "#DFE8F3",
            "gridwidth": 2,
            "linecolor": "#EBF0F8",
            "showbackground": true,
            "ticks": "",
            "zerolinecolor": "#EBF0F8"
           },
           "zaxis": {
            "backgroundcolor": "white",
            "gridcolor": "#DFE8F3",
            "gridwidth": 2,
            "linecolor": "#EBF0F8",
            "showbackground": true,
            "ticks": "",
            "zerolinecolor": "#EBF0F8"
           }
          },
          "shapedefaults": {
           "line": {
            "color": "#2a3f5f"
           }
          },
          "ternary": {
           "aaxis": {
            "gridcolor": "#DFE8F3",
            "linecolor": "#A2B1C6",
            "ticks": ""
           },
           "baxis": {
            "gridcolor": "#DFE8F3",
            "linecolor": "#A2B1C6",
            "ticks": ""
           },
           "bgcolor": "white",
           "caxis": {
            "gridcolor": "#DFE8F3",
            "linecolor": "#A2B1C6",
            "ticks": ""
           }
          },
          "title": {
           "x": 0.05
          },
          "xaxis": {
           "automargin": true,
           "gridcolor": "#EBF0F8",
           "linecolor": "#EBF0F8",
           "ticks": "",
           "title": {
            "standoff": 15
           },
           "zerolinecolor": "#EBF0F8",
           "zerolinewidth": 2
          },
          "yaxis": {
           "automargin": true,
           "gridcolor": "#EBF0F8",
           "linecolor": "#EBF0F8",
           "ticks": "",
           "title": {
            "standoff": 15
           },
           "zerolinecolor": "#EBF0F8",
           "zerolinewidth": 2
          }
         }
        },
        "title": {
         "text": "<b>Sales by Market Segment</b>"
        },
        "width": 800,
        "xaxis": {
         "anchor": "y",
         "domain": [
          0,
          1
         ],
         "title": {
          "text": "Sales in $USD"
         }
        },
        "yaxis": {
         "anchor": "x",
         "categoryarray": [
          "E&S DEALERS",
          "JAN/SAN/PAPER",
          "FOOD PROCESSORS",
          "GROCERY",
          "ONLINE DISTRIBUTORS",
          "BROADLINE DISTRIBUTOR",
          "CONVENIENCE STORE",
          "ALTERNATE RETAIL",
          "VENDING"
         ],
         "categoryorder": "array",
         "domain": [
          0,
          1
         ],
         "title": {
          "text": "Market Segment"
         }
        }
       }
      },
      "text/html": [
       "<div>                            <div id=\"fb4bf2ce-c680-4097-b985-360e0d0e1b31\" class=\"plotly-graph-div\" style=\"height:525px; width:800px;\"></div>            <script type=\"text/javascript\">                require([\"plotly\"], function(Plotly) {                    window.PLOTLYENV=window.PLOTLYENV || {};                                    if (document.getElementById(\"fb4bf2ce-c680-4097-b985-360e0d0e1b31\")) {                    Plotly.newPlot(                        \"fb4bf2ce-c680-4097-b985-360e0d0e1b31\",                        [{\"alignmentgroup\":\"True\",\"hovertemplate\":\"Market Segment=%{y}<br>Sales in $USD=%{x}<extra></extra>\",\"legendgroup\":\"VENDING\",\"marker\":{\"color\":\"#636efa\",\"pattern\":{\"shape\":\"\"}},\"name\":\"VENDING\",\"offsetgroup\":\"VENDING\",\"orientation\":\"h\",\"showlegend\":true,\"textposition\":\"auto\",\"x\":[4459422.1258],\"xaxis\":\"x\",\"y\":[\"VENDING\"],\"yaxis\":\"y\",\"type\":\"bar\"},{\"alignmentgroup\":\"True\",\"hovertemplate\":\"Market Segment=%{y}<br>Sales in $USD=%{x}<extra></extra>\",\"legendgroup\":\"ALTERNATE RETAIL\",\"marker\":{\"color\":\"#EF553B\",\"pattern\":{\"shape\":\"\"}},\"name\":\"ALTERNATE RETAIL\",\"offsetgroup\":\"ALTERNATE RETAIL\",\"orientation\":\"h\",\"showlegend\":true,\"textposition\":\"auto\",\"x\":[3507554.1],\"xaxis\":\"x\",\"y\":[\"ALTERNATE RETAIL\"],\"yaxis\":\"y\",\"type\":\"bar\"},{\"alignmentgroup\":\"True\",\"hovertemplate\":\"Market Segment=%{y}<br>Sales in $USD=%{x}<extra></extra>\",\"legendgroup\":\"CONVENIENCE STORE\",\"marker\":{\"color\":\"#00cc96\",\"pattern\":{\"shape\":\"\"}},\"name\":\"CONVENIENCE STORE\",\"offsetgroup\":\"CONVENIENCE STORE\",\"orientation\":\"h\",\"showlegend\":true,\"textposition\":\"auto\",\"x\":[1384872.5137983193],\"xaxis\":\"x\",\"y\":[\"CONVENIENCE STORE\"],\"yaxis\":\"y\",\"type\":\"bar\"},{\"alignmentgroup\":\"True\",\"hovertemplate\":\"Market Segment=%{y}<br>Sales in $USD=%{x}<extra></extra>\",\"legendgroup\":\"BROADLINE DISTRIBUTOR\",\"marker\":{\"color\":\"#ab63fa\",\"pattern\":{\"shape\":\"\"}},\"name\":\"BROADLINE DISTRIBUTOR\",\"offsetgroup\":\"BROADLINE DISTRIBUTOR\",\"orientation\":\"h\",\"showlegend\":true,\"textposition\":\"auto\",\"x\":[167641.9],\"xaxis\":\"x\",\"y\":[\"BROADLINE DISTRIBUTOR\"],\"yaxis\":\"y\",\"type\":\"bar\"},{\"alignmentgroup\":\"True\",\"hovertemplate\":\"Market Segment=%{y}<br>Sales in $USD=%{x}<extra></extra>\",\"legendgroup\":\"ONLINE DISTRIBUTORS\",\"marker\":{\"color\":\"#FFA15A\",\"pattern\":{\"shape\":\"\"}},\"name\":\"ONLINE DISTRIBUTORS\",\"offsetgroup\":\"ONLINE DISTRIBUTORS\",\"orientation\":\"h\",\"showlegend\":true,\"textposition\":\"auto\",\"x\":[46069.4455],\"xaxis\":\"x\",\"y\":[\"ONLINE DISTRIBUTORS\"],\"yaxis\":\"y\",\"type\":\"bar\"},{\"alignmentgroup\":\"True\",\"hovertemplate\":\"Market Segment=%{y}<br>Sales in $USD=%{x}<extra></extra>\",\"legendgroup\":\"GROCERY\",\"marker\":{\"color\":\"#19d3f3\",\"pattern\":{\"shape\":\"\"}},\"name\":\"GROCERY\",\"offsetgroup\":\"GROCERY\",\"orientation\":\"h\",\"showlegend\":true,\"textposition\":\"auto\",\"x\":[16129.460000000001],\"xaxis\":\"x\",\"y\":[\"GROCERY\"],\"yaxis\":\"y\",\"type\":\"bar\"},{\"alignmentgroup\":\"True\",\"hovertemplate\":\"Market Segment=%{y}<br>Sales in $USD=%{x}<extra></extra>\",\"legendgroup\":\"FOOD PROCESSORS\",\"marker\":{\"color\":\"#FF6692\",\"pattern\":{\"shape\":\"\"}},\"name\":\"FOOD PROCESSORS\",\"offsetgroup\":\"FOOD PROCESSORS\",\"orientation\":\"h\",\"showlegend\":true,\"textposition\":\"auto\",\"x\":[14226.68],\"xaxis\":\"x\",\"y\":[\"FOOD PROCESSORS\"],\"yaxis\":\"y\",\"type\":\"bar\"},{\"alignmentgroup\":\"True\",\"hovertemplate\":\"Market Segment=%{y}<br>Sales in $USD=%{x}<extra></extra>\",\"legendgroup\":\"JAN/SAN/PAPER\",\"marker\":{\"color\":\"#B6E880\",\"pattern\":{\"shape\":\"\"}},\"name\":\"JAN/SAN/PAPER\",\"offsetgroup\":\"JAN/SAN/PAPER\",\"orientation\":\"h\",\"showlegend\":true,\"textposition\":\"auto\",\"x\":[884.98],\"xaxis\":\"x\",\"y\":[\"JAN/SAN/PAPER\"],\"yaxis\":\"y\",\"type\":\"bar\"},{\"alignmentgroup\":\"True\",\"hovertemplate\":\"Market Segment=%{y}<br>Sales in $USD=%{x}<extra></extra>\",\"legendgroup\":\"E&S DEALERS\",\"marker\":{\"color\":\"#FF97FF\",\"pattern\":{\"shape\":\"\"}},\"name\":\"E&S DEALERS\",\"offsetgroup\":\"E&S DEALERS\",\"orientation\":\"h\",\"showlegend\":true,\"textposition\":\"auto\",\"x\":[85.54],\"xaxis\":\"x\",\"y\":[\"E&S DEALERS\"],\"yaxis\":\"y\",\"type\":\"bar\"}],                        {\"template\":{\"data\":{\"barpolar\":[{\"marker\":{\"line\":{\"color\":\"white\",\"width\":0.5},\"pattern\":{\"fillmode\":\"overlay\",\"size\":10,\"solidity\":0.2}},\"type\":\"barpolar\"}],\"bar\":[{\"error_x\":{\"color\":\"#2a3f5f\"},\"error_y\":{\"color\":\"#2a3f5f\"},\"marker\":{\"line\":{\"color\":\"white\",\"width\":0.5},\"pattern\":{\"fillmode\":\"overlay\",\"size\":10,\"solidity\":0.2}},\"type\":\"bar\"}],\"carpet\":[{\"aaxis\":{\"endlinecolor\":\"#2a3f5f\",\"gridcolor\":\"#C8D4E3\",\"linecolor\":\"#C8D4E3\",\"minorgridcolor\":\"#C8D4E3\",\"startlinecolor\":\"#2a3f5f\"},\"baxis\":{\"endlinecolor\":\"#2a3f5f\",\"gridcolor\":\"#C8D4E3\",\"linecolor\":\"#C8D4E3\",\"minorgridcolor\":\"#C8D4E3\",\"startlinecolor\":\"#2a3f5f\"},\"type\":\"carpet\"}],\"choropleth\":[{\"colorbar\":{\"outlinewidth\":0,\"ticks\":\"\"},\"type\":\"choropleth\"}],\"contourcarpet\":[{\"colorbar\":{\"outlinewidth\":0,\"ticks\":\"\"},\"type\":\"contourcarpet\"}],\"contour\":[{\"colorbar\":{\"outlinewidth\":0,\"ticks\":\"\"},\"colorscale\":[[0.0,\"#0d0887\"],[0.1111111111111111,\"#46039f\"],[0.2222222222222222,\"#7201a8\"],[0.3333333333333333,\"#9c179e\"],[0.4444444444444444,\"#bd3786\"],[0.5555555555555556,\"#d8576b\"],[0.6666666666666666,\"#ed7953\"],[0.7777777777777778,\"#fb9f3a\"],[0.8888888888888888,\"#fdca26\"],[1.0,\"#f0f921\"]],\"type\":\"contour\"}],\"heatmapgl\":[{\"colorbar\":{\"outlinewidth\":0,\"ticks\":\"\"},\"colorscale\":[[0.0,\"#0d0887\"],[0.1111111111111111,\"#46039f\"],[0.2222222222222222,\"#7201a8\"],[0.3333333333333333,\"#9c179e\"],[0.4444444444444444,\"#bd3786\"],[0.5555555555555556,\"#d8576b\"],[0.6666666666666666,\"#ed7953\"],[0.7777777777777778,\"#fb9f3a\"],[0.8888888888888888,\"#fdca26\"],[1.0,\"#f0f921\"]],\"type\":\"heatmapgl\"}],\"heatmap\":[{\"colorbar\":{\"outlinewidth\":0,\"ticks\":\"\"},\"colorscale\":[[0.0,\"#0d0887\"],[0.1111111111111111,\"#46039f\"],[0.2222222222222222,\"#7201a8\"],[0.3333333333333333,\"#9c179e\"],[0.4444444444444444,\"#bd3786\"],[0.5555555555555556,\"#d8576b\"],[0.6666666666666666,\"#ed7953\"],[0.7777777777777778,\"#fb9f3a\"],[0.8888888888888888,\"#fdca26\"],[1.0,\"#f0f921\"]],\"type\":\"heatmap\"}],\"histogram2dcontour\":[{\"colorbar\":{\"outlinewidth\":0,\"ticks\":\"\"},\"colorscale\":[[0.0,\"#0d0887\"],[0.1111111111111111,\"#46039f\"],[0.2222222222222222,\"#7201a8\"],[0.3333333333333333,\"#9c179e\"],[0.4444444444444444,\"#bd3786\"],[0.5555555555555556,\"#d8576b\"],[0.6666666666666666,\"#ed7953\"],[0.7777777777777778,\"#fb9f3a\"],[0.8888888888888888,\"#fdca26\"],[1.0,\"#f0f921\"]],\"type\":\"histogram2dcontour\"}],\"histogram2d\":[{\"colorbar\":{\"outlinewidth\":0,\"ticks\":\"\"},\"colorscale\":[[0.0,\"#0d0887\"],[0.1111111111111111,\"#46039f\"],[0.2222222222222222,\"#7201a8\"],[0.3333333333333333,\"#9c179e\"],[0.4444444444444444,\"#bd3786\"],[0.5555555555555556,\"#d8576b\"],[0.6666666666666666,\"#ed7953\"],[0.7777777777777778,\"#fb9f3a\"],[0.8888888888888888,\"#fdca26\"],[1.0,\"#f0f921\"]],\"type\":\"histogram2d\"}],\"histogram\":[{\"marker\":{\"pattern\":{\"fillmode\":\"overlay\",\"size\":10,\"solidity\":0.2}},\"type\":\"histogram\"}],\"mesh3d\":[{\"colorbar\":{\"outlinewidth\":0,\"ticks\":\"\"},\"type\":\"mesh3d\"}],\"parcoords\":[{\"line\":{\"colorbar\":{\"outlinewidth\":0,\"ticks\":\"\"}},\"type\":\"parcoords\"}],\"pie\":[{\"automargin\":true,\"type\":\"pie\"}],\"scatter3d\":[{\"line\":{\"colorbar\":{\"outlinewidth\":0,\"ticks\":\"\"}},\"marker\":{\"colorbar\":{\"outlinewidth\":0,\"ticks\":\"\"}},\"type\":\"scatter3d\"}],\"scattercarpet\":[{\"marker\":{\"colorbar\":{\"outlinewidth\":0,\"ticks\":\"\"}},\"type\":\"scattercarpet\"}],\"scattergeo\":[{\"marker\":{\"colorbar\":{\"outlinewidth\":0,\"ticks\":\"\"}},\"type\":\"scattergeo\"}],\"scattergl\":[{\"marker\":{\"colorbar\":{\"outlinewidth\":0,\"ticks\":\"\"}},\"type\":\"scattergl\"}],\"scattermapbox\":[{\"marker\":{\"colorbar\":{\"outlinewidth\":0,\"ticks\":\"\"}},\"type\":\"scattermapbox\"}],\"scatterpolargl\":[{\"marker\":{\"colorbar\":{\"outlinewidth\":0,\"ticks\":\"\"}},\"type\":\"scatterpolargl\"}],\"scatterpolar\":[{\"marker\":{\"colorbar\":{\"outlinewidth\":0,\"ticks\":\"\"}},\"type\":\"scatterpolar\"}],\"scatter\":[{\"fillpattern\":{\"fillmode\":\"overlay\",\"size\":10,\"solidity\":0.2},\"type\":\"scatter\"}],\"scatterternary\":[{\"marker\":{\"colorbar\":{\"outlinewidth\":0,\"ticks\":\"\"}},\"type\":\"scatterternary\"}],\"surface\":[{\"colorbar\":{\"outlinewidth\":0,\"ticks\":\"\"},\"colorscale\":[[0.0,\"#0d0887\"],[0.1111111111111111,\"#46039f\"],[0.2222222222222222,\"#7201a8\"],[0.3333333333333333,\"#9c179e\"],[0.4444444444444444,\"#bd3786\"],[0.5555555555555556,\"#d8576b\"],[0.6666666666666666,\"#ed7953\"],[0.7777777777777778,\"#fb9f3a\"],[0.8888888888888888,\"#fdca26\"],[1.0,\"#f0f921\"]],\"type\":\"surface\"}],\"table\":[{\"cells\":{\"fill\":{\"color\":\"#EBF0F8\"},\"line\":{\"color\":\"white\"}},\"header\":{\"fill\":{\"color\":\"#C8D4E3\"},\"line\":{\"color\":\"white\"}},\"type\":\"table\"}]},\"layout\":{\"annotationdefaults\":{\"arrowcolor\":\"#2a3f5f\",\"arrowhead\":0,\"arrowwidth\":1},\"autotypenumbers\":\"strict\",\"coloraxis\":{\"colorbar\":{\"outlinewidth\":0,\"ticks\":\"\"}},\"colorscale\":{\"diverging\":[[0,\"#8e0152\"],[0.1,\"#c51b7d\"],[0.2,\"#de77ae\"],[0.3,\"#f1b6da\"],[0.4,\"#fde0ef\"],[0.5,\"#f7f7f7\"],[0.6,\"#e6f5d0\"],[0.7,\"#b8e186\"],[0.8,\"#7fbc41\"],[0.9,\"#4d9221\"],[1,\"#276419\"]],\"sequential\":[[0.0,\"#0d0887\"],[0.1111111111111111,\"#46039f\"],[0.2222222222222222,\"#7201a8\"],[0.3333333333333333,\"#9c179e\"],[0.4444444444444444,\"#bd3786\"],[0.5555555555555556,\"#d8576b\"],[0.6666666666666666,\"#ed7953\"],[0.7777777777777778,\"#fb9f3a\"],[0.8888888888888888,\"#fdca26\"],[1.0,\"#f0f921\"]],\"sequentialminus\":[[0.0,\"#0d0887\"],[0.1111111111111111,\"#46039f\"],[0.2222222222222222,\"#7201a8\"],[0.3333333333333333,\"#9c179e\"],[0.4444444444444444,\"#bd3786\"],[0.5555555555555556,\"#d8576b\"],[0.6666666666666666,\"#ed7953\"],[0.7777777777777778,\"#fb9f3a\"],[0.8888888888888888,\"#fdca26\"],[1.0,\"#f0f921\"]]},\"colorway\":[\"#636efa\",\"#EF553B\",\"#00cc96\",\"#ab63fa\",\"#FFA15A\",\"#19d3f3\",\"#FF6692\",\"#B6E880\",\"#FF97FF\",\"#FECB52\"],\"font\":{\"color\":\"#2a3f5f\"},\"geo\":{\"bgcolor\":\"white\",\"lakecolor\":\"white\",\"landcolor\":\"white\",\"showlakes\":true,\"showland\":true,\"subunitcolor\":\"#C8D4E3\"},\"hoverlabel\":{\"align\":\"left\"},\"hovermode\":\"closest\",\"mapbox\":{\"style\":\"light\"},\"paper_bgcolor\":\"white\",\"plot_bgcolor\":\"white\",\"polar\":{\"angularaxis\":{\"gridcolor\":\"#EBF0F8\",\"linecolor\":\"#EBF0F8\",\"ticks\":\"\"},\"bgcolor\":\"white\",\"radialaxis\":{\"gridcolor\":\"#EBF0F8\",\"linecolor\":\"#EBF0F8\",\"ticks\":\"\"}},\"scene\":{\"xaxis\":{\"backgroundcolor\":\"white\",\"gridcolor\":\"#DFE8F3\",\"gridwidth\":2,\"linecolor\":\"#EBF0F8\",\"showbackground\":true,\"ticks\":\"\",\"zerolinecolor\":\"#EBF0F8\"},\"yaxis\":{\"backgroundcolor\":\"white\",\"gridcolor\":\"#DFE8F3\",\"gridwidth\":2,\"linecolor\":\"#EBF0F8\",\"showbackground\":true,\"ticks\":\"\",\"zerolinecolor\":\"#EBF0F8\"},\"zaxis\":{\"backgroundcolor\":\"white\",\"gridcolor\":\"#DFE8F3\",\"gridwidth\":2,\"linecolor\":\"#EBF0F8\",\"showbackground\":true,\"ticks\":\"\",\"zerolinecolor\":\"#EBF0F8\"}},\"shapedefaults\":{\"line\":{\"color\":\"#2a3f5f\"}},\"ternary\":{\"aaxis\":{\"gridcolor\":\"#DFE8F3\",\"linecolor\":\"#A2B1C6\",\"ticks\":\"\"},\"baxis\":{\"gridcolor\":\"#DFE8F3\",\"linecolor\":\"#A2B1C6\",\"ticks\":\"\"},\"bgcolor\":\"white\",\"caxis\":{\"gridcolor\":\"#DFE8F3\",\"linecolor\":\"#A2B1C6\",\"ticks\":\"\"}},\"title\":{\"x\":0.05},\"xaxis\":{\"automargin\":true,\"gridcolor\":\"#EBF0F8\",\"linecolor\":\"#EBF0F8\",\"ticks\":\"\",\"title\":{\"standoff\":15},\"zerolinecolor\":\"#EBF0F8\",\"zerolinewidth\":2},\"yaxis\":{\"automargin\":true,\"gridcolor\":\"#EBF0F8\",\"linecolor\":\"#EBF0F8\",\"ticks\":\"\",\"title\":{\"standoff\":15},\"zerolinecolor\":\"#EBF0F8\",\"zerolinewidth\":2}}},\"xaxis\":{\"anchor\":\"y\",\"domain\":[0.0,1.0],\"title\":{\"text\":\"Sales in $USD\"}},\"yaxis\":{\"anchor\":\"x\",\"domain\":[0.0,1.0],\"title\":{\"text\":\"Market Segment\"},\"categoryorder\":\"array\",\"categoryarray\":[\"E&S DEALERS\",\"JAN/SAN/PAPER\",\"FOOD PROCESSORS\",\"GROCERY\",\"ONLINE DISTRIBUTORS\",\"BROADLINE DISTRIBUTOR\",\"CONVENIENCE STORE\",\"ALTERNATE RETAIL\",\"VENDING\"]},\"legend\":{\"title\":{\"text\":\"Market Segment\"},\"tracegroupgap\":0},\"title\":{\"text\":\"<b>Sales by Market Segment</b>\"},\"barmode\":\"relative\",\"width\":800,\"showlegend\":false},                        {\"responsive\": true}                    ).then(function(){\n",
       "                            \n",
       "var gd = document.getElementById('fb4bf2ce-c680-4097-b985-360e0d0e1b31');\n",
       "var x = new MutationObserver(function (mutations, observer) {{\n",
       "        var display = window.getComputedStyle(gd).display;\n",
       "        if (!display || display === 'none') {{\n",
       "            console.log([gd, 'removed!']);\n",
       "            Plotly.purge(gd);\n",
       "            observer.disconnect();\n",
       "        }}\n",
       "}});\n",
       "\n",
       "// Listen for the removal of the full notebook cells\n",
       "var notebookContainer = gd.closest('#notebook-container');\n",
       "if (notebookContainer) {{\n",
       "    x.observe(notebookContainer, {childList: true});\n",
       "}}\n",
       "\n",
       "// Listen for the clearing of the current output cell\n",
       "var outputEl = gd.closest('.output');\n",
       "if (outputEl) {{\n",
       "    x.observe(outputEl, {childList: true});\n",
       "}}\n",
       "\n",
       "                        })                };                });            </script>        </div>"
      ]
     },
     "metadata": {},
     "output_type": "display_data"
    }
   ],
   "source": [
    "px.bar(\n",
    "    seg_sales.sort_values(by = 'Dollars',ascending=False),\n",
    "    x='Dollars',\n",
    "    y='Segment Description 2',\n",
    "    orientation = 'h',\n",
    "    title = \"<b>Sales by Market Segment</b>\",\n",
    "    template = 'plotly_white',\n",
    "    color='Segment Description 2',\n",
    "    labels={'Segment Description 2':'Market Segment',\n",
    "            'Dollars':'Sales in $USD'},\n",
    "    width=800\n",
    ").update_layout(showlegend=False)"
   ]
  },
  {
   "cell_type": "code",
   "execution_count": null,
   "id": "d2600ad7",
   "metadata": {},
   "outputs": [],
   "source": [
    "year = df['Invoice Date'].dt.year.unique()\n",
    "segment = df['Segment Description 2'].unique()\n",
    "\n",
    "\n",
    "df_selection = df[(df['Invoice Date'].dt.year.isin(year)) & (df['Segment Description 2'].isin(segment))]\n",
    "# df_selection = df[(df['Invoice Date'].dt.year==2023) & (df['Segment Description 2'].isin(segment))]\n",
    "\n",
    "\n",
    "seg_sales = df_selection.groupby('Segment Description 2',as_index=False)['Dollars'].sum()\n",
    "fig_seg_sales = px.bar(\n",
    "    seg_sales.sort_values(by = 'Dollars',ascending=False),\n",
    "    x='Dollars',\n",
    "    y='Segment Description 2',\n",
    "    orientation = 'h',\n",
    "    title = \"<b>Sales by Market Segment</b>\",\n",
    "    template = 'plotly_white',\n",
    "    color='Segment Description 2',\n",
    "    labels={'Segment Description 2':'Market Segment',\n",
    "            'Dollars':'Sales in $USD'}\n",
    ")\n",
    "fig_seg_sales.show()"
   ]
  },
  {
   "cell_type": "code",
   "execution_count": null,
   "id": "68ed7a26",
   "metadata": {},
   "outputs": [],
   "source": [
    "px.bar(\n",
    "    seg_sales.sort_values(by = 'Dollars',ascending=False),\n",
    "    x='Dollars',\n",
    "    y='Segment Description 2',\n",
    "    orientation = 'h',\n",
    "    title = \"<b>Sales by Market Segment</b>\",\n",
    "    template = 'plotly_white',\n",
    "    color='Segment Description 2',\n",
    "    labels={'Segment Description 2':'Market Segment',\n",
    "            'Dollars':'Sales in $USD'}\n",
    ")"
   ]
  },
  {
   "cell_type": "code",
   "execution_count": 30,
   "id": "2bfa1857",
   "metadata": {},
   "outputs": [
    {
     "data": {
      "text/html": [
       "<div>\n",
       "<style scoped>\n",
       "    .dataframe tbody tr th:only-of-type {\n",
       "        vertical-align: middle;\n",
       "    }\n",
       "\n",
       "    .dataframe tbody tr th {\n",
       "        vertical-align: top;\n",
       "    }\n",
       "\n",
       "    .dataframe thead th {\n",
       "        text-align: right;\n",
       "    }\n",
       "</style>\n",
       "<table border=\"1\" class=\"dataframe\">\n",
       "  <thead>\n",
       "    <tr style=\"text-align: right;\">\n",
       "      <th></th>\n",
       "      <th>Segment Description 2</th>\n",
       "      <th>Dollars</th>\n",
       "    </tr>\n",
       "    <tr>\n",
       "      <th>Parent Customer</th>\n",
       "      <th></th>\n",
       "      <th></th>\n",
       "    </tr>\n",
       "  </thead>\n",
       "  <tbody>\n",
       "    <tr>\n",
       "      <th>Vistar</th>\n",
       "      <td>VENDING</td>\n",
       "      <td>4.351449e+06</td>\n",
       "    </tr>\n",
       "    <tr>\n",
       "      <th>Vistar Retail</th>\n",
       "      <td>ALTERNATE RETAIL</td>\n",
       "      <td>1.941548e+06</td>\n",
       "    </tr>\n",
       "    <tr>\n",
       "      <th>Tropical</th>\n",
       "      <td>ALTERNATE RETAIL</td>\n",
       "      <td>1.256787e+06</td>\n",
       "    </tr>\n",
       "    <tr>\n",
       "      <th>J. POLEP</th>\n",
       "      <td>CONVENIENCE STORE</td>\n",
       "      <td>3.475965e+05</td>\n",
       "    </tr>\n",
       "    <tr>\n",
       "      <th>KELLI'S GIFT SHOP SUPPLIE</th>\n",
       "      <td>ALTERNATE RETAIL</td>\n",
       "      <td>3.039850e+05</td>\n",
       "    </tr>\n",
       "    <tr>\n",
       "      <th>...</th>\n",
       "      <td>...</td>\n",
       "      <td>...</td>\n",
       "    </tr>\n",
       "    <tr>\n",
       "      <th>C.M. TANNER GROCERY CO.</th>\n",
       "      <td>BROADLINE DISTRIBUTOR</td>\n",
       "      <td>2.154000e+01</td>\n",
       "    </tr>\n",
       "    <tr>\n",
       "      <th>TYLER C-STORE WHOLESALE</th>\n",
       "      <td>CONVENIENCE STORE</td>\n",
       "      <td>0.000000e+00</td>\n",
       "    </tr>\n",
       "    <tr>\n",
       "      <th>F. MCCONNELL &amp; SONS, INC.</th>\n",
       "      <td>ONLINE DISTRIBUTORS</td>\n",
       "      <td>0.000000e+00</td>\n",
       "    </tr>\n",
       "    <tr>\n",
       "      <th>STANLEY MARVEL CO.</th>\n",
       "      <td>BROADLINE DISTRIBUTOR</td>\n",
       "      <td>0.000000e+00</td>\n",
       "    </tr>\n",
       "    <tr>\n",
       "      <th>MARQUE'S FOOD DIST. INC.</th>\n",
       "      <td>BROADLINE DISTRIBUTOR</td>\n",
       "      <td>0.000000e+00</td>\n",
       "    </tr>\n",
       "  </tbody>\n",
       "</table>\n",
       "<p>82 rows × 2 columns</p>\n",
       "</div>"
      ],
      "text/plain": [
       "                           Segment Description 2       Dollars\n",
       "Parent Customer                                               \n",
       "Vistar                                   VENDING  4.351449e+06\n",
       "Vistar Retail                   ALTERNATE RETAIL  1.941548e+06\n",
       "Tropical                        ALTERNATE RETAIL  1.256787e+06\n",
       "J. POLEP                       CONVENIENCE STORE  3.475965e+05\n",
       "KELLI'S GIFT SHOP SUPPLIE       ALTERNATE RETAIL  3.039850e+05\n",
       "...                                          ...           ...\n",
       "C.M. TANNER GROCERY CO.    BROADLINE DISTRIBUTOR  2.154000e+01\n",
       "TYLER C-STORE WHOLESALE        CONVENIENCE STORE  0.000000e+00\n",
       "F. MCCONNELL & SONS, INC.    ONLINE DISTRIBUTORS  0.000000e+00\n",
       "STANLEY MARVEL CO.         BROADLINE DISTRIBUTOR  0.000000e+00\n",
       "MARQUE'S FOOD DIST. INC.   BROADLINE DISTRIBUTOR  0.000000e+00\n",
       "\n",
       "[82 rows x 2 columns]"
      ]
     },
     "execution_count": 30,
     "metadata": {},
     "output_type": "execute_result"
    }
   ],
   "source": [
    "df_selection.groupby(['Parent Customer','Segment Description 2'],as_index=False)['Dollars'].sum().set_index('Parent Customer').sort_values(by='Dollars',ascending=False)"
   ]
  },
  {
   "cell_type": "code",
   "execution_count": 37,
   "id": "5e314be3",
   "metadata": {},
   "outputs": [],
   "source": [
    "parent_sales = df_selection.groupby(['Parent Customer','Segment Description 2'],as_index=False)['Dollars'].sum().set_index('Parent Customer').sort_values(by='Dollars',ascending=False)\n",
    "fig_parent_sales = px.bar(\n",
    "    parent_sales,\n",
    "#     x=parent_sales.index,\n",
    "    y='Dollars',\n",
    "    color='Segment Description 2',\n",
    "    title='<b>Sales by Parent</b>',\n",
    "    template = 'plotly_white',\n",
    "    labels={'Parent Customer':'',\n",
    "            'Dollars':'<b>$USD</b>'}\n",
    ")"
   ]
  },
  {
   "cell_type": "code",
   "execution_count": 40,
   "id": "686fb654",
   "metadata": {},
   "outputs": [
    {
     "data": {
      "application/vnd.plotly.v1+json": {
       "config": {
        "plotlyServerURL": "https://plot.ly"
       },
       "data": [
        {
         "alignmentgroup": "True",
         "hovertemplate": "Segment Description 2=VENDING<br>=%{x}<br><b>$USD</b>=%{y}<extra></extra>",
         "legendgroup": "VENDING",
         "marker": {
          "color": "#636efa",
          "pattern": {
           "shape": ""
          }
         },
         "name": "VENDING",
         "offsetgroup": "VENDING",
         "orientation": "v",
         "showlegend": true,
         "textposition": "auto",
         "type": "bar",
         "x": [
          "Vistar",
          "SARNOW FOOD GROUP, INC.",
          "PROFORMANCE VEND USA",
          "TOTAL FOODS, INC.",
          "VENDOR'S SUPPLY"
         ],
         "xaxis": "x",
         "y": [
          4351448.7658,
          78880.92,
          23217,
          5640,
          235.44
         ],
         "yaxis": "y"
        },
        {
         "alignmentgroup": "True",
         "hovertemplate": "Segment Description 2=ALTERNATE RETAIL<br>=%{x}<br><b>$USD</b>=%{y}<extra></extra>",
         "legendgroup": "ALTERNATE RETAIL",
         "marker": {
          "color": "#EF553B",
          "pattern": {
           "shape": ""
          }
         },
         "name": "ALTERNATE RETAIL",
         "offsetgroup": "ALTERNATE RETAIL",
         "orientation": "v",
         "showlegend": true,
         "textposition": "auto",
         "type": "bar",
         "x": [
          "Vistar Retail",
          "Tropical",
          "KELLI'S GIFT SHOP SUPPLIE",
          "GH WHOLESALE",
          "Walkenhorsts",
          "BLUE MARKET INC"
         ],
         "xaxis": "x",
         "y": [
          1941548.3,
          1256786.82,
          303984.96,
          2709.08,
          2474.42,
          50.52
         ],
         "yaxis": "y"
        },
        {
         "alignmentgroup": "True",
         "hovertemplate": "Segment Description 2=CONVENIENCE STORE<br>=%{x}<br><b>$USD</b>=%{y}<extra></extra>",
         "legendgroup": "CONVENIENCE STORE",
         "marker": {
          "color": "#00cc96",
          "pattern": {
           "shape": ""
          }
         },
         "name": "CONVENIENCE STORE",
         "offsetgroup": "CONVENIENCE STORE",
         "orientation": "v",
         "showlegend": true,
         "textposition": "auto",
         "type": "bar",
         "x": [
          "J. POLEP",
          "Core-Mark",
          "HAROLD LEVINSON & ASSOC",
          "FARNER BOCKEN MIDCONTINEN",
          "TRIBECA NIK INC",
          "F. MCCONNELL & SONS, INC.",
          "Amcon",
          "TREPCO D.B.A KENNEDY WHOL",
          "CENTURY DISTRIBUTORS",
          "SAINT JOE DISTRIBUTING",
          "Eby-Brown",
          "SIMPLY DELIVERED",
          "MODERN DISTRIBUTORS, INC.",
          "REDSTONE FOODS INC",
          "DOUGLAS CO./CONWAY",
          "H.T. HACKNEY/GAHANNA",
          "M R WILLIAMS",
          "STEPHENSON WHSLE CO., INC",
          "R.C. TAYLOR",
          "TOPICZ",
          "GROCERY SUPPLY/SULPHUR SP",
          "TEXAS WHOLESALE- DALLAS",
          "J. MILLS",
          "CHAMBERS AND OWEN",
          "C.D. HARTNETT/WEATHERFORD",
          "UNITED CUSTOM DIST-KALAMA",
          "GLIDEWELL DISTRIBUTING CO",
          "HIBBERT & MCGEE",
          "ABL WHOLESALE",
          "JOHN F. TROMPETER",
          "SANDSTROMS",
          "LONG WHOLESALE/CORINTH",
          "BLOOM WHOLESALE",
          "CAPITOL DISTRIBUTING",
          "S&O WHOLESALE CO",
          "SHEEHAN MAJESTIC",
          "SOUTH SHORE DISTRIBUTION",
          "RESNICK DISTRIBUTORS",
          "TYLER C-STORE WHOLESALE"
         ],
         "xaxis": "x",
         "y": [
          347596.46,
          254375.30000000002,
          210365.62,
          182592.32,
          85239.64,
          68639.04000000001,
          61007.54,
          20762.9,
          17633.70379831933,
          11999.32,
          11971.82,
          11844,
          10952.72,
          10665.31,
          10177.2,
          9837.980000000001,
          7401.26,
          5858.08,
          5184.280000000001,
          4763.02,
          4193.1,
          4050.26,
          3858,
          3805.2,
          3402.6000000000004,
          3167.16,
          2335.8,
          2290.78,
          2046.72,
          2031.7800000000002,
          1269,
          1255.68,
          1218,
          313.92,
          282,
          235.44,
          171.08,
          78.48,
          0
         ],
         "yaxis": "y"
        },
        {
         "alignmentgroup": "True",
         "hovertemplate": "Segment Description 2=BROADLINE DISTRIBUTOR<br>=%{x}<br><b>$USD</b>=%{y}<extra></extra>",
         "legendgroup": "BROADLINE DISTRIBUTOR",
         "marker": {
          "color": "#ab63fa",
          "pattern": {
           "shape": ""
          }
         },
         "name": "BROADLINE DISTRIBUTOR",
         "offsetgroup": "BROADLINE DISTRIBUTOR",
         "orientation": "v",
         "showlegend": true,
         "textposition": "auto",
         "type": "bar",
         "x": [
          "US Foods",
          "Sysco",
          "Gordon",
          "PENN STATE UNIVERSITY",
          "MARTIN BROTHERS/VIRTUAL S",
          "PALO ALTO EGG",
          "COSGROVE DISTRIBUTORS,INC",
          "JORDANO'S",
          "ALL FRESH PRODUCTS",
          "CASH-WA DISTR. OF FARGO",
          "SCHIFFS FOOD SERVICE",
          "D&M FOOD SERVICE",
          "C.M. TANNER GROCERY CO.",
          "STANLEY MARVEL CO.",
          "MARQUE'S FOOD DIST. INC."
         ],
         "xaxis": "x",
         "y": [
          108114.77,
          38741.880000000005,
          9307.6,
          6957.92,
          1507.41,
          1410,
          956.4000000000001,
          260.44,
          171.08,
          78.48,
          78.48,
          35.9,
          21.54,
          0,
          0
         ],
         "yaxis": "y"
        },
        {
         "alignmentgroup": "True",
         "hovertemplate": "Segment Description 2=ONLINE DISTRIBUTORS<br>=%{x}<br><b>$USD</b>=%{y}<extra></extra>",
         "legendgroup": "ONLINE DISTRIBUTORS",
         "marker": {
          "color": "#FFA15A",
          "pattern": {
           "shape": ""
          }
         },
         "name": "ONLINE DISTRIBUTORS",
         "offsetgroup": "ONLINE DISTRIBUTORS",
         "orientation": "v",
         "showlegend": true,
         "textposition": "auto",
         "type": "bar",
         "x": [
          "Green Rabbit",
          "FOOD SERVICE DIRECT",
          "E-Tailer",
          "ZORO",
          "REBEL SMUGGLING FED EX",
          "SPICY PRODUCTS LLC",
          "PALATIZE",
          "E-TAILER DROP SHIP",
          "FIND IMPORTS",
          "STOCK CLOSET",
          "F. MCCONNELL & SONS, INC."
         ],
         "xaxis": "x",
         "y": [
          20193.5255,
          12725.94,
          10333.25,
          1230.28,
          779.04,
          423,
          141,
          85.54,
          79.39,
          78.48,
          0
         ],
         "yaxis": "y"
        },
        {
         "alignmentgroup": "True",
         "hovertemplate": "Segment Description 2=GROCERY<br>=%{x}<br><b>$USD</b>=%{y}<extra></extra>",
         "legendgroup": "GROCERY",
         "marker": {
          "color": "#19d3f3",
          "pattern": {
           "shape": ""
          }
         },
         "name": "GROCERY",
         "offsetgroup": "GROCERY",
         "orientation": "v",
         "showlegend": true,
         "textposition": "auto",
         "type": "bar",
         "x": [
          "CERTCO FOODS/DANIELS"
         ],
         "xaxis": "x",
         "y": [
          16129.460000000001
         ],
         "yaxis": "y"
        },
        {
         "alignmentgroup": "True",
         "hovertemplate": "Segment Description 2=FOOD PROCESSORS<br>=%{x}<br><b>$USD</b>=%{y}<extra></extra>",
         "legendgroup": "FOOD PROCESSORS",
         "marker": {
          "color": "#FF6692",
          "pattern": {
           "shape": ""
          }
         },
         "name": "FOOD PROCESSORS",
         "offsetgroup": "FOOD PROCESSORS",
         "orientation": "v",
         "showlegend": true,
         "textposition": "auto",
         "type": "bar",
         "x": [
          "ALBANESE CONFECTIONERY",
          "Tropical"
         ],
         "xaxis": "x",
         "y": [
          9261.6,
          4965.08
         ],
         "yaxis": "y"
        },
        {
         "alignmentgroup": "True",
         "hovertemplate": "Segment Description 2=JAN/SAN/PAPER<br>=%{x}<br><b>$USD</b>=%{y}<extra></extra>",
         "legendgroup": "JAN/SAN/PAPER",
         "marker": {
          "color": "#B6E880",
          "pattern": {
           "shape": ""
          }
         },
         "name": "JAN/SAN/PAPER",
         "offsetgroup": "JAN/SAN/PAPER",
         "orientation": "v",
         "showlegend": true,
         "textposition": "auto",
         "type": "bar",
         "x": [
          "COAST BROTHERS",
          "W.B. Mason"
         ],
         "xaxis": "x",
         "y": [
          602.98,
          282
         ],
         "yaxis": "y"
        },
        {
         "alignmentgroup": "True",
         "hovertemplate": "Segment Description 2=E&S DEALERS<br>=%{x}<br><b>$USD</b>=%{y}<extra></extra>",
         "legendgroup": "E&S DEALERS",
         "marker": {
          "color": "#FF97FF",
          "pattern": {
           "shape": ""
          }
         },
         "name": "E&S DEALERS",
         "offsetgroup": "E&S DEALERS",
         "orientation": "v",
         "showlegend": true,
         "textposition": "auto",
         "type": "bar",
         "x": [
          "HOTEL SUPPLY WAREHOUSE, I"
         ],
         "xaxis": "x",
         "y": [
          85.54
         ],
         "yaxis": "y"
        }
       ],
       "layout": {
        "barmode": "relative",
        "legend": {
         "title": {
          "text": "Segment Description 2"
         },
         "tracegroupgap": 0
        },
        "showlegend": false,
        "template": {
         "data": {
          "bar": [
           {
            "error_x": {
             "color": "#2a3f5f"
            },
            "error_y": {
             "color": "#2a3f5f"
            },
            "marker": {
             "line": {
              "color": "white",
              "width": 0.5
             },
             "pattern": {
              "fillmode": "overlay",
              "size": 10,
              "solidity": 0.2
             }
            },
            "type": "bar"
           }
          ],
          "barpolar": [
           {
            "marker": {
             "line": {
              "color": "white",
              "width": 0.5
             },
             "pattern": {
              "fillmode": "overlay",
              "size": 10,
              "solidity": 0.2
             }
            },
            "type": "barpolar"
           }
          ],
          "carpet": [
           {
            "aaxis": {
             "endlinecolor": "#2a3f5f",
             "gridcolor": "#C8D4E3",
             "linecolor": "#C8D4E3",
             "minorgridcolor": "#C8D4E3",
             "startlinecolor": "#2a3f5f"
            },
            "baxis": {
             "endlinecolor": "#2a3f5f",
             "gridcolor": "#C8D4E3",
             "linecolor": "#C8D4E3",
             "minorgridcolor": "#C8D4E3",
             "startlinecolor": "#2a3f5f"
            },
            "type": "carpet"
           }
          ],
          "choropleth": [
           {
            "colorbar": {
             "outlinewidth": 0,
             "ticks": ""
            },
            "type": "choropleth"
           }
          ],
          "contour": [
           {
            "colorbar": {
             "outlinewidth": 0,
             "ticks": ""
            },
            "colorscale": [
             [
              0,
              "#0d0887"
             ],
             [
              0.1111111111111111,
              "#46039f"
             ],
             [
              0.2222222222222222,
              "#7201a8"
             ],
             [
              0.3333333333333333,
              "#9c179e"
             ],
             [
              0.4444444444444444,
              "#bd3786"
             ],
             [
              0.5555555555555556,
              "#d8576b"
             ],
             [
              0.6666666666666666,
              "#ed7953"
             ],
             [
              0.7777777777777778,
              "#fb9f3a"
             ],
             [
              0.8888888888888888,
              "#fdca26"
             ],
             [
              1,
              "#f0f921"
             ]
            ],
            "type": "contour"
           }
          ],
          "contourcarpet": [
           {
            "colorbar": {
             "outlinewidth": 0,
             "ticks": ""
            },
            "type": "contourcarpet"
           }
          ],
          "heatmap": [
           {
            "colorbar": {
             "outlinewidth": 0,
             "ticks": ""
            },
            "colorscale": [
             [
              0,
              "#0d0887"
             ],
             [
              0.1111111111111111,
              "#46039f"
             ],
             [
              0.2222222222222222,
              "#7201a8"
             ],
             [
              0.3333333333333333,
              "#9c179e"
             ],
             [
              0.4444444444444444,
              "#bd3786"
             ],
             [
              0.5555555555555556,
              "#d8576b"
             ],
             [
              0.6666666666666666,
              "#ed7953"
             ],
             [
              0.7777777777777778,
              "#fb9f3a"
             ],
             [
              0.8888888888888888,
              "#fdca26"
             ],
             [
              1,
              "#f0f921"
             ]
            ],
            "type": "heatmap"
           }
          ],
          "heatmapgl": [
           {
            "colorbar": {
             "outlinewidth": 0,
             "ticks": ""
            },
            "colorscale": [
             [
              0,
              "#0d0887"
             ],
             [
              0.1111111111111111,
              "#46039f"
             ],
             [
              0.2222222222222222,
              "#7201a8"
             ],
             [
              0.3333333333333333,
              "#9c179e"
             ],
             [
              0.4444444444444444,
              "#bd3786"
             ],
             [
              0.5555555555555556,
              "#d8576b"
             ],
             [
              0.6666666666666666,
              "#ed7953"
             ],
             [
              0.7777777777777778,
              "#fb9f3a"
             ],
             [
              0.8888888888888888,
              "#fdca26"
             ],
             [
              1,
              "#f0f921"
             ]
            ],
            "type": "heatmapgl"
           }
          ],
          "histogram": [
           {
            "marker": {
             "pattern": {
              "fillmode": "overlay",
              "size": 10,
              "solidity": 0.2
             }
            },
            "type": "histogram"
           }
          ],
          "histogram2d": [
           {
            "colorbar": {
             "outlinewidth": 0,
             "ticks": ""
            },
            "colorscale": [
             [
              0,
              "#0d0887"
             ],
             [
              0.1111111111111111,
              "#46039f"
             ],
             [
              0.2222222222222222,
              "#7201a8"
             ],
             [
              0.3333333333333333,
              "#9c179e"
             ],
             [
              0.4444444444444444,
              "#bd3786"
             ],
             [
              0.5555555555555556,
              "#d8576b"
             ],
             [
              0.6666666666666666,
              "#ed7953"
             ],
             [
              0.7777777777777778,
              "#fb9f3a"
             ],
             [
              0.8888888888888888,
              "#fdca26"
             ],
             [
              1,
              "#f0f921"
             ]
            ],
            "type": "histogram2d"
           }
          ],
          "histogram2dcontour": [
           {
            "colorbar": {
             "outlinewidth": 0,
             "ticks": ""
            },
            "colorscale": [
             [
              0,
              "#0d0887"
             ],
             [
              0.1111111111111111,
              "#46039f"
             ],
             [
              0.2222222222222222,
              "#7201a8"
             ],
             [
              0.3333333333333333,
              "#9c179e"
             ],
             [
              0.4444444444444444,
              "#bd3786"
             ],
             [
              0.5555555555555556,
              "#d8576b"
             ],
             [
              0.6666666666666666,
              "#ed7953"
             ],
             [
              0.7777777777777778,
              "#fb9f3a"
             ],
             [
              0.8888888888888888,
              "#fdca26"
             ],
             [
              1,
              "#f0f921"
             ]
            ],
            "type": "histogram2dcontour"
           }
          ],
          "mesh3d": [
           {
            "colorbar": {
             "outlinewidth": 0,
             "ticks": ""
            },
            "type": "mesh3d"
           }
          ],
          "parcoords": [
           {
            "line": {
             "colorbar": {
              "outlinewidth": 0,
              "ticks": ""
             }
            },
            "type": "parcoords"
           }
          ],
          "pie": [
           {
            "automargin": true,
            "type": "pie"
           }
          ],
          "scatter": [
           {
            "fillpattern": {
             "fillmode": "overlay",
             "size": 10,
             "solidity": 0.2
            },
            "type": "scatter"
           }
          ],
          "scatter3d": [
           {
            "line": {
             "colorbar": {
              "outlinewidth": 0,
              "ticks": ""
             }
            },
            "marker": {
             "colorbar": {
              "outlinewidth": 0,
              "ticks": ""
             }
            },
            "type": "scatter3d"
           }
          ],
          "scattercarpet": [
           {
            "marker": {
             "colorbar": {
              "outlinewidth": 0,
              "ticks": ""
             }
            },
            "type": "scattercarpet"
           }
          ],
          "scattergeo": [
           {
            "marker": {
             "colorbar": {
              "outlinewidth": 0,
              "ticks": ""
             }
            },
            "type": "scattergeo"
           }
          ],
          "scattergl": [
           {
            "marker": {
             "colorbar": {
              "outlinewidth": 0,
              "ticks": ""
             }
            },
            "type": "scattergl"
           }
          ],
          "scattermapbox": [
           {
            "marker": {
             "colorbar": {
              "outlinewidth": 0,
              "ticks": ""
             }
            },
            "type": "scattermapbox"
           }
          ],
          "scatterpolar": [
           {
            "marker": {
             "colorbar": {
              "outlinewidth": 0,
              "ticks": ""
             }
            },
            "type": "scatterpolar"
           }
          ],
          "scatterpolargl": [
           {
            "marker": {
             "colorbar": {
              "outlinewidth": 0,
              "ticks": ""
             }
            },
            "type": "scatterpolargl"
           }
          ],
          "scatterternary": [
           {
            "marker": {
             "colorbar": {
              "outlinewidth": 0,
              "ticks": ""
             }
            },
            "type": "scatterternary"
           }
          ],
          "surface": [
           {
            "colorbar": {
             "outlinewidth": 0,
             "ticks": ""
            },
            "colorscale": [
             [
              0,
              "#0d0887"
             ],
             [
              0.1111111111111111,
              "#46039f"
             ],
             [
              0.2222222222222222,
              "#7201a8"
             ],
             [
              0.3333333333333333,
              "#9c179e"
             ],
             [
              0.4444444444444444,
              "#bd3786"
             ],
             [
              0.5555555555555556,
              "#d8576b"
             ],
             [
              0.6666666666666666,
              "#ed7953"
             ],
             [
              0.7777777777777778,
              "#fb9f3a"
             ],
             [
              0.8888888888888888,
              "#fdca26"
             ],
             [
              1,
              "#f0f921"
             ]
            ],
            "type": "surface"
           }
          ],
          "table": [
           {
            "cells": {
             "fill": {
              "color": "#EBF0F8"
             },
             "line": {
              "color": "white"
             }
            },
            "header": {
             "fill": {
              "color": "#C8D4E3"
             },
             "line": {
              "color": "white"
             }
            },
            "type": "table"
           }
          ]
         },
         "layout": {
          "annotationdefaults": {
           "arrowcolor": "#2a3f5f",
           "arrowhead": 0,
           "arrowwidth": 1
          },
          "autotypenumbers": "strict",
          "coloraxis": {
           "colorbar": {
            "outlinewidth": 0,
            "ticks": ""
           }
          },
          "colorscale": {
           "diverging": [
            [
             0,
             "#8e0152"
            ],
            [
             0.1,
             "#c51b7d"
            ],
            [
             0.2,
             "#de77ae"
            ],
            [
             0.3,
             "#f1b6da"
            ],
            [
             0.4,
             "#fde0ef"
            ],
            [
             0.5,
             "#f7f7f7"
            ],
            [
             0.6,
             "#e6f5d0"
            ],
            [
             0.7,
             "#b8e186"
            ],
            [
             0.8,
             "#7fbc41"
            ],
            [
             0.9,
             "#4d9221"
            ],
            [
             1,
             "#276419"
            ]
           ],
           "sequential": [
            [
             0,
             "#0d0887"
            ],
            [
             0.1111111111111111,
             "#46039f"
            ],
            [
             0.2222222222222222,
             "#7201a8"
            ],
            [
             0.3333333333333333,
             "#9c179e"
            ],
            [
             0.4444444444444444,
             "#bd3786"
            ],
            [
             0.5555555555555556,
             "#d8576b"
            ],
            [
             0.6666666666666666,
             "#ed7953"
            ],
            [
             0.7777777777777778,
             "#fb9f3a"
            ],
            [
             0.8888888888888888,
             "#fdca26"
            ],
            [
             1,
             "#f0f921"
            ]
           ],
           "sequentialminus": [
            [
             0,
             "#0d0887"
            ],
            [
             0.1111111111111111,
             "#46039f"
            ],
            [
             0.2222222222222222,
             "#7201a8"
            ],
            [
             0.3333333333333333,
             "#9c179e"
            ],
            [
             0.4444444444444444,
             "#bd3786"
            ],
            [
             0.5555555555555556,
             "#d8576b"
            ],
            [
             0.6666666666666666,
             "#ed7953"
            ],
            [
             0.7777777777777778,
             "#fb9f3a"
            ],
            [
             0.8888888888888888,
             "#fdca26"
            ],
            [
             1,
             "#f0f921"
            ]
           ]
          },
          "colorway": [
           "#636efa",
           "#EF553B",
           "#00cc96",
           "#ab63fa",
           "#FFA15A",
           "#19d3f3",
           "#FF6692",
           "#B6E880",
           "#FF97FF",
           "#FECB52"
          ],
          "font": {
           "color": "#2a3f5f"
          },
          "geo": {
           "bgcolor": "white",
           "lakecolor": "white",
           "landcolor": "white",
           "showlakes": true,
           "showland": true,
           "subunitcolor": "#C8D4E3"
          },
          "hoverlabel": {
           "align": "left"
          },
          "hovermode": "closest",
          "mapbox": {
           "style": "light"
          },
          "paper_bgcolor": "white",
          "plot_bgcolor": "white",
          "polar": {
           "angularaxis": {
            "gridcolor": "#EBF0F8",
            "linecolor": "#EBF0F8",
            "ticks": ""
           },
           "bgcolor": "white",
           "radialaxis": {
            "gridcolor": "#EBF0F8",
            "linecolor": "#EBF0F8",
            "ticks": ""
           }
          },
          "scene": {
           "xaxis": {
            "backgroundcolor": "white",
            "gridcolor": "#DFE8F3",
            "gridwidth": 2,
            "linecolor": "#EBF0F8",
            "showbackground": true,
            "ticks": "",
            "zerolinecolor": "#EBF0F8"
           },
           "yaxis": {
            "backgroundcolor": "white",
            "gridcolor": "#DFE8F3",
            "gridwidth": 2,
            "linecolor": "#EBF0F8",
            "showbackground": true,
            "ticks": "",
            "zerolinecolor": "#EBF0F8"
           },
           "zaxis": {
            "backgroundcolor": "white",
            "gridcolor": "#DFE8F3",
            "gridwidth": 2,
            "linecolor": "#EBF0F8",
            "showbackground": true,
            "ticks": "",
            "zerolinecolor": "#EBF0F8"
           }
          },
          "shapedefaults": {
           "line": {
            "color": "#2a3f5f"
           }
          },
          "ternary": {
           "aaxis": {
            "gridcolor": "#DFE8F3",
            "linecolor": "#A2B1C6",
            "ticks": ""
           },
           "baxis": {
            "gridcolor": "#DFE8F3",
            "linecolor": "#A2B1C6",
            "ticks": ""
           },
           "bgcolor": "white",
           "caxis": {
            "gridcolor": "#DFE8F3",
            "linecolor": "#A2B1C6",
            "ticks": ""
           }
          },
          "title": {
           "x": 0.05
          },
          "xaxis": {
           "automargin": true,
           "gridcolor": "#EBF0F8",
           "linecolor": "#EBF0F8",
           "ticks": "",
           "title": {
            "standoff": 15
           },
           "zerolinecolor": "#EBF0F8",
           "zerolinewidth": 2
          },
          "yaxis": {
           "automargin": true,
           "gridcolor": "#EBF0F8",
           "linecolor": "#EBF0F8",
           "ticks": "",
           "title": {
            "standoff": 15
           },
           "zerolinecolor": "#EBF0F8",
           "zerolinewidth": 2
          }
         }
        },
        "title": {
         "text": "<b>Sales by Parent</b>"
        },
        "xaxis": {
         "anchor": "y",
         "domain": [
          0,
          1
         ],
         "title": {
          "text": ""
         }
        },
        "yaxis": {
         "anchor": "x",
         "domain": [
          0,
          1
         ],
         "title": {
          "text": "<b>$USD</b>"
         }
        }
       }
      },
      "text/html": [
       "<div>                            <div id=\"8443c420-89b0-48a4-bf35-123980a99114\" class=\"plotly-graph-div\" style=\"height:525px; width:100%;\"></div>            <script type=\"text/javascript\">                require([\"plotly\"], function(Plotly) {                    window.PLOTLYENV=window.PLOTLYENV || {};                                    if (document.getElementById(\"8443c420-89b0-48a4-bf35-123980a99114\")) {                    Plotly.newPlot(                        \"8443c420-89b0-48a4-bf35-123980a99114\",                        [{\"alignmentgroup\":\"True\",\"hovertemplate\":\"Segment Description 2=VENDING<br>=%{x}<br><b>$USD</b>=%{y}<extra></extra>\",\"legendgroup\":\"VENDING\",\"marker\":{\"color\":\"#636efa\",\"pattern\":{\"shape\":\"\"}},\"name\":\"VENDING\",\"offsetgroup\":\"VENDING\",\"orientation\":\"v\",\"showlegend\":true,\"textposition\":\"auto\",\"x\":[\"Vistar\",\"SARNOW FOOD GROUP, INC.\",\"PROFORMANCE VEND USA\",\"TOTAL FOODS, INC.\",\"VENDOR'S SUPPLY\"],\"xaxis\":\"x\",\"y\":[4351448.7658,78880.92,23217.0,5640.0,235.44],\"yaxis\":\"y\",\"type\":\"bar\"},{\"alignmentgroup\":\"True\",\"hovertemplate\":\"Segment Description 2=ALTERNATE RETAIL<br>=%{x}<br><b>$USD</b>=%{y}<extra></extra>\",\"legendgroup\":\"ALTERNATE RETAIL\",\"marker\":{\"color\":\"#EF553B\",\"pattern\":{\"shape\":\"\"}},\"name\":\"ALTERNATE RETAIL\",\"offsetgroup\":\"ALTERNATE RETAIL\",\"orientation\":\"v\",\"showlegend\":true,\"textposition\":\"auto\",\"x\":[\"Vistar Retail\",\"Tropical\",\"KELLI'S GIFT SHOP SUPPLIE\",\"GH WHOLESALE\",\"Walkenhorsts\",\"BLUE MARKET INC\"],\"xaxis\":\"x\",\"y\":[1941548.3,1256786.82,303984.96,2709.08,2474.42,50.52],\"yaxis\":\"y\",\"type\":\"bar\"},{\"alignmentgroup\":\"True\",\"hovertemplate\":\"Segment Description 2=CONVENIENCE STORE<br>=%{x}<br><b>$USD</b>=%{y}<extra></extra>\",\"legendgroup\":\"CONVENIENCE STORE\",\"marker\":{\"color\":\"#00cc96\",\"pattern\":{\"shape\":\"\"}},\"name\":\"CONVENIENCE STORE\",\"offsetgroup\":\"CONVENIENCE STORE\",\"orientation\":\"v\",\"showlegend\":true,\"textposition\":\"auto\",\"x\":[\"J. POLEP\",\"Core-Mark\",\"HAROLD LEVINSON & ASSOC\",\"FARNER BOCKEN MIDCONTINEN\",\"TRIBECA NIK INC\",\"F. MCCONNELL & SONS, INC.\",\"Amcon\",\"TREPCO D.B.A KENNEDY WHOL\",\"CENTURY DISTRIBUTORS\",\"SAINT JOE DISTRIBUTING\",\"Eby-Brown\",\"SIMPLY DELIVERED\",\"MODERN DISTRIBUTORS, INC.\",\"REDSTONE FOODS INC\",\"DOUGLAS CO./CONWAY\",\"H.T. HACKNEY/GAHANNA\",\"M R WILLIAMS\",\"STEPHENSON WHSLE CO., INC\",\"R.C. TAYLOR\",\"TOPICZ\",\"GROCERY SUPPLY/SULPHUR SP\",\"TEXAS WHOLESALE- DALLAS\",\"J. MILLS\",\"CHAMBERS AND OWEN\",\"C.D. HARTNETT/WEATHERFORD\",\"UNITED CUSTOM DIST-KALAMA\",\"GLIDEWELL DISTRIBUTING CO\",\"HIBBERT & MCGEE\",\"ABL WHOLESALE\",\"JOHN F. TROMPETER\",\"SANDSTROMS\",\"LONG WHOLESALE/CORINTH\",\"BLOOM WHOLESALE\",\"CAPITOL DISTRIBUTING\",\"S&O WHOLESALE CO\",\"SHEEHAN MAJESTIC\",\"SOUTH SHORE DISTRIBUTION\",\"RESNICK DISTRIBUTORS\",\"TYLER C-STORE WHOLESALE\"],\"xaxis\":\"x\",\"y\":[347596.46,254375.30000000002,210365.62,182592.32,85239.64,68639.04000000001,61007.54,20762.9,17633.70379831933,11999.32,11971.82,11844.0,10952.72,10665.31,10177.2,9837.980000000001,7401.26,5858.08,5184.280000000001,4763.02,4193.1,4050.26,3858.0,3805.2,3402.6000000000004,3167.16,2335.8,2290.78,2046.72,2031.7800000000002,1269.0,1255.68,1218.0,313.92,282.0,235.44,171.08,78.48,0.0],\"yaxis\":\"y\",\"type\":\"bar\"},{\"alignmentgroup\":\"True\",\"hovertemplate\":\"Segment Description 2=BROADLINE DISTRIBUTOR<br>=%{x}<br><b>$USD</b>=%{y}<extra></extra>\",\"legendgroup\":\"BROADLINE DISTRIBUTOR\",\"marker\":{\"color\":\"#ab63fa\",\"pattern\":{\"shape\":\"\"}},\"name\":\"BROADLINE DISTRIBUTOR\",\"offsetgroup\":\"BROADLINE DISTRIBUTOR\",\"orientation\":\"v\",\"showlegend\":true,\"textposition\":\"auto\",\"x\":[\"US Foods\",\"Sysco\",\"Gordon\",\"PENN STATE UNIVERSITY\",\"MARTIN BROTHERS/VIRTUAL S\",\"PALO ALTO EGG\",\"COSGROVE DISTRIBUTORS,INC\",\"JORDANO'S\",\"ALL FRESH PRODUCTS\",\"CASH-WA DISTR. OF FARGO\",\"SCHIFFS FOOD SERVICE\",\"D&M FOOD SERVICE\",\"C.M. TANNER GROCERY CO.\",\"STANLEY MARVEL CO.\",\"MARQUE'S FOOD DIST. INC.\"],\"xaxis\":\"x\",\"y\":[108114.77,38741.880000000005,9307.6,6957.92,1507.41,1410.0,956.4000000000001,260.44,171.08,78.48,78.48,35.9,21.54,0.0,0.0],\"yaxis\":\"y\",\"type\":\"bar\"},{\"alignmentgroup\":\"True\",\"hovertemplate\":\"Segment Description 2=ONLINE DISTRIBUTORS<br>=%{x}<br><b>$USD</b>=%{y}<extra></extra>\",\"legendgroup\":\"ONLINE DISTRIBUTORS\",\"marker\":{\"color\":\"#FFA15A\",\"pattern\":{\"shape\":\"\"}},\"name\":\"ONLINE DISTRIBUTORS\",\"offsetgroup\":\"ONLINE DISTRIBUTORS\",\"orientation\":\"v\",\"showlegend\":true,\"textposition\":\"auto\",\"x\":[\"Green Rabbit\",\"FOOD SERVICE DIRECT\",\"E-Tailer\",\"ZORO\",\"REBEL SMUGGLING FED EX\",\"SPICY PRODUCTS LLC\",\"PALATIZE\",\"E-TAILER DROP SHIP\",\"FIND IMPORTS\",\"STOCK CLOSET\",\"F. MCCONNELL & SONS, INC.\"],\"xaxis\":\"x\",\"y\":[20193.5255,12725.94,10333.25,1230.28,779.04,423.0,141.0,85.54,79.39,78.48,0.0],\"yaxis\":\"y\",\"type\":\"bar\"},{\"alignmentgroup\":\"True\",\"hovertemplate\":\"Segment Description 2=GROCERY<br>=%{x}<br><b>$USD</b>=%{y}<extra></extra>\",\"legendgroup\":\"GROCERY\",\"marker\":{\"color\":\"#19d3f3\",\"pattern\":{\"shape\":\"\"}},\"name\":\"GROCERY\",\"offsetgroup\":\"GROCERY\",\"orientation\":\"v\",\"showlegend\":true,\"textposition\":\"auto\",\"x\":[\"CERTCO FOODS/DANIELS\"],\"xaxis\":\"x\",\"y\":[16129.460000000001],\"yaxis\":\"y\",\"type\":\"bar\"},{\"alignmentgroup\":\"True\",\"hovertemplate\":\"Segment Description 2=FOOD PROCESSORS<br>=%{x}<br><b>$USD</b>=%{y}<extra></extra>\",\"legendgroup\":\"FOOD PROCESSORS\",\"marker\":{\"color\":\"#FF6692\",\"pattern\":{\"shape\":\"\"}},\"name\":\"FOOD PROCESSORS\",\"offsetgroup\":\"FOOD PROCESSORS\",\"orientation\":\"v\",\"showlegend\":true,\"textposition\":\"auto\",\"x\":[\"ALBANESE CONFECTIONERY\",\"Tropical\"],\"xaxis\":\"x\",\"y\":[9261.6,4965.08],\"yaxis\":\"y\",\"type\":\"bar\"},{\"alignmentgroup\":\"True\",\"hovertemplate\":\"Segment Description 2=JAN/SAN/PAPER<br>=%{x}<br><b>$USD</b>=%{y}<extra></extra>\",\"legendgroup\":\"JAN/SAN/PAPER\",\"marker\":{\"color\":\"#B6E880\",\"pattern\":{\"shape\":\"\"}},\"name\":\"JAN/SAN/PAPER\",\"offsetgroup\":\"JAN/SAN/PAPER\",\"orientation\":\"v\",\"showlegend\":true,\"textposition\":\"auto\",\"x\":[\"COAST BROTHERS\",\"W.B. Mason\"],\"xaxis\":\"x\",\"y\":[602.98,282.0],\"yaxis\":\"y\",\"type\":\"bar\"},{\"alignmentgroup\":\"True\",\"hovertemplate\":\"Segment Description 2=E&S DEALERS<br>=%{x}<br><b>$USD</b>=%{y}<extra></extra>\",\"legendgroup\":\"E&S DEALERS\",\"marker\":{\"color\":\"#FF97FF\",\"pattern\":{\"shape\":\"\"}},\"name\":\"E&S DEALERS\",\"offsetgroup\":\"E&S DEALERS\",\"orientation\":\"v\",\"showlegend\":true,\"textposition\":\"auto\",\"x\":[\"HOTEL SUPPLY WAREHOUSE, I\"],\"xaxis\":\"x\",\"y\":[85.54],\"yaxis\":\"y\",\"type\":\"bar\"}],                        {\"template\":{\"data\":{\"barpolar\":[{\"marker\":{\"line\":{\"color\":\"white\",\"width\":0.5},\"pattern\":{\"fillmode\":\"overlay\",\"size\":10,\"solidity\":0.2}},\"type\":\"barpolar\"}],\"bar\":[{\"error_x\":{\"color\":\"#2a3f5f\"},\"error_y\":{\"color\":\"#2a3f5f\"},\"marker\":{\"line\":{\"color\":\"white\",\"width\":0.5},\"pattern\":{\"fillmode\":\"overlay\",\"size\":10,\"solidity\":0.2}},\"type\":\"bar\"}],\"carpet\":[{\"aaxis\":{\"endlinecolor\":\"#2a3f5f\",\"gridcolor\":\"#C8D4E3\",\"linecolor\":\"#C8D4E3\",\"minorgridcolor\":\"#C8D4E3\",\"startlinecolor\":\"#2a3f5f\"},\"baxis\":{\"endlinecolor\":\"#2a3f5f\",\"gridcolor\":\"#C8D4E3\",\"linecolor\":\"#C8D4E3\",\"minorgridcolor\":\"#C8D4E3\",\"startlinecolor\":\"#2a3f5f\"},\"type\":\"carpet\"}],\"choropleth\":[{\"colorbar\":{\"outlinewidth\":0,\"ticks\":\"\"},\"type\":\"choropleth\"}],\"contourcarpet\":[{\"colorbar\":{\"outlinewidth\":0,\"ticks\":\"\"},\"type\":\"contourcarpet\"}],\"contour\":[{\"colorbar\":{\"outlinewidth\":0,\"ticks\":\"\"},\"colorscale\":[[0.0,\"#0d0887\"],[0.1111111111111111,\"#46039f\"],[0.2222222222222222,\"#7201a8\"],[0.3333333333333333,\"#9c179e\"],[0.4444444444444444,\"#bd3786\"],[0.5555555555555556,\"#d8576b\"],[0.6666666666666666,\"#ed7953\"],[0.7777777777777778,\"#fb9f3a\"],[0.8888888888888888,\"#fdca26\"],[1.0,\"#f0f921\"]],\"type\":\"contour\"}],\"heatmapgl\":[{\"colorbar\":{\"outlinewidth\":0,\"ticks\":\"\"},\"colorscale\":[[0.0,\"#0d0887\"],[0.1111111111111111,\"#46039f\"],[0.2222222222222222,\"#7201a8\"],[0.3333333333333333,\"#9c179e\"],[0.4444444444444444,\"#bd3786\"],[0.5555555555555556,\"#d8576b\"],[0.6666666666666666,\"#ed7953\"],[0.7777777777777778,\"#fb9f3a\"],[0.8888888888888888,\"#fdca26\"],[1.0,\"#f0f921\"]],\"type\":\"heatmapgl\"}],\"heatmap\":[{\"colorbar\":{\"outlinewidth\":0,\"ticks\":\"\"},\"colorscale\":[[0.0,\"#0d0887\"],[0.1111111111111111,\"#46039f\"],[0.2222222222222222,\"#7201a8\"],[0.3333333333333333,\"#9c179e\"],[0.4444444444444444,\"#bd3786\"],[0.5555555555555556,\"#d8576b\"],[0.6666666666666666,\"#ed7953\"],[0.7777777777777778,\"#fb9f3a\"],[0.8888888888888888,\"#fdca26\"],[1.0,\"#f0f921\"]],\"type\":\"heatmap\"}],\"histogram2dcontour\":[{\"colorbar\":{\"outlinewidth\":0,\"ticks\":\"\"},\"colorscale\":[[0.0,\"#0d0887\"],[0.1111111111111111,\"#46039f\"],[0.2222222222222222,\"#7201a8\"],[0.3333333333333333,\"#9c179e\"],[0.4444444444444444,\"#bd3786\"],[0.5555555555555556,\"#d8576b\"],[0.6666666666666666,\"#ed7953\"],[0.7777777777777778,\"#fb9f3a\"],[0.8888888888888888,\"#fdca26\"],[1.0,\"#f0f921\"]],\"type\":\"histogram2dcontour\"}],\"histogram2d\":[{\"colorbar\":{\"outlinewidth\":0,\"ticks\":\"\"},\"colorscale\":[[0.0,\"#0d0887\"],[0.1111111111111111,\"#46039f\"],[0.2222222222222222,\"#7201a8\"],[0.3333333333333333,\"#9c179e\"],[0.4444444444444444,\"#bd3786\"],[0.5555555555555556,\"#d8576b\"],[0.6666666666666666,\"#ed7953\"],[0.7777777777777778,\"#fb9f3a\"],[0.8888888888888888,\"#fdca26\"],[1.0,\"#f0f921\"]],\"type\":\"histogram2d\"}],\"histogram\":[{\"marker\":{\"pattern\":{\"fillmode\":\"overlay\",\"size\":10,\"solidity\":0.2}},\"type\":\"histogram\"}],\"mesh3d\":[{\"colorbar\":{\"outlinewidth\":0,\"ticks\":\"\"},\"type\":\"mesh3d\"}],\"parcoords\":[{\"line\":{\"colorbar\":{\"outlinewidth\":0,\"ticks\":\"\"}},\"type\":\"parcoords\"}],\"pie\":[{\"automargin\":true,\"type\":\"pie\"}],\"scatter3d\":[{\"line\":{\"colorbar\":{\"outlinewidth\":0,\"ticks\":\"\"}},\"marker\":{\"colorbar\":{\"outlinewidth\":0,\"ticks\":\"\"}},\"type\":\"scatter3d\"}],\"scattercarpet\":[{\"marker\":{\"colorbar\":{\"outlinewidth\":0,\"ticks\":\"\"}},\"type\":\"scattercarpet\"}],\"scattergeo\":[{\"marker\":{\"colorbar\":{\"outlinewidth\":0,\"ticks\":\"\"}},\"type\":\"scattergeo\"}],\"scattergl\":[{\"marker\":{\"colorbar\":{\"outlinewidth\":0,\"ticks\":\"\"}},\"type\":\"scattergl\"}],\"scattermapbox\":[{\"marker\":{\"colorbar\":{\"outlinewidth\":0,\"ticks\":\"\"}},\"type\":\"scattermapbox\"}],\"scatterpolargl\":[{\"marker\":{\"colorbar\":{\"outlinewidth\":0,\"ticks\":\"\"}},\"type\":\"scatterpolargl\"}],\"scatterpolar\":[{\"marker\":{\"colorbar\":{\"outlinewidth\":0,\"ticks\":\"\"}},\"type\":\"scatterpolar\"}],\"scatter\":[{\"fillpattern\":{\"fillmode\":\"overlay\",\"size\":10,\"solidity\":0.2},\"type\":\"scatter\"}],\"scatterternary\":[{\"marker\":{\"colorbar\":{\"outlinewidth\":0,\"ticks\":\"\"}},\"type\":\"scatterternary\"}],\"surface\":[{\"colorbar\":{\"outlinewidth\":0,\"ticks\":\"\"},\"colorscale\":[[0.0,\"#0d0887\"],[0.1111111111111111,\"#46039f\"],[0.2222222222222222,\"#7201a8\"],[0.3333333333333333,\"#9c179e\"],[0.4444444444444444,\"#bd3786\"],[0.5555555555555556,\"#d8576b\"],[0.6666666666666666,\"#ed7953\"],[0.7777777777777778,\"#fb9f3a\"],[0.8888888888888888,\"#fdca26\"],[1.0,\"#f0f921\"]],\"type\":\"surface\"}],\"table\":[{\"cells\":{\"fill\":{\"color\":\"#EBF0F8\"},\"line\":{\"color\":\"white\"}},\"header\":{\"fill\":{\"color\":\"#C8D4E3\"},\"line\":{\"color\":\"white\"}},\"type\":\"table\"}]},\"layout\":{\"annotationdefaults\":{\"arrowcolor\":\"#2a3f5f\",\"arrowhead\":0,\"arrowwidth\":1},\"autotypenumbers\":\"strict\",\"coloraxis\":{\"colorbar\":{\"outlinewidth\":0,\"ticks\":\"\"}},\"colorscale\":{\"diverging\":[[0,\"#8e0152\"],[0.1,\"#c51b7d\"],[0.2,\"#de77ae\"],[0.3,\"#f1b6da\"],[0.4,\"#fde0ef\"],[0.5,\"#f7f7f7\"],[0.6,\"#e6f5d0\"],[0.7,\"#b8e186\"],[0.8,\"#7fbc41\"],[0.9,\"#4d9221\"],[1,\"#276419\"]],\"sequential\":[[0.0,\"#0d0887\"],[0.1111111111111111,\"#46039f\"],[0.2222222222222222,\"#7201a8\"],[0.3333333333333333,\"#9c179e\"],[0.4444444444444444,\"#bd3786\"],[0.5555555555555556,\"#d8576b\"],[0.6666666666666666,\"#ed7953\"],[0.7777777777777778,\"#fb9f3a\"],[0.8888888888888888,\"#fdca26\"],[1.0,\"#f0f921\"]],\"sequentialminus\":[[0.0,\"#0d0887\"],[0.1111111111111111,\"#46039f\"],[0.2222222222222222,\"#7201a8\"],[0.3333333333333333,\"#9c179e\"],[0.4444444444444444,\"#bd3786\"],[0.5555555555555556,\"#d8576b\"],[0.6666666666666666,\"#ed7953\"],[0.7777777777777778,\"#fb9f3a\"],[0.8888888888888888,\"#fdca26\"],[1.0,\"#f0f921\"]]},\"colorway\":[\"#636efa\",\"#EF553B\",\"#00cc96\",\"#ab63fa\",\"#FFA15A\",\"#19d3f3\",\"#FF6692\",\"#B6E880\",\"#FF97FF\",\"#FECB52\"],\"font\":{\"color\":\"#2a3f5f\"},\"geo\":{\"bgcolor\":\"white\",\"lakecolor\":\"white\",\"landcolor\":\"white\",\"showlakes\":true,\"showland\":true,\"subunitcolor\":\"#C8D4E3\"},\"hoverlabel\":{\"align\":\"left\"},\"hovermode\":\"closest\",\"mapbox\":{\"style\":\"light\"},\"paper_bgcolor\":\"white\",\"plot_bgcolor\":\"white\",\"polar\":{\"angularaxis\":{\"gridcolor\":\"#EBF0F8\",\"linecolor\":\"#EBF0F8\",\"ticks\":\"\"},\"bgcolor\":\"white\",\"radialaxis\":{\"gridcolor\":\"#EBF0F8\",\"linecolor\":\"#EBF0F8\",\"ticks\":\"\"}},\"scene\":{\"xaxis\":{\"backgroundcolor\":\"white\",\"gridcolor\":\"#DFE8F3\",\"gridwidth\":2,\"linecolor\":\"#EBF0F8\",\"showbackground\":true,\"ticks\":\"\",\"zerolinecolor\":\"#EBF0F8\"},\"yaxis\":{\"backgroundcolor\":\"white\",\"gridcolor\":\"#DFE8F3\",\"gridwidth\":2,\"linecolor\":\"#EBF0F8\",\"showbackground\":true,\"ticks\":\"\",\"zerolinecolor\":\"#EBF0F8\"},\"zaxis\":{\"backgroundcolor\":\"white\",\"gridcolor\":\"#DFE8F3\",\"gridwidth\":2,\"linecolor\":\"#EBF0F8\",\"showbackground\":true,\"ticks\":\"\",\"zerolinecolor\":\"#EBF0F8\"}},\"shapedefaults\":{\"line\":{\"color\":\"#2a3f5f\"}},\"ternary\":{\"aaxis\":{\"gridcolor\":\"#DFE8F3\",\"linecolor\":\"#A2B1C6\",\"ticks\":\"\"},\"baxis\":{\"gridcolor\":\"#DFE8F3\",\"linecolor\":\"#A2B1C6\",\"ticks\":\"\"},\"bgcolor\":\"white\",\"caxis\":{\"gridcolor\":\"#DFE8F3\",\"linecolor\":\"#A2B1C6\",\"ticks\":\"\"}},\"title\":{\"x\":0.05},\"xaxis\":{\"automargin\":true,\"gridcolor\":\"#EBF0F8\",\"linecolor\":\"#EBF0F8\",\"ticks\":\"\",\"title\":{\"standoff\":15},\"zerolinecolor\":\"#EBF0F8\",\"zerolinewidth\":2},\"yaxis\":{\"automargin\":true,\"gridcolor\":\"#EBF0F8\",\"linecolor\":\"#EBF0F8\",\"ticks\":\"\",\"title\":{\"standoff\":15},\"zerolinecolor\":\"#EBF0F8\",\"zerolinewidth\":2}}},\"xaxis\":{\"anchor\":\"y\",\"domain\":[0.0,1.0],\"title\":{\"text\":\"\"}},\"yaxis\":{\"anchor\":\"x\",\"domain\":[0.0,1.0],\"title\":{\"text\":\"<b>$USD</b>\"}},\"legend\":{\"title\":{\"text\":\"Segment Description 2\"},\"tracegroupgap\":0},\"title\":{\"text\":\"<b>Sales by Parent</b>\"},\"barmode\":\"relative\",\"showlegend\":false},                        {\"responsive\": true}                    ).then(function(){\n",
       "                            \n",
       "var gd = document.getElementById('8443c420-89b0-48a4-bf35-123980a99114');\n",
       "var x = new MutationObserver(function (mutations, observer) {{\n",
       "        var display = window.getComputedStyle(gd).display;\n",
       "        if (!display || display === 'none') {{\n",
       "            console.log([gd, 'removed!']);\n",
       "            Plotly.purge(gd);\n",
       "            observer.disconnect();\n",
       "        }}\n",
       "}});\n",
       "\n",
       "// Listen for the removal of the full notebook cells\n",
       "var notebookContainer = gd.closest('#notebook-container');\n",
       "if (notebookContainer) {{\n",
       "    x.observe(notebookContainer, {childList: true});\n",
       "}}\n",
       "\n",
       "// Listen for the clearing of the current output cell\n",
       "var outputEl = gd.closest('.output');\n",
       "if (outputEl) {{\n",
       "    x.observe(outputEl, {childList: true});\n",
       "}}\n",
       "\n",
       "                        })                };                });            </script>        </div>"
      ]
     },
     "metadata": {},
     "output_type": "display_data"
    }
   ],
   "source": [
    "fig_parent_sales.update_layout(showlegend=False).show()"
   ]
  },
  {
   "cell_type": "code",
   "execution_count": 42,
   "id": "c3a08baf",
   "metadata": {},
   "outputs": [
    {
     "name": "stderr",
     "output_type": "stream",
     "text": [
      "C:\\Users\\mikej\\anaconda3\\lib\\site-packages\\scipy\\__init__.py:146: UserWarning:\n",
      "\n",
      "A NumPy version >=1.16.5 and <1.23.0 is required for this version of SciPy (detected version 1.26.2\n",
      "\n"
     ]
    },
    {
     "data": {
      "text/html": [
       "<div>\n",
       "<style scoped>\n",
       "    .dataframe tbody tr th:only-of-type {\n",
       "        vertical-align: middle;\n",
       "    }\n",
       "\n",
       "    .dataframe tbody tr th {\n",
       "        vertical-align: top;\n",
       "    }\n",
       "\n",
       "    .dataframe thead th {\n",
       "        text-align: right;\n",
       "    }\n",
       "</style>\n",
       "<table border=\"1\" class=\"dataframe\">\n",
       "  <thead>\n",
       "    <tr style=\"text-align: right;\">\n",
       "      <th></th>\n",
       "      <th>species</th>\n",
       "      <th>island</th>\n",
       "      <th>bill_length_mm</th>\n",
       "      <th>bill_depth_mm</th>\n",
       "      <th>flipper_length_mm</th>\n",
       "      <th>body_mass_g</th>\n",
       "      <th>sex</th>\n",
       "    </tr>\n",
       "  </thead>\n",
       "  <tbody>\n",
       "    <tr>\n",
       "      <th>0</th>\n",
       "      <td>Adelie</td>\n",
       "      <td>Torgersen</td>\n",
       "      <td>39.1</td>\n",
       "      <td>18.7</td>\n",
       "      <td>181.0</td>\n",
       "      <td>3750.0</td>\n",
       "      <td>Male</td>\n",
       "    </tr>\n",
       "    <tr>\n",
       "      <th>1</th>\n",
       "      <td>Adelie</td>\n",
       "      <td>Torgersen</td>\n",
       "      <td>39.5</td>\n",
       "      <td>17.4</td>\n",
       "      <td>186.0</td>\n",
       "      <td>3800.0</td>\n",
       "      <td>Female</td>\n",
       "    </tr>\n",
       "    <tr>\n",
       "      <th>2</th>\n",
       "      <td>Adelie</td>\n",
       "      <td>Torgersen</td>\n",
       "      <td>40.3</td>\n",
       "      <td>18.0</td>\n",
       "      <td>195.0</td>\n",
       "      <td>3250.0</td>\n",
       "      <td>Female</td>\n",
       "    </tr>\n",
       "    <tr>\n",
       "      <th>3</th>\n",
       "      <td>Adelie</td>\n",
       "      <td>Torgersen</td>\n",
       "      <td>NaN</td>\n",
       "      <td>NaN</td>\n",
       "      <td>NaN</td>\n",
       "      <td>NaN</td>\n",
       "      <td>NaN</td>\n",
       "    </tr>\n",
       "    <tr>\n",
       "      <th>4</th>\n",
       "      <td>Adelie</td>\n",
       "      <td>Torgersen</td>\n",
       "      <td>36.7</td>\n",
       "      <td>19.3</td>\n",
       "      <td>193.0</td>\n",
       "      <td>3450.0</td>\n",
       "      <td>Female</td>\n",
       "    </tr>\n",
       "    <tr>\n",
       "      <th>...</th>\n",
       "      <td>...</td>\n",
       "      <td>...</td>\n",
       "      <td>...</td>\n",
       "      <td>...</td>\n",
       "      <td>...</td>\n",
       "      <td>...</td>\n",
       "      <td>...</td>\n",
       "    </tr>\n",
       "    <tr>\n",
       "      <th>339</th>\n",
       "      <td>Gentoo</td>\n",
       "      <td>Biscoe</td>\n",
       "      <td>NaN</td>\n",
       "      <td>NaN</td>\n",
       "      <td>NaN</td>\n",
       "      <td>NaN</td>\n",
       "      <td>NaN</td>\n",
       "    </tr>\n",
       "    <tr>\n",
       "      <th>340</th>\n",
       "      <td>Gentoo</td>\n",
       "      <td>Biscoe</td>\n",
       "      <td>46.8</td>\n",
       "      <td>14.3</td>\n",
       "      <td>215.0</td>\n",
       "      <td>4850.0</td>\n",
       "      <td>Female</td>\n",
       "    </tr>\n",
       "    <tr>\n",
       "      <th>341</th>\n",
       "      <td>Gentoo</td>\n",
       "      <td>Biscoe</td>\n",
       "      <td>50.4</td>\n",
       "      <td>15.7</td>\n",
       "      <td>222.0</td>\n",
       "      <td>5750.0</td>\n",
       "      <td>Male</td>\n",
       "    </tr>\n",
       "    <tr>\n",
       "      <th>342</th>\n",
       "      <td>Gentoo</td>\n",
       "      <td>Biscoe</td>\n",
       "      <td>45.2</td>\n",
       "      <td>14.8</td>\n",
       "      <td>212.0</td>\n",
       "      <td>5200.0</td>\n",
       "      <td>Female</td>\n",
       "    </tr>\n",
       "    <tr>\n",
       "      <th>343</th>\n",
       "      <td>Gentoo</td>\n",
       "      <td>Biscoe</td>\n",
       "      <td>49.9</td>\n",
       "      <td>16.1</td>\n",
       "      <td>213.0</td>\n",
       "      <td>5400.0</td>\n",
       "      <td>Male</td>\n",
       "    </tr>\n",
       "  </tbody>\n",
       "</table>\n",
       "<p>344 rows × 7 columns</p>\n",
       "</div>"
      ],
      "text/plain": [
       "    species     island  bill_length_mm  bill_depth_mm  flipper_length_mm  \\\n",
       "0    Adelie  Torgersen            39.1           18.7              181.0   \n",
       "1    Adelie  Torgersen            39.5           17.4              186.0   \n",
       "2    Adelie  Torgersen            40.3           18.0              195.0   \n",
       "3    Adelie  Torgersen             NaN            NaN                NaN   \n",
       "4    Adelie  Torgersen            36.7           19.3              193.0   \n",
       "..      ...        ...             ...            ...                ...   \n",
       "339  Gentoo     Biscoe             NaN            NaN                NaN   \n",
       "340  Gentoo     Biscoe            46.8           14.3              215.0   \n",
       "341  Gentoo     Biscoe            50.4           15.7              222.0   \n",
       "342  Gentoo     Biscoe            45.2           14.8              212.0   \n",
       "343  Gentoo     Biscoe            49.9           16.1              213.0   \n",
       "\n",
       "     body_mass_g     sex  \n",
       "0         3750.0    Male  \n",
       "1         3800.0  Female  \n",
       "2         3250.0  Female  \n",
       "3            NaN     NaN  \n",
       "4         3450.0  Female  \n",
       "..           ...     ...  \n",
       "339          NaN     NaN  \n",
       "340       4850.0  Female  \n",
       "341       5750.0    Male  \n",
       "342       5200.0  Female  \n",
       "343       5400.0    Male  \n",
       "\n",
       "[344 rows x 7 columns]"
      ]
     },
     "execution_count": 42,
     "metadata": {},
     "output_type": "execute_result"
    }
   ],
   "source": [
    "import seaborn as sns\n",
    "penguins = sns.load_dataset(\"penguins\")\n",
    "penguins"
   ]
  },
  {
   "cell_type": "code",
   "execution_count": null,
   "id": "ba09ef26",
   "metadata": {},
   "outputs": [],
   "source": []
  }
 ],
 "metadata": {
  "kernelspec": {
   "display_name": "Python 3 (ipykernel)",
   "language": "python",
   "name": "python3"
  },
  "language_info": {
   "codemirror_mode": {
    "name": "ipython",
    "version": 3
   },
   "file_extension": ".py",
   "mimetype": "text/x-python",
   "name": "python",
   "nbconvert_exporter": "python",
   "pygments_lexer": "ipython3",
   "version": "3.9.7"
  }
 },
 "nbformat": 4,
 "nbformat_minor": 5
}
