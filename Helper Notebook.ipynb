{
 "cells": [
  {
   "cell_type": "code",
   "execution_count": 1,
   "id": "4dc1cbc6",
   "metadata": {},
   "outputs": [
    {
     "name": "stderr",
     "output_type": "stream",
     "text": [
      "2023-12-11 12:20:13.380 INFO    numexpr.utils: NumExpr defaulting to 8 threads.\n"
     ]
    }
   ],
   "source": [
    "import streamlit as st\n",
    "import pandas as pd\n",
    "import plotly.express as px"
   ]
  },
  {
   "cell_type": "code",
   "execution_count": 2,
   "id": "a8600a65",
   "metadata": {},
   "outputs": [
    {
     "data": {
      "text/html": [
       "<div>\n",
       "<style scoped>\n",
       "    .dataframe tbody tr th:only-of-type {\n",
       "        vertical-align: middle;\n",
       "    }\n",
       "\n",
       "    .dataframe tbody tr th {\n",
       "        vertical-align: top;\n",
       "    }\n",
       "\n",
       "    .dataframe thead th {\n",
       "        text-align: right;\n",
       "    }\n",
       "</style>\n",
       "<table border=\"1\" class=\"dataframe\">\n",
       "  <thead>\n",
       "    <tr style=\"text-align: right;\">\n",
       "      <th></th>\n",
       "      <th>Supplier Name</th>\n",
       "      <th>Product Line Number</th>\n",
       "      <th>Product Line Description</th>\n",
       "      <th>Buying Group Number</th>\n",
       "      <th>Buying Group Name</th>\n",
       "      <th>Customer #</th>\n",
       "      <th>Parent Customer</th>\n",
       "      <th>Customer Name</th>\n",
       "      <th>Customer Shipping City</th>\n",
       "      <th>Customer Shipping State</th>\n",
       "      <th>...</th>\n",
       "      <th>Channel Number</th>\n",
       "      <th>Channel Description</th>\n",
       "      <th>Segment Code</th>\n",
       "      <th>Segment Description</th>\n",
       "      <th>Tier Number</th>\n",
       "      <th>Tier Description</th>\n",
       "      <th>Product Line Sub-Category</th>\n",
       "      <th>Dot DC</th>\n",
       "      <th>Table</th>\n",
       "      <th>Segment Description 2</th>\n",
       "    </tr>\n",
       "  </thead>\n",
       "  <tbody>\n",
       "    <tr>\n",
       "      <th>0</th>\n",
       "      <td>AWAKE CHOCOLATE</td>\n",
       "      <td>1769</td>\n",
       "      <td>AWAKE CHOCOLATE</td>\n",
       "      <td>11.0</td>\n",
       "      <td>UNIPRO REPORTING</td>\n",
       "      <td>141740-1</td>\n",
       "      <td>J. POLEP</td>\n",
       "      <td>J. POLEP</td>\n",
       "      <td>CHICOPEE</td>\n",
       "      <td>MA</td>\n",
       "      <td>...</td>\n",
       "      <td>4.0</td>\n",
       "      <td>RETAIL</td>\n",
       "      <td>4004.0</td>\n",
       "      <td>CONVENIENCE STORE</td>\n",
       "      <td>1.0</td>\n",
       "      <td>TIER I</td>\n",
       "      <td>GROCERY</td>\n",
       "      <td>LIVERPOOL</td>\n",
       "      <td>Dot</td>\n",
       "      <td>CONVENIENCE STORE</td>\n",
       "    </tr>\n",
       "    <tr>\n",
       "      <th>1</th>\n",
       "      <td>AWAKE CHOCOLATE</td>\n",
       "      <td>1769</td>\n",
       "      <td>AWAKE CHOCOLATE</td>\n",
       "      <td>11.0</td>\n",
       "      <td>UNIPRO REPORTING</td>\n",
       "      <td>141740-1</td>\n",
       "      <td>J. POLEP</td>\n",
       "      <td>J. POLEP</td>\n",
       "      <td>CHICOPEE</td>\n",
       "      <td>MA</td>\n",
       "      <td>...</td>\n",
       "      <td>4.0</td>\n",
       "      <td>RETAIL</td>\n",
       "      <td>4004.0</td>\n",
       "      <td>CONVENIENCE STORE</td>\n",
       "      <td>1.0</td>\n",
       "      <td>TIER I</td>\n",
       "      <td>GROCERY</td>\n",
       "      <td>LIVERPOOL</td>\n",
       "      <td>Dot</td>\n",
       "      <td>CONVENIENCE STORE</td>\n",
       "    </tr>\n",
       "  </tbody>\n",
       "</table>\n",
       "<p>2 rows × 34 columns</p>\n",
       "</div>"
      ],
      "text/plain": [
       "     Supplier Name  Product Line Number Product Line Description  \\\n",
       "0  AWAKE CHOCOLATE                 1769          AWAKE CHOCOLATE   \n",
       "1  AWAKE CHOCOLATE                 1769          AWAKE CHOCOLATE   \n",
       "\n",
       "   Buying Group Number Buying Group Name Customer # Parent Customer  \\\n",
       "0                 11.0  UNIPRO REPORTING   141740-1        J. POLEP   \n",
       "1                 11.0  UNIPRO REPORTING   141740-1        J. POLEP   \n",
       "\n",
       "  Customer Name Customer Shipping City Customer Shipping State  ...  \\\n",
       "0      J. POLEP               CHICOPEE                      MA  ...   \n",
       "1      J. POLEP               CHICOPEE                      MA  ...   \n",
       "\n",
       "  Channel Number  Channel Description Segment Code Segment Description  \\\n",
       "0            4.0               RETAIL       4004.0   CONVENIENCE STORE   \n",
       "1            4.0               RETAIL       4004.0   CONVENIENCE STORE   \n",
       "\n",
       "   Tier Number  Tier Description Product Line Sub-Category     Dot DC Table  \\\n",
       "0          1.0            TIER I                   GROCERY  LIVERPOOL   Dot   \n",
       "1          1.0            TIER I                   GROCERY  LIVERPOOL   Dot   \n",
       "\n",
       "   Segment Description 2  \n",
       "0      CONVENIENCE STORE  \n",
       "1      CONVENIENCE STORE  \n",
       "\n",
       "[2 rows x 34 columns]"
      ]
     },
     "execution_count": 2,
     "metadata": {},
     "output_type": "execute_result"
    }
   ],
   "source": [
    "df = pd.read_excel('data.xlsx')\n",
    "df.head(2)"
   ]
  },
  {
   "cell_type": "code",
   "execution_count": 3,
   "id": "ceac6805",
   "metadata": {},
   "outputs": [],
   "source": [
    "year = df['Invoice Date'].dt.year.unique()\n",
    "segment = df['Segment Description 2'].unique()"
   ]
  },
  {
   "cell_type": "code",
   "execution_count": 4,
   "id": "e896821c",
   "metadata": {},
   "outputs": [],
   "source": [
    "df_selection = df[(df['Invoice Date'].dt.year.isin(year)) & (df['Segment Description 2'].isin(segment))]"
   ]
  },
  {
   "cell_type": "code",
   "execution_count": 5,
   "id": "fc9007da",
   "metadata": {},
   "outputs": [],
   "source": [
    "seg_sales = df_selection.groupby('Segment Description 2',as_index=False)['Dollars'].sum()"
   ]
  },
  {
   "cell_type": "code",
   "execution_count": 15,
   "id": "90845830",
   "metadata": {},
   "outputs": [
    {
     "data": {
      "text/plain": [
       "Index(['Supplier Name', 'Product Line Number', 'Product Line Description',\n",
       "       'Buying Group Number', 'Buying Group Name', 'Customer #',\n",
       "       'Parent Customer', 'Customer Name', 'Customer Shipping City',\n",
       "       'Customer Shipping State', 'Customer Shipping Zip Code',\n",
       "       'Customer Invoice Number', 'Invoice Date', 'Customer PO Number',\n",
       "       'Customer Order Number', 'Dot #', 'MFG #', 'Item UPC',\n",
       "       'Item Full Description', 'Qty Ordered', 'Qty Received', 'Dollars',\n",
       "       'Customer Extended Gross Weight', 'Customer Extended Net Weight',\n",
       "       'Channel Number', 'Channel Description', 'Segment Code',\n",
       "       'Segment Description', 'Tier Number', 'Tier Description',\n",
       "       'Product Line Sub-Category', 'Dot DC', 'Table',\n",
       "       'Segment Description 2'],\n",
       "      dtype='object')"
      ]
     },
     "execution_count": 15,
     "metadata": {},
     "output_type": "execute_result"
    }
   ],
   "source": [
    "df.columns"
   ]
  },
  {
   "cell_type": "code",
   "execution_count": 17,
   "id": "6aa215bf",
   "metadata": {},
   "outputs": [
    {
     "data": {
      "text/html": [
       "<div>\n",
       "<style scoped>\n",
       "    .dataframe tbody tr th:only-of-type {\n",
       "        vertical-align: middle;\n",
       "    }\n",
       "\n",
       "    .dataframe tbody tr th {\n",
       "        vertical-align: top;\n",
       "    }\n",
       "\n",
       "    .dataframe thead th {\n",
       "        text-align: right;\n",
       "    }\n",
       "</style>\n",
       "<table border=\"1\" class=\"dataframe\">\n",
       "  <thead>\n",
       "    <tr style=\"text-align: right;\">\n",
       "      <th></th>\n",
       "      <th>Table</th>\n",
       "      <th>Invoice Date</th>\n",
       "      <th>Parent Customer</th>\n",
       "      <th>Customer Name</th>\n",
       "      <th>MFG #</th>\n",
       "      <th>Item Full Description</th>\n",
       "      <th>Qty Ordered</th>\n",
       "      <th>Qty Received</th>\n",
       "      <th>Dollars</th>\n",
       "      <th>Segment Description 2</th>\n",
       "    </tr>\n",
       "  </thead>\n",
       "  <tbody>\n",
       "    <tr>\n",
       "      <th>0</th>\n",
       "      <td>Dot</td>\n",
       "      <td>2022-01-03</td>\n",
       "      <td>J. POLEP</td>\n",
       "      <td>J. POLEP</td>\n",
       "      <td>00453U</td>\n",
       "      <td>CAFFEINATED CHOCOLATE BITES SINGLES CARAMEL</td>\n",
       "      <td>8</td>\n",
       "      <td>8.0</td>\n",
       "      <td>1046.40</td>\n",
       "      <td>CONVENIENCE STORE</td>\n",
       "    </tr>\n",
       "    <tr>\n",
       "      <th>1</th>\n",
       "      <td>Dot</td>\n",
       "      <td>2022-01-03</td>\n",
       "      <td>J. POLEP</td>\n",
       "      <td>J. POLEP</td>\n",
       "      <td>00460U</td>\n",
       "      <td>CAFFEINATED CHOCOLATE BITES SINGLES PB CHOC</td>\n",
       "      <td>8</td>\n",
       "      <td>8.0</td>\n",
       "      <td>1046.40</td>\n",
       "      <td>CONVENIENCE STORE</td>\n",
       "    </tr>\n",
       "    <tr>\n",
       "      <th>2</th>\n",
       "      <td>Dot</td>\n",
       "      <td>2022-01-03</td>\n",
       "      <td>R.C. TAYLOR</td>\n",
       "      <td>R.C. TAYLOR</td>\n",
       "      <td>00105U</td>\n",
       "      <td>AWAKE CHOCOLATE AWAKE CAFF MILK CHOC- 6X12PK M...</td>\n",
       "      <td>1</td>\n",
       "      <td>1.0</td>\n",
       "      <td>78.48</td>\n",
       "      <td>CONVENIENCE STORE</td>\n",
       "    </tr>\n",
       "    <tr>\n",
       "      <th>3</th>\n",
       "      <td>Dot</td>\n",
       "      <td>2022-01-03</td>\n",
       "      <td>Tropical</td>\n",
       "      <td>TROPICAL FOODS--TX</td>\n",
       "      <td>00150U</td>\n",
       "      <td>CAFFEINATED CHOCOLATE BITES SINGLES</td>\n",
       "      <td>2</td>\n",
       "      <td>2.0</td>\n",
       "      <td>261.60</td>\n",
       "      <td>ALTERNATE RETAIL</td>\n",
       "    </tr>\n",
       "    <tr>\n",
       "      <th>4</th>\n",
       "      <td>Dot</td>\n",
       "      <td>2022-01-03</td>\n",
       "      <td>Tropical</td>\n",
       "      <td>TROPICAL FOODS--TX</td>\n",
       "      <td>00453U</td>\n",
       "      <td>CAFFEINATED CHOCOLATE BITES SINGLES CARAMEL</td>\n",
       "      <td>2</td>\n",
       "      <td>2.0</td>\n",
       "      <td>261.60</td>\n",
       "      <td>ALTERNATE RETAIL</td>\n",
       "    </tr>\n",
       "    <tr>\n",
       "      <th>...</th>\n",
       "      <td>...</td>\n",
       "      <td>...</td>\n",
       "      <td>...</td>\n",
       "      <td>...</td>\n",
       "      <td>...</td>\n",
       "      <td>...</td>\n",
       "      <td>...</td>\n",
       "      <td>...</td>\n",
       "      <td>...</td>\n",
       "      <td>...</td>\n",
       "    </tr>\n",
       "    <tr>\n",
       "      <th>16653</th>\n",
       "      <td>Dot</td>\n",
       "      <td>2023-12-08</td>\n",
       "      <td>Vistar</td>\n",
       "      <td>VISTAR-NEW ENGLAND</td>\n",
       "      <td>00254U</td>\n",
       "      <td>AWAKE CHOCOLATE AWAKE CAFF DARK CHOC- 6X12PK M...</td>\n",
       "      <td>5</td>\n",
       "      <td>5.0</td>\n",
       "      <td>427.70</td>\n",
       "      <td>VENDING</td>\n",
       "    </tr>\n",
       "    <tr>\n",
       "      <th>16654</th>\n",
       "      <td>Dot</td>\n",
       "      <td>2023-12-08</td>\n",
       "      <td>Vistar</td>\n",
       "      <td>VISTAR-NEW ENGLAND</td>\n",
       "      <td>00493U</td>\n",
       "      <td>AWAKE NO SUGAR ADDED 6 X 50CT BITES CHANGEMAKE...</td>\n",
       "      <td>3</td>\n",
       "      <td>3.0</td>\n",
       "      <td>423.00</td>\n",
       "      <td>VENDING</td>\n",
       "    </tr>\n",
       "    <tr>\n",
       "      <th>16655</th>\n",
       "      <td>Dot</td>\n",
       "      <td>2023-12-08</td>\n",
       "      <td>Vistar</td>\n",
       "      <td>VISTAR-NEW ENGLAND</td>\n",
       "      <td>00494U</td>\n",
       "      <td>AWAKE NO SUGAR ADDED 6 X 50CT BITES CHANGEMAKE...</td>\n",
       "      <td>2</td>\n",
       "      <td>2.0</td>\n",
       "      <td>282.00</td>\n",
       "      <td>VENDING</td>\n",
       "    </tr>\n",
       "    <tr>\n",
       "      <th>16656</th>\n",
       "      <td>Dot</td>\n",
       "      <td>2023-12-08</td>\n",
       "      <td>Vistar</td>\n",
       "      <td>VISTAR-PHOENIX</td>\n",
       "      <td>00254U</td>\n",
       "      <td>AWAKE CHOCOLATE AWAKE CAFF DARK CHOC- 6X12PK M...</td>\n",
       "      <td>2</td>\n",
       "      <td>2.0</td>\n",
       "      <td>171.08</td>\n",
       "      <td>VENDING</td>\n",
       "    </tr>\n",
       "    <tr>\n",
       "      <th>16657</th>\n",
       "      <td>Dot</td>\n",
       "      <td>2023-12-08</td>\n",
       "      <td>Vistar</td>\n",
       "      <td>VISTAR-PHOENIX</td>\n",
       "      <td>00453U</td>\n",
       "      <td>CAFFEINATED CHOCOLATE BITES SINGLES CARAMEL</td>\n",
       "      <td>13</td>\n",
       "      <td>13.0</td>\n",
       "      <td>1833.00</td>\n",
       "      <td>VENDING</td>\n",
       "    </tr>\n",
       "  </tbody>\n",
       "</table>\n",
       "<p>16658 rows × 10 columns</p>\n",
       "</div>"
      ],
      "text/plain": [
       "      Table Invoice Date Parent Customer       Customer Name   MFG #  \\\n",
       "0       Dot   2022-01-03        J. POLEP            J. POLEP  00453U   \n",
       "1       Dot   2022-01-03        J. POLEP            J. POLEP  00460U   \n",
       "2       Dot   2022-01-03     R.C. TAYLOR         R.C. TAYLOR  00105U   \n",
       "3       Dot   2022-01-03        Tropical  TROPICAL FOODS--TX  00150U   \n",
       "4       Dot   2022-01-03        Tropical  TROPICAL FOODS--TX  00453U   \n",
       "...     ...          ...             ...                 ...     ...   \n",
       "16653   Dot   2023-12-08          Vistar  VISTAR-NEW ENGLAND  00254U   \n",
       "16654   Dot   2023-12-08          Vistar  VISTAR-NEW ENGLAND  00493U   \n",
       "16655   Dot   2023-12-08          Vistar  VISTAR-NEW ENGLAND  00494U   \n",
       "16656   Dot   2023-12-08          Vistar      VISTAR-PHOENIX  00254U   \n",
       "16657   Dot   2023-12-08          Vistar      VISTAR-PHOENIX  00453U   \n",
       "\n",
       "                                   Item Full Description  Qty Ordered  \\\n",
       "0            CAFFEINATED CHOCOLATE BITES SINGLES CARAMEL            8   \n",
       "1            CAFFEINATED CHOCOLATE BITES SINGLES PB CHOC            8   \n",
       "2      AWAKE CHOCOLATE AWAKE CAFF MILK CHOC- 6X12PK M...            1   \n",
       "3                    CAFFEINATED CHOCOLATE BITES SINGLES            2   \n",
       "4            CAFFEINATED CHOCOLATE BITES SINGLES CARAMEL            2   \n",
       "...                                                  ...          ...   \n",
       "16653  AWAKE CHOCOLATE AWAKE CAFF DARK CHOC- 6X12PK M...            5   \n",
       "16654  AWAKE NO SUGAR ADDED 6 X 50CT BITES CHANGEMAKE...            3   \n",
       "16655  AWAKE NO SUGAR ADDED 6 X 50CT BITES CHANGEMAKE...            2   \n",
       "16656  AWAKE CHOCOLATE AWAKE CAFF DARK CHOC- 6X12PK M...            2   \n",
       "16657        CAFFEINATED CHOCOLATE BITES SINGLES CARAMEL           13   \n",
       "\n",
       "       Qty Received  Dollars Segment Description 2  \n",
       "0               8.0  1046.40     CONVENIENCE STORE  \n",
       "1               8.0  1046.40     CONVENIENCE STORE  \n",
       "2               1.0    78.48     CONVENIENCE STORE  \n",
       "3               2.0   261.60      ALTERNATE RETAIL  \n",
       "4               2.0   261.60      ALTERNATE RETAIL  \n",
       "...             ...      ...                   ...  \n",
       "16653           5.0   427.70               VENDING  \n",
       "16654           3.0   423.00               VENDING  \n",
       "16655           2.0   282.00               VENDING  \n",
       "16656           2.0   171.08               VENDING  \n",
       "16657          13.0  1833.00               VENDING  \n",
       "\n",
       "[16658 rows x 10 columns]"
      ]
     },
     "execution_count": 17,
     "metadata": {},
     "output_type": "execute_result"
    }
   ],
   "source": [
    "df_selection = df[\n",
    "    (df['Invoice Date'].dt.year.isin(year)) & (df['Segment Description 2'].isin(segment))\n",
    "    ][['Table',\n",
    "       'Invoice Date',\n",
    "       'Parent Customer',\n",
    "       'Customer Name',\n",
    "       'MFG #',\n",
    "       'Item Full Description',\n",
    "       'Qty Ordered',\n",
    "       'Qty Received',\n",
    "       'Dollars',\n",
    "       'Segment Description 2']].groupby('Parent Customer')\n",
    "\n",
    "df_selection"
   ]
  },
  {
   "cell_type": "code",
   "execution_count": 11,
   "id": "d7c75fc8",
   "metadata": {},
   "outputs": [
    {
     "data": {
      "application/vnd.plotly.v1+json": {
       "config": {
        "plotlyServerURL": "https://plot.ly"
       },
       "data": [
        {
         "alignmentgroup": "True",
         "hovertemplate": "Market Segment=%{y}<br>Sales in $USD=%{x}<extra></extra>",
         "legendgroup": "VENDING",
         "marker": {
          "color": "#636efa",
          "pattern": {
           "shape": ""
          }
         },
         "name": "VENDING",
         "offsetgroup": "VENDING",
         "orientation": "h",
         "showlegend": true,
         "textposition": "auto",
         "type": "bar",
         "x": [
          4459422.1258
         ],
         "xaxis": "x",
         "y": [
          "VENDING"
         ],
         "yaxis": "y"
        },
        {
         "alignmentgroup": "True",
         "hovertemplate": "Market Segment=%{y}<br>Sales in $USD=%{x}<extra></extra>",
         "legendgroup": "ALTERNATE RETAIL",
         "marker": {
          "color": "#EF553B",
          "pattern": {
           "shape": ""
          }
         },
         "name": "ALTERNATE RETAIL",
         "offsetgroup": "ALTERNATE RETAIL",
         "orientation": "h",
         "showlegend": true,
         "textposition": "auto",
         "type": "bar",
         "x": [
          3507554.1
         ],
         "xaxis": "x",
         "y": [
          "ALTERNATE RETAIL"
         ],
         "yaxis": "y"
        },
        {
         "alignmentgroup": "True",
         "hovertemplate": "Market Segment=%{y}<br>Sales in $USD=%{x}<extra></extra>",
         "legendgroup": "CONVENIENCE STORE",
         "marker": {
          "color": "#00cc96",
          "pattern": {
           "shape": ""
          }
         },
         "name": "CONVENIENCE STORE",
         "offsetgroup": "CONVENIENCE STORE",
         "orientation": "h",
         "showlegend": true,
         "textposition": "auto",
         "type": "bar",
         "x": [
          1384872.5137983193
         ],
         "xaxis": "x",
         "y": [
          "CONVENIENCE STORE"
         ],
         "yaxis": "y"
        },
        {
         "alignmentgroup": "True",
         "hovertemplate": "Market Segment=%{y}<br>Sales in $USD=%{x}<extra></extra>",
         "legendgroup": "BROADLINE DISTRIBUTOR",
         "marker": {
          "color": "#ab63fa",
          "pattern": {
           "shape": ""
          }
         },
         "name": "BROADLINE DISTRIBUTOR",
         "offsetgroup": "BROADLINE DISTRIBUTOR",
         "orientation": "h",
         "showlegend": true,
         "textposition": "auto",
         "type": "bar",
         "x": [
          167641.9
         ],
         "xaxis": "x",
         "y": [
          "BROADLINE DISTRIBUTOR"
         ],
         "yaxis": "y"
        },
        {
         "alignmentgroup": "True",
         "hovertemplate": "Market Segment=%{y}<br>Sales in $USD=%{x}<extra></extra>",
         "legendgroup": "ONLINE DISTRIBUTORS",
         "marker": {
          "color": "#FFA15A",
          "pattern": {
           "shape": ""
          }
         },
         "name": "ONLINE DISTRIBUTORS",
         "offsetgroup": "ONLINE DISTRIBUTORS",
         "orientation": "h",
         "showlegend": true,
         "textposition": "auto",
         "type": "bar",
         "x": [
          46069.4455
         ],
         "xaxis": "x",
         "y": [
          "ONLINE DISTRIBUTORS"
         ],
         "yaxis": "y"
        },
        {
         "alignmentgroup": "True",
         "hovertemplate": "Market Segment=%{y}<br>Sales in $USD=%{x}<extra></extra>",
         "legendgroup": "GROCERY",
         "marker": {
          "color": "#19d3f3",
          "pattern": {
           "shape": ""
          }
         },
         "name": "GROCERY",
         "offsetgroup": "GROCERY",
         "orientation": "h",
         "showlegend": true,
         "textposition": "auto",
         "type": "bar",
         "x": [
          16129.460000000001
         ],
         "xaxis": "x",
         "y": [
          "GROCERY"
         ],
         "yaxis": "y"
        },
        {
         "alignmentgroup": "True",
         "hovertemplate": "Market Segment=%{y}<br>Sales in $USD=%{x}<extra></extra>",
         "legendgroup": "FOOD PROCESSORS",
         "marker": {
          "color": "#FF6692",
          "pattern": {
           "shape": ""
          }
         },
         "name": "FOOD PROCESSORS",
         "offsetgroup": "FOOD PROCESSORS",
         "orientation": "h",
         "showlegend": true,
         "textposition": "auto",
         "type": "bar",
         "x": [
          14226.68
         ],
         "xaxis": "x",
         "y": [
          "FOOD PROCESSORS"
         ],
         "yaxis": "y"
        },
        {
         "alignmentgroup": "True",
         "hovertemplate": "Market Segment=%{y}<br>Sales in $USD=%{x}<extra></extra>",
         "legendgroup": "JAN/SAN/PAPER",
         "marker": {
          "color": "#B6E880",
          "pattern": {
           "shape": ""
          }
         },
         "name": "JAN/SAN/PAPER",
         "offsetgroup": "JAN/SAN/PAPER",
         "orientation": "h",
         "showlegend": true,
         "textposition": "auto",
         "type": "bar",
         "x": [
          884.98
         ],
         "xaxis": "x",
         "y": [
          "JAN/SAN/PAPER"
         ],
         "yaxis": "y"
        },
        {
         "alignmentgroup": "True",
         "hovertemplate": "Market Segment=%{y}<br>Sales in $USD=%{x}<extra></extra>",
         "legendgroup": "E&S DEALERS",
         "marker": {
          "color": "#FF97FF",
          "pattern": {
           "shape": ""
          }
         },
         "name": "E&S DEALERS",
         "offsetgroup": "E&S DEALERS",
         "orientation": "h",
         "showlegend": true,
         "textposition": "auto",
         "type": "bar",
         "x": [
          85.54
         ],
         "xaxis": "x",
         "y": [
          "E&S DEALERS"
         ],
         "yaxis": "y"
        }
       ],
       "layout": {
        "barmode": "relative",
        "legend": {
         "title": {
          "text": "Market Segment"
         },
         "tracegroupgap": 0
        },
        "showlegend": false,
        "template": {
         "data": {
          "bar": [
           {
            "error_x": {
             "color": "#2a3f5f"
            },
            "error_y": {
             "color": "#2a3f5f"
            },
            "marker": {
             "line": {
              "color": "white",
              "width": 0.5
             },
             "pattern": {
              "fillmode": "overlay",
              "size": 10,
              "solidity": 0.2
             }
            },
            "type": "bar"
           }
          ],
          "barpolar": [
           {
            "marker": {
             "line": {
              "color": "white",
              "width": 0.5
             },
             "pattern": {
              "fillmode": "overlay",
              "size": 10,
              "solidity": 0.2
             }
            },
            "type": "barpolar"
           }
          ],
          "carpet": [
           {
            "aaxis": {
             "endlinecolor": "#2a3f5f",
             "gridcolor": "#C8D4E3",
             "linecolor": "#C8D4E3",
             "minorgridcolor": "#C8D4E3",
             "startlinecolor": "#2a3f5f"
            },
            "baxis": {
             "endlinecolor": "#2a3f5f",
             "gridcolor": "#C8D4E3",
             "linecolor": "#C8D4E3",
             "minorgridcolor": "#C8D4E3",
             "startlinecolor": "#2a3f5f"
            },
            "type": "carpet"
           }
          ],
          "choropleth": [
           {
            "colorbar": {
             "outlinewidth": 0,
             "ticks": ""
            },
            "type": "choropleth"
           }
          ],
          "contour": [
           {
            "colorbar": {
             "outlinewidth": 0,
             "ticks": ""
            },
            "colorscale": [
             [
              0,
              "#0d0887"
             ],
             [
              0.1111111111111111,
              "#46039f"
             ],
             [
              0.2222222222222222,
              "#7201a8"
             ],
             [
              0.3333333333333333,
              "#9c179e"
             ],
             [
              0.4444444444444444,
              "#bd3786"
             ],
             [
              0.5555555555555556,
              "#d8576b"
             ],
             [
              0.6666666666666666,
              "#ed7953"
             ],
             [
              0.7777777777777778,
              "#fb9f3a"
             ],
             [
              0.8888888888888888,
              "#fdca26"
             ],
             [
              1,
              "#f0f921"
             ]
            ],
            "type": "contour"
           }
          ],
          "contourcarpet": [
           {
            "colorbar": {
             "outlinewidth": 0,
             "ticks": ""
            },
            "type": "contourcarpet"
           }
          ],
          "heatmap": [
           {
            "colorbar": {
             "outlinewidth": 0,
             "ticks": ""
            },
            "colorscale": [
             [
              0,
              "#0d0887"
             ],
             [
              0.1111111111111111,
              "#46039f"
             ],
             [
              0.2222222222222222,
              "#7201a8"
             ],
             [
              0.3333333333333333,
              "#9c179e"
             ],
             [
              0.4444444444444444,
              "#bd3786"
             ],
             [
              0.5555555555555556,
              "#d8576b"
             ],
             [
              0.6666666666666666,
              "#ed7953"
             ],
             [
              0.7777777777777778,
              "#fb9f3a"
             ],
             [
              0.8888888888888888,
              "#fdca26"
             ],
             [
              1,
              "#f0f921"
             ]
            ],
            "type": "heatmap"
           }
          ],
          "heatmapgl": [
           {
            "colorbar": {
             "outlinewidth": 0,
             "ticks": ""
            },
            "colorscale": [
             [
              0,
              "#0d0887"
             ],
             [
              0.1111111111111111,
              "#46039f"
             ],
             [
              0.2222222222222222,
              "#7201a8"
             ],
             [
              0.3333333333333333,
              "#9c179e"
             ],
             [
              0.4444444444444444,
              "#bd3786"
             ],
             [
              0.5555555555555556,
              "#d8576b"
             ],
             [
              0.6666666666666666,
              "#ed7953"
             ],
             [
              0.7777777777777778,
              "#fb9f3a"
             ],
             [
              0.8888888888888888,
              "#fdca26"
             ],
             [
              1,
              "#f0f921"
             ]
            ],
            "type": "heatmapgl"
           }
          ],
          "histogram": [
           {
            "marker": {
             "pattern": {
              "fillmode": "overlay",
              "size": 10,
              "solidity": 0.2
             }
            },
            "type": "histogram"
           }
          ],
          "histogram2d": [
           {
            "colorbar": {
             "outlinewidth": 0,
             "ticks": ""
            },
            "colorscale": [
             [
              0,
              "#0d0887"
             ],
             [
              0.1111111111111111,
              "#46039f"
             ],
             [
              0.2222222222222222,
              "#7201a8"
             ],
             [
              0.3333333333333333,
              "#9c179e"
             ],
             [
              0.4444444444444444,
              "#bd3786"
             ],
             [
              0.5555555555555556,
              "#d8576b"
             ],
             [
              0.6666666666666666,
              "#ed7953"
             ],
             [
              0.7777777777777778,
              "#fb9f3a"
             ],
             [
              0.8888888888888888,
              "#fdca26"
             ],
             [
              1,
              "#f0f921"
             ]
            ],
            "type": "histogram2d"
           }
          ],
          "histogram2dcontour": [
           {
            "colorbar": {
             "outlinewidth": 0,
             "ticks": ""
            },
            "colorscale": [
             [
              0,
              "#0d0887"
             ],
             [
              0.1111111111111111,
              "#46039f"
             ],
             [
              0.2222222222222222,
              "#7201a8"
             ],
             [
              0.3333333333333333,
              "#9c179e"
             ],
             [
              0.4444444444444444,
              "#bd3786"
             ],
             [
              0.5555555555555556,
              "#d8576b"
             ],
             [
              0.6666666666666666,
              "#ed7953"
             ],
             [
              0.7777777777777778,
              "#fb9f3a"
             ],
             [
              0.8888888888888888,
              "#fdca26"
             ],
             [
              1,
              "#f0f921"
             ]
            ],
            "type": "histogram2dcontour"
           }
          ],
          "mesh3d": [
           {
            "colorbar": {
             "outlinewidth": 0,
             "ticks": ""
            },
            "type": "mesh3d"
           }
          ],
          "parcoords": [
           {
            "line": {
             "colorbar": {
              "outlinewidth": 0,
              "ticks": ""
             }
            },
            "type": "parcoords"
           }
          ],
          "pie": [
           {
            "automargin": true,
            "type": "pie"
           }
          ],
          "scatter": [
           {
            "fillpattern": {
             "fillmode": "overlay",
             "size": 10,
             "solidity": 0.2
            },
            "type": "scatter"
           }
          ],
          "scatter3d": [
           {
            "line": {
             "colorbar": {
              "outlinewidth": 0,
              "ticks": ""
             }
            },
            "marker": {
             "colorbar": {
              "outlinewidth": 0,
              "ticks": ""
             }
            },
            "type": "scatter3d"
           }
          ],
          "scattercarpet": [
           {
            "marker": {
             "colorbar": {
              "outlinewidth": 0,
              "ticks": ""
             }
            },
            "type": "scattercarpet"
           }
          ],
          "scattergeo": [
           {
            "marker": {
             "colorbar": {
              "outlinewidth": 0,
              "ticks": ""
             }
            },
            "type": "scattergeo"
           }
          ],
          "scattergl": [
           {
            "marker": {
             "colorbar": {
              "outlinewidth": 0,
              "ticks": ""
             }
            },
            "type": "scattergl"
           }
          ],
          "scattermapbox": [
           {
            "marker": {
             "colorbar": {
              "outlinewidth": 0,
              "ticks": ""
             }
            },
            "type": "scattermapbox"
           }
          ],
          "scatterpolar": [
           {
            "marker": {
             "colorbar": {
              "outlinewidth": 0,
              "ticks": ""
             }
            },
            "type": "scatterpolar"
           }
          ],
          "scatterpolargl": [
           {
            "marker": {
             "colorbar": {
              "outlinewidth": 0,
              "ticks": ""
             }
            },
            "type": "scatterpolargl"
           }
          ],
          "scatterternary": [
           {
            "marker": {
             "colorbar": {
              "outlinewidth": 0,
              "ticks": ""
             }
            },
            "type": "scatterternary"
           }
          ],
          "surface": [
           {
            "colorbar": {
             "outlinewidth": 0,
             "ticks": ""
            },
            "colorscale": [
             [
              0,
              "#0d0887"
             ],
             [
              0.1111111111111111,
              "#46039f"
             ],
             [
              0.2222222222222222,
              "#7201a8"
             ],
             [
              0.3333333333333333,
              "#9c179e"
             ],
             [
              0.4444444444444444,
              "#bd3786"
             ],
             [
              0.5555555555555556,
              "#d8576b"
             ],
             [
              0.6666666666666666,
              "#ed7953"
             ],
             [
              0.7777777777777778,
              "#fb9f3a"
             ],
             [
              0.8888888888888888,
              "#fdca26"
             ],
             [
              1,
              "#f0f921"
             ]
            ],
            "type": "surface"
           }
          ],
          "table": [
           {
            "cells": {
             "fill": {
              "color": "#EBF0F8"
             },
             "line": {
              "color": "white"
             }
            },
            "header": {
             "fill": {
              "color": "#C8D4E3"
             },
             "line": {
              "color": "white"
             }
            },
            "type": "table"
           }
          ]
         },
         "layout": {
          "annotationdefaults": {
           "arrowcolor": "#2a3f5f",
           "arrowhead": 0,
           "arrowwidth": 1
          },
          "autotypenumbers": "strict",
          "coloraxis": {
           "colorbar": {
            "outlinewidth": 0,
            "ticks": ""
           }
          },
          "colorscale": {
           "diverging": [
            [
             0,
             "#8e0152"
            ],
            [
             0.1,
             "#c51b7d"
            ],
            [
             0.2,
             "#de77ae"
            ],
            [
             0.3,
             "#f1b6da"
            ],
            [
             0.4,
             "#fde0ef"
            ],
            [
             0.5,
             "#f7f7f7"
            ],
            [
             0.6,
             "#e6f5d0"
            ],
            [
             0.7,
             "#b8e186"
            ],
            [
             0.8,
             "#7fbc41"
            ],
            [
             0.9,
             "#4d9221"
            ],
            [
             1,
             "#276419"
            ]
           ],
           "sequential": [
            [
             0,
             "#0d0887"
            ],
            [
             0.1111111111111111,
             "#46039f"
            ],
            [
             0.2222222222222222,
             "#7201a8"
            ],
            [
             0.3333333333333333,
             "#9c179e"
            ],
            [
             0.4444444444444444,
             "#bd3786"
            ],
            [
             0.5555555555555556,
             "#d8576b"
            ],
            [
             0.6666666666666666,
             "#ed7953"
            ],
            [
             0.7777777777777778,
             "#fb9f3a"
            ],
            [
             0.8888888888888888,
             "#fdca26"
            ],
            [
             1,
             "#f0f921"
            ]
           ],
           "sequentialminus": [
            [
             0,
             "#0d0887"
            ],
            [
             0.1111111111111111,
             "#46039f"
            ],
            [
             0.2222222222222222,
             "#7201a8"
            ],
            [
             0.3333333333333333,
             "#9c179e"
            ],
            [
             0.4444444444444444,
             "#bd3786"
            ],
            [
             0.5555555555555556,
             "#d8576b"
            ],
            [
             0.6666666666666666,
             "#ed7953"
            ],
            [
             0.7777777777777778,
             "#fb9f3a"
            ],
            [
             0.8888888888888888,
             "#fdca26"
            ],
            [
             1,
             "#f0f921"
            ]
           ]
          },
          "colorway": [
           "#636efa",
           "#EF553B",
           "#00cc96",
           "#ab63fa",
           "#FFA15A",
           "#19d3f3",
           "#FF6692",
           "#B6E880",
           "#FF97FF",
           "#FECB52"
          ],
          "font": {
           "color": "#2a3f5f"
          },
          "geo": {
           "bgcolor": "white",
           "lakecolor": "white",
           "landcolor": "white",
           "showlakes": true,
           "showland": true,
           "subunitcolor": "#C8D4E3"
          },
          "hoverlabel": {
           "align": "left"
          },
          "hovermode": "closest",
          "mapbox": {
           "style": "light"
          },
          "paper_bgcolor": "white",
          "plot_bgcolor": "white",
          "polar": {
           "angularaxis": {
            "gridcolor": "#EBF0F8",
            "linecolor": "#EBF0F8",
            "ticks": ""
           },
           "bgcolor": "white",
           "radialaxis": {
            "gridcolor": "#EBF0F8",
            "linecolor": "#EBF0F8",
            "ticks": ""
           }
          },
          "scene": {
           "xaxis": {
            "backgroundcolor": "white",
            "gridcolor": "#DFE8F3",
            "gridwidth": 2,
            "linecolor": "#EBF0F8",
            "showbackground": true,
            "ticks": "",
            "zerolinecolor": "#EBF0F8"
           },
           "yaxis": {
            "backgroundcolor": "white",
            "gridcolor": "#DFE8F3",
            "gridwidth": 2,
            "linecolor": "#EBF0F8",
            "showbackground": true,
            "ticks": "",
            "zerolinecolor": "#EBF0F8"
           },
           "zaxis": {
            "backgroundcolor": "white",
            "gridcolor": "#DFE8F3",
            "gridwidth": 2,
            "linecolor": "#EBF0F8",
            "showbackground": true,
            "ticks": "",
            "zerolinecolor": "#EBF0F8"
           }
          },
          "shapedefaults": {
           "line": {
            "color": "#2a3f5f"
           }
          },
          "ternary": {
           "aaxis": {
            "gridcolor": "#DFE8F3",
            "linecolor": "#A2B1C6",
            "ticks": ""
           },
           "baxis": {
            "gridcolor": "#DFE8F3",
            "linecolor": "#A2B1C6",
            "ticks": ""
           },
           "bgcolor": "white",
           "caxis": {
            "gridcolor": "#DFE8F3",
            "linecolor": "#A2B1C6",
            "ticks": ""
           }
          },
          "title": {
           "x": 0.05
          },
          "xaxis": {
           "automargin": true,
           "gridcolor": "#EBF0F8",
           "linecolor": "#EBF0F8",
           "ticks": "",
           "title": {
            "standoff": 15
           },
           "zerolinecolor": "#EBF0F8",
           "zerolinewidth": 2
          },
          "yaxis": {
           "automargin": true,
           "gridcolor": "#EBF0F8",
           "linecolor": "#EBF0F8",
           "ticks": "",
           "title": {
            "standoff": 15
           },
           "zerolinecolor": "#EBF0F8",
           "zerolinewidth": 2
          }
         }
        },
        "title": {
         "text": "<b>Sales by Market Segment</b>"
        },
        "width": 800,
        "xaxis": {
         "anchor": "y",
         "domain": [
          0,
          1
         ],
         "title": {
          "text": "Sales in $USD"
         }
        },
        "yaxis": {
         "anchor": "x",
         "categoryarray": [
          "E&S DEALERS",
          "JAN/SAN/PAPER",
          "FOOD PROCESSORS",
          "GROCERY",
          "ONLINE DISTRIBUTORS",
          "BROADLINE DISTRIBUTOR",
          "CONVENIENCE STORE",
          "ALTERNATE RETAIL",
          "VENDING"
         ],
         "categoryorder": "array",
         "domain": [
          0,
          1
         ],
         "title": {
          "text": "Market Segment"
         }
        }
       }
      },
      "text/html": [
       "<div>                            <div id=\"fb4bf2ce-c680-4097-b985-360e0d0e1b31\" class=\"plotly-graph-div\" style=\"height:525px; width:800px;\"></div>            <script type=\"text/javascript\">                require([\"plotly\"], function(Plotly) {                    window.PLOTLYENV=window.PLOTLYENV || {};                                    if (document.getElementById(\"fb4bf2ce-c680-4097-b985-360e0d0e1b31\")) {                    Plotly.newPlot(                        \"fb4bf2ce-c680-4097-b985-360e0d0e1b31\",                        [{\"alignmentgroup\":\"True\",\"hovertemplate\":\"Market Segment=%{y}<br>Sales in $USD=%{x}<extra></extra>\",\"legendgroup\":\"VENDING\",\"marker\":{\"color\":\"#636efa\",\"pattern\":{\"shape\":\"\"}},\"name\":\"VENDING\",\"offsetgroup\":\"VENDING\",\"orientation\":\"h\",\"showlegend\":true,\"textposition\":\"auto\",\"x\":[4459422.1258],\"xaxis\":\"x\",\"y\":[\"VENDING\"],\"yaxis\":\"y\",\"type\":\"bar\"},{\"alignmentgroup\":\"True\",\"hovertemplate\":\"Market Segment=%{y}<br>Sales in $USD=%{x}<extra></extra>\",\"legendgroup\":\"ALTERNATE RETAIL\",\"marker\":{\"color\":\"#EF553B\",\"pattern\":{\"shape\":\"\"}},\"name\":\"ALTERNATE RETAIL\",\"offsetgroup\":\"ALTERNATE RETAIL\",\"orientation\":\"h\",\"showlegend\":true,\"textposition\":\"auto\",\"x\":[3507554.1],\"xaxis\":\"x\",\"y\":[\"ALTERNATE RETAIL\"],\"yaxis\":\"y\",\"type\":\"bar\"},{\"alignmentgroup\":\"True\",\"hovertemplate\":\"Market Segment=%{y}<br>Sales in $USD=%{x}<extra></extra>\",\"legendgroup\":\"CONVENIENCE STORE\",\"marker\":{\"color\":\"#00cc96\",\"pattern\":{\"shape\":\"\"}},\"name\":\"CONVENIENCE STORE\",\"offsetgroup\":\"CONVENIENCE STORE\",\"orientation\":\"h\",\"showlegend\":true,\"textposition\":\"auto\",\"x\":[1384872.5137983193],\"xaxis\":\"x\",\"y\":[\"CONVENIENCE STORE\"],\"yaxis\":\"y\",\"type\":\"bar\"},{\"alignmentgroup\":\"True\",\"hovertemplate\":\"Market Segment=%{y}<br>Sales in $USD=%{x}<extra></extra>\",\"legendgroup\":\"BROADLINE DISTRIBUTOR\",\"marker\":{\"color\":\"#ab63fa\",\"pattern\":{\"shape\":\"\"}},\"name\":\"BROADLINE DISTRIBUTOR\",\"offsetgroup\":\"BROADLINE DISTRIBUTOR\",\"orientation\":\"h\",\"showlegend\":true,\"textposition\":\"auto\",\"x\":[167641.9],\"xaxis\":\"x\",\"y\":[\"BROADLINE DISTRIBUTOR\"],\"yaxis\":\"y\",\"type\":\"bar\"},{\"alignmentgroup\":\"True\",\"hovertemplate\":\"Market Segment=%{y}<br>Sales in $USD=%{x}<extra></extra>\",\"legendgroup\":\"ONLINE DISTRIBUTORS\",\"marker\":{\"color\":\"#FFA15A\",\"pattern\":{\"shape\":\"\"}},\"name\":\"ONLINE DISTRIBUTORS\",\"offsetgroup\":\"ONLINE DISTRIBUTORS\",\"orientation\":\"h\",\"showlegend\":true,\"textposition\":\"auto\",\"x\":[46069.4455],\"xaxis\":\"x\",\"y\":[\"ONLINE DISTRIBUTORS\"],\"yaxis\":\"y\",\"type\":\"bar\"},{\"alignmentgroup\":\"True\",\"hovertemplate\":\"Market Segment=%{y}<br>Sales in $USD=%{x}<extra></extra>\",\"legendgroup\":\"GROCERY\",\"marker\":{\"color\":\"#19d3f3\",\"pattern\":{\"shape\":\"\"}},\"name\":\"GROCERY\",\"offsetgroup\":\"GROCERY\",\"orientation\":\"h\",\"showlegend\":true,\"textposition\":\"auto\",\"x\":[16129.460000000001],\"xaxis\":\"x\",\"y\":[\"GROCERY\"],\"yaxis\":\"y\",\"type\":\"bar\"},{\"alignmentgroup\":\"True\",\"hovertemplate\":\"Market Segment=%{y}<br>Sales in $USD=%{x}<extra></extra>\",\"legendgroup\":\"FOOD PROCESSORS\",\"marker\":{\"color\":\"#FF6692\",\"pattern\":{\"shape\":\"\"}},\"name\":\"FOOD PROCESSORS\",\"offsetgroup\":\"FOOD PROCESSORS\",\"orientation\":\"h\",\"showlegend\":true,\"textposition\":\"auto\",\"x\":[14226.68],\"xaxis\":\"x\",\"y\":[\"FOOD PROCESSORS\"],\"yaxis\":\"y\",\"type\":\"bar\"},{\"alignmentgroup\":\"True\",\"hovertemplate\":\"Market Segment=%{y}<br>Sales in $USD=%{x}<extra></extra>\",\"legendgroup\":\"JAN/SAN/PAPER\",\"marker\":{\"color\":\"#B6E880\",\"pattern\":{\"shape\":\"\"}},\"name\":\"JAN/SAN/PAPER\",\"offsetgroup\":\"JAN/SAN/PAPER\",\"orientation\":\"h\",\"showlegend\":true,\"textposition\":\"auto\",\"x\":[884.98],\"xaxis\":\"x\",\"y\":[\"JAN/SAN/PAPER\"],\"yaxis\":\"y\",\"type\":\"bar\"},{\"alignmentgroup\":\"True\",\"hovertemplate\":\"Market Segment=%{y}<br>Sales in $USD=%{x}<extra></extra>\",\"legendgroup\":\"E&S DEALERS\",\"marker\":{\"color\":\"#FF97FF\",\"pattern\":{\"shape\":\"\"}},\"name\":\"E&S DEALERS\",\"offsetgroup\":\"E&S DEALERS\",\"orientation\":\"h\",\"showlegend\":true,\"textposition\":\"auto\",\"x\":[85.54],\"xaxis\":\"x\",\"y\":[\"E&S DEALERS\"],\"yaxis\":\"y\",\"type\":\"bar\"}],                        {\"template\":{\"data\":{\"barpolar\":[{\"marker\":{\"line\":{\"color\":\"white\",\"width\":0.5},\"pattern\":{\"fillmode\":\"overlay\",\"size\":10,\"solidity\":0.2}},\"type\":\"barpolar\"}],\"bar\":[{\"error_x\":{\"color\":\"#2a3f5f\"},\"error_y\":{\"color\":\"#2a3f5f\"},\"marker\":{\"line\":{\"color\":\"white\",\"width\":0.5},\"pattern\":{\"fillmode\":\"overlay\",\"size\":10,\"solidity\":0.2}},\"type\":\"bar\"}],\"carpet\":[{\"aaxis\":{\"endlinecolor\":\"#2a3f5f\",\"gridcolor\":\"#C8D4E3\",\"linecolor\":\"#C8D4E3\",\"minorgridcolor\":\"#C8D4E3\",\"startlinecolor\":\"#2a3f5f\"},\"baxis\":{\"endlinecolor\":\"#2a3f5f\",\"gridcolor\":\"#C8D4E3\",\"linecolor\":\"#C8D4E3\",\"minorgridcolor\":\"#C8D4E3\",\"startlinecolor\":\"#2a3f5f\"},\"type\":\"carpet\"}],\"choropleth\":[{\"colorbar\":{\"outlinewidth\":0,\"ticks\":\"\"},\"type\":\"choropleth\"}],\"contourcarpet\":[{\"colorbar\":{\"outlinewidth\":0,\"ticks\":\"\"},\"type\":\"contourcarpet\"}],\"contour\":[{\"colorbar\":{\"outlinewidth\":0,\"ticks\":\"\"},\"colorscale\":[[0.0,\"#0d0887\"],[0.1111111111111111,\"#46039f\"],[0.2222222222222222,\"#7201a8\"],[0.3333333333333333,\"#9c179e\"],[0.4444444444444444,\"#bd3786\"],[0.5555555555555556,\"#d8576b\"],[0.6666666666666666,\"#ed7953\"],[0.7777777777777778,\"#fb9f3a\"],[0.8888888888888888,\"#fdca26\"],[1.0,\"#f0f921\"]],\"type\":\"contour\"}],\"heatmapgl\":[{\"colorbar\":{\"outlinewidth\":0,\"ticks\":\"\"},\"colorscale\":[[0.0,\"#0d0887\"],[0.1111111111111111,\"#46039f\"],[0.2222222222222222,\"#7201a8\"],[0.3333333333333333,\"#9c179e\"],[0.4444444444444444,\"#bd3786\"],[0.5555555555555556,\"#d8576b\"],[0.6666666666666666,\"#ed7953\"],[0.7777777777777778,\"#fb9f3a\"],[0.8888888888888888,\"#fdca26\"],[1.0,\"#f0f921\"]],\"type\":\"heatmapgl\"}],\"heatmap\":[{\"colorbar\":{\"outlinewidth\":0,\"ticks\":\"\"},\"colorscale\":[[0.0,\"#0d0887\"],[0.1111111111111111,\"#46039f\"],[0.2222222222222222,\"#7201a8\"],[0.3333333333333333,\"#9c179e\"],[0.4444444444444444,\"#bd3786\"],[0.5555555555555556,\"#d8576b\"],[0.6666666666666666,\"#ed7953\"],[0.7777777777777778,\"#fb9f3a\"],[0.8888888888888888,\"#fdca26\"],[1.0,\"#f0f921\"]],\"type\":\"heatmap\"}],\"histogram2dcontour\":[{\"colorbar\":{\"outlinewidth\":0,\"ticks\":\"\"},\"colorscale\":[[0.0,\"#0d0887\"],[0.1111111111111111,\"#46039f\"],[0.2222222222222222,\"#7201a8\"],[0.3333333333333333,\"#9c179e\"],[0.4444444444444444,\"#bd3786\"],[0.5555555555555556,\"#d8576b\"],[0.6666666666666666,\"#ed7953\"],[0.7777777777777778,\"#fb9f3a\"],[0.8888888888888888,\"#fdca26\"],[1.0,\"#f0f921\"]],\"type\":\"histogram2dcontour\"}],\"histogram2d\":[{\"colorbar\":{\"outlinewidth\":0,\"ticks\":\"\"},\"colorscale\":[[0.0,\"#0d0887\"],[0.1111111111111111,\"#46039f\"],[0.2222222222222222,\"#7201a8\"],[0.3333333333333333,\"#9c179e\"],[0.4444444444444444,\"#bd3786\"],[0.5555555555555556,\"#d8576b\"],[0.6666666666666666,\"#ed7953\"],[0.7777777777777778,\"#fb9f3a\"],[0.8888888888888888,\"#fdca26\"],[1.0,\"#f0f921\"]],\"type\":\"histogram2d\"}],\"histogram\":[{\"marker\":{\"pattern\":{\"fillmode\":\"overlay\",\"size\":10,\"solidity\":0.2}},\"type\":\"histogram\"}],\"mesh3d\":[{\"colorbar\":{\"outlinewidth\":0,\"ticks\":\"\"},\"type\":\"mesh3d\"}],\"parcoords\":[{\"line\":{\"colorbar\":{\"outlinewidth\":0,\"ticks\":\"\"}},\"type\":\"parcoords\"}],\"pie\":[{\"automargin\":true,\"type\":\"pie\"}],\"scatter3d\":[{\"line\":{\"colorbar\":{\"outlinewidth\":0,\"ticks\":\"\"}},\"marker\":{\"colorbar\":{\"outlinewidth\":0,\"ticks\":\"\"}},\"type\":\"scatter3d\"}],\"scattercarpet\":[{\"marker\":{\"colorbar\":{\"outlinewidth\":0,\"ticks\":\"\"}},\"type\":\"scattercarpet\"}],\"scattergeo\":[{\"marker\":{\"colorbar\":{\"outlinewidth\":0,\"ticks\":\"\"}},\"type\":\"scattergeo\"}],\"scattergl\":[{\"marker\":{\"colorbar\":{\"outlinewidth\":0,\"ticks\":\"\"}},\"type\":\"scattergl\"}],\"scattermapbox\":[{\"marker\":{\"colorbar\":{\"outlinewidth\":0,\"ticks\":\"\"}},\"type\":\"scattermapbox\"}],\"scatterpolargl\":[{\"marker\":{\"colorbar\":{\"outlinewidth\":0,\"ticks\":\"\"}},\"type\":\"scatterpolargl\"}],\"scatterpolar\":[{\"marker\":{\"colorbar\":{\"outlinewidth\":0,\"ticks\":\"\"}},\"type\":\"scatterpolar\"}],\"scatter\":[{\"fillpattern\":{\"fillmode\":\"overlay\",\"size\":10,\"solidity\":0.2},\"type\":\"scatter\"}],\"scatterternary\":[{\"marker\":{\"colorbar\":{\"outlinewidth\":0,\"ticks\":\"\"}},\"type\":\"scatterternary\"}],\"surface\":[{\"colorbar\":{\"outlinewidth\":0,\"ticks\":\"\"},\"colorscale\":[[0.0,\"#0d0887\"],[0.1111111111111111,\"#46039f\"],[0.2222222222222222,\"#7201a8\"],[0.3333333333333333,\"#9c179e\"],[0.4444444444444444,\"#bd3786\"],[0.5555555555555556,\"#d8576b\"],[0.6666666666666666,\"#ed7953\"],[0.7777777777777778,\"#fb9f3a\"],[0.8888888888888888,\"#fdca26\"],[1.0,\"#f0f921\"]],\"type\":\"surface\"}],\"table\":[{\"cells\":{\"fill\":{\"color\":\"#EBF0F8\"},\"line\":{\"color\":\"white\"}},\"header\":{\"fill\":{\"color\":\"#C8D4E3\"},\"line\":{\"color\":\"white\"}},\"type\":\"table\"}]},\"layout\":{\"annotationdefaults\":{\"arrowcolor\":\"#2a3f5f\",\"arrowhead\":0,\"arrowwidth\":1},\"autotypenumbers\":\"strict\",\"coloraxis\":{\"colorbar\":{\"outlinewidth\":0,\"ticks\":\"\"}},\"colorscale\":{\"diverging\":[[0,\"#8e0152\"],[0.1,\"#c51b7d\"],[0.2,\"#de77ae\"],[0.3,\"#f1b6da\"],[0.4,\"#fde0ef\"],[0.5,\"#f7f7f7\"],[0.6,\"#e6f5d0\"],[0.7,\"#b8e186\"],[0.8,\"#7fbc41\"],[0.9,\"#4d9221\"],[1,\"#276419\"]],\"sequential\":[[0.0,\"#0d0887\"],[0.1111111111111111,\"#46039f\"],[0.2222222222222222,\"#7201a8\"],[0.3333333333333333,\"#9c179e\"],[0.4444444444444444,\"#bd3786\"],[0.5555555555555556,\"#d8576b\"],[0.6666666666666666,\"#ed7953\"],[0.7777777777777778,\"#fb9f3a\"],[0.8888888888888888,\"#fdca26\"],[1.0,\"#f0f921\"]],\"sequentialminus\":[[0.0,\"#0d0887\"],[0.1111111111111111,\"#46039f\"],[0.2222222222222222,\"#7201a8\"],[0.3333333333333333,\"#9c179e\"],[0.4444444444444444,\"#bd3786\"],[0.5555555555555556,\"#d8576b\"],[0.6666666666666666,\"#ed7953\"],[0.7777777777777778,\"#fb9f3a\"],[0.8888888888888888,\"#fdca26\"],[1.0,\"#f0f921\"]]},\"colorway\":[\"#636efa\",\"#EF553B\",\"#00cc96\",\"#ab63fa\",\"#FFA15A\",\"#19d3f3\",\"#FF6692\",\"#B6E880\",\"#FF97FF\",\"#FECB52\"],\"font\":{\"color\":\"#2a3f5f\"},\"geo\":{\"bgcolor\":\"white\",\"lakecolor\":\"white\",\"landcolor\":\"white\",\"showlakes\":true,\"showland\":true,\"subunitcolor\":\"#C8D4E3\"},\"hoverlabel\":{\"align\":\"left\"},\"hovermode\":\"closest\",\"mapbox\":{\"style\":\"light\"},\"paper_bgcolor\":\"white\",\"plot_bgcolor\":\"white\",\"polar\":{\"angularaxis\":{\"gridcolor\":\"#EBF0F8\",\"linecolor\":\"#EBF0F8\",\"ticks\":\"\"},\"bgcolor\":\"white\",\"radialaxis\":{\"gridcolor\":\"#EBF0F8\",\"linecolor\":\"#EBF0F8\",\"ticks\":\"\"}},\"scene\":{\"xaxis\":{\"backgroundcolor\":\"white\",\"gridcolor\":\"#DFE8F3\",\"gridwidth\":2,\"linecolor\":\"#EBF0F8\",\"showbackground\":true,\"ticks\":\"\",\"zerolinecolor\":\"#EBF0F8\"},\"yaxis\":{\"backgroundcolor\":\"white\",\"gridcolor\":\"#DFE8F3\",\"gridwidth\":2,\"linecolor\":\"#EBF0F8\",\"showbackground\":true,\"ticks\":\"\",\"zerolinecolor\":\"#EBF0F8\"},\"zaxis\":{\"backgroundcolor\":\"white\",\"gridcolor\":\"#DFE8F3\",\"gridwidth\":2,\"linecolor\":\"#EBF0F8\",\"showbackground\":true,\"ticks\":\"\",\"zerolinecolor\":\"#EBF0F8\"}},\"shapedefaults\":{\"line\":{\"color\":\"#2a3f5f\"}},\"ternary\":{\"aaxis\":{\"gridcolor\":\"#DFE8F3\",\"linecolor\":\"#A2B1C6\",\"ticks\":\"\"},\"baxis\":{\"gridcolor\":\"#DFE8F3\",\"linecolor\":\"#A2B1C6\",\"ticks\":\"\"},\"bgcolor\":\"white\",\"caxis\":{\"gridcolor\":\"#DFE8F3\",\"linecolor\":\"#A2B1C6\",\"ticks\":\"\"}},\"title\":{\"x\":0.05},\"xaxis\":{\"automargin\":true,\"gridcolor\":\"#EBF0F8\",\"linecolor\":\"#EBF0F8\",\"ticks\":\"\",\"title\":{\"standoff\":15},\"zerolinecolor\":\"#EBF0F8\",\"zerolinewidth\":2},\"yaxis\":{\"automargin\":true,\"gridcolor\":\"#EBF0F8\",\"linecolor\":\"#EBF0F8\",\"ticks\":\"\",\"title\":{\"standoff\":15},\"zerolinecolor\":\"#EBF0F8\",\"zerolinewidth\":2}}},\"xaxis\":{\"anchor\":\"y\",\"domain\":[0.0,1.0],\"title\":{\"text\":\"Sales in $USD\"}},\"yaxis\":{\"anchor\":\"x\",\"domain\":[0.0,1.0],\"title\":{\"text\":\"Market Segment\"},\"categoryorder\":\"array\",\"categoryarray\":[\"E&S DEALERS\",\"JAN/SAN/PAPER\",\"FOOD PROCESSORS\",\"GROCERY\",\"ONLINE DISTRIBUTORS\",\"BROADLINE DISTRIBUTOR\",\"CONVENIENCE STORE\",\"ALTERNATE RETAIL\",\"VENDING\"]},\"legend\":{\"title\":{\"text\":\"Market Segment\"},\"tracegroupgap\":0},\"title\":{\"text\":\"<b>Sales by Market Segment</b>\"},\"barmode\":\"relative\",\"width\":800,\"showlegend\":false},                        {\"responsive\": true}                    ).then(function(){\n",
       "                            \n",
       "var gd = document.getElementById('fb4bf2ce-c680-4097-b985-360e0d0e1b31');\n",
       "var x = new MutationObserver(function (mutations, observer) {{\n",
       "        var display = window.getComputedStyle(gd).display;\n",
       "        if (!display || display === 'none') {{\n",
       "            console.log([gd, 'removed!']);\n",
       "            Plotly.purge(gd);\n",
       "            observer.disconnect();\n",
       "        }}\n",
       "}});\n",
       "\n",
       "// Listen for the removal of the full notebook cells\n",
       "var notebookContainer = gd.closest('#notebook-container');\n",
       "if (notebookContainer) {{\n",
       "    x.observe(notebookContainer, {childList: true});\n",
       "}}\n",
       "\n",
       "// Listen for the clearing of the current output cell\n",
       "var outputEl = gd.closest('.output');\n",
       "if (outputEl) {{\n",
       "    x.observe(outputEl, {childList: true});\n",
       "}}\n",
       "\n",
       "                        })                };                });            </script>        </div>"
      ]
     },
     "metadata": {},
     "output_type": "display_data"
    }
   ],
   "source": [
    "px.bar(\n",
    "    seg_sales.sort_values(by = 'Dollars',ascending=False),\n",
    "    x='Dollars',\n",
    "    y='Segment Description 2',\n",
    "    orientation = 'h',\n",
    "    title = \"<b>Sales by Market Segment</b>\",\n",
    "    template = 'plotly_white',\n",
    "    color='Segment Description 2',\n",
    "    labels={'Segment Description 2':'Market Segment',\n",
    "            'Dollars':'Sales in $USD'},\n",
    "    width=800\n",
    ").update_layout(showlegend=False)"
   ]
  },
  {
   "cell_type": "code",
   "execution_count": null,
   "id": "d2600ad7",
   "metadata": {},
   "outputs": [],
   "source": [
    "year = df['Invoice Date'].dt.year.unique()\n",
    "segment = df['Segment Description 2'].unique()\n",
    "\n",
    "\n",
    "df_selection = df[(df['Invoice Date'].dt.year.isin(year)) & (df['Segment Description 2'].isin(segment))]\n",
    "# df_selection = df[(df['Invoice Date'].dt.year==2023) & (df['Segment Description 2'].isin(segment))]\n",
    "\n",
    "\n",
    "seg_sales = df_selection.groupby('Segment Description 2',as_index=False)['Dollars'].sum()\n",
    "fig_seg_sales = px.bar(\n",
    "    seg_sales.sort_values(by = 'Dollars',ascending=False),\n",
    "    x='Dollars',\n",
    "    y='Segment Description 2',\n",
    "    orientation = 'h',\n",
    "    title = \"<b>Sales by Market Segment</b>\",\n",
    "    template = 'plotly_white',\n",
    "    color='Segment Description 2',\n",
    "    labels={'Segment Description 2':'Market Segment',\n",
    "            'Dollars':'Sales in $USD'}\n",
    ")\n",
    "fig_seg_sales.show()"
   ]
  },
  {
   "cell_type": "code",
   "execution_count": null,
   "id": "68ed7a26",
   "metadata": {},
   "outputs": [],
   "source": [
    "px.bar(\n",
    "    seg_sales.sort_values(by = 'Dollars',ascending=False),\n",
    "    x='Dollars',\n",
    "    y='Segment Description 2',\n",
    "    orientation = 'h',\n",
    "    title = \"<b>Sales by Market Segment</b>\",\n",
    "    template = 'plotly_white',\n",
    "    color='Segment Description 2',\n",
    "    labels={'Segment Description 2':'Market Segment',\n",
    "            'Dollars':'Sales in $USD'}\n",
    ")"
   ]
  },
  {
   "cell_type": "code",
   "execution_count": null,
   "id": "bf46e75d",
   "metadata": {},
   "outputs": [],
   "source": []
  }
 ],
 "metadata": {
  "kernelspec": {
   "display_name": "Python 3 (ipykernel)",
   "language": "python",
   "name": "python3"
  },
  "language_info": {
   "codemirror_mode": {
    "name": "ipython",
    "version": 3
   },
   "file_extension": ".py",
   "mimetype": "text/x-python",
   "name": "python",
   "nbconvert_exporter": "python",
   "pygments_lexer": "ipython3",
   "version": "3.9.7"
  }
 },
 "nbformat": 4,
 "nbformat_minor": 5
}
