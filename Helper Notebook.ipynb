{
 "cells": [
  {
   "cell_type": "code",
   "execution_count": 1,
   "id": "4dc1cbc6",
   "metadata": {},
   "outputs": [
    {
     "name": "stderr",
     "output_type": "stream",
     "text": [
      "2023-12-14 09:31:01.386 INFO    numexpr.utils: NumExpr defaulting to 8 threads.\n"
     ]
    }
   ],
   "source": [
    "import streamlit as st\n",
    "import pandas as pd\n",
    "import plotly.express as px"
   ]
  },
  {
   "cell_type": "code",
   "execution_count": 76,
   "id": "f5bd86da",
   "metadata": {},
   "outputs": [],
   "source": [
    "def get_data_from_csv():\n",
    "    df = pd.read_csv('all_sales_data.csv')\n",
    "    return df\n",
    "df = get_data_from_csv()\n",
    "\n",
    "### MASTER DATA ###\n",
    "all_sales = df.copy()"
   ]
  },
  {
   "cell_type": "code",
   "execution_count": 77,
   "id": "67ae5d5b",
   "metadata": {},
   "outputs": [
    {
     "name": "stdout",
     "output_type": "stream",
     "text": [
      "<class 'pandas.core.frame.DataFrame'>\n",
      "RangeIndex: 86985 entries, 0 to 86984\n",
      "Data columns (total 12 columns):\n",
      " #   Column                 Non-Null Count  Dtype         \n",
      "---  ------                 --------------  -----         \n",
      " 0   Dollars                86985 non-null  float64       \n",
      " 1   Customer               86985 non-null  object        \n",
      " 2   Customer Order Number  86985 non-null  object        \n",
      " 3   Dollars Formatted      86985 non-null  float64       \n",
      " 4   Invoice Date           86985 non-null  datetime64[ns]\n",
      " 5   Item Full Description  86985 non-null  object        \n",
      " 6   Market Segment         86985 non-null  object        \n",
      " 7   Parent Customer        86985 non-null  object        \n",
      " 8   Sale Origin            86985 non-null  object        \n",
      " 9   Sales by Parent        86985 non-null  float64       \n",
      " 10  Suffix                 3990 non-null   object        \n",
      " 11  Vistar Retail          86985 non-null  object        \n",
      "dtypes: datetime64[ns](1), float64(3), object(8)\n",
      "memory usage: 8.0+ MB\n"
     ]
    }
   ],
   "source": [
    "all_sales['Invoice Date'] = pd.to_datetime(all_sales['Invoice Date'])\n",
    "all_sales['Invoice Date'] = all_sales['Invoice Date'].dt.normalize()\n",
    "all_sales['Invoice Date'] = all_sales['Invoice Date'].dt.floor('D')\n",
    "all_sales.info()"
   ]
  },
  {
   "cell_type": "code",
   "execution_count": 78,
   "id": "ceac6805",
   "metadata": {},
   "outputs": [],
   "source": [
    "year = all_sales['Invoice Date'].dt.year.unique()\n",
    "segment = all_sales['Market Segment'].unique()"
   ]
  },
  {
   "cell_type": "code",
   "execution_count": 79,
   "id": "e20385eb",
   "metadata": {},
   "outputs": [
    {
     "data": {
      "text/html": [
       "<div>\n",
       "<style scoped>\n",
       "    .dataframe tbody tr th:only-of-type {\n",
       "        vertical-align: middle;\n",
       "    }\n",
       "\n",
       "    .dataframe tbody tr th {\n",
       "        vertical-align: top;\n",
       "    }\n",
       "\n",
       "    .dataframe thead th {\n",
       "        text-align: right;\n",
       "    }\n",
       "</style>\n",
       "<table border=\"1\" class=\"dataframe\">\n",
       "  <thead>\n",
       "    <tr style=\"text-align: right;\">\n",
       "      <th></th>\n",
       "      <th>Dollars</th>\n",
       "      <th>Customer</th>\n",
       "      <th>Customer Order Number</th>\n",
       "      <th>Dollars Formatted</th>\n",
       "      <th>Invoice Date</th>\n",
       "      <th>Item Full Description</th>\n",
       "      <th>Market Segment</th>\n",
       "      <th>Parent Customer</th>\n",
       "      <th>Sale Origin</th>\n",
       "      <th>Sales by Parent</th>\n",
       "      <th>Suffix</th>\n",
       "      <th>Vistar Retail</th>\n",
       "    </tr>\n",
       "  </thead>\n",
       "  <tbody>\n",
       "    <tr>\n",
       "      <th>0</th>\n",
       "      <td>34.9875</td>\n",
       "      <td>Amazon SC</td>\n",
       "      <td>SO-00099997</td>\n",
       "      <td>34.987500</td>\n",
       "      <td>2023-05-17</td>\n",
       "      <td>50ct Pouch - Variety Pk Choc Bites</td>\n",
       "      <td>Online</td>\n",
       "      <td>Amazon</td>\n",
       "      <td>Unleashed</td>\n",
       "      <td>2.473553e+06</td>\n",
       "      <td>NaN</td>\n",
       "      <td>No</td>\n",
       "    </tr>\n",
       "    <tr>\n",
       "      <th>1</th>\n",
       "      <td>34.9875</td>\n",
       "      <td>Amazon SC</td>\n",
       "      <td>SO-00099972</td>\n",
       "      <td>34.987500</td>\n",
       "      <td>2023-05-17</td>\n",
       "      <td>50ct Pouch - Variety Pk Choc Bites</td>\n",
       "      <td>Online</td>\n",
       "      <td>Amazon</td>\n",
       "      <td>Unleashed</td>\n",
       "      <td>2.473553e+06</td>\n",
       "      <td>NaN</td>\n",
       "      <td>No</td>\n",
       "    </tr>\n",
       "    <tr>\n",
       "      <th>2</th>\n",
       "      <td>34.9875</td>\n",
       "      <td>Amazon SC</td>\n",
       "      <td>SO-00100026</td>\n",
       "      <td>34.987500</td>\n",
       "      <td>2023-05-17</td>\n",
       "      <td>50ct Pouch - Variety Pk Choc Bites</td>\n",
       "      <td>Online</td>\n",
       "      <td>Amazon</td>\n",
       "      <td>Unleashed</td>\n",
       "      <td>2.473553e+06</td>\n",
       "      <td>NaN</td>\n",
       "      <td>No</td>\n",
       "    </tr>\n",
       "    <tr>\n",
       "      <th>3</th>\n",
       "      <td>34.9875</td>\n",
       "      <td>Amazon SC</td>\n",
       "      <td>SO-00100069</td>\n",
       "      <td>34.987500</td>\n",
       "      <td>2023-05-17</td>\n",
       "      <td>50ct Pouch - Variety Pk Choc Bites</td>\n",
       "      <td>Online</td>\n",
       "      <td>Amazon</td>\n",
       "      <td>Unleashed</td>\n",
       "      <td>2.473553e+06</td>\n",
       "      <td>NaN</td>\n",
       "      <td>No</td>\n",
       "    </tr>\n",
       "    <tr>\n",
       "      <th>4</th>\n",
       "      <td>34.9875</td>\n",
       "      <td>Amazon SC</td>\n",
       "      <td>SO-00100085</td>\n",
       "      <td>34.987500</td>\n",
       "      <td>2023-05-17</td>\n",
       "      <td>50ct Pouch - Variety Pk Choc Bites</td>\n",
       "      <td>Online</td>\n",
       "      <td>Amazon</td>\n",
       "      <td>Unleashed</td>\n",
       "      <td>2.473553e+06</td>\n",
       "      <td>NaN</td>\n",
       "      <td>No</td>\n",
       "    </tr>\n",
       "    <tr>\n",
       "      <th>...</th>\n",
       "      <td>...</td>\n",
       "      <td>...</td>\n",
       "      <td>...</td>\n",
       "      <td>...</td>\n",
       "      <td>...</td>\n",
       "      <td>...</td>\n",
       "      <td>...</td>\n",
       "      <td>...</td>\n",
       "      <td>...</td>\n",
       "      <td>...</td>\n",
       "      <td>...</td>\n",
       "      <td>...</td>\n",
       "    </tr>\n",
       "    <tr>\n",
       "      <th>86980</th>\n",
       "      <td>2575.1250</td>\n",
       "      <td>Vistar/ VSA Corporate</td>\n",
       "      <td>SO-00074694</td>\n",
       "      <td>2.575125</td>\n",
       "      <td>2022-04-01</td>\n",
       "      <td>6 x 50ct Change Maker - AWAKE Chocolate Bites ...</td>\n",
       "      <td>Alternate Retail</td>\n",
       "      <td>Vistar Retail</td>\n",
       "      <td>Unleashed</td>\n",
       "      <td>1.978810e+06</td>\n",
       "      <td>K</td>\n",
       "      <td>Yes</td>\n",
       "    </tr>\n",
       "    <tr>\n",
       "      <th>86981</th>\n",
       "      <td>1383.4650</td>\n",
       "      <td>Vistar/ VSA Corporate</td>\n",
       "      <td>SO-00079448</td>\n",
       "      <td>1.383465</td>\n",
       "      <td>2022-07-18</td>\n",
       "      <td>6 x 50ct Change Maker - AWAKE Chocolate Bites ...</td>\n",
       "      <td>Alternate Retail</td>\n",
       "      <td>Vistar Retail</td>\n",
       "      <td>Unleashed</td>\n",
       "      <td>1.978810e+06</td>\n",
       "      <td>K</td>\n",
       "      <td>Yes</td>\n",
       "    </tr>\n",
       "    <tr>\n",
       "      <th>86982</th>\n",
       "      <td>122.6250</td>\n",
       "      <td>Vistar/ VSA Corporate</td>\n",
       "      <td>SO-00074694</td>\n",
       "      <td>122.625000</td>\n",
       "      <td>2022-04-01</td>\n",
       "      <td>6 x 50ct Change Maker - AWAKE Chocolate Bites ...</td>\n",
       "      <td>Alternate Retail</td>\n",
       "      <td>Vistar Retail</td>\n",
       "      <td>Unleashed</td>\n",
       "      <td>1.978810e+06</td>\n",
       "      <td>NaN</td>\n",
       "      <td>Yes</td>\n",
       "    </tr>\n",
       "    <tr>\n",
       "      <th>86983</th>\n",
       "      <td>1509.2325</td>\n",
       "      <td>Vistar/ VSA Corporate</td>\n",
       "      <td>SO-00079448</td>\n",
       "      <td>1.509232</td>\n",
       "      <td>2022-07-18</td>\n",
       "      <td>6 x 50ct Change Maker - AWAKE Chocolate Bites ...</td>\n",
       "      <td>Alternate Retail</td>\n",
       "      <td>Vistar Retail</td>\n",
       "      <td>Unleashed</td>\n",
       "      <td>1.978810e+06</td>\n",
       "      <td>K</td>\n",
       "      <td>Yes</td>\n",
       "    </tr>\n",
       "    <tr>\n",
       "      <th>86984</th>\n",
       "      <td>7050.0000</td>\n",
       "      <td>Vistar/ VSA Corporate</td>\n",
       "      <td>SO-00087921</td>\n",
       "      <td>7.050000</td>\n",
       "      <td>2022-10-14</td>\n",
       "      <td>Mint Bites 13.5g Change Maker (6 x 50)</td>\n",
       "      <td>Alternate Retail</td>\n",
       "      <td>Vistar Retail</td>\n",
       "      <td>Unleashed</td>\n",
       "      <td>1.978810e+06</td>\n",
       "      <td>K</td>\n",
       "      <td>Yes</td>\n",
       "    </tr>\n",
       "  </tbody>\n",
       "</table>\n",
       "<p>86985 rows × 12 columns</p>\n",
       "</div>"
      ],
      "text/plain": [
       "         Dollars               Customer Customer Order Number  \\\n",
       "0        34.9875              Amazon SC           SO-00099997   \n",
       "1        34.9875              Amazon SC           SO-00099972   \n",
       "2        34.9875              Amazon SC           SO-00100026   \n",
       "3        34.9875              Amazon SC           SO-00100069   \n",
       "4        34.9875              Amazon SC           SO-00100085   \n",
       "...          ...                    ...                   ...   \n",
       "86980  2575.1250  Vistar/ VSA Corporate           SO-00074694   \n",
       "86981  1383.4650  Vistar/ VSA Corporate           SO-00079448   \n",
       "86982   122.6250  Vistar/ VSA Corporate           SO-00074694   \n",
       "86983  1509.2325  Vistar/ VSA Corporate           SO-00079448   \n",
       "86984  7050.0000  Vistar/ VSA Corporate           SO-00087921   \n",
       "\n",
       "       Dollars Formatted Invoice Date  \\\n",
       "0              34.987500   2023-05-17   \n",
       "1              34.987500   2023-05-17   \n",
       "2              34.987500   2023-05-17   \n",
       "3              34.987500   2023-05-17   \n",
       "4              34.987500   2023-05-17   \n",
       "...                  ...          ...   \n",
       "86980           2.575125   2022-04-01   \n",
       "86981           1.383465   2022-07-18   \n",
       "86982         122.625000   2022-04-01   \n",
       "86983           1.509232   2022-07-18   \n",
       "86984           7.050000   2022-10-14   \n",
       "\n",
       "                                   Item Full Description    Market Segment  \\\n",
       "0                     50ct Pouch - Variety Pk Choc Bites            Online   \n",
       "1                     50ct Pouch - Variety Pk Choc Bites            Online   \n",
       "2                     50ct Pouch - Variety Pk Choc Bites            Online   \n",
       "3                     50ct Pouch - Variety Pk Choc Bites            Online   \n",
       "4                     50ct Pouch - Variety Pk Choc Bites            Online   \n",
       "...                                                  ...               ...   \n",
       "86980  6 x 50ct Change Maker - AWAKE Chocolate Bites ...  Alternate Retail   \n",
       "86981  6 x 50ct Change Maker - AWAKE Chocolate Bites ...  Alternate Retail   \n",
       "86982  6 x 50ct Change Maker - AWAKE Chocolate Bites ...  Alternate Retail   \n",
       "86983  6 x 50ct Change Maker - AWAKE Chocolate Bites ...  Alternate Retail   \n",
       "86984             Mint Bites 13.5g Change Maker (6 x 50)  Alternate Retail   \n",
       "\n",
       "      Parent Customer Sale Origin  Sales by Parent Suffix Vistar Retail  \n",
       "0              Amazon   Unleashed     2.473553e+06    NaN            No  \n",
       "1              Amazon   Unleashed     2.473553e+06    NaN            No  \n",
       "2              Amazon   Unleashed     2.473553e+06    NaN            No  \n",
       "3              Amazon   Unleashed     2.473553e+06    NaN            No  \n",
       "4              Amazon   Unleashed     2.473553e+06    NaN            No  \n",
       "...               ...         ...              ...    ...           ...  \n",
       "86980   Vistar Retail   Unleashed     1.978810e+06      K           Yes  \n",
       "86981   Vistar Retail   Unleashed     1.978810e+06      K           Yes  \n",
       "86982   Vistar Retail   Unleashed     1.978810e+06    NaN           Yes  \n",
       "86983   Vistar Retail   Unleashed     1.978810e+06      K           Yes  \n",
       "86984   Vistar Retail   Unleashed     1.978810e+06      K           Yes  \n",
       "\n",
       "[86985 rows x 12 columns]"
      ]
     },
     "execution_count": 79,
     "metadata": {},
     "output_type": "execute_result"
    }
   ],
   "source": [
    "df_selection = all_sales[\n",
    "    (all_sales['Invoice Date'].dt.year.isin(year)) &\n",
    "    (all_sales['Market Segment'].isin(segment))\n",
    "    ]\n",
    "df_selection"
   ]
  },
  {
   "cell_type": "code",
   "execution_count": 67,
   "id": "077393cc",
   "metadata": {},
   "outputs": [
    {
     "name": "stdout",
     "output_type": "stream",
     "text": [
      "<class 'pandas.core.frame.DataFrame'>\n",
      "RangeIndex: 812 entries, 0 to 811\n",
      "Data columns (total 2 columns):\n",
      " #   Column          Non-Null Count  Dtype  \n",
      "---  ------          --------------  -----  \n",
      " 0   Market Segment  812 non-null    object \n",
      " 1   Dollars         812 non-null    float64\n",
      "dtypes: float64(1), object(1)\n",
      "memory usage: 12.8+ KB\n"
     ]
    }
   ],
   "source": [
    "year_u = df_selection['Invoice Date'].dt.year\n",
    "week_u = df_selection['Invoice Date'].dt.isocalendar().week\n",
    "\n",
    "sales_per_day.info()"
   ]
  },
  {
   "cell_type": "code",
   "execution_count": 75,
   "id": "127bcd6f",
   "metadata": {},
   "outputs": [
    {
     "data": {
      "text/html": [
       "<div>\n",
       "<style scoped>\n",
       "    .dataframe tbody tr th:only-of-type {\n",
       "        vertical-align: middle;\n",
       "    }\n",
       "\n",
       "    .dataframe tbody tr th {\n",
       "        vertical-align: top;\n",
       "    }\n",
       "\n",
       "    .dataframe thead th {\n",
       "        text-align: right;\n",
       "    }\n",
       "</style>\n",
       "<table border=\"1\" class=\"dataframe\">\n",
       "  <thead>\n",
       "    <tr style=\"text-align: right;\">\n",
       "      <th></th>\n",
       "      <th></th>\n",
       "      <th>Dollars</th>\n",
       "    </tr>\n",
       "    <tr>\n",
       "      <th>Invoice Date</th>\n",
       "      <th>Market Segment</th>\n",
       "      <th></th>\n",
       "    </tr>\n",
       "  </thead>\n",
       "  <tbody>\n",
       "    <tr>\n",
       "      <th rowspan=\"5\" valign=\"top\">2022-01-03</th>\n",
       "      <th>Alternate Retail</th>\n",
       "      <td>784.800</td>\n",
       "    </tr>\n",
       "    <tr>\n",
       "      <th>Broadline Distributor</th>\n",
       "      <td>392.400</td>\n",
       "    </tr>\n",
       "    <tr>\n",
       "      <th>Convenience</th>\n",
       "      <td>2092.800</td>\n",
       "    </tr>\n",
       "    <tr>\n",
       "      <th>Online</th>\n",
       "      <td>26.265</td>\n",
       "    </tr>\n",
       "    <tr>\n",
       "      <th>Other (to be categorized)</th>\n",
       "      <td>78.480</td>\n",
       "    </tr>\n",
       "    <tr>\n",
       "      <th>...</th>\n",
       "      <th>...</th>\n",
       "      <td>...</td>\n",
       "    </tr>\n",
       "    <tr>\n",
       "      <th rowspan=\"5\" valign=\"top\">2023-12-11</th>\n",
       "      <th>Broadline Distributor</th>\n",
       "      <td>282.000</td>\n",
       "    </tr>\n",
       "    <tr>\n",
       "      <th>Convenience</th>\n",
       "      <td>256.620</td>\n",
       "    </tr>\n",
       "    <tr>\n",
       "      <th>Grocery</th>\n",
       "      <td>3847.140</td>\n",
       "    </tr>\n",
       "    <tr>\n",
       "      <th>Online</th>\n",
       "      <td>20950.125</td>\n",
       "    </tr>\n",
       "    <tr>\n",
       "      <th>Vending</th>\n",
       "      <td>4743.240</td>\n",
       "    </tr>\n",
       "  </tbody>\n",
       "</table>\n",
       "<p>2880 rows × 1 columns</p>\n",
       "</div>"
      ],
      "text/plain": [
       "                                          Dollars\n",
       "Invoice Date Market Segment                      \n",
       "2022-01-03   Alternate Retail             784.800\n",
       "             Broadline Distributor        392.400\n",
       "             Convenience                 2092.800\n",
       "             Online                        26.265\n",
       "             Other (to be categorized)     78.480\n",
       "...                                           ...\n",
       "2023-12-11   Broadline Distributor        282.000\n",
       "             Convenience                  256.620\n",
       "             Grocery                     3847.140\n",
       "             Online                     20950.125\n",
       "             Vending                     4743.240\n",
       "\n",
       "[2880 rows x 1 columns]"
      ]
     },
     "execution_count": 75,
     "metadata": {},
     "output_type": "execute_result"
    }
   ],
   "source": [
    "df_selection.groupby(['Invoice Date','Market Segment'])[['Dollars','Market Segment']].sum()"
   ]
  },
  {
   "cell_type": "code",
   "execution_count": 81,
   "id": "ac74d9d7",
   "metadata": {},
   "outputs": [
    {
     "data": {
      "application/vnd.plotly.v1+json": {
       "config": {
        "plotlyServerURL": "https://plot.ly"
       },
       "data": [
        {
         "hovertemplate": "=%{x}<br><b>$USD</b>=%{y}<extra></extra>",
         "legendgroup": "",
         "marker": {
          "color": "#636efa",
          "symbol": "circle"
         },
         "mode": "markers",
         "name": "",
         "orientation": "v",
         "showlegend": false,
         "type": "scatter",
         "x": [
          "2022-01-09T00:00:00",
          "2022-01-16T00:00:00",
          "2022-01-23T00:00:00",
          "2022-01-30T00:00:00",
          "2022-02-06T00:00:00",
          "2022-02-13T00:00:00",
          "2022-02-20T00:00:00",
          "2022-02-27T00:00:00",
          "2022-03-06T00:00:00",
          "2022-03-13T00:00:00",
          "2022-03-20T00:00:00",
          "2022-03-27T00:00:00",
          "2022-04-03T00:00:00",
          "2022-04-10T00:00:00",
          "2022-04-17T00:00:00",
          "2022-04-24T00:00:00",
          "2022-05-01T00:00:00",
          "2022-05-08T00:00:00",
          "2022-05-15T00:00:00",
          "2022-05-22T00:00:00",
          "2022-05-29T00:00:00",
          "2022-06-05T00:00:00",
          "2022-06-12T00:00:00",
          "2022-06-19T00:00:00",
          "2022-06-26T00:00:00",
          "2022-07-03T00:00:00",
          "2022-07-10T00:00:00",
          "2022-07-17T00:00:00",
          "2022-07-24T00:00:00",
          "2022-07-31T00:00:00",
          "2022-08-07T00:00:00",
          "2022-08-14T00:00:00",
          "2022-08-21T00:00:00",
          "2022-08-28T00:00:00",
          "2022-09-04T00:00:00",
          "2022-09-11T00:00:00",
          "2022-09-18T00:00:00",
          "2022-09-25T00:00:00",
          "2022-10-02T00:00:00",
          "2022-10-09T00:00:00",
          "2022-10-16T00:00:00",
          "2022-10-23T00:00:00",
          "2022-10-30T00:00:00",
          "2022-11-06T00:00:00",
          "2022-11-13T00:00:00",
          "2022-11-20T00:00:00",
          "2022-11-27T00:00:00",
          "2022-12-04T00:00:00",
          "2022-12-11T00:00:00",
          "2022-12-18T00:00:00",
          "2022-12-25T00:00:00",
          "2023-01-01T00:00:00",
          "2023-01-08T00:00:00",
          "2023-01-15T00:00:00",
          "2023-01-22T00:00:00",
          "2023-01-29T00:00:00",
          "2023-02-05T00:00:00",
          "2023-02-12T00:00:00",
          "2023-02-19T00:00:00",
          "2023-02-26T00:00:00",
          "2023-03-05T00:00:00",
          "2023-03-12T00:00:00",
          "2023-03-19T00:00:00",
          "2023-03-26T00:00:00",
          "2023-04-02T00:00:00",
          "2023-04-09T00:00:00",
          "2023-04-16T00:00:00",
          "2023-04-23T00:00:00",
          "2023-04-30T00:00:00",
          "2023-05-07T00:00:00",
          "2023-05-14T00:00:00",
          "2023-05-21T00:00:00",
          "2023-05-28T00:00:00",
          "2023-06-04T00:00:00",
          "2023-06-11T00:00:00",
          "2023-06-18T00:00:00",
          "2023-06-25T00:00:00",
          "2023-07-02T00:00:00",
          "2023-07-09T00:00:00",
          "2023-07-16T00:00:00",
          "2023-07-23T00:00:00",
          "2023-07-30T00:00:00",
          "2023-08-06T00:00:00",
          "2023-08-13T00:00:00",
          "2023-08-20T00:00:00",
          "2023-08-27T00:00:00",
          "2023-09-03T00:00:00",
          "2023-09-10T00:00:00",
          "2023-09-17T00:00:00",
          "2023-09-24T00:00:00",
          "2023-10-01T00:00:00",
          "2023-10-08T00:00:00",
          "2023-10-15T00:00:00",
          "2023-10-22T00:00:00",
          "2023-10-29T00:00:00",
          "2023-11-05T00:00:00",
          "2023-11-12T00:00:00",
          "2023-11-19T00:00:00",
          "2023-11-26T00:00:00",
          "2023-12-03T00:00:00",
          "2023-12-10T00:00:00",
          "2023-12-17T00:00:00"
         ],
         "xaxis": "x",
         "y": [
          104741.24250000001,
          118597.7975,
          53370.845,
          31749.34,
          181105.33,
          134028.645,
          108419.355,
          114598.27,
          97595.0125,
          127755.3475,
          104999.255,
          109261.095,
          214774.4225,
          112547.6475,
          153953.8575,
          221395.4,
          227780.625,
          102529.285,
          212213.75,
          112101.0825,
          74145.05,
          154248.495,
          95372.72,
          192292.9401,
          133513.0594,
          99111.6613,
          78056.67,
          73445.6825,
          175562.4525,
          133602.42,
          142737.21,
          109995.68250000001,
          135692.105,
          171143.4475,
          208902.5125,
          114050.58,
          160958.2425,
          261226.67,
          201825.4575,
          111794.3225,
          172439.905,
          218752.268,
          124687.0675,
          289431.6975,
          133323.5525,
          175124.9675,
          176492.695,
          164070.51,
          84511.7725,
          100245.095,
          156892.5925,
          195172.13999999998,
          62810.5625,
          130537.3975,
          124545.535,
          85440.315,
          331505.23,
          134288.1425,
          149702.6225,
          108487.8625,
          439297.3875,
          98840.4825,
          194318.72,
          144810.7975,
          355901.42,
          128368.22,
          207197.645,
          196099.4575,
          288198.245,
          116357.4925,
          124092.045,
          140026.64,
          113073.02,
          184419.0225,
          96993.8475,
          163842.3375,
          148388.535,
          299849.485,
          109604.6025,
          153402.1925,
          152909.6525,
          175909.8475,
          302727.2725,
          127913.565,
          123702.69499999999,
          153665.585,
          307228.5425,
          137361.4225,
          188901.54499999998,
          213313.835,
          318024.5875,
          164258.0425,
          240820.303798319,
          238540.8375,
          151760.9775,
          347581.9675,
          114668.91,
          246990.0375,
          162580.76499999998,
          230604.2225,
          93375.5625,
          41116.604999999996
         ],
         "yaxis": "y"
        },
        {
         "hovertemplate": "<b>Rolling mean trendline</b><br><br>=%{x}<br><b>$USD</b>=%{y} <b>(trend)</b><extra></extra>",
         "legendgroup": "Overall Trendline",
         "line": {
          "color": "#EF553B"
         },
         "mode": "lines",
         "name": "Overall Trendline",
         "showlegend": true,
         "type": "scatter",
         "x": [
          "2022-01-09T00:00:00",
          "2022-01-16T00:00:00",
          "2022-01-23T00:00:00",
          "2022-01-30T00:00:00",
          "2022-02-06T00:00:00",
          "2022-02-13T00:00:00",
          "2022-02-20T00:00:00",
          "2022-02-27T00:00:00",
          "2022-03-06T00:00:00",
          "2022-03-13T00:00:00",
          "2022-03-20T00:00:00",
          "2022-03-27T00:00:00",
          "2022-04-03T00:00:00",
          "2022-04-10T00:00:00",
          "2022-04-17T00:00:00",
          "2022-04-24T00:00:00",
          "2022-05-01T00:00:00",
          "2022-05-08T00:00:00",
          "2022-05-15T00:00:00",
          "2022-05-22T00:00:00",
          "2022-05-29T00:00:00",
          "2022-06-05T00:00:00",
          "2022-06-12T00:00:00",
          "2022-06-19T00:00:00",
          "2022-06-26T00:00:00",
          "2022-07-03T00:00:00",
          "2022-07-10T00:00:00",
          "2022-07-17T00:00:00",
          "2022-07-24T00:00:00",
          "2022-07-31T00:00:00",
          "2022-08-07T00:00:00",
          "2022-08-14T00:00:00",
          "2022-08-21T00:00:00",
          "2022-08-28T00:00:00",
          "2022-09-04T00:00:00",
          "2022-09-11T00:00:00",
          "2022-09-18T00:00:00",
          "2022-09-25T00:00:00",
          "2022-10-02T00:00:00",
          "2022-10-09T00:00:00",
          "2022-10-16T00:00:00",
          "2022-10-23T00:00:00",
          "2022-10-30T00:00:00",
          "2022-11-06T00:00:00",
          "2022-11-13T00:00:00",
          "2022-11-20T00:00:00",
          "2022-11-27T00:00:00",
          "2022-12-04T00:00:00",
          "2022-12-11T00:00:00",
          "2022-12-18T00:00:00",
          "2022-12-25T00:00:00",
          "2023-01-01T00:00:00",
          "2023-01-08T00:00:00",
          "2023-01-15T00:00:00",
          "2023-01-22T00:00:00",
          "2023-01-29T00:00:00",
          "2023-02-05T00:00:00",
          "2023-02-12T00:00:00",
          "2023-02-19T00:00:00",
          "2023-02-26T00:00:00",
          "2023-03-05T00:00:00",
          "2023-03-12T00:00:00",
          "2023-03-19T00:00:00",
          "2023-03-26T00:00:00",
          "2023-04-02T00:00:00",
          "2023-04-09T00:00:00",
          "2023-04-16T00:00:00",
          "2023-04-23T00:00:00",
          "2023-04-30T00:00:00",
          "2023-05-07T00:00:00",
          "2023-05-14T00:00:00",
          "2023-05-21T00:00:00",
          "2023-05-28T00:00:00",
          "2023-06-04T00:00:00",
          "2023-06-11T00:00:00",
          "2023-06-18T00:00:00",
          "2023-06-25T00:00:00",
          "2023-07-02T00:00:00",
          "2023-07-09T00:00:00",
          "2023-07-16T00:00:00",
          "2023-07-23T00:00:00",
          "2023-07-30T00:00:00",
          "2023-08-06T00:00:00",
          "2023-08-13T00:00:00",
          "2023-08-20T00:00:00",
          "2023-08-27T00:00:00",
          "2023-09-03T00:00:00",
          "2023-09-10T00:00:00",
          "2023-09-17T00:00:00",
          "2023-09-24T00:00:00",
          "2023-10-01T00:00:00",
          "2023-10-08T00:00:00",
          "2023-10-15T00:00:00",
          "2023-10-22T00:00:00",
          "2023-10-29T00:00:00",
          "2023-11-05T00:00:00",
          "2023-11-12T00:00:00",
          "2023-11-19T00:00:00",
          "2023-11-26T00:00:00",
          "2023-12-03T00:00:00",
          "2023-12-10T00:00:00",
          "2023-12-17T00:00:00"
         ],
         "xaxis": "x",
         "y": [
          null,
          null,
          null,
          null,
          null,
          103932.2,
          104545.21875,
          103878.63083333334,
          111249.32541666664,
          127250.32666666666,
          114565.98083333333,
          110438.05583333333,
          128163.90041666666,
          127822.12999999999,
          137215.27083333334,
          152821.94625,
          173285.50791666665,
          172163.53958333333,
          171736.76083333333,
          171662.33333333334,
          158360.86541666667,
          147169.71458333332,
          125101.73041666666,
          140062.33959999998,
          126945.55783333333,
          124780.65430000001,
          125432.59096666666,
          111965.45555,
          125330.41096666669,
          115548.65761666668,
          117086.01605000002,
          118900.01958333334,
          128505.92541666668,
          144788.88625,
          150345.56291666665,
          147086.9229166667,
          150123.7616666667,
          175328.92625000002,
          186351.1516666667,
          176459.63083333333,
          170382.52958333332,
          187832.81091666667,
          181787.61508333334,
          186488.45299999998,
          175071.46883333335,
          185626.5763333333,
          186302.04133333333,
          177188.415,
          170492.5325,
          138961.43208333335,
          142889.6054166667,
          146230.8008333333,
          127283.77875,
          121694.92666666668,
          128367.22041666665,
          125899.75708333333,
          155001.8633333333,
          144854.53041666668,
          159336.54041666668,
          155661.61791666664,
          208120.26,
          210353.62125,
          187489.20291666666,
          189242.97875,
          223609.44499999998,
          226922.83791666664,
          188239.5475,
          204449.37666666668,
          220095.96416666664,
          215353.74666666662,
          176718.85083333333,
          178661.9208333333,
          162974.4833333333,
          161027.74416666667,
          129160.34458333334,
          137074.48541666663,
          141123.90041666667,
          167761.04124999998,
          167182.97166666665,
          162013.5,
          171332.8008333333,
          173344.0525,
          199067.17541666667,
          170411.18875,
          172760.87083333332,
          172804.7695833333,
          198524.58458333332,
          192099.84708333333,
          173128.8925,
          187362.27083333334,
          219749.25291666668,
          221514.6625,
          210446.62271638648,
          227309.85854971988,
          221119.76396638653,
          243497.7860497198,
          209605.1731330532,
          223393.83896638648,
          210353.91583333336,
          209031.1466666667,
          199300.24416666667,
          148222.68375
         ],
         "yaxis": "y"
        }
       ],
       "layout": {
        "legend": {
         "tracegroupgap": 0
        },
        "template": {
         "data": {
          "bar": [
           {
            "error_x": {
             "color": "#2a3f5f"
            },
            "error_y": {
             "color": "#2a3f5f"
            },
            "marker": {
             "line": {
              "color": "white",
              "width": 0.5
             },
             "pattern": {
              "fillmode": "overlay",
              "size": 10,
              "solidity": 0.2
             }
            },
            "type": "bar"
           }
          ],
          "barpolar": [
           {
            "marker": {
             "line": {
              "color": "white",
              "width": 0.5
             },
             "pattern": {
              "fillmode": "overlay",
              "size": 10,
              "solidity": 0.2
             }
            },
            "type": "barpolar"
           }
          ],
          "carpet": [
           {
            "aaxis": {
             "endlinecolor": "#2a3f5f",
             "gridcolor": "#C8D4E3",
             "linecolor": "#C8D4E3",
             "minorgridcolor": "#C8D4E3",
             "startlinecolor": "#2a3f5f"
            },
            "baxis": {
             "endlinecolor": "#2a3f5f",
             "gridcolor": "#C8D4E3",
             "linecolor": "#C8D4E3",
             "minorgridcolor": "#C8D4E3",
             "startlinecolor": "#2a3f5f"
            },
            "type": "carpet"
           }
          ],
          "choropleth": [
           {
            "colorbar": {
             "outlinewidth": 0,
             "ticks": ""
            },
            "type": "choropleth"
           }
          ],
          "contour": [
           {
            "colorbar": {
             "outlinewidth": 0,
             "ticks": ""
            },
            "colorscale": [
             [
              0,
              "#0d0887"
             ],
             [
              0.1111111111111111,
              "#46039f"
             ],
             [
              0.2222222222222222,
              "#7201a8"
             ],
             [
              0.3333333333333333,
              "#9c179e"
             ],
             [
              0.4444444444444444,
              "#bd3786"
             ],
             [
              0.5555555555555556,
              "#d8576b"
             ],
             [
              0.6666666666666666,
              "#ed7953"
             ],
             [
              0.7777777777777778,
              "#fb9f3a"
             ],
             [
              0.8888888888888888,
              "#fdca26"
             ],
             [
              1,
              "#f0f921"
             ]
            ],
            "type": "contour"
           }
          ],
          "contourcarpet": [
           {
            "colorbar": {
             "outlinewidth": 0,
             "ticks": ""
            },
            "type": "contourcarpet"
           }
          ],
          "heatmap": [
           {
            "colorbar": {
             "outlinewidth": 0,
             "ticks": ""
            },
            "colorscale": [
             [
              0,
              "#0d0887"
             ],
             [
              0.1111111111111111,
              "#46039f"
             ],
             [
              0.2222222222222222,
              "#7201a8"
             ],
             [
              0.3333333333333333,
              "#9c179e"
             ],
             [
              0.4444444444444444,
              "#bd3786"
             ],
             [
              0.5555555555555556,
              "#d8576b"
             ],
             [
              0.6666666666666666,
              "#ed7953"
             ],
             [
              0.7777777777777778,
              "#fb9f3a"
             ],
             [
              0.8888888888888888,
              "#fdca26"
             ],
             [
              1,
              "#f0f921"
             ]
            ],
            "type": "heatmap"
           }
          ],
          "heatmapgl": [
           {
            "colorbar": {
             "outlinewidth": 0,
             "ticks": ""
            },
            "colorscale": [
             [
              0,
              "#0d0887"
             ],
             [
              0.1111111111111111,
              "#46039f"
             ],
             [
              0.2222222222222222,
              "#7201a8"
             ],
             [
              0.3333333333333333,
              "#9c179e"
             ],
             [
              0.4444444444444444,
              "#bd3786"
             ],
             [
              0.5555555555555556,
              "#d8576b"
             ],
             [
              0.6666666666666666,
              "#ed7953"
             ],
             [
              0.7777777777777778,
              "#fb9f3a"
             ],
             [
              0.8888888888888888,
              "#fdca26"
             ],
             [
              1,
              "#f0f921"
             ]
            ],
            "type": "heatmapgl"
           }
          ],
          "histogram": [
           {
            "marker": {
             "pattern": {
              "fillmode": "overlay",
              "size": 10,
              "solidity": 0.2
             }
            },
            "type": "histogram"
           }
          ],
          "histogram2d": [
           {
            "colorbar": {
             "outlinewidth": 0,
             "ticks": ""
            },
            "colorscale": [
             [
              0,
              "#0d0887"
             ],
             [
              0.1111111111111111,
              "#46039f"
             ],
             [
              0.2222222222222222,
              "#7201a8"
             ],
             [
              0.3333333333333333,
              "#9c179e"
             ],
             [
              0.4444444444444444,
              "#bd3786"
             ],
             [
              0.5555555555555556,
              "#d8576b"
             ],
             [
              0.6666666666666666,
              "#ed7953"
             ],
             [
              0.7777777777777778,
              "#fb9f3a"
             ],
             [
              0.8888888888888888,
              "#fdca26"
             ],
             [
              1,
              "#f0f921"
             ]
            ],
            "type": "histogram2d"
           }
          ],
          "histogram2dcontour": [
           {
            "colorbar": {
             "outlinewidth": 0,
             "ticks": ""
            },
            "colorscale": [
             [
              0,
              "#0d0887"
             ],
             [
              0.1111111111111111,
              "#46039f"
             ],
             [
              0.2222222222222222,
              "#7201a8"
             ],
             [
              0.3333333333333333,
              "#9c179e"
             ],
             [
              0.4444444444444444,
              "#bd3786"
             ],
             [
              0.5555555555555556,
              "#d8576b"
             ],
             [
              0.6666666666666666,
              "#ed7953"
             ],
             [
              0.7777777777777778,
              "#fb9f3a"
             ],
             [
              0.8888888888888888,
              "#fdca26"
             ],
             [
              1,
              "#f0f921"
             ]
            ],
            "type": "histogram2dcontour"
           }
          ],
          "mesh3d": [
           {
            "colorbar": {
             "outlinewidth": 0,
             "ticks": ""
            },
            "type": "mesh3d"
           }
          ],
          "parcoords": [
           {
            "line": {
             "colorbar": {
              "outlinewidth": 0,
              "ticks": ""
             }
            },
            "type": "parcoords"
           }
          ],
          "pie": [
           {
            "automargin": true,
            "type": "pie"
           }
          ],
          "scatter": [
           {
            "fillpattern": {
             "fillmode": "overlay",
             "size": 10,
             "solidity": 0.2
            },
            "type": "scatter"
           }
          ],
          "scatter3d": [
           {
            "line": {
             "colorbar": {
              "outlinewidth": 0,
              "ticks": ""
             }
            },
            "marker": {
             "colorbar": {
              "outlinewidth": 0,
              "ticks": ""
             }
            },
            "type": "scatter3d"
           }
          ],
          "scattercarpet": [
           {
            "marker": {
             "colorbar": {
              "outlinewidth": 0,
              "ticks": ""
             }
            },
            "type": "scattercarpet"
           }
          ],
          "scattergeo": [
           {
            "marker": {
             "colorbar": {
              "outlinewidth": 0,
              "ticks": ""
             }
            },
            "type": "scattergeo"
           }
          ],
          "scattergl": [
           {
            "marker": {
             "colorbar": {
              "outlinewidth": 0,
              "ticks": ""
             }
            },
            "type": "scattergl"
           }
          ],
          "scattermapbox": [
           {
            "marker": {
             "colorbar": {
              "outlinewidth": 0,
              "ticks": ""
             }
            },
            "type": "scattermapbox"
           }
          ],
          "scatterpolar": [
           {
            "marker": {
             "colorbar": {
              "outlinewidth": 0,
              "ticks": ""
             }
            },
            "type": "scatterpolar"
           }
          ],
          "scatterpolargl": [
           {
            "marker": {
             "colorbar": {
              "outlinewidth": 0,
              "ticks": ""
             }
            },
            "type": "scatterpolargl"
           }
          ],
          "scatterternary": [
           {
            "marker": {
             "colorbar": {
              "outlinewidth": 0,
              "ticks": ""
             }
            },
            "type": "scatterternary"
           }
          ],
          "surface": [
           {
            "colorbar": {
             "outlinewidth": 0,
             "ticks": ""
            },
            "colorscale": [
             [
              0,
              "#0d0887"
             ],
             [
              0.1111111111111111,
              "#46039f"
             ],
             [
              0.2222222222222222,
              "#7201a8"
             ],
             [
              0.3333333333333333,
              "#9c179e"
             ],
             [
              0.4444444444444444,
              "#bd3786"
             ],
             [
              0.5555555555555556,
              "#d8576b"
             ],
             [
              0.6666666666666666,
              "#ed7953"
             ],
             [
              0.7777777777777778,
              "#fb9f3a"
             ],
             [
              0.8888888888888888,
              "#fdca26"
             ],
             [
              1,
              "#f0f921"
             ]
            ],
            "type": "surface"
           }
          ],
          "table": [
           {
            "cells": {
             "fill": {
              "color": "#EBF0F8"
             },
             "line": {
              "color": "white"
             }
            },
            "header": {
             "fill": {
              "color": "#C8D4E3"
             },
             "line": {
              "color": "white"
             }
            },
            "type": "table"
           }
          ]
         },
         "layout": {
          "annotationdefaults": {
           "arrowcolor": "#2a3f5f",
           "arrowhead": 0,
           "arrowwidth": 1
          },
          "autotypenumbers": "strict",
          "coloraxis": {
           "colorbar": {
            "outlinewidth": 0,
            "ticks": ""
           }
          },
          "colorscale": {
           "diverging": [
            [
             0,
             "#8e0152"
            ],
            [
             0.1,
             "#c51b7d"
            ],
            [
             0.2,
             "#de77ae"
            ],
            [
             0.3,
             "#f1b6da"
            ],
            [
             0.4,
             "#fde0ef"
            ],
            [
             0.5,
             "#f7f7f7"
            ],
            [
             0.6,
             "#e6f5d0"
            ],
            [
             0.7,
             "#b8e186"
            ],
            [
             0.8,
             "#7fbc41"
            ],
            [
             0.9,
             "#4d9221"
            ],
            [
             1,
             "#276419"
            ]
           ],
           "sequential": [
            [
             0,
             "#0d0887"
            ],
            [
             0.1111111111111111,
             "#46039f"
            ],
            [
             0.2222222222222222,
             "#7201a8"
            ],
            [
             0.3333333333333333,
             "#9c179e"
            ],
            [
             0.4444444444444444,
             "#bd3786"
            ],
            [
             0.5555555555555556,
             "#d8576b"
            ],
            [
             0.6666666666666666,
             "#ed7953"
            ],
            [
             0.7777777777777778,
             "#fb9f3a"
            ],
            [
             0.8888888888888888,
             "#fdca26"
            ],
            [
             1,
             "#f0f921"
            ]
           ],
           "sequentialminus": [
            [
             0,
             "#0d0887"
            ],
            [
             0.1111111111111111,
             "#46039f"
            ],
            [
             0.2222222222222222,
             "#7201a8"
            ],
            [
             0.3333333333333333,
             "#9c179e"
            ],
            [
             0.4444444444444444,
             "#bd3786"
            ],
            [
             0.5555555555555556,
             "#d8576b"
            ],
            [
             0.6666666666666666,
             "#ed7953"
            ],
            [
             0.7777777777777778,
             "#fb9f3a"
            ],
            [
             0.8888888888888888,
             "#fdca26"
            ],
            [
             1,
             "#f0f921"
            ]
           ]
          },
          "colorway": [
           "#636efa",
           "#EF553B",
           "#00cc96",
           "#ab63fa",
           "#FFA15A",
           "#19d3f3",
           "#FF6692",
           "#B6E880",
           "#FF97FF",
           "#FECB52"
          ],
          "font": {
           "color": "#2a3f5f"
          },
          "geo": {
           "bgcolor": "white",
           "lakecolor": "white",
           "landcolor": "white",
           "showlakes": true,
           "showland": true,
           "subunitcolor": "#C8D4E3"
          },
          "hoverlabel": {
           "align": "left"
          },
          "hovermode": "closest",
          "mapbox": {
           "style": "light"
          },
          "paper_bgcolor": "white",
          "plot_bgcolor": "white",
          "polar": {
           "angularaxis": {
            "gridcolor": "#EBF0F8",
            "linecolor": "#EBF0F8",
            "ticks": ""
           },
           "bgcolor": "white",
           "radialaxis": {
            "gridcolor": "#EBF0F8",
            "linecolor": "#EBF0F8",
            "ticks": ""
           }
          },
          "scene": {
           "xaxis": {
            "backgroundcolor": "white",
            "gridcolor": "#DFE8F3",
            "gridwidth": 2,
            "linecolor": "#EBF0F8",
            "showbackground": true,
            "ticks": "",
            "zerolinecolor": "#EBF0F8"
           },
           "yaxis": {
            "backgroundcolor": "white",
            "gridcolor": "#DFE8F3",
            "gridwidth": 2,
            "linecolor": "#EBF0F8",
            "showbackground": true,
            "ticks": "",
            "zerolinecolor": "#EBF0F8"
           },
           "zaxis": {
            "backgroundcolor": "white",
            "gridcolor": "#DFE8F3",
            "gridwidth": 2,
            "linecolor": "#EBF0F8",
            "showbackground": true,
            "ticks": "",
            "zerolinecolor": "#EBF0F8"
           }
          },
          "shapedefaults": {
           "line": {
            "color": "#2a3f5f"
           }
          },
          "ternary": {
           "aaxis": {
            "gridcolor": "#DFE8F3",
            "linecolor": "#A2B1C6",
            "ticks": ""
           },
           "baxis": {
            "gridcolor": "#DFE8F3",
            "linecolor": "#A2B1C6",
            "ticks": ""
           },
           "bgcolor": "white",
           "caxis": {
            "gridcolor": "#DFE8F3",
            "linecolor": "#A2B1C6",
            "ticks": ""
           }
          },
          "title": {
           "x": 0.05
          },
          "xaxis": {
           "automargin": true,
           "gridcolor": "#EBF0F8",
           "linecolor": "#EBF0F8",
           "ticks": "",
           "title": {
            "standoff": 15
           },
           "zerolinecolor": "#EBF0F8",
           "zerolinewidth": 2
          },
          "yaxis": {
           "automargin": true,
           "gridcolor": "#EBF0F8",
           "linecolor": "#EBF0F8",
           "ticks": "",
           "title": {
            "standoff": 15
           },
           "zerolinecolor": "#EBF0F8",
           "zerolinewidth": 2
          }
         }
        },
        "title": {
         "text": "<b>Weekly Sales</b>"
        },
        "xaxis": {
         "anchor": "y",
         "domain": [
          0,
          1
         ],
         "title": {
          "text": ""
         }
        },
        "yaxis": {
         "anchor": "x",
         "domain": [
          0,
          1
         ],
         "title": {
          "text": "<b>$USD</b>"
         }
        }
       }
      },
      "text/html": [
       "<div>                            <div id=\"ceaaabc0-65f4-46e4-8e10-7423482a967f\" class=\"plotly-graph-div\" style=\"height:525px; width:100%;\"></div>            <script type=\"text/javascript\">                require([\"plotly\"], function(Plotly) {                    window.PLOTLYENV=window.PLOTLYENV || {};                                    if (document.getElementById(\"ceaaabc0-65f4-46e4-8e10-7423482a967f\")) {                    Plotly.newPlot(                        \"ceaaabc0-65f4-46e4-8e10-7423482a967f\",                        [{\"hovertemplate\":\"=%{x}<br><b>$USD</b>=%{y}<extra></extra>\",\"legendgroup\":\"\",\"marker\":{\"color\":\"#636efa\",\"symbol\":\"circle\"},\"mode\":\"markers\",\"name\":\"\",\"orientation\":\"v\",\"showlegend\":false,\"x\":[\"2022-01-09T00:00:00\",\"2022-01-16T00:00:00\",\"2022-01-23T00:00:00\",\"2022-01-30T00:00:00\",\"2022-02-06T00:00:00\",\"2022-02-13T00:00:00\",\"2022-02-20T00:00:00\",\"2022-02-27T00:00:00\",\"2022-03-06T00:00:00\",\"2022-03-13T00:00:00\",\"2022-03-20T00:00:00\",\"2022-03-27T00:00:00\",\"2022-04-03T00:00:00\",\"2022-04-10T00:00:00\",\"2022-04-17T00:00:00\",\"2022-04-24T00:00:00\",\"2022-05-01T00:00:00\",\"2022-05-08T00:00:00\",\"2022-05-15T00:00:00\",\"2022-05-22T00:00:00\",\"2022-05-29T00:00:00\",\"2022-06-05T00:00:00\",\"2022-06-12T00:00:00\",\"2022-06-19T00:00:00\",\"2022-06-26T00:00:00\",\"2022-07-03T00:00:00\",\"2022-07-10T00:00:00\",\"2022-07-17T00:00:00\",\"2022-07-24T00:00:00\",\"2022-07-31T00:00:00\",\"2022-08-07T00:00:00\",\"2022-08-14T00:00:00\",\"2022-08-21T00:00:00\",\"2022-08-28T00:00:00\",\"2022-09-04T00:00:00\",\"2022-09-11T00:00:00\",\"2022-09-18T00:00:00\",\"2022-09-25T00:00:00\",\"2022-10-02T00:00:00\",\"2022-10-09T00:00:00\",\"2022-10-16T00:00:00\",\"2022-10-23T00:00:00\",\"2022-10-30T00:00:00\",\"2022-11-06T00:00:00\",\"2022-11-13T00:00:00\",\"2022-11-20T00:00:00\",\"2022-11-27T00:00:00\",\"2022-12-04T00:00:00\",\"2022-12-11T00:00:00\",\"2022-12-18T00:00:00\",\"2022-12-25T00:00:00\",\"2023-01-01T00:00:00\",\"2023-01-08T00:00:00\",\"2023-01-15T00:00:00\",\"2023-01-22T00:00:00\",\"2023-01-29T00:00:00\",\"2023-02-05T00:00:00\",\"2023-02-12T00:00:00\",\"2023-02-19T00:00:00\",\"2023-02-26T00:00:00\",\"2023-03-05T00:00:00\",\"2023-03-12T00:00:00\",\"2023-03-19T00:00:00\",\"2023-03-26T00:00:00\",\"2023-04-02T00:00:00\",\"2023-04-09T00:00:00\",\"2023-04-16T00:00:00\",\"2023-04-23T00:00:00\",\"2023-04-30T00:00:00\",\"2023-05-07T00:00:00\",\"2023-05-14T00:00:00\",\"2023-05-21T00:00:00\",\"2023-05-28T00:00:00\",\"2023-06-04T00:00:00\",\"2023-06-11T00:00:00\",\"2023-06-18T00:00:00\",\"2023-06-25T00:00:00\",\"2023-07-02T00:00:00\",\"2023-07-09T00:00:00\",\"2023-07-16T00:00:00\",\"2023-07-23T00:00:00\",\"2023-07-30T00:00:00\",\"2023-08-06T00:00:00\",\"2023-08-13T00:00:00\",\"2023-08-20T00:00:00\",\"2023-08-27T00:00:00\",\"2023-09-03T00:00:00\",\"2023-09-10T00:00:00\",\"2023-09-17T00:00:00\",\"2023-09-24T00:00:00\",\"2023-10-01T00:00:00\",\"2023-10-08T00:00:00\",\"2023-10-15T00:00:00\",\"2023-10-22T00:00:00\",\"2023-10-29T00:00:00\",\"2023-11-05T00:00:00\",\"2023-11-12T00:00:00\",\"2023-11-19T00:00:00\",\"2023-11-26T00:00:00\",\"2023-12-03T00:00:00\",\"2023-12-10T00:00:00\",\"2023-12-17T00:00:00\"],\"xaxis\":\"x\",\"y\":[104741.24250000001,118597.7975,53370.845,31749.34,181105.33,134028.645,108419.355,114598.27,97595.0125,127755.3475,104999.255,109261.095,214774.4225,112547.6475,153953.8575,221395.4,227780.625,102529.285,212213.75,112101.0825,74145.05,154248.495,95372.72,192292.9401,133513.0594,99111.6613,78056.67,73445.6825,175562.4525,133602.42,142737.21,109995.68250000001,135692.105,171143.4475,208902.5125,114050.58,160958.2425,261226.67,201825.4575,111794.3225,172439.905,218752.268,124687.0675,289431.6975,133323.5525,175124.9675,176492.695,164070.51,84511.7725,100245.095,156892.5925,195172.13999999998,62810.5625,130537.3975,124545.535,85440.315,331505.23,134288.1425,149702.6225,108487.8625,439297.3875,98840.4825,194318.72,144810.7975,355901.42,128368.22,207197.645,196099.4575,288198.245,116357.4925,124092.045,140026.64,113073.02,184419.0225,96993.8475,163842.3375,148388.535,299849.485,109604.6025,153402.1925,152909.6525,175909.8475,302727.2725,127913.565,123702.69499999999,153665.585,307228.5425,137361.4225,188901.54499999998,213313.835,318024.5875,164258.0425,240820.303798319,238540.8375,151760.9775,347581.9675,114668.91,246990.0375,162580.76499999998,230604.2225,93375.5625,41116.604999999996],\"yaxis\":\"y\",\"type\":\"scatter\"},{\"hovertemplate\":\"<b>Rolling mean trendline</b><br><br>=%{x}<br><b>$USD</b>=%{y} <b>(trend)</b><extra></extra>\",\"legendgroup\":\"Overall Trendline\",\"line\":{\"color\":\"#EF553B\"},\"mode\":\"lines\",\"name\":\"Overall Trendline\",\"showlegend\":true,\"x\":[\"2022-01-09T00:00:00\",\"2022-01-16T00:00:00\",\"2022-01-23T00:00:00\",\"2022-01-30T00:00:00\",\"2022-02-06T00:00:00\",\"2022-02-13T00:00:00\",\"2022-02-20T00:00:00\",\"2022-02-27T00:00:00\",\"2022-03-06T00:00:00\",\"2022-03-13T00:00:00\",\"2022-03-20T00:00:00\",\"2022-03-27T00:00:00\",\"2022-04-03T00:00:00\",\"2022-04-10T00:00:00\",\"2022-04-17T00:00:00\",\"2022-04-24T00:00:00\",\"2022-05-01T00:00:00\",\"2022-05-08T00:00:00\",\"2022-05-15T00:00:00\",\"2022-05-22T00:00:00\",\"2022-05-29T00:00:00\",\"2022-06-05T00:00:00\",\"2022-06-12T00:00:00\",\"2022-06-19T00:00:00\",\"2022-06-26T00:00:00\",\"2022-07-03T00:00:00\",\"2022-07-10T00:00:00\",\"2022-07-17T00:00:00\",\"2022-07-24T00:00:00\",\"2022-07-31T00:00:00\",\"2022-08-07T00:00:00\",\"2022-08-14T00:00:00\",\"2022-08-21T00:00:00\",\"2022-08-28T00:00:00\",\"2022-09-04T00:00:00\",\"2022-09-11T00:00:00\",\"2022-09-18T00:00:00\",\"2022-09-25T00:00:00\",\"2022-10-02T00:00:00\",\"2022-10-09T00:00:00\",\"2022-10-16T00:00:00\",\"2022-10-23T00:00:00\",\"2022-10-30T00:00:00\",\"2022-11-06T00:00:00\",\"2022-11-13T00:00:00\",\"2022-11-20T00:00:00\",\"2022-11-27T00:00:00\",\"2022-12-04T00:00:00\",\"2022-12-11T00:00:00\",\"2022-12-18T00:00:00\",\"2022-12-25T00:00:00\",\"2023-01-01T00:00:00\",\"2023-01-08T00:00:00\",\"2023-01-15T00:00:00\",\"2023-01-22T00:00:00\",\"2023-01-29T00:00:00\",\"2023-02-05T00:00:00\",\"2023-02-12T00:00:00\",\"2023-02-19T00:00:00\",\"2023-02-26T00:00:00\",\"2023-03-05T00:00:00\",\"2023-03-12T00:00:00\",\"2023-03-19T00:00:00\",\"2023-03-26T00:00:00\",\"2023-04-02T00:00:00\",\"2023-04-09T00:00:00\",\"2023-04-16T00:00:00\",\"2023-04-23T00:00:00\",\"2023-04-30T00:00:00\",\"2023-05-07T00:00:00\",\"2023-05-14T00:00:00\",\"2023-05-21T00:00:00\",\"2023-05-28T00:00:00\",\"2023-06-04T00:00:00\",\"2023-06-11T00:00:00\",\"2023-06-18T00:00:00\",\"2023-06-25T00:00:00\",\"2023-07-02T00:00:00\",\"2023-07-09T00:00:00\",\"2023-07-16T00:00:00\",\"2023-07-23T00:00:00\",\"2023-07-30T00:00:00\",\"2023-08-06T00:00:00\",\"2023-08-13T00:00:00\",\"2023-08-20T00:00:00\",\"2023-08-27T00:00:00\",\"2023-09-03T00:00:00\",\"2023-09-10T00:00:00\",\"2023-09-17T00:00:00\",\"2023-09-24T00:00:00\",\"2023-10-01T00:00:00\",\"2023-10-08T00:00:00\",\"2023-10-15T00:00:00\",\"2023-10-22T00:00:00\",\"2023-10-29T00:00:00\",\"2023-11-05T00:00:00\",\"2023-11-12T00:00:00\",\"2023-11-19T00:00:00\",\"2023-11-26T00:00:00\",\"2023-12-03T00:00:00\",\"2023-12-10T00:00:00\",\"2023-12-17T00:00:00\"],\"y\":[null,null,null,null,null,103932.2,104545.21875,103878.63083333334,111249.32541666664,127250.32666666666,114565.98083333333,110438.05583333333,128163.90041666666,127822.12999999999,137215.27083333334,152821.94625,173285.50791666665,172163.53958333333,171736.76083333333,171662.33333333334,158360.86541666667,147169.71458333332,125101.73041666666,140062.33959999998,126945.55783333333,124780.65430000001,125432.59096666666,111965.45555,125330.41096666669,115548.65761666668,117086.01605000002,118900.01958333334,128505.92541666668,144788.88625,150345.56291666665,147086.9229166667,150123.7616666667,175328.92625000002,186351.1516666667,176459.63083333333,170382.52958333332,187832.81091666667,181787.61508333334,186488.45299999998,175071.46883333335,185626.5763333333,186302.04133333333,177188.415,170492.5325,138961.43208333335,142889.6054166667,146230.8008333333,127283.77875,121694.92666666668,128367.22041666665,125899.75708333333,155001.8633333333,144854.53041666668,159336.54041666668,155661.61791666664,208120.26,210353.62125,187489.20291666666,189242.97875,223609.44499999998,226922.83791666664,188239.5475,204449.37666666668,220095.96416666664,215353.74666666662,176718.85083333333,178661.9208333333,162974.4833333333,161027.74416666667,129160.34458333334,137074.48541666663,141123.90041666667,167761.04124999998,167182.97166666665,162013.5,171332.8008333333,173344.0525,199067.17541666667,170411.18875,172760.87083333332,172804.7695833333,198524.58458333332,192099.84708333333,173128.8925,187362.27083333334,219749.25291666668,221514.6625,210446.62271638648,227309.85854971988,221119.76396638653,243497.7860497198,209605.1731330532,223393.83896638648,210353.91583333336,209031.1466666667,199300.24416666667,148222.68375],\"type\":\"scatter\",\"xaxis\":\"x\",\"yaxis\":\"y\"}],                        {\"template\":{\"data\":{\"barpolar\":[{\"marker\":{\"line\":{\"color\":\"white\",\"width\":0.5},\"pattern\":{\"fillmode\":\"overlay\",\"size\":10,\"solidity\":0.2}},\"type\":\"barpolar\"}],\"bar\":[{\"error_x\":{\"color\":\"#2a3f5f\"},\"error_y\":{\"color\":\"#2a3f5f\"},\"marker\":{\"line\":{\"color\":\"white\",\"width\":0.5},\"pattern\":{\"fillmode\":\"overlay\",\"size\":10,\"solidity\":0.2}},\"type\":\"bar\"}],\"carpet\":[{\"aaxis\":{\"endlinecolor\":\"#2a3f5f\",\"gridcolor\":\"#C8D4E3\",\"linecolor\":\"#C8D4E3\",\"minorgridcolor\":\"#C8D4E3\",\"startlinecolor\":\"#2a3f5f\"},\"baxis\":{\"endlinecolor\":\"#2a3f5f\",\"gridcolor\":\"#C8D4E3\",\"linecolor\":\"#C8D4E3\",\"minorgridcolor\":\"#C8D4E3\",\"startlinecolor\":\"#2a3f5f\"},\"type\":\"carpet\"}],\"choropleth\":[{\"colorbar\":{\"outlinewidth\":0,\"ticks\":\"\"},\"type\":\"choropleth\"}],\"contourcarpet\":[{\"colorbar\":{\"outlinewidth\":0,\"ticks\":\"\"},\"type\":\"contourcarpet\"}],\"contour\":[{\"colorbar\":{\"outlinewidth\":0,\"ticks\":\"\"},\"colorscale\":[[0.0,\"#0d0887\"],[0.1111111111111111,\"#46039f\"],[0.2222222222222222,\"#7201a8\"],[0.3333333333333333,\"#9c179e\"],[0.4444444444444444,\"#bd3786\"],[0.5555555555555556,\"#d8576b\"],[0.6666666666666666,\"#ed7953\"],[0.7777777777777778,\"#fb9f3a\"],[0.8888888888888888,\"#fdca26\"],[1.0,\"#f0f921\"]],\"type\":\"contour\"}],\"heatmapgl\":[{\"colorbar\":{\"outlinewidth\":0,\"ticks\":\"\"},\"colorscale\":[[0.0,\"#0d0887\"],[0.1111111111111111,\"#46039f\"],[0.2222222222222222,\"#7201a8\"],[0.3333333333333333,\"#9c179e\"],[0.4444444444444444,\"#bd3786\"],[0.5555555555555556,\"#d8576b\"],[0.6666666666666666,\"#ed7953\"],[0.7777777777777778,\"#fb9f3a\"],[0.8888888888888888,\"#fdca26\"],[1.0,\"#f0f921\"]],\"type\":\"heatmapgl\"}],\"heatmap\":[{\"colorbar\":{\"outlinewidth\":0,\"ticks\":\"\"},\"colorscale\":[[0.0,\"#0d0887\"],[0.1111111111111111,\"#46039f\"],[0.2222222222222222,\"#7201a8\"],[0.3333333333333333,\"#9c179e\"],[0.4444444444444444,\"#bd3786\"],[0.5555555555555556,\"#d8576b\"],[0.6666666666666666,\"#ed7953\"],[0.7777777777777778,\"#fb9f3a\"],[0.8888888888888888,\"#fdca26\"],[1.0,\"#f0f921\"]],\"type\":\"heatmap\"}],\"histogram2dcontour\":[{\"colorbar\":{\"outlinewidth\":0,\"ticks\":\"\"},\"colorscale\":[[0.0,\"#0d0887\"],[0.1111111111111111,\"#46039f\"],[0.2222222222222222,\"#7201a8\"],[0.3333333333333333,\"#9c179e\"],[0.4444444444444444,\"#bd3786\"],[0.5555555555555556,\"#d8576b\"],[0.6666666666666666,\"#ed7953\"],[0.7777777777777778,\"#fb9f3a\"],[0.8888888888888888,\"#fdca26\"],[1.0,\"#f0f921\"]],\"type\":\"histogram2dcontour\"}],\"histogram2d\":[{\"colorbar\":{\"outlinewidth\":0,\"ticks\":\"\"},\"colorscale\":[[0.0,\"#0d0887\"],[0.1111111111111111,\"#46039f\"],[0.2222222222222222,\"#7201a8\"],[0.3333333333333333,\"#9c179e\"],[0.4444444444444444,\"#bd3786\"],[0.5555555555555556,\"#d8576b\"],[0.6666666666666666,\"#ed7953\"],[0.7777777777777778,\"#fb9f3a\"],[0.8888888888888888,\"#fdca26\"],[1.0,\"#f0f921\"]],\"type\":\"histogram2d\"}],\"histogram\":[{\"marker\":{\"pattern\":{\"fillmode\":\"overlay\",\"size\":10,\"solidity\":0.2}},\"type\":\"histogram\"}],\"mesh3d\":[{\"colorbar\":{\"outlinewidth\":0,\"ticks\":\"\"},\"type\":\"mesh3d\"}],\"parcoords\":[{\"line\":{\"colorbar\":{\"outlinewidth\":0,\"ticks\":\"\"}},\"type\":\"parcoords\"}],\"pie\":[{\"automargin\":true,\"type\":\"pie\"}],\"scatter3d\":[{\"line\":{\"colorbar\":{\"outlinewidth\":0,\"ticks\":\"\"}},\"marker\":{\"colorbar\":{\"outlinewidth\":0,\"ticks\":\"\"}},\"type\":\"scatter3d\"}],\"scattercarpet\":[{\"marker\":{\"colorbar\":{\"outlinewidth\":0,\"ticks\":\"\"}},\"type\":\"scattercarpet\"}],\"scattergeo\":[{\"marker\":{\"colorbar\":{\"outlinewidth\":0,\"ticks\":\"\"}},\"type\":\"scattergeo\"}],\"scattergl\":[{\"marker\":{\"colorbar\":{\"outlinewidth\":0,\"ticks\":\"\"}},\"type\":\"scattergl\"}],\"scattermapbox\":[{\"marker\":{\"colorbar\":{\"outlinewidth\":0,\"ticks\":\"\"}},\"type\":\"scattermapbox\"}],\"scatterpolargl\":[{\"marker\":{\"colorbar\":{\"outlinewidth\":0,\"ticks\":\"\"}},\"type\":\"scatterpolargl\"}],\"scatterpolar\":[{\"marker\":{\"colorbar\":{\"outlinewidth\":0,\"ticks\":\"\"}},\"type\":\"scatterpolar\"}],\"scatter\":[{\"fillpattern\":{\"fillmode\":\"overlay\",\"size\":10,\"solidity\":0.2},\"type\":\"scatter\"}],\"scatterternary\":[{\"marker\":{\"colorbar\":{\"outlinewidth\":0,\"ticks\":\"\"}},\"type\":\"scatterternary\"}],\"surface\":[{\"colorbar\":{\"outlinewidth\":0,\"ticks\":\"\"},\"colorscale\":[[0.0,\"#0d0887\"],[0.1111111111111111,\"#46039f\"],[0.2222222222222222,\"#7201a8\"],[0.3333333333333333,\"#9c179e\"],[0.4444444444444444,\"#bd3786\"],[0.5555555555555556,\"#d8576b\"],[0.6666666666666666,\"#ed7953\"],[0.7777777777777778,\"#fb9f3a\"],[0.8888888888888888,\"#fdca26\"],[1.0,\"#f0f921\"]],\"type\":\"surface\"}],\"table\":[{\"cells\":{\"fill\":{\"color\":\"#EBF0F8\"},\"line\":{\"color\":\"white\"}},\"header\":{\"fill\":{\"color\":\"#C8D4E3\"},\"line\":{\"color\":\"white\"}},\"type\":\"table\"}]},\"layout\":{\"annotationdefaults\":{\"arrowcolor\":\"#2a3f5f\",\"arrowhead\":0,\"arrowwidth\":1},\"autotypenumbers\":\"strict\",\"coloraxis\":{\"colorbar\":{\"outlinewidth\":0,\"ticks\":\"\"}},\"colorscale\":{\"diverging\":[[0,\"#8e0152\"],[0.1,\"#c51b7d\"],[0.2,\"#de77ae\"],[0.3,\"#f1b6da\"],[0.4,\"#fde0ef\"],[0.5,\"#f7f7f7\"],[0.6,\"#e6f5d0\"],[0.7,\"#b8e186\"],[0.8,\"#7fbc41\"],[0.9,\"#4d9221\"],[1,\"#276419\"]],\"sequential\":[[0.0,\"#0d0887\"],[0.1111111111111111,\"#46039f\"],[0.2222222222222222,\"#7201a8\"],[0.3333333333333333,\"#9c179e\"],[0.4444444444444444,\"#bd3786\"],[0.5555555555555556,\"#d8576b\"],[0.6666666666666666,\"#ed7953\"],[0.7777777777777778,\"#fb9f3a\"],[0.8888888888888888,\"#fdca26\"],[1.0,\"#f0f921\"]],\"sequentialminus\":[[0.0,\"#0d0887\"],[0.1111111111111111,\"#46039f\"],[0.2222222222222222,\"#7201a8\"],[0.3333333333333333,\"#9c179e\"],[0.4444444444444444,\"#bd3786\"],[0.5555555555555556,\"#d8576b\"],[0.6666666666666666,\"#ed7953\"],[0.7777777777777778,\"#fb9f3a\"],[0.8888888888888888,\"#fdca26\"],[1.0,\"#f0f921\"]]},\"colorway\":[\"#636efa\",\"#EF553B\",\"#00cc96\",\"#ab63fa\",\"#FFA15A\",\"#19d3f3\",\"#FF6692\",\"#B6E880\",\"#FF97FF\",\"#FECB52\"],\"font\":{\"color\":\"#2a3f5f\"},\"geo\":{\"bgcolor\":\"white\",\"lakecolor\":\"white\",\"landcolor\":\"white\",\"showlakes\":true,\"showland\":true,\"subunitcolor\":\"#C8D4E3\"},\"hoverlabel\":{\"align\":\"left\"},\"hovermode\":\"closest\",\"mapbox\":{\"style\":\"light\"},\"paper_bgcolor\":\"white\",\"plot_bgcolor\":\"white\",\"polar\":{\"angularaxis\":{\"gridcolor\":\"#EBF0F8\",\"linecolor\":\"#EBF0F8\",\"ticks\":\"\"},\"bgcolor\":\"white\",\"radialaxis\":{\"gridcolor\":\"#EBF0F8\",\"linecolor\":\"#EBF0F8\",\"ticks\":\"\"}},\"scene\":{\"xaxis\":{\"backgroundcolor\":\"white\",\"gridcolor\":\"#DFE8F3\",\"gridwidth\":2,\"linecolor\":\"#EBF0F8\",\"showbackground\":true,\"ticks\":\"\",\"zerolinecolor\":\"#EBF0F8\"},\"yaxis\":{\"backgroundcolor\":\"white\",\"gridcolor\":\"#DFE8F3\",\"gridwidth\":2,\"linecolor\":\"#EBF0F8\",\"showbackground\":true,\"ticks\":\"\",\"zerolinecolor\":\"#EBF0F8\"},\"zaxis\":{\"backgroundcolor\":\"white\",\"gridcolor\":\"#DFE8F3\",\"gridwidth\":2,\"linecolor\":\"#EBF0F8\",\"showbackground\":true,\"ticks\":\"\",\"zerolinecolor\":\"#EBF0F8\"}},\"shapedefaults\":{\"line\":{\"color\":\"#2a3f5f\"}},\"ternary\":{\"aaxis\":{\"gridcolor\":\"#DFE8F3\",\"linecolor\":\"#A2B1C6\",\"ticks\":\"\"},\"baxis\":{\"gridcolor\":\"#DFE8F3\",\"linecolor\":\"#A2B1C6\",\"ticks\":\"\"},\"bgcolor\":\"white\",\"caxis\":{\"gridcolor\":\"#DFE8F3\",\"linecolor\":\"#A2B1C6\",\"ticks\":\"\"}},\"title\":{\"x\":0.05},\"xaxis\":{\"automargin\":true,\"gridcolor\":\"#EBF0F8\",\"linecolor\":\"#EBF0F8\",\"ticks\":\"\",\"title\":{\"standoff\":15},\"zerolinecolor\":\"#EBF0F8\",\"zerolinewidth\":2},\"yaxis\":{\"automargin\":true,\"gridcolor\":\"#EBF0F8\",\"linecolor\":\"#EBF0F8\",\"ticks\":\"\",\"title\":{\"standoff\":15},\"zerolinecolor\":\"#EBF0F8\",\"zerolinewidth\":2}}},\"xaxis\":{\"anchor\":\"y\",\"domain\":[0.0,1.0],\"title\":{\"text\":\"\"}},\"yaxis\":{\"anchor\":\"x\",\"domain\":[0.0,1.0],\"title\":{\"text\":\"<b>$USD</b>\"}},\"legend\":{\"tracegroupgap\":0},\"title\":{\"text\":\"<b>Weekly Sales</b>\"}},                        {\"responsive\": true}                    ).then(function(){\n",
       "                            \n",
       "var gd = document.getElementById('ceaaabc0-65f4-46e4-8e10-7423482a967f');\n",
       "var x = new MutationObserver(function (mutations, observer) {{\n",
       "        var display = window.getComputedStyle(gd).display;\n",
       "        if (!display || display === 'none') {{\n",
       "            console.log([gd, 'removed!']);\n",
       "            Plotly.purge(gd);\n",
       "            observer.disconnect();\n",
       "        }}\n",
       "}});\n",
       "\n",
       "// Listen for the removal of the full notebook cells\n",
       "var notebookContainer = gd.closest('#notebook-container');\n",
       "if (notebookContainer) {{\n",
       "    x.observe(notebookContainer, {childList: true});\n",
       "}}\n",
       "\n",
       "// Listen for the clearing of the current output cell\n",
       "var outputEl = gd.closest('.output');\n",
       "if (outputEl) {{\n",
       "    x.observe(outputEl, {childList: true});\n",
       "}}\n",
       "\n",
       "                        })                };                });            </script>        </div>"
      ]
     },
     "metadata": {},
     "output_type": "display_data"
    }
   ],
   "source": [
    "sales_per_day = df_selection.groupby(pd.Grouper(freq='W', key='Invoice Date'))['Dollars'].sum()\n",
    "fig_sales_per_day = px.scatter(\n",
    "    sales_per_day,\n",
    "    x=sales_per_day.index,\n",
    "    y='Dollars',\n",
    "    title='<b>Weekly Sales</b>',\n",
    "    template = 'plotly_white',\n",
    "    labels={'Invoice Date':'',\n",
    "            'Dollars':'<b>$USD</b>'},\n",
    "    trendline=\"rolling\", trendline_options=dict(function=\"mean\", window=6), trendline_scope=\"overall\",\n",
    "\n",
    ")\n",
    "fig_sales_per_day.show()"
   ]
  },
  {
   "cell_type": "code",
   "execution_count": 71,
   "id": "ec94cbf0",
   "metadata": {},
   "outputs": [
    {
     "data": {
      "text/html": [
       "<div>\n",
       "<style scoped>\n",
       "    .dataframe tbody tr th:only-of-type {\n",
       "        vertical-align: middle;\n",
       "    }\n",
       "\n",
       "    .dataframe tbody tr th {\n",
       "        vertical-align: top;\n",
       "    }\n",
       "\n",
       "    .dataframe thead th {\n",
       "        text-align: right;\n",
       "    }\n",
       "</style>\n",
       "<table border=\"1\" class=\"dataframe\">\n",
       "  <thead>\n",
       "    <tr style=\"text-align: right;\">\n",
       "      <th></th>\n",
       "      <th>Dollars</th>\n",
       "    </tr>\n",
       "  </thead>\n",
       "  <tbody>\n",
       "    <tr>\n",
       "      <th>0</th>\n",
       "      <td>38890.2850</td>\n",
       "    </tr>\n",
       "    <tr>\n",
       "      <th>1</th>\n",
       "      <td>38890.2850</td>\n",
       "    </tr>\n",
       "    <tr>\n",
       "      <th>2</th>\n",
       "      <td>38890.2850</td>\n",
       "    </tr>\n",
       "    <tr>\n",
       "      <th>3</th>\n",
       "      <td>38890.2850</td>\n",
       "    </tr>\n",
       "    <tr>\n",
       "      <th>4</th>\n",
       "      <td>38890.2850</td>\n",
       "    </tr>\n",
       "    <tr>\n",
       "      <th>...</th>\n",
       "      <td>...</td>\n",
       "    </tr>\n",
       "    <tr>\n",
       "      <th>86980</th>\n",
       "      <td>64479.4750</td>\n",
       "    </tr>\n",
       "    <tr>\n",
       "      <th>86981</th>\n",
       "      <td>58343.1775</td>\n",
       "    </tr>\n",
       "    <tr>\n",
       "      <th>86982</th>\n",
       "      <td>64479.4750</td>\n",
       "    </tr>\n",
       "    <tr>\n",
       "      <th>86983</th>\n",
       "      <td>58343.1775</td>\n",
       "    </tr>\n",
       "    <tr>\n",
       "      <th>86984</th>\n",
       "      <td>28458.6375</td>\n",
       "    </tr>\n",
       "  </tbody>\n",
       "</table>\n",
       "<p>86985 rows × 1 columns</p>\n",
       "</div>"
      ],
      "text/plain": [
       "          Dollars\n",
       "0      38890.2850\n",
       "1      38890.2850\n",
       "2      38890.2850\n",
       "3      38890.2850\n",
       "4      38890.2850\n",
       "...           ...\n",
       "86980  64479.4750\n",
       "86981  58343.1775\n",
       "86982  64479.4750\n",
       "86983  58343.1775\n",
       "86984  28458.6375\n",
       "\n",
       "[86985 rows x 1 columns]"
      ]
     },
     "execution_count": 71,
     "metadata": {},
     "output_type": "execute_result"
    }
   ],
   "source": [
    "sales_per_day"
   ]
  },
  {
   "cell_type": "code",
   "execution_count": null,
   "id": "1a0b7331",
   "metadata": {},
   "outputs": [],
   "source": []
  },
  {
   "cell_type": "code",
   "execution_count": null,
   "id": "e9b646c4",
   "metadata": {},
   "outputs": [],
   "source": []
  },
  {
   "cell_type": "code",
   "execution_count": null,
   "id": "49eaa488",
   "metadata": {},
   "outputs": [],
   "source": []
  },
  {
   "cell_type": "code",
   "execution_count": 8,
   "id": "d08721d2",
   "metadata": {},
   "outputs": [],
   "source": [
    "df_selection = all_sales[(all_sales['Invoice Date'].dt.year.isin(year)) & (all_sales['Market Segment'].isin(segment))]"
   ]
  },
  {
   "cell_type": "code",
   "execution_count": 17,
   "id": "5bb10a15",
   "metadata": {},
   "outputs": [
    {
     "data": {
      "text/html": [
       "<div>\n",
       "<style scoped>\n",
       "    .dataframe tbody tr th:only-of-type {\n",
       "        vertical-align: middle;\n",
       "    }\n",
       "\n",
       "    .dataframe tbody tr th {\n",
       "        vertical-align: top;\n",
       "    }\n",
       "\n",
       "    .dataframe thead th {\n",
       "        text-align: right;\n",
       "    }\n",
       "</style>\n",
       "<table border=\"1\" class=\"dataframe\">\n",
       "  <thead>\n",
       "    <tr style=\"text-align: right;\">\n",
       "      <th></th>\n",
       "      <th>Invoice Date</th>\n",
       "      <th>Sale Origin</th>\n",
       "      <th>Market Segment</th>\n",
       "      <th>Parent Customer</th>\n",
       "      <th>Customer</th>\n",
       "      <th>Customer Order Number</th>\n",
       "      <th>Item Full Description</th>\n",
       "      <th>Dollars</th>\n",
       "    </tr>\n",
       "  </thead>\n",
       "  <tbody>\n",
       "    <tr>\n",
       "      <th>0</th>\n",
       "      <td>2022-01-03</td>\n",
       "      <td>Unleashed</td>\n",
       "      <td>Online</td>\n",
       "      <td>Shopify</td>\n",
       "      <td>Shopify USA Mello</td>\n",
       "      <td>SO-00071293</td>\n",
       "      <td>Mello Chocolate - Dark Pouch 102g / 3.6oz</td>\n",
       "      <td>0.00</td>\n",
       "    </tr>\n",
       "    <tr>\n",
       "      <th>1</th>\n",
       "      <td>2022-01-03</td>\n",
       "      <td>Unleashed</td>\n",
       "      <td>Online</td>\n",
       "      <td>Shopify</td>\n",
       "      <td>Shopify USA Mello</td>\n",
       "      <td>SO-00071305</td>\n",
       "      <td>Mello Chocolate - Dark Pouch 102g / 3.6oz</td>\n",
       "      <td>0.00</td>\n",
       "    </tr>\n",
       "    <tr>\n",
       "      <th>2</th>\n",
       "      <td>2022-01-03</td>\n",
       "      <td>Unleashed</td>\n",
       "      <td>Online</td>\n",
       "      <td>Shopify</td>\n",
       "      <td>Shopify USA Mello</td>\n",
       "      <td>SO-00071314</td>\n",
       "      <td>Mello Chocolate - Milk Pouch 102g / 3.6oz</td>\n",
       "      <td>0.00</td>\n",
       "    </tr>\n",
       "    <tr>\n",
       "      <th>3</th>\n",
       "      <td>2022-01-03</td>\n",
       "      <td>Unleashed</td>\n",
       "      <td>Online</td>\n",
       "      <td>Shopify</td>\n",
       "      <td>Shopify USA Mello</td>\n",
       "      <td>SO-00071356</td>\n",
       "      <td>Mello Chocolate - Milk Pouch 102g / 3.6oz</td>\n",
       "      <td>0.00</td>\n",
       "    </tr>\n",
       "    <tr>\n",
       "      <th>4</th>\n",
       "      <td>2022-01-03</td>\n",
       "      <td>Dot</td>\n",
       "      <td>Alternate Retail</td>\n",
       "      <td>Tropical</td>\n",
       "      <td>Tropical Texas</td>\n",
       "      <td>2322411</td>\n",
       "      <td>CAFFEINATED CHOCOLATE BITES SINGLES DARK</td>\n",
       "      <td>261.60</td>\n",
       "    </tr>\n",
       "    <tr>\n",
       "      <th>...</th>\n",
       "      <td>...</td>\n",
       "      <td>...</td>\n",
       "      <td>...</td>\n",
       "      <td>...</td>\n",
       "      <td>...</td>\n",
       "      <td>...</td>\n",
       "      <td>...</td>\n",
       "      <td>...</td>\n",
       "    </tr>\n",
       "    <tr>\n",
       "      <th>86980</th>\n",
       "      <td>2023-12-11</td>\n",
       "      <td>Unleashed</td>\n",
       "      <td>Online</td>\n",
       "      <td>Amazon</td>\n",
       "      <td>Amazon SC</td>\n",
       "      <td>SO-00131429</td>\n",
       "      <td>50ct Pouch - Dark Choc Bites</td>\n",
       "      <td>34.99</td>\n",
       "    </tr>\n",
       "    <tr>\n",
       "      <th>86981</th>\n",
       "      <td>2023-12-11</td>\n",
       "      <td>Unleashed</td>\n",
       "      <td>Online</td>\n",
       "      <td>Amazon</td>\n",
       "      <td>Amazon SC</td>\n",
       "      <td>SO-00131422</td>\n",
       "      <td>50ct Pouch - Dark Choc Bites</td>\n",
       "      <td>34.99</td>\n",
       "    </tr>\n",
       "    <tr>\n",
       "      <th>86982</th>\n",
       "      <td>2023-12-11</td>\n",
       "      <td>Unleashed</td>\n",
       "      <td>Online</td>\n",
       "      <td>Amazon</td>\n",
       "      <td>Amazon SC</td>\n",
       "      <td>SO-00131420</td>\n",
       "      <td>50ct Pouch - Dark Choc Bites</td>\n",
       "      <td>34.99</td>\n",
       "    </tr>\n",
       "    <tr>\n",
       "      <th>86983</th>\n",
       "      <td>2023-12-11</td>\n",
       "      <td>Unleashed</td>\n",
       "      <td>Online</td>\n",
       "      <td>Amazon</td>\n",
       "      <td>Amazon SC</td>\n",
       "      <td>SO-00131460</td>\n",
       "      <td>50ct Pouch - Dark Choc Bites</td>\n",
       "      <td>34.99</td>\n",
       "    </tr>\n",
       "    <tr>\n",
       "      <th>86984</th>\n",
       "      <td>2023-12-11</td>\n",
       "      <td>Unleashed</td>\n",
       "      <td>Online</td>\n",
       "      <td>World Pantry</td>\n",
       "      <td>World Pantry</td>\n",
       "      <td>SO-00131076</td>\n",
       "      <td>AWAKE NSA 2 Flav Variety Pk Pouches 14 x 50ct</td>\n",
       "      <td>1035.72</td>\n",
       "    </tr>\n",
       "  </tbody>\n",
       "</table>\n",
       "<p>86985 rows × 8 columns</p>\n",
       "</div>"
      ],
      "text/plain": [
       "      Invoice Date Sale Origin    Market Segment Parent Customer  \\\n",
       "0       2022-01-03   Unleashed            Online         Shopify   \n",
       "1       2022-01-03   Unleashed            Online         Shopify   \n",
       "2       2022-01-03   Unleashed            Online         Shopify   \n",
       "3       2022-01-03   Unleashed            Online         Shopify   \n",
       "4       2022-01-03         Dot  Alternate Retail        Tropical   \n",
       "...            ...         ...               ...             ...   \n",
       "86980   2023-12-11   Unleashed            Online          Amazon   \n",
       "86981   2023-12-11   Unleashed            Online          Amazon   \n",
       "86982   2023-12-11   Unleashed            Online          Amazon   \n",
       "86983   2023-12-11   Unleashed            Online          Amazon   \n",
       "86984   2023-12-11   Unleashed            Online    World Pantry   \n",
       "\n",
       "                Customer Customer Order Number  \\\n",
       "0      Shopify USA Mello           SO-00071293   \n",
       "1      Shopify USA Mello           SO-00071305   \n",
       "2      Shopify USA Mello           SO-00071314   \n",
       "3      Shopify USA Mello           SO-00071356   \n",
       "4         Tropical Texas               2322411   \n",
       "...                  ...                   ...   \n",
       "86980          Amazon SC           SO-00131429   \n",
       "86981          Amazon SC           SO-00131422   \n",
       "86982          Amazon SC           SO-00131420   \n",
       "86983          Amazon SC           SO-00131460   \n",
       "86984       World Pantry           SO-00131076   \n",
       "\n",
       "                               Item Full Description  Dollars  \n",
       "0          Mello Chocolate - Dark Pouch 102g / 3.6oz     0.00  \n",
       "1          Mello Chocolate - Dark Pouch 102g / 3.6oz     0.00  \n",
       "2          Mello Chocolate - Milk Pouch 102g / 3.6oz     0.00  \n",
       "3          Mello Chocolate - Milk Pouch 102g / 3.6oz     0.00  \n",
       "4           CAFFEINATED CHOCOLATE BITES SINGLES DARK   261.60  \n",
       "...                                              ...      ...  \n",
       "86980                   50ct Pouch - Dark Choc Bites    34.99  \n",
       "86981                   50ct Pouch - Dark Choc Bites    34.99  \n",
       "86982                   50ct Pouch - Dark Choc Bites    34.99  \n",
       "86983                   50ct Pouch - Dark Choc Bites    34.99  \n",
       "86984  AWAKE NSA 2 Flav Variety Pk Pouches 14 x 50ct  1035.72  \n",
       "\n",
       "[86985 rows x 8 columns]"
      ]
     },
     "execution_count": 17,
     "metadata": {},
     "output_type": "execute_result"
    }
   ],
   "source": [
    "df_selection[['Invoice Date', 'Sale Origin', 'Market Segment', 'Parent Customer', 'Customer', 'Customer Order Number','Item Full Description','Dollars']].round(2).sort_values(by='Invoice Date').reset_index(drop=True)"
   ]
  },
  {
   "cell_type": "code",
   "execution_count": 19,
   "id": "52f78381",
   "metadata": {},
   "outputs": [
    {
     "data": {
      "text/html": [
       "<div>\n",
       "<style scoped>\n",
       "    .dataframe tbody tr th:only-of-type {\n",
       "        vertical-align: middle;\n",
       "    }\n",
       "\n",
       "    .dataframe tbody tr th {\n",
       "        vertical-align: top;\n",
       "    }\n",
       "\n",
       "    .dataframe thead th {\n",
       "        text-align: right;\n",
       "    }\n",
       "</style>\n",
       "<table border=\"1\" class=\"dataframe\">\n",
       "  <thead>\n",
       "    <tr style=\"text-align: right;\">\n",
       "      <th></th>\n",
       "      <th>Dollars</th>\n",
       "      <th>Customer</th>\n",
       "      <th>Customer Order Number</th>\n",
       "      <th>Dollars Formatted</th>\n",
       "      <th>Invoice Date</th>\n",
       "      <th>Item Full Description</th>\n",
       "      <th>Market Segment</th>\n",
       "      <th>Parent Customer</th>\n",
       "      <th>Sale Origin</th>\n",
       "      <th>Sales by Parent</th>\n",
       "      <th>Suffix</th>\n",
       "      <th>Vistar Retail</th>\n",
       "    </tr>\n",
       "  </thead>\n",
       "  <tbody>\n",
       "    <tr>\n",
       "      <th>0</th>\n",
       "      <td>34.99</td>\n",
       "      <td>Amazon SC</td>\n",
       "      <td>SO-00099997</td>\n",
       "      <td>34.99</td>\n",
       "      <td>2023-05-17</td>\n",
       "      <td>50ct Pouch - Variety Pk Choc Bites</td>\n",
       "      <td>Online</td>\n",
       "      <td>Amazon</td>\n",
       "      <td>Unleashed</td>\n",
       "      <td>2473552.55</td>\n",
       "      <td>NaN</td>\n",
       "      <td>No</td>\n",
       "    </tr>\n",
       "    <tr>\n",
       "      <th>1</th>\n",
       "      <td>34.99</td>\n",
       "      <td>Amazon SC</td>\n",
       "      <td>SO-00099972</td>\n",
       "      <td>34.99</td>\n",
       "      <td>2023-05-17</td>\n",
       "      <td>50ct Pouch - Variety Pk Choc Bites</td>\n",
       "      <td>Online</td>\n",
       "      <td>Amazon</td>\n",
       "      <td>Unleashed</td>\n",
       "      <td>2473552.55</td>\n",
       "      <td>NaN</td>\n",
       "      <td>No</td>\n",
       "    </tr>\n",
       "    <tr>\n",
       "      <th>2</th>\n",
       "      <td>34.99</td>\n",
       "      <td>Amazon SC</td>\n",
       "      <td>SO-00100026</td>\n",
       "      <td>34.99</td>\n",
       "      <td>2023-05-17</td>\n",
       "      <td>50ct Pouch - Variety Pk Choc Bites</td>\n",
       "      <td>Online</td>\n",
       "      <td>Amazon</td>\n",
       "      <td>Unleashed</td>\n",
       "      <td>2473552.55</td>\n",
       "      <td>NaN</td>\n",
       "      <td>No</td>\n",
       "    </tr>\n",
       "    <tr>\n",
       "      <th>3</th>\n",
       "      <td>34.99</td>\n",
       "      <td>Amazon SC</td>\n",
       "      <td>SO-00100069</td>\n",
       "      <td>34.99</td>\n",
       "      <td>2023-05-17</td>\n",
       "      <td>50ct Pouch - Variety Pk Choc Bites</td>\n",
       "      <td>Online</td>\n",
       "      <td>Amazon</td>\n",
       "      <td>Unleashed</td>\n",
       "      <td>2473552.55</td>\n",
       "      <td>NaN</td>\n",
       "      <td>No</td>\n",
       "    </tr>\n",
       "    <tr>\n",
       "      <th>4</th>\n",
       "      <td>34.99</td>\n",
       "      <td>Amazon SC</td>\n",
       "      <td>SO-00100085</td>\n",
       "      <td>34.99</td>\n",
       "      <td>2023-05-17</td>\n",
       "      <td>50ct Pouch - Variety Pk Choc Bites</td>\n",
       "      <td>Online</td>\n",
       "      <td>Amazon</td>\n",
       "      <td>Unleashed</td>\n",
       "      <td>2473552.55</td>\n",
       "      <td>NaN</td>\n",
       "      <td>No</td>\n",
       "    </tr>\n",
       "    <tr>\n",
       "      <th>...</th>\n",
       "      <td>...</td>\n",
       "      <td>...</td>\n",
       "      <td>...</td>\n",
       "      <td>...</td>\n",
       "      <td>...</td>\n",
       "      <td>...</td>\n",
       "      <td>...</td>\n",
       "      <td>...</td>\n",
       "      <td>...</td>\n",
       "      <td>...</td>\n",
       "      <td>...</td>\n",
       "      <td>...</td>\n",
       "    </tr>\n",
       "    <tr>\n",
       "      <th>86980</th>\n",
       "      <td>2575.12</td>\n",
       "      <td>Vistar/ VSA Corporate</td>\n",
       "      <td>SO-00074694</td>\n",
       "      <td>2.58</td>\n",
       "      <td>2022-04-01</td>\n",
       "      <td>6 x 50ct Change Maker - AWAKE Chocolate Bites ...</td>\n",
       "      <td>Alternate Retail</td>\n",
       "      <td>Vistar Retail</td>\n",
       "      <td>Unleashed</td>\n",
       "      <td>1978810.10</td>\n",
       "      <td>K</td>\n",
       "      <td>Yes</td>\n",
       "    </tr>\n",
       "    <tr>\n",
       "      <th>86981</th>\n",
       "      <td>1383.46</td>\n",
       "      <td>Vistar/ VSA Corporate</td>\n",
       "      <td>SO-00079448</td>\n",
       "      <td>1.38</td>\n",
       "      <td>2022-07-18</td>\n",
       "      <td>6 x 50ct Change Maker - AWAKE Chocolate Bites ...</td>\n",
       "      <td>Alternate Retail</td>\n",
       "      <td>Vistar Retail</td>\n",
       "      <td>Unleashed</td>\n",
       "      <td>1978810.10</td>\n",
       "      <td>K</td>\n",
       "      <td>Yes</td>\n",
       "    </tr>\n",
       "    <tr>\n",
       "      <th>86982</th>\n",
       "      <td>122.62</td>\n",
       "      <td>Vistar/ VSA Corporate</td>\n",
       "      <td>SO-00074694</td>\n",
       "      <td>122.62</td>\n",
       "      <td>2022-04-01</td>\n",
       "      <td>6 x 50ct Change Maker - AWAKE Chocolate Bites ...</td>\n",
       "      <td>Alternate Retail</td>\n",
       "      <td>Vistar Retail</td>\n",
       "      <td>Unleashed</td>\n",
       "      <td>1978810.10</td>\n",
       "      <td>NaN</td>\n",
       "      <td>Yes</td>\n",
       "    </tr>\n",
       "    <tr>\n",
       "      <th>86983</th>\n",
       "      <td>1509.23</td>\n",
       "      <td>Vistar/ VSA Corporate</td>\n",
       "      <td>SO-00079448</td>\n",
       "      <td>1.51</td>\n",
       "      <td>2022-07-18</td>\n",
       "      <td>6 x 50ct Change Maker - AWAKE Chocolate Bites ...</td>\n",
       "      <td>Alternate Retail</td>\n",
       "      <td>Vistar Retail</td>\n",
       "      <td>Unleashed</td>\n",
       "      <td>1978810.10</td>\n",
       "      <td>K</td>\n",
       "      <td>Yes</td>\n",
       "    </tr>\n",
       "    <tr>\n",
       "      <th>86984</th>\n",
       "      <td>7050.00</td>\n",
       "      <td>Vistar/ VSA Corporate</td>\n",
       "      <td>SO-00087921</td>\n",
       "      <td>7.05</td>\n",
       "      <td>2022-10-14</td>\n",
       "      <td>Mint Bites 13.5g Change Maker (6 x 50)</td>\n",
       "      <td>Alternate Retail</td>\n",
       "      <td>Vistar Retail</td>\n",
       "      <td>Unleashed</td>\n",
       "      <td>1978810.10</td>\n",
       "      <td>K</td>\n",
       "      <td>Yes</td>\n",
       "    </tr>\n",
       "  </tbody>\n",
       "</table>\n",
       "<p>86985 rows × 12 columns</p>\n",
       "</div>"
      ],
      "text/plain": [
       "       Dollars               Customer Customer Order Number  \\\n",
       "0        34.99              Amazon SC           SO-00099997   \n",
       "1        34.99              Amazon SC           SO-00099972   \n",
       "2        34.99              Amazon SC           SO-00100026   \n",
       "3        34.99              Amazon SC           SO-00100069   \n",
       "4        34.99              Amazon SC           SO-00100085   \n",
       "...        ...                    ...                   ...   \n",
       "86980  2575.12  Vistar/ VSA Corporate           SO-00074694   \n",
       "86981  1383.46  Vistar/ VSA Corporate           SO-00079448   \n",
       "86982   122.62  Vistar/ VSA Corporate           SO-00074694   \n",
       "86983  1509.23  Vistar/ VSA Corporate           SO-00079448   \n",
       "86984  7050.00  Vistar/ VSA Corporate           SO-00087921   \n",
       "\n",
       "       Dollars Formatted Invoice Date  \\\n",
       "0                  34.99   2023-05-17   \n",
       "1                  34.99   2023-05-17   \n",
       "2                  34.99   2023-05-17   \n",
       "3                  34.99   2023-05-17   \n",
       "4                  34.99   2023-05-17   \n",
       "...                  ...          ...   \n",
       "86980               2.58   2022-04-01   \n",
       "86981               1.38   2022-07-18   \n",
       "86982             122.62   2022-04-01   \n",
       "86983               1.51   2022-07-18   \n",
       "86984               7.05   2022-10-14   \n",
       "\n",
       "                                   Item Full Description    Market Segment  \\\n",
       "0                     50ct Pouch - Variety Pk Choc Bites            Online   \n",
       "1                     50ct Pouch - Variety Pk Choc Bites            Online   \n",
       "2                     50ct Pouch - Variety Pk Choc Bites            Online   \n",
       "3                     50ct Pouch - Variety Pk Choc Bites            Online   \n",
       "4                     50ct Pouch - Variety Pk Choc Bites            Online   \n",
       "...                                                  ...               ...   \n",
       "86980  6 x 50ct Change Maker - AWAKE Chocolate Bites ...  Alternate Retail   \n",
       "86981  6 x 50ct Change Maker - AWAKE Chocolate Bites ...  Alternate Retail   \n",
       "86982  6 x 50ct Change Maker - AWAKE Chocolate Bites ...  Alternate Retail   \n",
       "86983  6 x 50ct Change Maker - AWAKE Chocolate Bites ...  Alternate Retail   \n",
       "86984             Mint Bites 13.5g Change Maker (6 x 50)  Alternate Retail   \n",
       "\n",
       "      Parent Customer Sale Origin  Sales by Parent Suffix Vistar Retail  \n",
       "0              Amazon   Unleashed       2473552.55    NaN            No  \n",
       "1              Amazon   Unleashed       2473552.55    NaN            No  \n",
       "2              Amazon   Unleashed       2473552.55    NaN            No  \n",
       "3              Amazon   Unleashed       2473552.55    NaN            No  \n",
       "4              Amazon   Unleashed       2473552.55    NaN            No  \n",
       "...               ...         ...              ...    ...           ...  \n",
       "86980   Vistar Retail   Unleashed       1978810.10      K           Yes  \n",
       "86981   Vistar Retail   Unleashed       1978810.10      K           Yes  \n",
       "86982   Vistar Retail   Unleashed       1978810.10    NaN           Yes  \n",
       "86983   Vistar Retail   Unleashed       1978810.10      K           Yes  \n",
       "86984   Vistar Retail   Unleashed       1978810.10      K           Yes  \n",
       "\n",
       "[86985 rows x 12 columns]"
      ]
     },
     "execution_count": 19,
     "metadata": {},
     "output_type": "execute_result"
    }
   ],
   "source": [
    "df_selection['Invoice Date'] = pd.to_datetime(df_selection['Invoice Date'])\n",
    "df_selection['Invoice Date'] = df_selection['Invoice Date'].dt.normalize()\n",
    "\n",
    "df_selection['Invoice Date'] = df_selection['Invoice Date'].dt.floor('D')\n",
    "df_selection.round(2)"
   ]
  },
  {
   "cell_type": "code",
   "execution_count": 45,
   "id": "b719d4da",
   "metadata": {},
   "outputs": [
    {
     "data": {
      "text/plain": [
       "0.21"
      ]
     },
     "execution_count": 45,
     "metadata": {},
     "output_type": "execute_result"
    }
   ],
   "source": [
    "sales_23 = df_selection[df_selection['Invoice Date'].dt.year == 2023].Dollars.sum()\n",
    "sales_22 = df_selection[df_selection['Invoice Date'].dt.year == 2022].Dollars.sum()\n",
    "\n",
    "yoy_diff = round(int(sales_23-sales_22) / sales_22,2)\n",
    "yoy_diff.round(2)"
   ]
  },
  {
   "cell_type": "code",
   "execution_count": 11,
   "id": "de2781bf",
   "metadata": {},
   "outputs": [
    {
     "data": {
      "text/plain": [
       "Index(['Dollars', 'Customer', 'Customer Order Number', 'Dollars Formatted',\n",
       "       'Invoice Date', 'Item Full Description', 'Market Segment',\n",
       "       'Parent Customer', 'Sale Origin', 'Sales by Parent', 'Suffix',\n",
       "       'Vistar Retail'],\n",
       "      dtype='object')"
      ]
     },
     "execution_count": 11,
     "metadata": {},
     "output_type": "execute_result"
    }
   ],
   "source": [
    "df_selection.columns"
   ]
  },
  {
   "cell_type": "code",
   "execution_count": 18,
   "id": "d526fa60",
   "metadata": {},
   "outputs": [
    {
     "data": {
      "text/html": [
       "<div>\n",
       "<style scoped>\n",
       "    .dataframe tbody tr th:only-of-type {\n",
       "        vertical-align: middle;\n",
       "    }\n",
       "\n",
       "    .dataframe tbody tr th {\n",
       "        vertical-align: top;\n",
       "    }\n",
       "\n",
       "    .dataframe thead th {\n",
       "        text-align: right;\n",
       "    }\n",
       "</style>\n",
       "<table border=\"1\" class=\"dataframe\">\n",
       "  <thead>\n",
       "    <tr style=\"text-align: right;\">\n",
       "      <th></th>\n",
       "      <th>Table</th>\n",
       "      <th>Invoice Date</th>\n",
       "      <th>Parent Customer</th>\n",
       "      <th>Customer Name</th>\n",
       "      <th>MFG #</th>\n",
       "      <th>Item Full Description</th>\n",
       "      <th>Qty Ordered</th>\n",
       "      <th>Qty Received</th>\n",
       "      <th>Dollars</th>\n",
       "      <th>Segment Description 2</th>\n",
       "    </tr>\n",
       "  </thead>\n",
       "  <tbody>\n",
       "    <tr>\n",
       "      <th>0</th>\n",
       "      <td>Dot</td>\n",
       "      <td>2022-01-03</td>\n",
       "      <td>J. POLEP</td>\n",
       "      <td>J. POLEP</td>\n",
       "      <td>00453U</td>\n",
       "      <td>CAFFEINATED CHOCOLATE BITES SINGLES CARAMEL</td>\n",
       "      <td>8</td>\n",
       "      <td>8.0</td>\n",
       "      <td>1046.40</td>\n",
       "      <td>CONVENIENCE STORE</td>\n",
       "    </tr>\n",
       "    <tr>\n",
       "      <th>1</th>\n",
       "      <td>Dot</td>\n",
       "      <td>2022-01-03</td>\n",
       "      <td>J. POLEP</td>\n",
       "      <td>J. POLEP</td>\n",
       "      <td>00460U</td>\n",
       "      <td>CAFFEINATED CHOCOLATE BITES SINGLES PB CHOC</td>\n",
       "      <td>8</td>\n",
       "      <td>8.0</td>\n",
       "      <td>1046.40</td>\n",
       "      <td>CONVENIENCE STORE</td>\n",
       "    </tr>\n",
       "    <tr>\n",
       "      <th>2</th>\n",
       "      <td>Dot</td>\n",
       "      <td>2022-01-03</td>\n",
       "      <td>R.C. TAYLOR</td>\n",
       "      <td>R.C. TAYLOR</td>\n",
       "      <td>00105U</td>\n",
       "      <td>AWAKE CHOCOLATE AWAKE CAFF MILK CHOC- 6X12PK M...</td>\n",
       "      <td>1</td>\n",
       "      <td>1.0</td>\n",
       "      <td>78.48</td>\n",
       "      <td>CONVENIENCE STORE</td>\n",
       "    </tr>\n",
       "    <tr>\n",
       "      <th>3</th>\n",
       "      <td>Dot</td>\n",
       "      <td>2022-01-03</td>\n",
       "      <td>Tropical</td>\n",
       "      <td>TROPICAL FOODS--TX</td>\n",
       "      <td>00150U</td>\n",
       "      <td>CAFFEINATED CHOCOLATE BITES SINGLES</td>\n",
       "      <td>2</td>\n",
       "      <td>2.0</td>\n",
       "      <td>261.60</td>\n",
       "      <td>ALTERNATE RETAIL</td>\n",
       "    </tr>\n",
       "    <tr>\n",
       "      <th>4</th>\n",
       "      <td>Dot</td>\n",
       "      <td>2022-01-03</td>\n",
       "      <td>Tropical</td>\n",
       "      <td>TROPICAL FOODS--TX</td>\n",
       "      <td>00453U</td>\n",
       "      <td>CAFFEINATED CHOCOLATE BITES SINGLES CARAMEL</td>\n",
       "      <td>2</td>\n",
       "      <td>2.0</td>\n",
       "      <td>261.60</td>\n",
       "      <td>ALTERNATE RETAIL</td>\n",
       "    </tr>\n",
       "    <tr>\n",
       "      <th>...</th>\n",
       "      <td>...</td>\n",
       "      <td>...</td>\n",
       "      <td>...</td>\n",
       "      <td>...</td>\n",
       "      <td>...</td>\n",
       "      <td>...</td>\n",
       "      <td>...</td>\n",
       "      <td>...</td>\n",
       "      <td>...</td>\n",
       "      <td>...</td>\n",
       "    </tr>\n",
       "    <tr>\n",
       "      <th>16653</th>\n",
       "      <td>Dot</td>\n",
       "      <td>2023-12-08</td>\n",
       "      <td>Vistar</td>\n",
       "      <td>VISTAR-NEW ENGLAND</td>\n",
       "      <td>00254U</td>\n",
       "      <td>AWAKE CHOCOLATE AWAKE CAFF DARK CHOC- 6X12PK M...</td>\n",
       "      <td>5</td>\n",
       "      <td>5.0</td>\n",
       "      <td>427.70</td>\n",
       "      <td>VENDING</td>\n",
       "    </tr>\n",
       "    <tr>\n",
       "      <th>16654</th>\n",
       "      <td>Dot</td>\n",
       "      <td>2023-12-08</td>\n",
       "      <td>Vistar</td>\n",
       "      <td>VISTAR-NEW ENGLAND</td>\n",
       "      <td>00493U</td>\n",
       "      <td>AWAKE NO SUGAR ADDED 6 X 50CT BITES CHANGEMAKE...</td>\n",
       "      <td>3</td>\n",
       "      <td>3.0</td>\n",
       "      <td>423.00</td>\n",
       "      <td>VENDING</td>\n",
       "    </tr>\n",
       "    <tr>\n",
       "      <th>16655</th>\n",
       "      <td>Dot</td>\n",
       "      <td>2023-12-08</td>\n",
       "      <td>Vistar</td>\n",
       "      <td>VISTAR-NEW ENGLAND</td>\n",
       "      <td>00494U</td>\n",
       "      <td>AWAKE NO SUGAR ADDED 6 X 50CT BITES CHANGEMAKE...</td>\n",
       "      <td>2</td>\n",
       "      <td>2.0</td>\n",
       "      <td>282.00</td>\n",
       "      <td>VENDING</td>\n",
       "    </tr>\n",
       "    <tr>\n",
       "      <th>16656</th>\n",
       "      <td>Dot</td>\n",
       "      <td>2023-12-08</td>\n",
       "      <td>Vistar</td>\n",
       "      <td>VISTAR-PHOENIX</td>\n",
       "      <td>00254U</td>\n",
       "      <td>AWAKE CHOCOLATE AWAKE CAFF DARK CHOC- 6X12PK M...</td>\n",
       "      <td>2</td>\n",
       "      <td>2.0</td>\n",
       "      <td>171.08</td>\n",
       "      <td>VENDING</td>\n",
       "    </tr>\n",
       "    <tr>\n",
       "      <th>16657</th>\n",
       "      <td>Dot</td>\n",
       "      <td>2023-12-08</td>\n",
       "      <td>Vistar</td>\n",
       "      <td>VISTAR-PHOENIX</td>\n",
       "      <td>00453U</td>\n",
       "      <td>CAFFEINATED CHOCOLATE BITES SINGLES CARAMEL</td>\n",
       "      <td>13</td>\n",
       "      <td>13.0</td>\n",
       "      <td>1833.00</td>\n",
       "      <td>VENDING</td>\n",
       "    </tr>\n",
       "  </tbody>\n",
       "</table>\n",
       "<p>16658 rows × 10 columns</p>\n",
       "</div>"
      ],
      "text/plain": [
       "      Table Invoice Date Parent Customer       Customer Name   MFG #  \\\n",
       "0       Dot   2022-01-03        J. POLEP            J. POLEP  00453U   \n",
       "1       Dot   2022-01-03        J. POLEP            J. POLEP  00460U   \n",
       "2       Dot   2022-01-03     R.C. TAYLOR         R.C. TAYLOR  00105U   \n",
       "3       Dot   2022-01-03        Tropical  TROPICAL FOODS--TX  00150U   \n",
       "4       Dot   2022-01-03        Tropical  TROPICAL FOODS--TX  00453U   \n",
       "...     ...          ...             ...                 ...     ...   \n",
       "16653   Dot   2023-12-08          Vistar  VISTAR-NEW ENGLAND  00254U   \n",
       "16654   Dot   2023-12-08          Vistar  VISTAR-NEW ENGLAND  00493U   \n",
       "16655   Dot   2023-12-08          Vistar  VISTAR-NEW ENGLAND  00494U   \n",
       "16656   Dot   2023-12-08          Vistar      VISTAR-PHOENIX  00254U   \n",
       "16657   Dot   2023-12-08          Vistar      VISTAR-PHOENIX  00453U   \n",
       "\n",
       "                                   Item Full Description  Qty Ordered  \\\n",
       "0            CAFFEINATED CHOCOLATE BITES SINGLES CARAMEL            8   \n",
       "1            CAFFEINATED CHOCOLATE BITES SINGLES PB CHOC            8   \n",
       "2      AWAKE CHOCOLATE AWAKE CAFF MILK CHOC- 6X12PK M...            1   \n",
       "3                    CAFFEINATED CHOCOLATE BITES SINGLES            2   \n",
       "4            CAFFEINATED CHOCOLATE BITES SINGLES CARAMEL            2   \n",
       "...                                                  ...          ...   \n",
       "16653  AWAKE CHOCOLATE AWAKE CAFF DARK CHOC- 6X12PK M...            5   \n",
       "16654  AWAKE NO SUGAR ADDED 6 X 50CT BITES CHANGEMAKE...            3   \n",
       "16655  AWAKE NO SUGAR ADDED 6 X 50CT BITES CHANGEMAKE...            2   \n",
       "16656  AWAKE CHOCOLATE AWAKE CAFF DARK CHOC- 6X12PK M...            2   \n",
       "16657        CAFFEINATED CHOCOLATE BITES SINGLES CARAMEL           13   \n",
       "\n",
       "       Qty Received  Dollars Segment Description 2  \n",
       "0               8.0  1046.40     CONVENIENCE STORE  \n",
       "1               8.0  1046.40     CONVENIENCE STORE  \n",
       "2               1.0    78.48     CONVENIENCE STORE  \n",
       "3               2.0   261.60      ALTERNATE RETAIL  \n",
       "4               2.0   261.60      ALTERNATE RETAIL  \n",
       "...             ...      ...                   ...  \n",
       "16653           5.0   427.70               VENDING  \n",
       "16654           3.0   423.00               VENDING  \n",
       "16655           2.0   282.00               VENDING  \n",
       "16656           2.0   171.08               VENDING  \n",
       "16657          13.0  1833.00               VENDING  \n",
       "\n",
       "[16658 rows x 10 columns]"
      ]
     },
     "execution_count": 18,
     "metadata": {},
     "output_type": "execute_result"
    }
   ],
   "source": [
    "df_selection = df[\n",
    "    (df['Invoice Date'].dt.year.isin(year)) & (df['Segment Description 2'].isin(segment))\n",
    "    ][['Table',\n",
    "       'Invoice Date',\n",
    "       'Parent Customer',\n",
    "       'Customer Name',\n",
    "       'MFG #',\n",
    "       'Item Full Description',\n",
    "       'Qty Ordered',\n",
    "       'Qty Received',\n",
    "       'Dollars',\n",
    "       'Segment Description 2']]\n",
    "\n",
    "df_selection"
   ]
  },
  {
   "cell_type": "code",
   "execution_count": 11,
   "id": "1b6cfce8",
   "metadata": {},
   "outputs": [
    {
     "data": {
      "application/vnd.plotly.v1+json": {
       "config": {
        "plotlyServerURL": "https://plot.ly"
       },
       "data": [
        {
         "alignmentgroup": "True",
         "hovertemplate": "Market Segment=%{y}<br>Sales in $USD=%{x}<extra></extra>",
         "legendgroup": "VENDING",
         "marker": {
          "color": "#636efa",
          "pattern": {
           "shape": ""
          }
         },
         "name": "VENDING",
         "offsetgroup": "VENDING",
         "orientation": "h",
         "showlegend": true,
         "textposition": "auto",
         "type": "bar",
         "x": [
          4459422.1258
         ],
         "xaxis": "x",
         "y": [
          "VENDING"
         ],
         "yaxis": "y"
        },
        {
         "alignmentgroup": "True",
         "hovertemplate": "Market Segment=%{y}<br>Sales in $USD=%{x}<extra></extra>",
         "legendgroup": "ALTERNATE RETAIL",
         "marker": {
          "color": "#EF553B",
          "pattern": {
           "shape": ""
          }
         },
         "name": "ALTERNATE RETAIL",
         "offsetgroup": "ALTERNATE RETAIL",
         "orientation": "h",
         "showlegend": true,
         "textposition": "auto",
         "type": "bar",
         "x": [
          3507554.1
         ],
         "xaxis": "x",
         "y": [
          "ALTERNATE RETAIL"
         ],
         "yaxis": "y"
        },
        {
         "alignmentgroup": "True",
         "hovertemplate": "Market Segment=%{y}<br>Sales in $USD=%{x}<extra></extra>",
         "legendgroup": "CONVENIENCE STORE",
         "marker": {
          "color": "#00cc96",
          "pattern": {
           "shape": ""
          }
         },
         "name": "CONVENIENCE STORE",
         "offsetgroup": "CONVENIENCE STORE",
         "orientation": "h",
         "showlegend": true,
         "textposition": "auto",
         "type": "bar",
         "x": [
          1384872.5137983193
         ],
         "xaxis": "x",
         "y": [
          "CONVENIENCE STORE"
         ],
         "yaxis": "y"
        },
        {
         "alignmentgroup": "True",
         "hovertemplate": "Market Segment=%{y}<br>Sales in $USD=%{x}<extra></extra>",
         "legendgroup": "BROADLINE DISTRIBUTOR",
         "marker": {
          "color": "#ab63fa",
          "pattern": {
           "shape": ""
          }
         },
         "name": "BROADLINE DISTRIBUTOR",
         "offsetgroup": "BROADLINE DISTRIBUTOR",
         "orientation": "h",
         "showlegend": true,
         "textposition": "auto",
         "type": "bar",
         "x": [
          167641.9
         ],
         "xaxis": "x",
         "y": [
          "BROADLINE DISTRIBUTOR"
         ],
         "yaxis": "y"
        },
        {
         "alignmentgroup": "True",
         "hovertemplate": "Market Segment=%{y}<br>Sales in $USD=%{x}<extra></extra>",
         "legendgroup": "ONLINE DISTRIBUTORS",
         "marker": {
          "color": "#FFA15A",
          "pattern": {
           "shape": ""
          }
         },
         "name": "ONLINE DISTRIBUTORS",
         "offsetgroup": "ONLINE DISTRIBUTORS",
         "orientation": "h",
         "showlegend": true,
         "textposition": "auto",
         "type": "bar",
         "x": [
          46069.4455
         ],
         "xaxis": "x",
         "y": [
          "ONLINE DISTRIBUTORS"
         ],
         "yaxis": "y"
        },
        {
         "alignmentgroup": "True",
         "hovertemplate": "Market Segment=%{y}<br>Sales in $USD=%{x}<extra></extra>",
         "legendgroup": "GROCERY",
         "marker": {
          "color": "#19d3f3",
          "pattern": {
           "shape": ""
          }
         },
         "name": "GROCERY",
         "offsetgroup": "GROCERY",
         "orientation": "h",
         "showlegend": true,
         "textposition": "auto",
         "type": "bar",
         "x": [
          16129.460000000001
         ],
         "xaxis": "x",
         "y": [
          "GROCERY"
         ],
         "yaxis": "y"
        },
        {
         "alignmentgroup": "True",
         "hovertemplate": "Market Segment=%{y}<br>Sales in $USD=%{x}<extra></extra>",
         "legendgroup": "FOOD PROCESSORS",
         "marker": {
          "color": "#FF6692",
          "pattern": {
           "shape": ""
          }
         },
         "name": "FOOD PROCESSORS",
         "offsetgroup": "FOOD PROCESSORS",
         "orientation": "h",
         "showlegend": true,
         "textposition": "auto",
         "type": "bar",
         "x": [
          14226.68
         ],
         "xaxis": "x",
         "y": [
          "FOOD PROCESSORS"
         ],
         "yaxis": "y"
        },
        {
         "alignmentgroup": "True",
         "hovertemplate": "Market Segment=%{y}<br>Sales in $USD=%{x}<extra></extra>",
         "legendgroup": "JAN/SAN/PAPER",
         "marker": {
          "color": "#B6E880",
          "pattern": {
           "shape": ""
          }
         },
         "name": "JAN/SAN/PAPER",
         "offsetgroup": "JAN/SAN/PAPER",
         "orientation": "h",
         "showlegend": true,
         "textposition": "auto",
         "type": "bar",
         "x": [
          884.98
         ],
         "xaxis": "x",
         "y": [
          "JAN/SAN/PAPER"
         ],
         "yaxis": "y"
        },
        {
         "alignmentgroup": "True",
         "hovertemplate": "Market Segment=%{y}<br>Sales in $USD=%{x}<extra></extra>",
         "legendgroup": "E&S DEALERS",
         "marker": {
          "color": "#FF97FF",
          "pattern": {
           "shape": ""
          }
         },
         "name": "E&S DEALERS",
         "offsetgroup": "E&S DEALERS",
         "orientation": "h",
         "showlegend": true,
         "textposition": "auto",
         "type": "bar",
         "x": [
          85.54
         ],
         "xaxis": "x",
         "y": [
          "E&S DEALERS"
         ],
         "yaxis": "y"
        }
       ],
       "layout": {
        "barmode": "relative",
        "legend": {
         "title": {
          "text": "Market Segment"
         },
         "tracegroupgap": 0
        },
        "showlegend": false,
        "template": {
         "data": {
          "bar": [
           {
            "error_x": {
             "color": "#2a3f5f"
            },
            "error_y": {
             "color": "#2a3f5f"
            },
            "marker": {
             "line": {
              "color": "white",
              "width": 0.5
             },
             "pattern": {
              "fillmode": "overlay",
              "size": 10,
              "solidity": 0.2
             }
            },
            "type": "bar"
           }
          ],
          "barpolar": [
           {
            "marker": {
             "line": {
              "color": "white",
              "width": 0.5
             },
             "pattern": {
              "fillmode": "overlay",
              "size": 10,
              "solidity": 0.2
             }
            },
            "type": "barpolar"
           }
          ],
          "carpet": [
           {
            "aaxis": {
             "endlinecolor": "#2a3f5f",
             "gridcolor": "#C8D4E3",
             "linecolor": "#C8D4E3",
             "minorgridcolor": "#C8D4E3",
             "startlinecolor": "#2a3f5f"
            },
            "baxis": {
             "endlinecolor": "#2a3f5f",
             "gridcolor": "#C8D4E3",
             "linecolor": "#C8D4E3",
             "minorgridcolor": "#C8D4E3",
             "startlinecolor": "#2a3f5f"
            },
            "type": "carpet"
           }
          ],
          "choropleth": [
           {
            "colorbar": {
             "outlinewidth": 0,
             "ticks": ""
            },
            "type": "choropleth"
           }
          ],
          "contour": [
           {
            "colorbar": {
             "outlinewidth": 0,
             "ticks": ""
            },
            "colorscale": [
             [
              0,
              "#0d0887"
             ],
             [
              0.1111111111111111,
              "#46039f"
             ],
             [
              0.2222222222222222,
              "#7201a8"
             ],
             [
              0.3333333333333333,
              "#9c179e"
             ],
             [
              0.4444444444444444,
              "#bd3786"
             ],
             [
              0.5555555555555556,
              "#d8576b"
             ],
             [
              0.6666666666666666,
              "#ed7953"
             ],
             [
              0.7777777777777778,
              "#fb9f3a"
             ],
             [
              0.8888888888888888,
              "#fdca26"
             ],
             [
              1,
              "#f0f921"
             ]
            ],
            "type": "contour"
           }
          ],
          "contourcarpet": [
           {
            "colorbar": {
             "outlinewidth": 0,
             "ticks": ""
            },
            "type": "contourcarpet"
           }
          ],
          "heatmap": [
           {
            "colorbar": {
             "outlinewidth": 0,
             "ticks": ""
            },
            "colorscale": [
             [
              0,
              "#0d0887"
             ],
             [
              0.1111111111111111,
              "#46039f"
             ],
             [
              0.2222222222222222,
              "#7201a8"
             ],
             [
              0.3333333333333333,
              "#9c179e"
             ],
             [
              0.4444444444444444,
              "#bd3786"
             ],
             [
              0.5555555555555556,
              "#d8576b"
             ],
             [
              0.6666666666666666,
              "#ed7953"
             ],
             [
              0.7777777777777778,
              "#fb9f3a"
             ],
             [
              0.8888888888888888,
              "#fdca26"
             ],
             [
              1,
              "#f0f921"
             ]
            ],
            "type": "heatmap"
           }
          ],
          "heatmapgl": [
           {
            "colorbar": {
             "outlinewidth": 0,
             "ticks": ""
            },
            "colorscale": [
             [
              0,
              "#0d0887"
             ],
             [
              0.1111111111111111,
              "#46039f"
             ],
             [
              0.2222222222222222,
              "#7201a8"
             ],
             [
              0.3333333333333333,
              "#9c179e"
             ],
             [
              0.4444444444444444,
              "#bd3786"
             ],
             [
              0.5555555555555556,
              "#d8576b"
             ],
             [
              0.6666666666666666,
              "#ed7953"
             ],
             [
              0.7777777777777778,
              "#fb9f3a"
             ],
             [
              0.8888888888888888,
              "#fdca26"
             ],
             [
              1,
              "#f0f921"
             ]
            ],
            "type": "heatmapgl"
           }
          ],
          "histogram": [
           {
            "marker": {
             "pattern": {
              "fillmode": "overlay",
              "size": 10,
              "solidity": 0.2
             }
            },
            "type": "histogram"
           }
          ],
          "histogram2d": [
           {
            "colorbar": {
             "outlinewidth": 0,
             "ticks": ""
            },
            "colorscale": [
             [
              0,
              "#0d0887"
             ],
             [
              0.1111111111111111,
              "#46039f"
             ],
             [
              0.2222222222222222,
              "#7201a8"
             ],
             [
              0.3333333333333333,
              "#9c179e"
             ],
             [
              0.4444444444444444,
              "#bd3786"
             ],
             [
              0.5555555555555556,
              "#d8576b"
             ],
             [
              0.6666666666666666,
              "#ed7953"
             ],
             [
              0.7777777777777778,
              "#fb9f3a"
             ],
             [
              0.8888888888888888,
              "#fdca26"
             ],
             [
              1,
              "#f0f921"
             ]
            ],
            "type": "histogram2d"
           }
          ],
          "histogram2dcontour": [
           {
            "colorbar": {
             "outlinewidth": 0,
             "ticks": ""
            },
            "colorscale": [
             [
              0,
              "#0d0887"
             ],
             [
              0.1111111111111111,
              "#46039f"
             ],
             [
              0.2222222222222222,
              "#7201a8"
             ],
             [
              0.3333333333333333,
              "#9c179e"
             ],
             [
              0.4444444444444444,
              "#bd3786"
             ],
             [
              0.5555555555555556,
              "#d8576b"
             ],
             [
              0.6666666666666666,
              "#ed7953"
             ],
             [
              0.7777777777777778,
              "#fb9f3a"
             ],
             [
              0.8888888888888888,
              "#fdca26"
             ],
             [
              1,
              "#f0f921"
             ]
            ],
            "type": "histogram2dcontour"
           }
          ],
          "mesh3d": [
           {
            "colorbar": {
             "outlinewidth": 0,
             "ticks": ""
            },
            "type": "mesh3d"
           }
          ],
          "parcoords": [
           {
            "line": {
             "colorbar": {
              "outlinewidth": 0,
              "ticks": ""
             }
            },
            "type": "parcoords"
           }
          ],
          "pie": [
           {
            "automargin": true,
            "type": "pie"
           }
          ],
          "scatter": [
           {
            "fillpattern": {
             "fillmode": "overlay",
             "size": 10,
             "solidity": 0.2
            },
            "type": "scatter"
           }
          ],
          "scatter3d": [
           {
            "line": {
             "colorbar": {
              "outlinewidth": 0,
              "ticks": ""
             }
            },
            "marker": {
             "colorbar": {
              "outlinewidth": 0,
              "ticks": ""
             }
            },
            "type": "scatter3d"
           }
          ],
          "scattercarpet": [
           {
            "marker": {
             "colorbar": {
              "outlinewidth": 0,
              "ticks": ""
             }
            },
            "type": "scattercarpet"
           }
          ],
          "scattergeo": [
           {
            "marker": {
             "colorbar": {
              "outlinewidth": 0,
              "ticks": ""
             }
            },
            "type": "scattergeo"
           }
          ],
          "scattergl": [
           {
            "marker": {
             "colorbar": {
              "outlinewidth": 0,
              "ticks": ""
             }
            },
            "type": "scattergl"
           }
          ],
          "scattermapbox": [
           {
            "marker": {
             "colorbar": {
              "outlinewidth": 0,
              "ticks": ""
             }
            },
            "type": "scattermapbox"
           }
          ],
          "scatterpolar": [
           {
            "marker": {
             "colorbar": {
              "outlinewidth": 0,
              "ticks": ""
             }
            },
            "type": "scatterpolar"
           }
          ],
          "scatterpolargl": [
           {
            "marker": {
             "colorbar": {
              "outlinewidth": 0,
              "ticks": ""
             }
            },
            "type": "scatterpolargl"
           }
          ],
          "scatterternary": [
           {
            "marker": {
             "colorbar": {
              "outlinewidth": 0,
              "ticks": ""
             }
            },
            "type": "scatterternary"
           }
          ],
          "surface": [
           {
            "colorbar": {
             "outlinewidth": 0,
             "ticks": ""
            },
            "colorscale": [
             [
              0,
              "#0d0887"
             ],
             [
              0.1111111111111111,
              "#46039f"
             ],
             [
              0.2222222222222222,
              "#7201a8"
             ],
             [
              0.3333333333333333,
              "#9c179e"
             ],
             [
              0.4444444444444444,
              "#bd3786"
             ],
             [
              0.5555555555555556,
              "#d8576b"
             ],
             [
              0.6666666666666666,
              "#ed7953"
             ],
             [
              0.7777777777777778,
              "#fb9f3a"
             ],
             [
              0.8888888888888888,
              "#fdca26"
             ],
             [
              1,
              "#f0f921"
             ]
            ],
            "type": "surface"
           }
          ],
          "table": [
           {
            "cells": {
             "fill": {
              "color": "#EBF0F8"
             },
             "line": {
              "color": "white"
             }
            },
            "header": {
             "fill": {
              "color": "#C8D4E3"
             },
             "line": {
              "color": "white"
             }
            },
            "type": "table"
           }
          ]
         },
         "layout": {
          "annotationdefaults": {
           "arrowcolor": "#2a3f5f",
           "arrowhead": 0,
           "arrowwidth": 1
          },
          "autotypenumbers": "strict",
          "coloraxis": {
           "colorbar": {
            "outlinewidth": 0,
            "ticks": ""
           }
          },
          "colorscale": {
           "diverging": [
            [
             0,
             "#8e0152"
            ],
            [
             0.1,
             "#c51b7d"
            ],
            [
             0.2,
             "#de77ae"
            ],
            [
             0.3,
             "#f1b6da"
            ],
            [
             0.4,
             "#fde0ef"
            ],
            [
             0.5,
             "#f7f7f7"
            ],
            [
             0.6,
             "#e6f5d0"
            ],
            [
             0.7,
             "#b8e186"
            ],
            [
             0.8,
             "#7fbc41"
            ],
            [
             0.9,
             "#4d9221"
            ],
            [
             1,
             "#276419"
            ]
           ],
           "sequential": [
            [
             0,
             "#0d0887"
            ],
            [
             0.1111111111111111,
             "#46039f"
            ],
            [
             0.2222222222222222,
             "#7201a8"
            ],
            [
             0.3333333333333333,
             "#9c179e"
            ],
            [
             0.4444444444444444,
             "#bd3786"
            ],
            [
             0.5555555555555556,
             "#d8576b"
            ],
            [
             0.6666666666666666,
             "#ed7953"
            ],
            [
             0.7777777777777778,
             "#fb9f3a"
            ],
            [
             0.8888888888888888,
             "#fdca26"
            ],
            [
             1,
             "#f0f921"
            ]
           ],
           "sequentialminus": [
            [
             0,
             "#0d0887"
            ],
            [
             0.1111111111111111,
             "#46039f"
            ],
            [
             0.2222222222222222,
             "#7201a8"
            ],
            [
             0.3333333333333333,
             "#9c179e"
            ],
            [
             0.4444444444444444,
             "#bd3786"
            ],
            [
             0.5555555555555556,
             "#d8576b"
            ],
            [
             0.6666666666666666,
             "#ed7953"
            ],
            [
             0.7777777777777778,
             "#fb9f3a"
            ],
            [
             0.8888888888888888,
             "#fdca26"
            ],
            [
             1,
             "#f0f921"
            ]
           ]
          },
          "colorway": [
           "#636efa",
           "#EF553B",
           "#00cc96",
           "#ab63fa",
           "#FFA15A",
           "#19d3f3",
           "#FF6692",
           "#B6E880",
           "#FF97FF",
           "#FECB52"
          ],
          "font": {
           "color": "#2a3f5f"
          },
          "geo": {
           "bgcolor": "white",
           "lakecolor": "white",
           "landcolor": "white",
           "showlakes": true,
           "showland": true,
           "subunitcolor": "#C8D4E3"
          },
          "hoverlabel": {
           "align": "left"
          },
          "hovermode": "closest",
          "mapbox": {
           "style": "light"
          },
          "paper_bgcolor": "white",
          "plot_bgcolor": "white",
          "polar": {
           "angularaxis": {
            "gridcolor": "#EBF0F8",
            "linecolor": "#EBF0F8",
            "ticks": ""
           },
           "bgcolor": "white",
           "radialaxis": {
            "gridcolor": "#EBF0F8",
            "linecolor": "#EBF0F8",
            "ticks": ""
           }
          },
          "scene": {
           "xaxis": {
            "backgroundcolor": "white",
            "gridcolor": "#DFE8F3",
            "gridwidth": 2,
            "linecolor": "#EBF0F8",
            "showbackground": true,
            "ticks": "",
            "zerolinecolor": "#EBF0F8"
           },
           "yaxis": {
            "backgroundcolor": "white",
            "gridcolor": "#DFE8F3",
            "gridwidth": 2,
            "linecolor": "#EBF0F8",
            "showbackground": true,
            "ticks": "",
            "zerolinecolor": "#EBF0F8"
           },
           "zaxis": {
            "backgroundcolor": "white",
            "gridcolor": "#DFE8F3",
            "gridwidth": 2,
            "linecolor": "#EBF0F8",
            "showbackground": true,
            "ticks": "",
            "zerolinecolor": "#EBF0F8"
           }
          },
          "shapedefaults": {
           "line": {
            "color": "#2a3f5f"
           }
          },
          "ternary": {
           "aaxis": {
            "gridcolor": "#DFE8F3",
            "linecolor": "#A2B1C6",
            "ticks": ""
           },
           "baxis": {
            "gridcolor": "#DFE8F3",
            "linecolor": "#A2B1C6",
            "ticks": ""
           },
           "bgcolor": "white",
           "caxis": {
            "gridcolor": "#DFE8F3",
            "linecolor": "#A2B1C6",
            "ticks": ""
           }
          },
          "title": {
           "x": 0.05
          },
          "xaxis": {
           "automargin": true,
           "gridcolor": "#EBF0F8",
           "linecolor": "#EBF0F8",
           "ticks": "",
           "title": {
            "standoff": 15
           },
           "zerolinecolor": "#EBF0F8",
           "zerolinewidth": 2
          },
          "yaxis": {
           "automargin": true,
           "gridcolor": "#EBF0F8",
           "linecolor": "#EBF0F8",
           "ticks": "",
           "title": {
            "standoff": 15
           },
           "zerolinecolor": "#EBF0F8",
           "zerolinewidth": 2
          }
         }
        },
        "title": {
         "text": "<b>Sales by Market Segment</b>"
        },
        "width": 800,
        "xaxis": {
         "anchor": "y",
         "domain": [
          0,
          1
         ],
         "title": {
          "text": "Sales in $USD"
         }
        },
        "yaxis": {
         "anchor": "x",
         "categoryarray": [
          "E&S DEALERS",
          "JAN/SAN/PAPER",
          "FOOD PROCESSORS",
          "GROCERY",
          "ONLINE DISTRIBUTORS",
          "BROADLINE DISTRIBUTOR",
          "CONVENIENCE STORE",
          "ALTERNATE RETAIL",
          "VENDING"
         ],
         "categoryorder": "array",
         "domain": [
          0,
          1
         ],
         "title": {
          "text": "Market Segment"
         }
        }
       }
      },
      "text/html": [
       "<div>                            <div id=\"fb4bf2ce-c680-4097-b985-360e0d0e1b31\" class=\"plotly-graph-div\" style=\"height:525px; width:800px;\"></div>            <script type=\"text/javascript\">                require([\"plotly\"], function(Plotly) {                    window.PLOTLYENV=window.PLOTLYENV || {};                                    if (document.getElementById(\"fb4bf2ce-c680-4097-b985-360e0d0e1b31\")) {                    Plotly.newPlot(                        \"fb4bf2ce-c680-4097-b985-360e0d0e1b31\",                        [{\"alignmentgroup\":\"True\",\"hovertemplate\":\"Market Segment=%{y}<br>Sales in $USD=%{x}<extra></extra>\",\"legendgroup\":\"VENDING\",\"marker\":{\"color\":\"#636efa\",\"pattern\":{\"shape\":\"\"}},\"name\":\"VENDING\",\"offsetgroup\":\"VENDING\",\"orientation\":\"h\",\"showlegend\":true,\"textposition\":\"auto\",\"x\":[4459422.1258],\"xaxis\":\"x\",\"y\":[\"VENDING\"],\"yaxis\":\"y\",\"type\":\"bar\"},{\"alignmentgroup\":\"True\",\"hovertemplate\":\"Market Segment=%{y}<br>Sales in $USD=%{x}<extra></extra>\",\"legendgroup\":\"ALTERNATE RETAIL\",\"marker\":{\"color\":\"#EF553B\",\"pattern\":{\"shape\":\"\"}},\"name\":\"ALTERNATE RETAIL\",\"offsetgroup\":\"ALTERNATE RETAIL\",\"orientation\":\"h\",\"showlegend\":true,\"textposition\":\"auto\",\"x\":[3507554.1],\"xaxis\":\"x\",\"y\":[\"ALTERNATE RETAIL\"],\"yaxis\":\"y\",\"type\":\"bar\"},{\"alignmentgroup\":\"True\",\"hovertemplate\":\"Market Segment=%{y}<br>Sales in $USD=%{x}<extra></extra>\",\"legendgroup\":\"CONVENIENCE STORE\",\"marker\":{\"color\":\"#00cc96\",\"pattern\":{\"shape\":\"\"}},\"name\":\"CONVENIENCE STORE\",\"offsetgroup\":\"CONVENIENCE STORE\",\"orientation\":\"h\",\"showlegend\":true,\"textposition\":\"auto\",\"x\":[1384872.5137983193],\"xaxis\":\"x\",\"y\":[\"CONVENIENCE STORE\"],\"yaxis\":\"y\",\"type\":\"bar\"},{\"alignmentgroup\":\"True\",\"hovertemplate\":\"Market Segment=%{y}<br>Sales in $USD=%{x}<extra></extra>\",\"legendgroup\":\"BROADLINE DISTRIBUTOR\",\"marker\":{\"color\":\"#ab63fa\",\"pattern\":{\"shape\":\"\"}},\"name\":\"BROADLINE DISTRIBUTOR\",\"offsetgroup\":\"BROADLINE DISTRIBUTOR\",\"orientation\":\"h\",\"showlegend\":true,\"textposition\":\"auto\",\"x\":[167641.9],\"xaxis\":\"x\",\"y\":[\"BROADLINE DISTRIBUTOR\"],\"yaxis\":\"y\",\"type\":\"bar\"},{\"alignmentgroup\":\"True\",\"hovertemplate\":\"Market Segment=%{y}<br>Sales in $USD=%{x}<extra></extra>\",\"legendgroup\":\"ONLINE DISTRIBUTORS\",\"marker\":{\"color\":\"#FFA15A\",\"pattern\":{\"shape\":\"\"}},\"name\":\"ONLINE DISTRIBUTORS\",\"offsetgroup\":\"ONLINE DISTRIBUTORS\",\"orientation\":\"h\",\"showlegend\":true,\"textposition\":\"auto\",\"x\":[46069.4455],\"xaxis\":\"x\",\"y\":[\"ONLINE DISTRIBUTORS\"],\"yaxis\":\"y\",\"type\":\"bar\"},{\"alignmentgroup\":\"True\",\"hovertemplate\":\"Market Segment=%{y}<br>Sales in $USD=%{x}<extra></extra>\",\"legendgroup\":\"GROCERY\",\"marker\":{\"color\":\"#19d3f3\",\"pattern\":{\"shape\":\"\"}},\"name\":\"GROCERY\",\"offsetgroup\":\"GROCERY\",\"orientation\":\"h\",\"showlegend\":true,\"textposition\":\"auto\",\"x\":[16129.460000000001],\"xaxis\":\"x\",\"y\":[\"GROCERY\"],\"yaxis\":\"y\",\"type\":\"bar\"},{\"alignmentgroup\":\"True\",\"hovertemplate\":\"Market Segment=%{y}<br>Sales in $USD=%{x}<extra></extra>\",\"legendgroup\":\"FOOD PROCESSORS\",\"marker\":{\"color\":\"#FF6692\",\"pattern\":{\"shape\":\"\"}},\"name\":\"FOOD PROCESSORS\",\"offsetgroup\":\"FOOD PROCESSORS\",\"orientation\":\"h\",\"showlegend\":true,\"textposition\":\"auto\",\"x\":[14226.68],\"xaxis\":\"x\",\"y\":[\"FOOD PROCESSORS\"],\"yaxis\":\"y\",\"type\":\"bar\"},{\"alignmentgroup\":\"True\",\"hovertemplate\":\"Market Segment=%{y}<br>Sales in $USD=%{x}<extra></extra>\",\"legendgroup\":\"JAN/SAN/PAPER\",\"marker\":{\"color\":\"#B6E880\",\"pattern\":{\"shape\":\"\"}},\"name\":\"JAN/SAN/PAPER\",\"offsetgroup\":\"JAN/SAN/PAPER\",\"orientation\":\"h\",\"showlegend\":true,\"textposition\":\"auto\",\"x\":[884.98],\"xaxis\":\"x\",\"y\":[\"JAN/SAN/PAPER\"],\"yaxis\":\"y\",\"type\":\"bar\"},{\"alignmentgroup\":\"True\",\"hovertemplate\":\"Market Segment=%{y}<br>Sales in $USD=%{x}<extra></extra>\",\"legendgroup\":\"E&S DEALERS\",\"marker\":{\"color\":\"#FF97FF\",\"pattern\":{\"shape\":\"\"}},\"name\":\"E&S DEALERS\",\"offsetgroup\":\"E&S DEALERS\",\"orientation\":\"h\",\"showlegend\":true,\"textposition\":\"auto\",\"x\":[85.54],\"xaxis\":\"x\",\"y\":[\"E&S DEALERS\"],\"yaxis\":\"y\",\"type\":\"bar\"}],                        {\"template\":{\"data\":{\"barpolar\":[{\"marker\":{\"line\":{\"color\":\"white\",\"width\":0.5},\"pattern\":{\"fillmode\":\"overlay\",\"size\":10,\"solidity\":0.2}},\"type\":\"barpolar\"}],\"bar\":[{\"error_x\":{\"color\":\"#2a3f5f\"},\"error_y\":{\"color\":\"#2a3f5f\"},\"marker\":{\"line\":{\"color\":\"white\",\"width\":0.5},\"pattern\":{\"fillmode\":\"overlay\",\"size\":10,\"solidity\":0.2}},\"type\":\"bar\"}],\"carpet\":[{\"aaxis\":{\"endlinecolor\":\"#2a3f5f\",\"gridcolor\":\"#C8D4E3\",\"linecolor\":\"#C8D4E3\",\"minorgridcolor\":\"#C8D4E3\",\"startlinecolor\":\"#2a3f5f\"},\"baxis\":{\"endlinecolor\":\"#2a3f5f\",\"gridcolor\":\"#C8D4E3\",\"linecolor\":\"#C8D4E3\",\"minorgridcolor\":\"#C8D4E3\",\"startlinecolor\":\"#2a3f5f\"},\"type\":\"carpet\"}],\"choropleth\":[{\"colorbar\":{\"outlinewidth\":0,\"ticks\":\"\"},\"type\":\"choropleth\"}],\"contourcarpet\":[{\"colorbar\":{\"outlinewidth\":0,\"ticks\":\"\"},\"type\":\"contourcarpet\"}],\"contour\":[{\"colorbar\":{\"outlinewidth\":0,\"ticks\":\"\"},\"colorscale\":[[0.0,\"#0d0887\"],[0.1111111111111111,\"#46039f\"],[0.2222222222222222,\"#7201a8\"],[0.3333333333333333,\"#9c179e\"],[0.4444444444444444,\"#bd3786\"],[0.5555555555555556,\"#d8576b\"],[0.6666666666666666,\"#ed7953\"],[0.7777777777777778,\"#fb9f3a\"],[0.8888888888888888,\"#fdca26\"],[1.0,\"#f0f921\"]],\"type\":\"contour\"}],\"heatmapgl\":[{\"colorbar\":{\"outlinewidth\":0,\"ticks\":\"\"},\"colorscale\":[[0.0,\"#0d0887\"],[0.1111111111111111,\"#46039f\"],[0.2222222222222222,\"#7201a8\"],[0.3333333333333333,\"#9c179e\"],[0.4444444444444444,\"#bd3786\"],[0.5555555555555556,\"#d8576b\"],[0.6666666666666666,\"#ed7953\"],[0.7777777777777778,\"#fb9f3a\"],[0.8888888888888888,\"#fdca26\"],[1.0,\"#f0f921\"]],\"type\":\"heatmapgl\"}],\"heatmap\":[{\"colorbar\":{\"outlinewidth\":0,\"ticks\":\"\"},\"colorscale\":[[0.0,\"#0d0887\"],[0.1111111111111111,\"#46039f\"],[0.2222222222222222,\"#7201a8\"],[0.3333333333333333,\"#9c179e\"],[0.4444444444444444,\"#bd3786\"],[0.5555555555555556,\"#d8576b\"],[0.6666666666666666,\"#ed7953\"],[0.7777777777777778,\"#fb9f3a\"],[0.8888888888888888,\"#fdca26\"],[1.0,\"#f0f921\"]],\"type\":\"heatmap\"}],\"histogram2dcontour\":[{\"colorbar\":{\"outlinewidth\":0,\"ticks\":\"\"},\"colorscale\":[[0.0,\"#0d0887\"],[0.1111111111111111,\"#46039f\"],[0.2222222222222222,\"#7201a8\"],[0.3333333333333333,\"#9c179e\"],[0.4444444444444444,\"#bd3786\"],[0.5555555555555556,\"#d8576b\"],[0.6666666666666666,\"#ed7953\"],[0.7777777777777778,\"#fb9f3a\"],[0.8888888888888888,\"#fdca26\"],[1.0,\"#f0f921\"]],\"type\":\"histogram2dcontour\"}],\"histogram2d\":[{\"colorbar\":{\"outlinewidth\":0,\"ticks\":\"\"},\"colorscale\":[[0.0,\"#0d0887\"],[0.1111111111111111,\"#46039f\"],[0.2222222222222222,\"#7201a8\"],[0.3333333333333333,\"#9c179e\"],[0.4444444444444444,\"#bd3786\"],[0.5555555555555556,\"#d8576b\"],[0.6666666666666666,\"#ed7953\"],[0.7777777777777778,\"#fb9f3a\"],[0.8888888888888888,\"#fdca26\"],[1.0,\"#f0f921\"]],\"type\":\"histogram2d\"}],\"histogram\":[{\"marker\":{\"pattern\":{\"fillmode\":\"overlay\",\"size\":10,\"solidity\":0.2}},\"type\":\"histogram\"}],\"mesh3d\":[{\"colorbar\":{\"outlinewidth\":0,\"ticks\":\"\"},\"type\":\"mesh3d\"}],\"parcoords\":[{\"line\":{\"colorbar\":{\"outlinewidth\":0,\"ticks\":\"\"}},\"type\":\"parcoords\"}],\"pie\":[{\"automargin\":true,\"type\":\"pie\"}],\"scatter3d\":[{\"line\":{\"colorbar\":{\"outlinewidth\":0,\"ticks\":\"\"}},\"marker\":{\"colorbar\":{\"outlinewidth\":0,\"ticks\":\"\"}},\"type\":\"scatter3d\"}],\"scattercarpet\":[{\"marker\":{\"colorbar\":{\"outlinewidth\":0,\"ticks\":\"\"}},\"type\":\"scattercarpet\"}],\"scattergeo\":[{\"marker\":{\"colorbar\":{\"outlinewidth\":0,\"ticks\":\"\"}},\"type\":\"scattergeo\"}],\"scattergl\":[{\"marker\":{\"colorbar\":{\"outlinewidth\":0,\"ticks\":\"\"}},\"type\":\"scattergl\"}],\"scattermapbox\":[{\"marker\":{\"colorbar\":{\"outlinewidth\":0,\"ticks\":\"\"}},\"type\":\"scattermapbox\"}],\"scatterpolargl\":[{\"marker\":{\"colorbar\":{\"outlinewidth\":0,\"ticks\":\"\"}},\"type\":\"scatterpolargl\"}],\"scatterpolar\":[{\"marker\":{\"colorbar\":{\"outlinewidth\":0,\"ticks\":\"\"}},\"type\":\"scatterpolar\"}],\"scatter\":[{\"fillpattern\":{\"fillmode\":\"overlay\",\"size\":10,\"solidity\":0.2},\"type\":\"scatter\"}],\"scatterternary\":[{\"marker\":{\"colorbar\":{\"outlinewidth\":0,\"ticks\":\"\"}},\"type\":\"scatterternary\"}],\"surface\":[{\"colorbar\":{\"outlinewidth\":0,\"ticks\":\"\"},\"colorscale\":[[0.0,\"#0d0887\"],[0.1111111111111111,\"#46039f\"],[0.2222222222222222,\"#7201a8\"],[0.3333333333333333,\"#9c179e\"],[0.4444444444444444,\"#bd3786\"],[0.5555555555555556,\"#d8576b\"],[0.6666666666666666,\"#ed7953\"],[0.7777777777777778,\"#fb9f3a\"],[0.8888888888888888,\"#fdca26\"],[1.0,\"#f0f921\"]],\"type\":\"surface\"}],\"table\":[{\"cells\":{\"fill\":{\"color\":\"#EBF0F8\"},\"line\":{\"color\":\"white\"}},\"header\":{\"fill\":{\"color\":\"#C8D4E3\"},\"line\":{\"color\":\"white\"}},\"type\":\"table\"}]},\"layout\":{\"annotationdefaults\":{\"arrowcolor\":\"#2a3f5f\",\"arrowhead\":0,\"arrowwidth\":1},\"autotypenumbers\":\"strict\",\"coloraxis\":{\"colorbar\":{\"outlinewidth\":0,\"ticks\":\"\"}},\"colorscale\":{\"diverging\":[[0,\"#8e0152\"],[0.1,\"#c51b7d\"],[0.2,\"#de77ae\"],[0.3,\"#f1b6da\"],[0.4,\"#fde0ef\"],[0.5,\"#f7f7f7\"],[0.6,\"#e6f5d0\"],[0.7,\"#b8e186\"],[0.8,\"#7fbc41\"],[0.9,\"#4d9221\"],[1,\"#276419\"]],\"sequential\":[[0.0,\"#0d0887\"],[0.1111111111111111,\"#46039f\"],[0.2222222222222222,\"#7201a8\"],[0.3333333333333333,\"#9c179e\"],[0.4444444444444444,\"#bd3786\"],[0.5555555555555556,\"#d8576b\"],[0.6666666666666666,\"#ed7953\"],[0.7777777777777778,\"#fb9f3a\"],[0.8888888888888888,\"#fdca26\"],[1.0,\"#f0f921\"]],\"sequentialminus\":[[0.0,\"#0d0887\"],[0.1111111111111111,\"#46039f\"],[0.2222222222222222,\"#7201a8\"],[0.3333333333333333,\"#9c179e\"],[0.4444444444444444,\"#bd3786\"],[0.5555555555555556,\"#d8576b\"],[0.6666666666666666,\"#ed7953\"],[0.7777777777777778,\"#fb9f3a\"],[0.8888888888888888,\"#fdca26\"],[1.0,\"#f0f921\"]]},\"colorway\":[\"#636efa\",\"#EF553B\",\"#00cc96\",\"#ab63fa\",\"#FFA15A\",\"#19d3f3\",\"#FF6692\",\"#B6E880\",\"#FF97FF\",\"#FECB52\"],\"font\":{\"color\":\"#2a3f5f\"},\"geo\":{\"bgcolor\":\"white\",\"lakecolor\":\"white\",\"landcolor\":\"white\",\"showlakes\":true,\"showland\":true,\"subunitcolor\":\"#C8D4E3\"},\"hoverlabel\":{\"align\":\"left\"},\"hovermode\":\"closest\",\"mapbox\":{\"style\":\"light\"},\"paper_bgcolor\":\"white\",\"plot_bgcolor\":\"white\",\"polar\":{\"angularaxis\":{\"gridcolor\":\"#EBF0F8\",\"linecolor\":\"#EBF0F8\",\"ticks\":\"\"},\"bgcolor\":\"white\",\"radialaxis\":{\"gridcolor\":\"#EBF0F8\",\"linecolor\":\"#EBF0F8\",\"ticks\":\"\"}},\"scene\":{\"xaxis\":{\"backgroundcolor\":\"white\",\"gridcolor\":\"#DFE8F3\",\"gridwidth\":2,\"linecolor\":\"#EBF0F8\",\"showbackground\":true,\"ticks\":\"\",\"zerolinecolor\":\"#EBF0F8\"},\"yaxis\":{\"backgroundcolor\":\"white\",\"gridcolor\":\"#DFE8F3\",\"gridwidth\":2,\"linecolor\":\"#EBF0F8\",\"showbackground\":true,\"ticks\":\"\",\"zerolinecolor\":\"#EBF0F8\"},\"zaxis\":{\"backgroundcolor\":\"white\",\"gridcolor\":\"#DFE8F3\",\"gridwidth\":2,\"linecolor\":\"#EBF0F8\",\"showbackground\":true,\"ticks\":\"\",\"zerolinecolor\":\"#EBF0F8\"}},\"shapedefaults\":{\"line\":{\"color\":\"#2a3f5f\"}},\"ternary\":{\"aaxis\":{\"gridcolor\":\"#DFE8F3\",\"linecolor\":\"#A2B1C6\",\"ticks\":\"\"},\"baxis\":{\"gridcolor\":\"#DFE8F3\",\"linecolor\":\"#A2B1C6\",\"ticks\":\"\"},\"bgcolor\":\"white\",\"caxis\":{\"gridcolor\":\"#DFE8F3\",\"linecolor\":\"#A2B1C6\",\"ticks\":\"\"}},\"title\":{\"x\":0.05},\"xaxis\":{\"automargin\":true,\"gridcolor\":\"#EBF0F8\",\"linecolor\":\"#EBF0F8\",\"ticks\":\"\",\"title\":{\"standoff\":15},\"zerolinecolor\":\"#EBF0F8\",\"zerolinewidth\":2},\"yaxis\":{\"automargin\":true,\"gridcolor\":\"#EBF0F8\",\"linecolor\":\"#EBF0F8\",\"ticks\":\"\",\"title\":{\"standoff\":15},\"zerolinecolor\":\"#EBF0F8\",\"zerolinewidth\":2}}},\"xaxis\":{\"anchor\":\"y\",\"domain\":[0.0,1.0],\"title\":{\"text\":\"Sales in $USD\"}},\"yaxis\":{\"anchor\":\"x\",\"domain\":[0.0,1.0],\"title\":{\"text\":\"Market Segment\"},\"categoryorder\":\"array\",\"categoryarray\":[\"E&S DEALERS\",\"JAN/SAN/PAPER\",\"FOOD PROCESSORS\",\"GROCERY\",\"ONLINE DISTRIBUTORS\",\"BROADLINE DISTRIBUTOR\",\"CONVENIENCE STORE\",\"ALTERNATE RETAIL\",\"VENDING\"]},\"legend\":{\"title\":{\"text\":\"Market Segment\"},\"tracegroupgap\":0},\"title\":{\"text\":\"<b>Sales by Market Segment</b>\"},\"barmode\":\"relative\",\"width\":800,\"showlegend\":false},                        {\"responsive\": true}                    ).then(function(){\n",
       "                            \n",
       "var gd = document.getElementById('fb4bf2ce-c680-4097-b985-360e0d0e1b31');\n",
       "var x = new MutationObserver(function (mutations, observer) {{\n",
       "        var display = window.getComputedStyle(gd).display;\n",
       "        if (!display || display === 'none') {{\n",
       "            console.log([gd, 'removed!']);\n",
       "            Plotly.purge(gd);\n",
       "            observer.disconnect();\n",
       "        }}\n",
       "}});\n",
       "\n",
       "// Listen for the removal of the full notebook cells\n",
       "var notebookContainer = gd.closest('#notebook-container');\n",
       "if (notebookContainer) {{\n",
       "    x.observe(notebookContainer, {childList: true});\n",
       "}}\n",
       "\n",
       "// Listen for the clearing of the current output cell\n",
       "var outputEl = gd.closest('.output');\n",
       "if (outputEl) {{\n",
       "    x.observe(outputEl, {childList: true});\n",
       "}}\n",
       "\n",
       "                        })                };                });            </script>        </div>"
      ]
     },
     "metadata": {},
     "output_type": "display_data"
    }
   ],
   "source": [
    "px.bar(\n",
    "    seg_sales.sort_values(by = 'Dollars',ascending=False),\n",
    "    x='Dollars',\n",
    "    y='Segment Description 2',\n",
    "    orientation = 'h',\n",
    "    title = \"<b>Sales by Market Segment</b>\",\n",
    "    template = 'plotly_white',\n",
    "    color='Segment Description 2',\n",
    "    labels={'Segment Description 2':'Market Segment',\n",
    "            'Dollars':'Sales in $USD'},\n",
    "    width=800\n",
    ").update_layout(showlegend=False)"
   ]
  },
  {
   "cell_type": "code",
   "execution_count": null,
   "id": "d2600ad7",
   "metadata": {},
   "outputs": [],
   "source": [
    "year = df['Invoice Date'].dt.year.unique()\n",
    "segment = df['Segment Description 2'].unique()\n",
    "\n",
    "\n",
    "df_selection = df[(df['Invoice Date'].dt.year.isin(year)) & (df['Segment Description 2'].isin(segment))]\n",
    "# df_selection = df[(df['Invoice Date'].dt.year==2023) & (df['Segment Description 2'].isin(segment))]\n",
    "\n",
    "\n",
    "seg_sales = df_selection.groupby('Segment Description 2',as_index=False)['Dollars'].sum()\n",
    "fig_seg_sales = px.bar(\n",
    "    seg_sales.sort_values(by = 'Dollars',ascending=False),\n",
    "    x='Dollars',\n",
    "    y='Segment Description 2',\n",
    "    orientation = 'h',\n",
    "    title = \"<b>Sales by Market Segment</b>\",\n",
    "    template = 'plotly_white',\n",
    "    color='Segment Description 2',\n",
    "    labels={'Segment Description 2':'Market Segment',\n",
    "            'Dollars':'Sales in $USD'}\n",
    ")\n",
    "fig_seg_sales.show()"
   ]
  },
  {
   "cell_type": "code",
   "execution_count": null,
   "id": "68ed7a26",
   "metadata": {},
   "outputs": [],
   "source": [
    "px.bar(\n",
    "    seg_sales.sort_values(by = 'Dollars',ascending=False),\n",
    "    x='Dollars',\n",
    "    y='Segment Description 2',\n",
    "    orientation = 'h',\n",
    "    title = \"<b>Sales by Market Segment</b>\",\n",
    "    template = 'plotly_white',\n",
    "    color='Segment Description 2',\n",
    "    labels={'Segment Description 2':'Market Segment',\n",
    "            'Dollars':'Sales in $USD'}\n",
    ")"
   ]
  },
  {
   "cell_type": "code",
   "execution_count": 30,
   "id": "2bfa1857",
   "metadata": {},
   "outputs": [
    {
     "data": {
      "text/html": [
       "<div>\n",
       "<style scoped>\n",
       "    .dataframe tbody tr th:only-of-type {\n",
       "        vertical-align: middle;\n",
       "    }\n",
       "\n",
       "    .dataframe tbody tr th {\n",
       "        vertical-align: top;\n",
       "    }\n",
       "\n",
       "    .dataframe thead th {\n",
       "        text-align: right;\n",
       "    }\n",
       "</style>\n",
       "<table border=\"1\" class=\"dataframe\">\n",
       "  <thead>\n",
       "    <tr style=\"text-align: right;\">\n",
       "      <th></th>\n",
       "      <th>Segment Description 2</th>\n",
       "      <th>Dollars</th>\n",
       "    </tr>\n",
       "    <tr>\n",
       "      <th>Parent Customer</th>\n",
       "      <th></th>\n",
       "      <th></th>\n",
       "    </tr>\n",
       "  </thead>\n",
       "  <tbody>\n",
       "    <tr>\n",
       "      <th>Vistar</th>\n",
       "      <td>VENDING</td>\n",
       "      <td>4.351449e+06</td>\n",
       "    </tr>\n",
       "    <tr>\n",
       "      <th>Vistar Retail</th>\n",
       "      <td>ALTERNATE RETAIL</td>\n",
       "      <td>1.941548e+06</td>\n",
       "    </tr>\n",
       "    <tr>\n",
       "      <th>Tropical</th>\n",
       "      <td>ALTERNATE RETAIL</td>\n",
       "      <td>1.256787e+06</td>\n",
       "    </tr>\n",
       "    <tr>\n",
       "      <th>J. POLEP</th>\n",
       "      <td>CONVENIENCE STORE</td>\n",
       "      <td>3.475965e+05</td>\n",
       "    </tr>\n",
       "    <tr>\n",
       "      <th>KELLI'S GIFT SHOP SUPPLIE</th>\n",
       "      <td>ALTERNATE RETAIL</td>\n",
       "      <td>3.039850e+05</td>\n",
       "    </tr>\n",
       "    <tr>\n",
       "      <th>...</th>\n",
       "      <td>...</td>\n",
       "      <td>...</td>\n",
       "    </tr>\n",
       "    <tr>\n",
       "      <th>C.M. TANNER GROCERY CO.</th>\n",
       "      <td>BROADLINE DISTRIBUTOR</td>\n",
       "      <td>2.154000e+01</td>\n",
       "    </tr>\n",
       "    <tr>\n",
       "      <th>TYLER C-STORE WHOLESALE</th>\n",
       "      <td>CONVENIENCE STORE</td>\n",
       "      <td>0.000000e+00</td>\n",
       "    </tr>\n",
       "    <tr>\n",
       "      <th>F. MCCONNELL &amp; SONS, INC.</th>\n",
       "      <td>ONLINE DISTRIBUTORS</td>\n",
       "      <td>0.000000e+00</td>\n",
       "    </tr>\n",
       "    <tr>\n",
       "      <th>STANLEY MARVEL CO.</th>\n",
       "      <td>BROADLINE DISTRIBUTOR</td>\n",
       "      <td>0.000000e+00</td>\n",
       "    </tr>\n",
       "    <tr>\n",
       "      <th>MARQUE'S FOOD DIST. INC.</th>\n",
       "      <td>BROADLINE DISTRIBUTOR</td>\n",
       "      <td>0.000000e+00</td>\n",
       "    </tr>\n",
       "  </tbody>\n",
       "</table>\n",
       "<p>82 rows × 2 columns</p>\n",
       "</div>"
      ],
      "text/plain": [
       "                           Segment Description 2       Dollars\n",
       "Parent Customer                                               \n",
       "Vistar                                   VENDING  4.351449e+06\n",
       "Vistar Retail                   ALTERNATE RETAIL  1.941548e+06\n",
       "Tropical                        ALTERNATE RETAIL  1.256787e+06\n",
       "J. POLEP                       CONVENIENCE STORE  3.475965e+05\n",
       "KELLI'S GIFT SHOP SUPPLIE       ALTERNATE RETAIL  3.039850e+05\n",
       "...                                          ...           ...\n",
       "C.M. TANNER GROCERY CO.    BROADLINE DISTRIBUTOR  2.154000e+01\n",
       "TYLER C-STORE WHOLESALE        CONVENIENCE STORE  0.000000e+00\n",
       "F. MCCONNELL & SONS, INC.    ONLINE DISTRIBUTORS  0.000000e+00\n",
       "STANLEY MARVEL CO.         BROADLINE DISTRIBUTOR  0.000000e+00\n",
       "MARQUE'S FOOD DIST. INC.   BROADLINE DISTRIBUTOR  0.000000e+00\n",
       "\n",
       "[82 rows x 2 columns]"
      ]
     },
     "execution_count": 30,
     "metadata": {},
     "output_type": "execute_result"
    }
   ],
   "source": [
    "df_selection.groupby(['Parent Customer','Segment Description 2'],as_index=False)['Dollars'].sum().set_index('Parent Customer').sort_values(by='Dollars',ascending=False)"
   ]
  },
  {
   "cell_type": "code",
   "execution_count": 37,
   "id": "5e314be3",
   "metadata": {},
   "outputs": [],
   "source": [
    "parent_sales = df_selection.groupby(['Parent Customer','Segment Description 2'],as_index=False)['Dollars'].sum().set_index('Parent Customer').sort_values(by='Dollars',ascending=False)\n",
    "fig_parent_sales = px.bar(\n",
    "    parent_sales,\n",
    "#     x=parent_sales.index,\n",
    "    y='Dollars',\n",
    "    color='Segment Description 2',\n",
    "    title='<b>Sales by Parent</b>',\n",
    "    template = 'plotly_white',\n",
    "    labels={'Parent Customer':'',\n",
    "            'Dollars':'<b>$USD</b>'}\n",
    ")"
   ]
  },
  {
   "cell_type": "code",
   "execution_count": 40,
   "id": "686fb654",
   "metadata": {},
   "outputs": [
    {
     "data": {
      "application/vnd.plotly.v1+json": {
       "config": {
        "plotlyServerURL": "https://plot.ly"
       },
       "data": [
        {
         "alignmentgroup": "True",
         "hovertemplate": "Segment Description 2=VENDING<br>=%{x}<br><b>$USD</b>=%{y}<extra></extra>",
         "legendgroup": "VENDING",
         "marker": {
          "color": "#636efa",
          "pattern": {
           "shape": ""
          }
         },
         "name": "VENDING",
         "offsetgroup": "VENDING",
         "orientation": "v",
         "showlegend": true,
         "textposition": "auto",
         "type": "bar",
         "x": [
          "Vistar",
          "SARNOW FOOD GROUP, INC.",
          "PROFORMANCE VEND USA",
          "TOTAL FOODS, INC.",
          "VENDOR'S SUPPLY"
         ],
         "xaxis": "x",
         "y": [
          4351448.7658,
          78880.92,
          23217,
          5640,
          235.44
         ],
         "yaxis": "y"
        },
        {
         "alignmentgroup": "True",
         "hovertemplate": "Segment Description 2=ALTERNATE RETAIL<br>=%{x}<br><b>$USD</b>=%{y}<extra></extra>",
         "legendgroup": "ALTERNATE RETAIL",
         "marker": {
          "color": "#EF553B",
          "pattern": {
           "shape": ""
          }
         },
         "name": "ALTERNATE RETAIL",
         "offsetgroup": "ALTERNATE RETAIL",
         "orientation": "v",
         "showlegend": true,
         "textposition": "auto",
         "type": "bar",
         "x": [
          "Vistar Retail",
          "Tropical",
          "KELLI'S GIFT SHOP SUPPLIE",
          "GH WHOLESALE",
          "Walkenhorsts",
          "BLUE MARKET INC"
         ],
         "xaxis": "x",
         "y": [
          1941548.3,
          1256786.82,
          303984.96,
          2709.08,
          2474.42,
          50.52
         ],
         "yaxis": "y"
        },
        {
         "alignmentgroup": "True",
         "hovertemplate": "Segment Description 2=CONVENIENCE STORE<br>=%{x}<br><b>$USD</b>=%{y}<extra></extra>",
         "legendgroup": "CONVENIENCE STORE",
         "marker": {
          "color": "#00cc96",
          "pattern": {
           "shape": ""
          }
         },
         "name": "CONVENIENCE STORE",
         "offsetgroup": "CONVENIENCE STORE",
         "orientation": "v",
         "showlegend": true,
         "textposition": "auto",
         "type": "bar",
         "x": [
          "J. POLEP",
          "Core-Mark",
          "HAROLD LEVINSON & ASSOC",
          "FARNER BOCKEN MIDCONTINEN",
          "TRIBECA NIK INC",
          "F. MCCONNELL & SONS, INC.",
          "Amcon",
          "TREPCO D.B.A KENNEDY WHOL",
          "CENTURY DISTRIBUTORS",
          "SAINT JOE DISTRIBUTING",
          "Eby-Brown",
          "SIMPLY DELIVERED",
          "MODERN DISTRIBUTORS, INC.",
          "REDSTONE FOODS INC",
          "DOUGLAS CO./CONWAY",
          "H.T. HACKNEY/GAHANNA",
          "M R WILLIAMS",
          "STEPHENSON WHSLE CO., INC",
          "R.C. TAYLOR",
          "TOPICZ",
          "GROCERY SUPPLY/SULPHUR SP",
          "TEXAS WHOLESALE- DALLAS",
          "J. MILLS",
          "CHAMBERS AND OWEN",
          "C.D. HARTNETT/WEATHERFORD",
          "UNITED CUSTOM DIST-KALAMA",
          "GLIDEWELL DISTRIBUTING CO",
          "HIBBERT & MCGEE",
          "ABL WHOLESALE",
          "JOHN F. TROMPETER",
          "SANDSTROMS",
          "LONG WHOLESALE/CORINTH",
          "BLOOM WHOLESALE",
          "CAPITOL DISTRIBUTING",
          "S&O WHOLESALE CO",
          "SHEEHAN MAJESTIC",
          "SOUTH SHORE DISTRIBUTION",
          "RESNICK DISTRIBUTORS",
          "TYLER C-STORE WHOLESALE"
         ],
         "xaxis": "x",
         "y": [
          347596.46,
          254375.30000000002,
          210365.62,
          182592.32,
          85239.64,
          68639.04000000001,
          61007.54,
          20762.9,
          17633.70379831933,
          11999.32,
          11971.82,
          11844,
          10952.72,
          10665.31,
          10177.2,
          9837.980000000001,
          7401.26,
          5858.08,
          5184.280000000001,
          4763.02,
          4193.1,
          4050.26,
          3858,
          3805.2,
          3402.6000000000004,
          3167.16,
          2335.8,
          2290.78,
          2046.72,
          2031.7800000000002,
          1269,
          1255.68,
          1218,
          313.92,
          282,
          235.44,
          171.08,
          78.48,
          0
         ],
         "yaxis": "y"
        },
        {
         "alignmentgroup": "True",
         "hovertemplate": "Segment Description 2=BROADLINE DISTRIBUTOR<br>=%{x}<br><b>$USD</b>=%{y}<extra></extra>",
         "legendgroup": "BROADLINE DISTRIBUTOR",
         "marker": {
          "color": "#ab63fa",
          "pattern": {
           "shape": ""
          }
         },
         "name": "BROADLINE DISTRIBUTOR",
         "offsetgroup": "BROADLINE DISTRIBUTOR",
         "orientation": "v",
         "showlegend": true,
         "textposition": "auto",
         "type": "bar",
         "x": [
          "US Foods",
          "Sysco",
          "Gordon",
          "PENN STATE UNIVERSITY",
          "MARTIN BROTHERS/VIRTUAL S",
          "PALO ALTO EGG",
          "COSGROVE DISTRIBUTORS,INC",
          "JORDANO'S",
          "ALL FRESH PRODUCTS",
          "CASH-WA DISTR. OF FARGO",
          "SCHIFFS FOOD SERVICE",
          "D&M FOOD SERVICE",
          "C.M. TANNER GROCERY CO.",
          "STANLEY MARVEL CO.",
          "MARQUE'S FOOD DIST. INC."
         ],
         "xaxis": "x",
         "y": [
          108114.77,
          38741.880000000005,
          9307.6,
          6957.92,
          1507.41,
          1410,
          956.4000000000001,
          260.44,
          171.08,
          78.48,
          78.48,
          35.9,
          21.54,
          0,
          0
         ],
         "yaxis": "y"
        },
        {
         "alignmentgroup": "True",
         "hovertemplate": "Segment Description 2=ONLINE DISTRIBUTORS<br>=%{x}<br><b>$USD</b>=%{y}<extra></extra>",
         "legendgroup": "ONLINE DISTRIBUTORS",
         "marker": {
          "color": "#FFA15A",
          "pattern": {
           "shape": ""
          }
         },
         "name": "ONLINE DISTRIBUTORS",
         "offsetgroup": "ONLINE DISTRIBUTORS",
         "orientation": "v",
         "showlegend": true,
         "textposition": "auto",
         "type": "bar",
         "x": [
          "Green Rabbit",
          "FOOD SERVICE DIRECT",
          "E-Tailer",
          "ZORO",
          "REBEL SMUGGLING FED EX",
          "SPICY PRODUCTS LLC",
          "PALATIZE",
          "E-TAILER DROP SHIP",
          "FIND IMPORTS",
          "STOCK CLOSET",
          "F. MCCONNELL & SONS, INC."
         ],
         "xaxis": "x",
         "y": [
          20193.5255,
          12725.94,
          10333.25,
          1230.28,
          779.04,
          423,
          141,
          85.54,
          79.39,
          78.48,
          0
         ],
         "yaxis": "y"
        },
        {
         "alignmentgroup": "True",
         "hovertemplate": "Segment Description 2=GROCERY<br>=%{x}<br><b>$USD</b>=%{y}<extra></extra>",
         "legendgroup": "GROCERY",
         "marker": {
          "color": "#19d3f3",
          "pattern": {
           "shape": ""
          }
         },
         "name": "GROCERY",
         "offsetgroup": "GROCERY",
         "orientation": "v",
         "showlegend": true,
         "textposition": "auto",
         "type": "bar",
         "x": [
          "CERTCO FOODS/DANIELS"
         ],
         "xaxis": "x",
         "y": [
          16129.460000000001
         ],
         "yaxis": "y"
        },
        {
         "alignmentgroup": "True",
         "hovertemplate": "Segment Description 2=FOOD PROCESSORS<br>=%{x}<br><b>$USD</b>=%{y}<extra></extra>",
         "legendgroup": "FOOD PROCESSORS",
         "marker": {
          "color": "#FF6692",
          "pattern": {
           "shape": ""
          }
         },
         "name": "FOOD PROCESSORS",
         "offsetgroup": "FOOD PROCESSORS",
         "orientation": "v",
         "showlegend": true,
         "textposition": "auto",
         "type": "bar",
         "x": [
          "ALBANESE CONFECTIONERY",
          "Tropical"
         ],
         "xaxis": "x",
         "y": [
          9261.6,
          4965.08
         ],
         "yaxis": "y"
        },
        {
         "alignmentgroup": "True",
         "hovertemplate": "Segment Description 2=JAN/SAN/PAPER<br>=%{x}<br><b>$USD</b>=%{y}<extra></extra>",
         "legendgroup": "JAN/SAN/PAPER",
         "marker": {
          "color": "#B6E880",
          "pattern": {
           "shape": ""
          }
         },
         "name": "JAN/SAN/PAPER",
         "offsetgroup": "JAN/SAN/PAPER",
         "orientation": "v",
         "showlegend": true,
         "textposition": "auto",
         "type": "bar",
         "x": [
          "COAST BROTHERS",
          "W.B. Mason"
         ],
         "xaxis": "x",
         "y": [
          602.98,
          282
         ],
         "yaxis": "y"
        },
        {
         "alignmentgroup": "True",
         "hovertemplate": "Segment Description 2=E&S DEALERS<br>=%{x}<br><b>$USD</b>=%{y}<extra></extra>",
         "legendgroup": "E&S DEALERS",
         "marker": {
          "color": "#FF97FF",
          "pattern": {
           "shape": ""
          }
         },
         "name": "E&S DEALERS",
         "offsetgroup": "E&S DEALERS",
         "orientation": "v",
         "showlegend": true,
         "textposition": "auto",
         "type": "bar",
         "x": [
          "HOTEL SUPPLY WAREHOUSE, I"
         ],
         "xaxis": "x",
         "y": [
          85.54
         ],
         "yaxis": "y"
        }
       ],
       "layout": {
        "barmode": "relative",
        "legend": {
         "title": {
          "text": "Segment Description 2"
         },
         "tracegroupgap": 0
        },
        "showlegend": false,
        "template": {
         "data": {
          "bar": [
           {
            "error_x": {
             "color": "#2a3f5f"
            },
            "error_y": {
             "color": "#2a3f5f"
            },
            "marker": {
             "line": {
              "color": "white",
              "width": 0.5
             },
             "pattern": {
              "fillmode": "overlay",
              "size": 10,
              "solidity": 0.2
             }
            },
            "type": "bar"
           }
          ],
          "barpolar": [
           {
            "marker": {
             "line": {
              "color": "white",
              "width": 0.5
             },
             "pattern": {
              "fillmode": "overlay",
              "size": 10,
              "solidity": 0.2
             }
            },
            "type": "barpolar"
           }
          ],
          "carpet": [
           {
            "aaxis": {
             "endlinecolor": "#2a3f5f",
             "gridcolor": "#C8D4E3",
             "linecolor": "#C8D4E3",
             "minorgridcolor": "#C8D4E3",
             "startlinecolor": "#2a3f5f"
            },
            "baxis": {
             "endlinecolor": "#2a3f5f",
             "gridcolor": "#C8D4E3",
             "linecolor": "#C8D4E3",
             "minorgridcolor": "#C8D4E3",
             "startlinecolor": "#2a3f5f"
            },
            "type": "carpet"
           }
          ],
          "choropleth": [
           {
            "colorbar": {
             "outlinewidth": 0,
             "ticks": ""
            },
            "type": "choropleth"
           }
          ],
          "contour": [
           {
            "colorbar": {
             "outlinewidth": 0,
             "ticks": ""
            },
            "colorscale": [
             [
              0,
              "#0d0887"
             ],
             [
              0.1111111111111111,
              "#46039f"
             ],
             [
              0.2222222222222222,
              "#7201a8"
             ],
             [
              0.3333333333333333,
              "#9c179e"
             ],
             [
              0.4444444444444444,
              "#bd3786"
             ],
             [
              0.5555555555555556,
              "#d8576b"
             ],
             [
              0.6666666666666666,
              "#ed7953"
             ],
             [
              0.7777777777777778,
              "#fb9f3a"
             ],
             [
              0.8888888888888888,
              "#fdca26"
             ],
             [
              1,
              "#f0f921"
             ]
            ],
            "type": "contour"
           }
          ],
          "contourcarpet": [
           {
            "colorbar": {
             "outlinewidth": 0,
             "ticks": ""
            },
            "type": "contourcarpet"
           }
          ],
          "heatmap": [
           {
            "colorbar": {
             "outlinewidth": 0,
             "ticks": ""
            },
            "colorscale": [
             [
              0,
              "#0d0887"
             ],
             [
              0.1111111111111111,
              "#46039f"
             ],
             [
              0.2222222222222222,
              "#7201a8"
             ],
             [
              0.3333333333333333,
              "#9c179e"
             ],
             [
              0.4444444444444444,
              "#bd3786"
             ],
             [
              0.5555555555555556,
              "#d8576b"
             ],
             [
              0.6666666666666666,
              "#ed7953"
             ],
             [
              0.7777777777777778,
              "#fb9f3a"
             ],
             [
              0.8888888888888888,
              "#fdca26"
             ],
             [
              1,
              "#f0f921"
             ]
            ],
            "type": "heatmap"
           }
          ],
          "heatmapgl": [
           {
            "colorbar": {
             "outlinewidth": 0,
             "ticks": ""
            },
            "colorscale": [
             [
              0,
              "#0d0887"
             ],
             [
              0.1111111111111111,
              "#46039f"
             ],
             [
              0.2222222222222222,
              "#7201a8"
             ],
             [
              0.3333333333333333,
              "#9c179e"
             ],
             [
              0.4444444444444444,
              "#bd3786"
             ],
             [
              0.5555555555555556,
              "#d8576b"
             ],
             [
              0.6666666666666666,
              "#ed7953"
             ],
             [
              0.7777777777777778,
              "#fb9f3a"
             ],
             [
              0.8888888888888888,
              "#fdca26"
             ],
             [
              1,
              "#f0f921"
             ]
            ],
            "type": "heatmapgl"
           }
          ],
          "histogram": [
           {
            "marker": {
             "pattern": {
              "fillmode": "overlay",
              "size": 10,
              "solidity": 0.2
             }
            },
            "type": "histogram"
           }
          ],
          "histogram2d": [
           {
            "colorbar": {
             "outlinewidth": 0,
             "ticks": ""
            },
            "colorscale": [
             [
              0,
              "#0d0887"
             ],
             [
              0.1111111111111111,
              "#46039f"
             ],
             [
              0.2222222222222222,
              "#7201a8"
             ],
             [
              0.3333333333333333,
              "#9c179e"
             ],
             [
              0.4444444444444444,
              "#bd3786"
             ],
             [
              0.5555555555555556,
              "#d8576b"
             ],
             [
              0.6666666666666666,
              "#ed7953"
             ],
             [
              0.7777777777777778,
              "#fb9f3a"
             ],
             [
              0.8888888888888888,
              "#fdca26"
             ],
             [
              1,
              "#f0f921"
             ]
            ],
            "type": "histogram2d"
           }
          ],
          "histogram2dcontour": [
           {
            "colorbar": {
             "outlinewidth": 0,
             "ticks": ""
            },
            "colorscale": [
             [
              0,
              "#0d0887"
             ],
             [
              0.1111111111111111,
              "#46039f"
             ],
             [
              0.2222222222222222,
              "#7201a8"
             ],
             [
              0.3333333333333333,
              "#9c179e"
             ],
             [
              0.4444444444444444,
              "#bd3786"
             ],
             [
              0.5555555555555556,
              "#d8576b"
             ],
             [
              0.6666666666666666,
              "#ed7953"
             ],
             [
              0.7777777777777778,
              "#fb9f3a"
             ],
             [
              0.8888888888888888,
              "#fdca26"
             ],
             [
              1,
              "#f0f921"
             ]
            ],
            "type": "histogram2dcontour"
           }
          ],
          "mesh3d": [
           {
            "colorbar": {
             "outlinewidth": 0,
             "ticks": ""
            },
            "type": "mesh3d"
           }
          ],
          "parcoords": [
           {
            "line": {
             "colorbar": {
              "outlinewidth": 0,
              "ticks": ""
             }
            },
            "type": "parcoords"
           }
          ],
          "pie": [
           {
            "automargin": true,
            "type": "pie"
           }
          ],
          "scatter": [
           {
            "fillpattern": {
             "fillmode": "overlay",
             "size": 10,
             "solidity": 0.2
            },
            "type": "scatter"
           }
          ],
          "scatter3d": [
           {
            "line": {
             "colorbar": {
              "outlinewidth": 0,
              "ticks": ""
             }
            },
            "marker": {
             "colorbar": {
              "outlinewidth": 0,
              "ticks": ""
             }
            },
            "type": "scatter3d"
           }
          ],
          "scattercarpet": [
           {
            "marker": {
             "colorbar": {
              "outlinewidth": 0,
              "ticks": ""
             }
            },
            "type": "scattercarpet"
           }
          ],
          "scattergeo": [
           {
            "marker": {
             "colorbar": {
              "outlinewidth": 0,
              "ticks": ""
             }
            },
            "type": "scattergeo"
           }
          ],
          "scattergl": [
           {
            "marker": {
             "colorbar": {
              "outlinewidth": 0,
              "ticks": ""
             }
            },
            "type": "scattergl"
           }
          ],
          "scattermapbox": [
           {
            "marker": {
             "colorbar": {
              "outlinewidth": 0,
              "ticks": ""
             }
            },
            "type": "scattermapbox"
           }
          ],
          "scatterpolar": [
           {
            "marker": {
             "colorbar": {
              "outlinewidth": 0,
              "ticks": ""
             }
            },
            "type": "scatterpolar"
           }
          ],
          "scatterpolargl": [
           {
            "marker": {
             "colorbar": {
              "outlinewidth": 0,
              "ticks": ""
             }
            },
            "type": "scatterpolargl"
           }
          ],
          "scatterternary": [
           {
            "marker": {
             "colorbar": {
              "outlinewidth": 0,
              "ticks": ""
             }
            },
            "type": "scatterternary"
           }
          ],
          "surface": [
           {
            "colorbar": {
             "outlinewidth": 0,
             "ticks": ""
            },
            "colorscale": [
             [
              0,
              "#0d0887"
             ],
             [
              0.1111111111111111,
              "#46039f"
             ],
             [
              0.2222222222222222,
              "#7201a8"
             ],
             [
              0.3333333333333333,
              "#9c179e"
             ],
             [
              0.4444444444444444,
              "#bd3786"
             ],
             [
              0.5555555555555556,
              "#d8576b"
             ],
             [
              0.6666666666666666,
              "#ed7953"
             ],
             [
              0.7777777777777778,
              "#fb9f3a"
             ],
             [
              0.8888888888888888,
              "#fdca26"
             ],
             [
              1,
              "#f0f921"
             ]
            ],
            "type": "surface"
           }
          ],
          "table": [
           {
            "cells": {
             "fill": {
              "color": "#EBF0F8"
             },
             "line": {
              "color": "white"
             }
            },
            "header": {
             "fill": {
              "color": "#C8D4E3"
             },
             "line": {
              "color": "white"
             }
            },
            "type": "table"
           }
          ]
         },
         "layout": {
          "annotationdefaults": {
           "arrowcolor": "#2a3f5f",
           "arrowhead": 0,
           "arrowwidth": 1
          },
          "autotypenumbers": "strict",
          "coloraxis": {
           "colorbar": {
            "outlinewidth": 0,
            "ticks": ""
           }
          },
          "colorscale": {
           "diverging": [
            [
             0,
             "#8e0152"
            ],
            [
             0.1,
             "#c51b7d"
            ],
            [
             0.2,
             "#de77ae"
            ],
            [
             0.3,
             "#f1b6da"
            ],
            [
             0.4,
             "#fde0ef"
            ],
            [
             0.5,
             "#f7f7f7"
            ],
            [
             0.6,
             "#e6f5d0"
            ],
            [
             0.7,
             "#b8e186"
            ],
            [
             0.8,
             "#7fbc41"
            ],
            [
             0.9,
             "#4d9221"
            ],
            [
             1,
             "#276419"
            ]
           ],
           "sequential": [
            [
             0,
             "#0d0887"
            ],
            [
             0.1111111111111111,
             "#46039f"
            ],
            [
             0.2222222222222222,
             "#7201a8"
            ],
            [
             0.3333333333333333,
             "#9c179e"
            ],
            [
             0.4444444444444444,
             "#bd3786"
            ],
            [
             0.5555555555555556,
             "#d8576b"
            ],
            [
             0.6666666666666666,
             "#ed7953"
            ],
            [
             0.7777777777777778,
             "#fb9f3a"
            ],
            [
             0.8888888888888888,
             "#fdca26"
            ],
            [
             1,
             "#f0f921"
            ]
           ],
           "sequentialminus": [
            [
             0,
             "#0d0887"
            ],
            [
             0.1111111111111111,
             "#46039f"
            ],
            [
             0.2222222222222222,
             "#7201a8"
            ],
            [
             0.3333333333333333,
             "#9c179e"
            ],
            [
             0.4444444444444444,
             "#bd3786"
            ],
            [
             0.5555555555555556,
             "#d8576b"
            ],
            [
             0.6666666666666666,
             "#ed7953"
            ],
            [
             0.7777777777777778,
             "#fb9f3a"
            ],
            [
             0.8888888888888888,
             "#fdca26"
            ],
            [
             1,
             "#f0f921"
            ]
           ]
          },
          "colorway": [
           "#636efa",
           "#EF553B",
           "#00cc96",
           "#ab63fa",
           "#FFA15A",
           "#19d3f3",
           "#FF6692",
           "#B6E880",
           "#FF97FF",
           "#FECB52"
          ],
          "font": {
           "color": "#2a3f5f"
          },
          "geo": {
           "bgcolor": "white",
           "lakecolor": "white",
           "landcolor": "white",
           "showlakes": true,
           "showland": true,
           "subunitcolor": "#C8D4E3"
          },
          "hoverlabel": {
           "align": "left"
          },
          "hovermode": "closest",
          "mapbox": {
           "style": "light"
          },
          "paper_bgcolor": "white",
          "plot_bgcolor": "white",
          "polar": {
           "angularaxis": {
            "gridcolor": "#EBF0F8",
            "linecolor": "#EBF0F8",
            "ticks": ""
           },
           "bgcolor": "white",
           "radialaxis": {
            "gridcolor": "#EBF0F8",
            "linecolor": "#EBF0F8",
            "ticks": ""
           }
          },
          "scene": {
           "xaxis": {
            "backgroundcolor": "white",
            "gridcolor": "#DFE8F3",
            "gridwidth": 2,
            "linecolor": "#EBF0F8",
            "showbackground": true,
            "ticks": "",
            "zerolinecolor": "#EBF0F8"
           },
           "yaxis": {
            "backgroundcolor": "white",
            "gridcolor": "#DFE8F3",
            "gridwidth": 2,
            "linecolor": "#EBF0F8",
            "showbackground": true,
            "ticks": "",
            "zerolinecolor": "#EBF0F8"
           },
           "zaxis": {
            "backgroundcolor": "white",
            "gridcolor": "#DFE8F3",
            "gridwidth": 2,
            "linecolor": "#EBF0F8",
            "showbackground": true,
            "ticks": "",
            "zerolinecolor": "#EBF0F8"
           }
          },
          "shapedefaults": {
           "line": {
            "color": "#2a3f5f"
           }
          },
          "ternary": {
           "aaxis": {
            "gridcolor": "#DFE8F3",
            "linecolor": "#A2B1C6",
            "ticks": ""
           },
           "baxis": {
            "gridcolor": "#DFE8F3",
            "linecolor": "#A2B1C6",
            "ticks": ""
           },
           "bgcolor": "white",
           "caxis": {
            "gridcolor": "#DFE8F3",
            "linecolor": "#A2B1C6",
            "ticks": ""
           }
          },
          "title": {
           "x": 0.05
          },
          "xaxis": {
           "automargin": true,
           "gridcolor": "#EBF0F8",
           "linecolor": "#EBF0F8",
           "ticks": "",
           "title": {
            "standoff": 15
           },
           "zerolinecolor": "#EBF0F8",
           "zerolinewidth": 2
          },
          "yaxis": {
           "automargin": true,
           "gridcolor": "#EBF0F8",
           "linecolor": "#EBF0F8",
           "ticks": "",
           "title": {
            "standoff": 15
           },
           "zerolinecolor": "#EBF0F8",
           "zerolinewidth": 2
          }
         }
        },
        "title": {
         "text": "<b>Sales by Parent</b>"
        },
        "xaxis": {
         "anchor": "y",
         "domain": [
          0,
          1
         ],
         "title": {
          "text": ""
         }
        },
        "yaxis": {
         "anchor": "x",
         "domain": [
          0,
          1
         ],
         "title": {
          "text": "<b>$USD</b>"
         }
        }
       }
      },
      "text/html": [
       "<div>                            <div id=\"8443c420-89b0-48a4-bf35-123980a99114\" class=\"plotly-graph-div\" style=\"height:525px; width:100%;\"></div>            <script type=\"text/javascript\">                require([\"plotly\"], function(Plotly) {                    window.PLOTLYENV=window.PLOTLYENV || {};                                    if (document.getElementById(\"8443c420-89b0-48a4-bf35-123980a99114\")) {                    Plotly.newPlot(                        \"8443c420-89b0-48a4-bf35-123980a99114\",                        [{\"alignmentgroup\":\"True\",\"hovertemplate\":\"Segment Description 2=VENDING<br>=%{x}<br><b>$USD</b>=%{y}<extra></extra>\",\"legendgroup\":\"VENDING\",\"marker\":{\"color\":\"#636efa\",\"pattern\":{\"shape\":\"\"}},\"name\":\"VENDING\",\"offsetgroup\":\"VENDING\",\"orientation\":\"v\",\"showlegend\":true,\"textposition\":\"auto\",\"x\":[\"Vistar\",\"SARNOW FOOD GROUP, INC.\",\"PROFORMANCE VEND USA\",\"TOTAL FOODS, INC.\",\"VENDOR'S SUPPLY\"],\"xaxis\":\"x\",\"y\":[4351448.7658,78880.92,23217.0,5640.0,235.44],\"yaxis\":\"y\",\"type\":\"bar\"},{\"alignmentgroup\":\"True\",\"hovertemplate\":\"Segment Description 2=ALTERNATE RETAIL<br>=%{x}<br><b>$USD</b>=%{y}<extra></extra>\",\"legendgroup\":\"ALTERNATE RETAIL\",\"marker\":{\"color\":\"#EF553B\",\"pattern\":{\"shape\":\"\"}},\"name\":\"ALTERNATE RETAIL\",\"offsetgroup\":\"ALTERNATE RETAIL\",\"orientation\":\"v\",\"showlegend\":true,\"textposition\":\"auto\",\"x\":[\"Vistar Retail\",\"Tropical\",\"KELLI'S GIFT SHOP SUPPLIE\",\"GH WHOLESALE\",\"Walkenhorsts\",\"BLUE MARKET INC\"],\"xaxis\":\"x\",\"y\":[1941548.3,1256786.82,303984.96,2709.08,2474.42,50.52],\"yaxis\":\"y\",\"type\":\"bar\"},{\"alignmentgroup\":\"True\",\"hovertemplate\":\"Segment Description 2=CONVENIENCE STORE<br>=%{x}<br><b>$USD</b>=%{y}<extra></extra>\",\"legendgroup\":\"CONVENIENCE STORE\",\"marker\":{\"color\":\"#00cc96\",\"pattern\":{\"shape\":\"\"}},\"name\":\"CONVENIENCE STORE\",\"offsetgroup\":\"CONVENIENCE STORE\",\"orientation\":\"v\",\"showlegend\":true,\"textposition\":\"auto\",\"x\":[\"J. POLEP\",\"Core-Mark\",\"HAROLD LEVINSON & ASSOC\",\"FARNER BOCKEN MIDCONTINEN\",\"TRIBECA NIK INC\",\"F. MCCONNELL & SONS, INC.\",\"Amcon\",\"TREPCO D.B.A KENNEDY WHOL\",\"CENTURY DISTRIBUTORS\",\"SAINT JOE DISTRIBUTING\",\"Eby-Brown\",\"SIMPLY DELIVERED\",\"MODERN DISTRIBUTORS, INC.\",\"REDSTONE FOODS INC\",\"DOUGLAS CO./CONWAY\",\"H.T. HACKNEY/GAHANNA\",\"M R WILLIAMS\",\"STEPHENSON WHSLE CO., INC\",\"R.C. TAYLOR\",\"TOPICZ\",\"GROCERY SUPPLY/SULPHUR SP\",\"TEXAS WHOLESALE- DALLAS\",\"J. MILLS\",\"CHAMBERS AND OWEN\",\"C.D. HARTNETT/WEATHERFORD\",\"UNITED CUSTOM DIST-KALAMA\",\"GLIDEWELL DISTRIBUTING CO\",\"HIBBERT & MCGEE\",\"ABL WHOLESALE\",\"JOHN F. TROMPETER\",\"SANDSTROMS\",\"LONG WHOLESALE/CORINTH\",\"BLOOM WHOLESALE\",\"CAPITOL DISTRIBUTING\",\"S&O WHOLESALE CO\",\"SHEEHAN MAJESTIC\",\"SOUTH SHORE DISTRIBUTION\",\"RESNICK DISTRIBUTORS\",\"TYLER C-STORE WHOLESALE\"],\"xaxis\":\"x\",\"y\":[347596.46,254375.30000000002,210365.62,182592.32,85239.64,68639.04000000001,61007.54,20762.9,17633.70379831933,11999.32,11971.82,11844.0,10952.72,10665.31,10177.2,9837.980000000001,7401.26,5858.08,5184.280000000001,4763.02,4193.1,4050.26,3858.0,3805.2,3402.6000000000004,3167.16,2335.8,2290.78,2046.72,2031.7800000000002,1269.0,1255.68,1218.0,313.92,282.0,235.44,171.08,78.48,0.0],\"yaxis\":\"y\",\"type\":\"bar\"},{\"alignmentgroup\":\"True\",\"hovertemplate\":\"Segment Description 2=BROADLINE DISTRIBUTOR<br>=%{x}<br><b>$USD</b>=%{y}<extra></extra>\",\"legendgroup\":\"BROADLINE DISTRIBUTOR\",\"marker\":{\"color\":\"#ab63fa\",\"pattern\":{\"shape\":\"\"}},\"name\":\"BROADLINE DISTRIBUTOR\",\"offsetgroup\":\"BROADLINE DISTRIBUTOR\",\"orientation\":\"v\",\"showlegend\":true,\"textposition\":\"auto\",\"x\":[\"US Foods\",\"Sysco\",\"Gordon\",\"PENN STATE UNIVERSITY\",\"MARTIN BROTHERS/VIRTUAL S\",\"PALO ALTO EGG\",\"COSGROVE DISTRIBUTORS,INC\",\"JORDANO'S\",\"ALL FRESH PRODUCTS\",\"CASH-WA DISTR. OF FARGO\",\"SCHIFFS FOOD SERVICE\",\"D&M FOOD SERVICE\",\"C.M. TANNER GROCERY CO.\",\"STANLEY MARVEL CO.\",\"MARQUE'S FOOD DIST. INC.\"],\"xaxis\":\"x\",\"y\":[108114.77,38741.880000000005,9307.6,6957.92,1507.41,1410.0,956.4000000000001,260.44,171.08,78.48,78.48,35.9,21.54,0.0,0.0],\"yaxis\":\"y\",\"type\":\"bar\"},{\"alignmentgroup\":\"True\",\"hovertemplate\":\"Segment Description 2=ONLINE DISTRIBUTORS<br>=%{x}<br><b>$USD</b>=%{y}<extra></extra>\",\"legendgroup\":\"ONLINE DISTRIBUTORS\",\"marker\":{\"color\":\"#FFA15A\",\"pattern\":{\"shape\":\"\"}},\"name\":\"ONLINE DISTRIBUTORS\",\"offsetgroup\":\"ONLINE DISTRIBUTORS\",\"orientation\":\"v\",\"showlegend\":true,\"textposition\":\"auto\",\"x\":[\"Green Rabbit\",\"FOOD SERVICE DIRECT\",\"E-Tailer\",\"ZORO\",\"REBEL SMUGGLING FED EX\",\"SPICY PRODUCTS LLC\",\"PALATIZE\",\"E-TAILER DROP SHIP\",\"FIND IMPORTS\",\"STOCK CLOSET\",\"F. MCCONNELL & SONS, INC.\"],\"xaxis\":\"x\",\"y\":[20193.5255,12725.94,10333.25,1230.28,779.04,423.0,141.0,85.54,79.39,78.48,0.0],\"yaxis\":\"y\",\"type\":\"bar\"},{\"alignmentgroup\":\"True\",\"hovertemplate\":\"Segment Description 2=GROCERY<br>=%{x}<br><b>$USD</b>=%{y}<extra></extra>\",\"legendgroup\":\"GROCERY\",\"marker\":{\"color\":\"#19d3f3\",\"pattern\":{\"shape\":\"\"}},\"name\":\"GROCERY\",\"offsetgroup\":\"GROCERY\",\"orientation\":\"v\",\"showlegend\":true,\"textposition\":\"auto\",\"x\":[\"CERTCO FOODS/DANIELS\"],\"xaxis\":\"x\",\"y\":[16129.460000000001],\"yaxis\":\"y\",\"type\":\"bar\"},{\"alignmentgroup\":\"True\",\"hovertemplate\":\"Segment Description 2=FOOD PROCESSORS<br>=%{x}<br><b>$USD</b>=%{y}<extra></extra>\",\"legendgroup\":\"FOOD PROCESSORS\",\"marker\":{\"color\":\"#FF6692\",\"pattern\":{\"shape\":\"\"}},\"name\":\"FOOD PROCESSORS\",\"offsetgroup\":\"FOOD PROCESSORS\",\"orientation\":\"v\",\"showlegend\":true,\"textposition\":\"auto\",\"x\":[\"ALBANESE CONFECTIONERY\",\"Tropical\"],\"xaxis\":\"x\",\"y\":[9261.6,4965.08],\"yaxis\":\"y\",\"type\":\"bar\"},{\"alignmentgroup\":\"True\",\"hovertemplate\":\"Segment Description 2=JAN/SAN/PAPER<br>=%{x}<br><b>$USD</b>=%{y}<extra></extra>\",\"legendgroup\":\"JAN/SAN/PAPER\",\"marker\":{\"color\":\"#B6E880\",\"pattern\":{\"shape\":\"\"}},\"name\":\"JAN/SAN/PAPER\",\"offsetgroup\":\"JAN/SAN/PAPER\",\"orientation\":\"v\",\"showlegend\":true,\"textposition\":\"auto\",\"x\":[\"COAST BROTHERS\",\"W.B. Mason\"],\"xaxis\":\"x\",\"y\":[602.98,282.0],\"yaxis\":\"y\",\"type\":\"bar\"},{\"alignmentgroup\":\"True\",\"hovertemplate\":\"Segment Description 2=E&S DEALERS<br>=%{x}<br><b>$USD</b>=%{y}<extra></extra>\",\"legendgroup\":\"E&S DEALERS\",\"marker\":{\"color\":\"#FF97FF\",\"pattern\":{\"shape\":\"\"}},\"name\":\"E&S DEALERS\",\"offsetgroup\":\"E&S DEALERS\",\"orientation\":\"v\",\"showlegend\":true,\"textposition\":\"auto\",\"x\":[\"HOTEL SUPPLY WAREHOUSE, I\"],\"xaxis\":\"x\",\"y\":[85.54],\"yaxis\":\"y\",\"type\":\"bar\"}],                        {\"template\":{\"data\":{\"barpolar\":[{\"marker\":{\"line\":{\"color\":\"white\",\"width\":0.5},\"pattern\":{\"fillmode\":\"overlay\",\"size\":10,\"solidity\":0.2}},\"type\":\"barpolar\"}],\"bar\":[{\"error_x\":{\"color\":\"#2a3f5f\"},\"error_y\":{\"color\":\"#2a3f5f\"},\"marker\":{\"line\":{\"color\":\"white\",\"width\":0.5},\"pattern\":{\"fillmode\":\"overlay\",\"size\":10,\"solidity\":0.2}},\"type\":\"bar\"}],\"carpet\":[{\"aaxis\":{\"endlinecolor\":\"#2a3f5f\",\"gridcolor\":\"#C8D4E3\",\"linecolor\":\"#C8D4E3\",\"minorgridcolor\":\"#C8D4E3\",\"startlinecolor\":\"#2a3f5f\"},\"baxis\":{\"endlinecolor\":\"#2a3f5f\",\"gridcolor\":\"#C8D4E3\",\"linecolor\":\"#C8D4E3\",\"minorgridcolor\":\"#C8D4E3\",\"startlinecolor\":\"#2a3f5f\"},\"type\":\"carpet\"}],\"choropleth\":[{\"colorbar\":{\"outlinewidth\":0,\"ticks\":\"\"},\"type\":\"choropleth\"}],\"contourcarpet\":[{\"colorbar\":{\"outlinewidth\":0,\"ticks\":\"\"},\"type\":\"contourcarpet\"}],\"contour\":[{\"colorbar\":{\"outlinewidth\":0,\"ticks\":\"\"},\"colorscale\":[[0.0,\"#0d0887\"],[0.1111111111111111,\"#46039f\"],[0.2222222222222222,\"#7201a8\"],[0.3333333333333333,\"#9c179e\"],[0.4444444444444444,\"#bd3786\"],[0.5555555555555556,\"#d8576b\"],[0.6666666666666666,\"#ed7953\"],[0.7777777777777778,\"#fb9f3a\"],[0.8888888888888888,\"#fdca26\"],[1.0,\"#f0f921\"]],\"type\":\"contour\"}],\"heatmapgl\":[{\"colorbar\":{\"outlinewidth\":0,\"ticks\":\"\"},\"colorscale\":[[0.0,\"#0d0887\"],[0.1111111111111111,\"#46039f\"],[0.2222222222222222,\"#7201a8\"],[0.3333333333333333,\"#9c179e\"],[0.4444444444444444,\"#bd3786\"],[0.5555555555555556,\"#d8576b\"],[0.6666666666666666,\"#ed7953\"],[0.7777777777777778,\"#fb9f3a\"],[0.8888888888888888,\"#fdca26\"],[1.0,\"#f0f921\"]],\"type\":\"heatmapgl\"}],\"heatmap\":[{\"colorbar\":{\"outlinewidth\":0,\"ticks\":\"\"},\"colorscale\":[[0.0,\"#0d0887\"],[0.1111111111111111,\"#46039f\"],[0.2222222222222222,\"#7201a8\"],[0.3333333333333333,\"#9c179e\"],[0.4444444444444444,\"#bd3786\"],[0.5555555555555556,\"#d8576b\"],[0.6666666666666666,\"#ed7953\"],[0.7777777777777778,\"#fb9f3a\"],[0.8888888888888888,\"#fdca26\"],[1.0,\"#f0f921\"]],\"type\":\"heatmap\"}],\"histogram2dcontour\":[{\"colorbar\":{\"outlinewidth\":0,\"ticks\":\"\"},\"colorscale\":[[0.0,\"#0d0887\"],[0.1111111111111111,\"#46039f\"],[0.2222222222222222,\"#7201a8\"],[0.3333333333333333,\"#9c179e\"],[0.4444444444444444,\"#bd3786\"],[0.5555555555555556,\"#d8576b\"],[0.6666666666666666,\"#ed7953\"],[0.7777777777777778,\"#fb9f3a\"],[0.8888888888888888,\"#fdca26\"],[1.0,\"#f0f921\"]],\"type\":\"histogram2dcontour\"}],\"histogram2d\":[{\"colorbar\":{\"outlinewidth\":0,\"ticks\":\"\"},\"colorscale\":[[0.0,\"#0d0887\"],[0.1111111111111111,\"#46039f\"],[0.2222222222222222,\"#7201a8\"],[0.3333333333333333,\"#9c179e\"],[0.4444444444444444,\"#bd3786\"],[0.5555555555555556,\"#d8576b\"],[0.6666666666666666,\"#ed7953\"],[0.7777777777777778,\"#fb9f3a\"],[0.8888888888888888,\"#fdca26\"],[1.0,\"#f0f921\"]],\"type\":\"histogram2d\"}],\"histogram\":[{\"marker\":{\"pattern\":{\"fillmode\":\"overlay\",\"size\":10,\"solidity\":0.2}},\"type\":\"histogram\"}],\"mesh3d\":[{\"colorbar\":{\"outlinewidth\":0,\"ticks\":\"\"},\"type\":\"mesh3d\"}],\"parcoords\":[{\"line\":{\"colorbar\":{\"outlinewidth\":0,\"ticks\":\"\"}},\"type\":\"parcoords\"}],\"pie\":[{\"automargin\":true,\"type\":\"pie\"}],\"scatter3d\":[{\"line\":{\"colorbar\":{\"outlinewidth\":0,\"ticks\":\"\"}},\"marker\":{\"colorbar\":{\"outlinewidth\":0,\"ticks\":\"\"}},\"type\":\"scatter3d\"}],\"scattercarpet\":[{\"marker\":{\"colorbar\":{\"outlinewidth\":0,\"ticks\":\"\"}},\"type\":\"scattercarpet\"}],\"scattergeo\":[{\"marker\":{\"colorbar\":{\"outlinewidth\":0,\"ticks\":\"\"}},\"type\":\"scattergeo\"}],\"scattergl\":[{\"marker\":{\"colorbar\":{\"outlinewidth\":0,\"ticks\":\"\"}},\"type\":\"scattergl\"}],\"scattermapbox\":[{\"marker\":{\"colorbar\":{\"outlinewidth\":0,\"ticks\":\"\"}},\"type\":\"scattermapbox\"}],\"scatterpolargl\":[{\"marker\":{\"colorbar\":{\"outlinewidth\":0,\"ticks\":\"\"}},\"type\":\"scatterpolargl\"}],\"scatterpolar\":[{\"marker\":{\"colorbar\":{\"outlinewidth\":0,\"ticks\":\"\"}},\"type\":\"scatterpolar\"}],\"scatter\":[{\"fillpattern\":{\"fillmode\":\"overlay\",\"size\":10,\"solidity\":0.2},\"type\":\"scatter\"}],\"scatterternary\":[{\"marker\":{\"colorbar\":{\"outlinewidth\":0,\"ticks\":\"\"}},\"type\":\"scatterternary\"}],\"surface\":[{\"colorbar\":{\"outlinewidth\":0,\"ticks\":\"\"},\"colorscale\":[[0.0,\"#0d0887\"],[0.1111111111111111,\"#46039f\"],[0.2222222222222222,\"#7201a8\"],[0.3333333333333333,\"#9c179e\"],[0.4444444444444444,\"#bd3786\"],[0.5555555555555556,\"#d8576b\"],[0.6666666666666666,\"#ed7953\"],[0.7777777777777778,\"#fb9f3a\"],[0.8888888888888888,\"#fdca26\"],[1.0,\"#f0f921\"]],\"type\":\"surface\"}],\"table\":[{\"cells\":{\"fill\":{\"color\":\"#EBF0F8\"},\"line\":{\"color\":\"white\"}},\"header\":{\"fill\":{\"color\":\"#C8D4E3\"},\"line\":{\"color\":\"white\"}},\"type\":\"table\"}]},\"layout\":{\"annotationdefaults\":{\"arrowcolor\":\"#2a3f5f\",\"arrowhead\":0,\"arrowwidth\":1},\"autotypenumbers\":\"strict\",\"coloraxis\":{\"colorbar\":{\"outlinewidth\":0,\"ticks\":\"\"}},\"colorscale\":{\"diverging\":[[0,\"#8e0152\"],[0.1,\"#c51b7d\"],[0.2,\"#de77ae\"],[0.3,\"#f1b6da\"],[0.4,\"#fde0ef\"],[0.5,\"#f7f7f7\"],[0.6,\"#e6f5d0\"],[0.7,\"#b8e186\"],[0.8,\"#7fbc41\"],[0.9,\"#4d9221\"],[1,\"#276419\"]],\"sequential\":[[0.0,\"#0d0887\"],[0.1111111111111111,\"#46039f\"],[0.2222222222222222,\"#7201a8\"],[0.3333333333333333,\"#9c179e\"],[0.4444444444444444,\"#bd3786\"],[0.5555555555555556,\"#d8576b\"],[0.6666666666666666,\"#ed7953\"],[0.7777777777777778,\"#fb9f3a\"],[0.8888888888888888,\"#fdca26\"],[1.0,\"#f0f921\"]],\"sequentialminus\":[[0.0,\"#0d0887\"],[0.1111111111111111,\"#46039f\"],[0.2222222222222222,\"#7201a8\"],[0.3333333333333333,\"#9c179e\"],[0.4444444444444444,\"#bd3786\"],[0.5555555555555556,\"#d8576b\"],[0.6666666666666666,\"#ed7953\"],[0.7777777777777778,\"#fb9f3a\"],[0.8888888888888888,\"#fdca26\"],[1.0,\"#f0f921\"]]},\"colorway\":[\"#636efa\",\"#EF553B\",\"#00cc96\",\"#ab63fa\",\"#FFA15A\",\"#19d3f3\",\"#FF6692\",\"#B6E880\",\"#FF97FF\",\"#FECB52\"],\"font\":{\"color\":\"#2a3f5f\"},\"geo\":{\"bgcolor\":\"white\",\"lakecolor\":\"white\",\"landcolor\":\"white\",\"showlakes\":true,\"showland\":true,\"subunitcolor\":\"#C8D4E3\"},\"hoverlabel\":{\"align\":\"left\"},\"hovermode\":\"closest\",\"mapbox\":{\"style\":\"light\"},\"paper_bgcolor\":\"white\",\"plot_bgcolor\":\"white\",\"polar\":{\"angularaxis\":{\"gridcolor\":\"#EBF0F8\",\"linecolor\":\"#EBF0F8\",\"ticks\":\"\"},\"bgcolor\":\"white\",\"radialaxis\":{\"gridcolor\":\"#EBF0F8\",\"linecolor\":\"#EBF0F8\",\"ticks\":\"\"}},\"scene\":{\"xaxis\":{\"backgroundcolor\":\"white\",\"gridcolor\":\"#DFE8F3\",\"gridwidth\":2,\"linecolor\":\"#EBF0F8\",\"showbackground\":true,\"ticks\":\"\",\"zerolinecolor\":\"#EBF0F8\"},\"yaxis\":{\"backgroundcolor\":\"white\",\"gridcolor\":\"#DFE8F3\",\"gridwidth\":2,\"linecolor\":\"#EBF0F8\",\"showbackground\":true,\"ticks\":\"\",\"zerolinecolor\":\"#EBF0F8\"},\"zaxis\":{\"backgroundcolor\":\"white\",\"gridcolor\":\"#DFE8F3\",\"gridwidth\":2,\"linecolor\":\"#EBF0F8\",\"showbackground\":true,\"ticks\":\"\",\"zerolinecolor\":\"#EBF0F8\"}},\"shapedefaults\":{\"line\":{\"color\":\"#2a3f5f\"}},\"ternary\":{\"aaxis\":{\"gridcolor\":\"#DFE8F3\",\"linecolor\":\"#A2B1C6\",\"ticks\":\"\"},\"baxis\":{\"gridcolor\":\"#DFE8F3\",\"linecolor\":\"#A2B1C6\",\"ticks\":\"\"},\"bgcolor\":\"white\",\"caxis\":{\"gridcolor\":\"#DFE8F3\",\"linecolor\":\"#A2B1C6\",\"ticks\":\"\"}},\"title\":{\"x\":0.05},\"xaxis\":{\"automargin\":true,\"gridcolor\":\"#EBF0F8\",\"linecolor\":\"#EBF0F8\",\"ticks\":\"\",\"title\":{\"standoff\":15},\"zerolinecolor\":\"#EBF0F8\",\"zerolinewidth\":2},\"yaxis\":{\"automargin\":true,\"gridcolor\":\"#EBF0F8\",\"linecolor\":\"#EBF0F8\",\"ticks\":\"\",\"title\":{\"standoff\":15},\"zerolinecolor\":\"#EBF0F8\",\"zerolinewidth\":2}}},\"xaxis\":{\"anchor\":\"y\",\"domain\":[0.0,1.0],\"title\":{\"text\":\"\"}},\"yaxis\":{\"anchor\":\"x\",\"domain\":[0.0,1.0],\"title\":{\"text\":\"<b>$USD</b>\"}},\"legend\":{\"title\":{\"text\":\"Segment Description 2\"},\"tracegroupgap\":0},\"title\":{\"text\":\"<b>Sales by Parent</b>\"},\"barmode\":\"relative\",\"showlegend\":false},                        {\"responsive\": true}                    ).then(function(){\n",
       "                            \n",
       "var gd = document.getElementById('8443c420-89b0-48a4-bf35-123980a99114');\n",
       "var x = new MutationObserver(function (mutations, observer) {{\n",
       "        var display = window.getComputedStyle(gd).display;\n",
       "        if (!display || display === 'none') {{\n",
       "            console.log([gd, 'removed!']);\n",
       "            Plotly.purge(gd);\n",
       "            observer.disconnect();\n",
       "        }}\n",
       "}});\n",
       "\n",
       "// Listen for the removal of the full notebook cells\n",
       "var notebookContainer = gd.closest('#notebook-container');\n",
       "if (notebookContainer) {{\n",
       "    x.observe(notebookContainer, {childList: true});\n",
       "}}\n",
       "\n",
       "// Listen for the clearing of the current output cell\n",
       "var outputEl = gd.closest('.output');\n",
       "if (outputEl) {{\n",
       "    x.observe(outputEl, {childList: true});\n",
       "}}\n",
       "\n",
       "                        })                };                });            </script>        </div>"
      ]
     },
     "metadata": {},
     "output_type": "display_data"
    }
   ],
   "source": [
    "fig_parent_sales.update_layout(showlegend=False).show()"
   ]
  },
  {
   "cell_type": "code",
   "execution_count": 42,
   "id": "c3a08baf",
   "metadata": {},
   "outputs": [
    {
     "name": "stderr",
     "output_type": "stream",
     "text": [
      "C:\\Users\\mikej\\anaconda3\\lib\\site-packages\\scipy\\__init__.py:146: UserWarning:\n",
      "\n",
      "A NumPy version >=1.16.5 and <1.23.0 is required for this version of SciPy (detected version 1.26.2\n",
      "\n"
     ]
    },
    {
     "data": {
      "text/html": [
       "<div>\n",
       "<style scoped>\n",
       "    .dataframe tbody tr th:only-of-type {\n",
       "        vertical-align: middle;\n",
       "    }\n",
       "\n",
       "    .dataframe tbody tr th {\n",
       "        vertical-align: top;\n",
       "    }\n",
       "\n",
       "    .dataframe thead th {\n",
       "        text-align: right;\n",
       "    }\n",
       "</style>\n",
       "<table border=\"1\" class=\"dataframe\">\n",
       "  <thead>\n",
       "    <tr style=\"text-align: right;\">\n",
       "      <th></th>\n",
       "      <th>species</th>\n",
       "      <th>island</th>\n",
       "      <th>bill_length_mm</th>\n",
       "      <th>bill_depth_mm</th>\n",
       "      <th>flipper_length_mm</th>\n",
       "      <th>body_mass_g</th>\n",
       "      <th>sex</th>\n",
       "    </tr>\n",
       "  </thead>\n",
       "  <tbody>\n",
       "    <tr>\n",
       "      <th>0</th>\n",
       "      <td>Adelie</td>\n",
       "      <td>Torgersen</td>\n",
       "      <td>39.1</td>\n",
       "      <td>18.7</td>\n",
       "      <td>181.0</td>\n",
       "      <td>3750.0</td>\n",
       "      <td>Male</td>\n",
       "    </tr>\n",
       "    <tr>\n",
       "      <th>1</th>\n",
       "      <td>Adelie</td>\n",
       "      <td>Torgersen</td>\n",
       "      <td>39.5</td>\n",
       "      <td>17.4</td>\n",
       "      <td>186.0</td>\n",
       "      <td>3800.0</td>\n",
       "      <td>Female</td>\n",
       "    </tr>\n",
       "    <tr>\n",
       "      <th>2</th>\n",
       "      <td>Adelie</td>\n",
       "      <td>Torgersen</td>\n",
       "      <td>40.3</td>\n",
       "      <td>18.0</td>\n",
       "      <td>195.0</td>\n",
       "      <td>3250.0</td>\n",
       "      <td>Female</td>\n",
       "    </tr>\n",
       "    <tr>\n",
       "      <th>3</th>\n",
       "      <td>Adelie</td>\n",
       "      <td>Torgersen</td>\n",
       "      <td>NaN</td>\n",
       "      <td>NaN</td>\n",
       "      <td>NaN</td>\n",
       "      <td>NaN</td>\n",
       "      <td>NaN</td>\n",
       "    </tr>\n",
       "    <tr>\n",
       "      <th>4</th>\n",
       "      <td>Adelie</td>\n",
       "      <td>Torgersen</td>\n",
       "      <td>36.7</td>\n",
       "      <td>19.3</td>\n",
       "      <td>193.0</td>\n",
       "      <td>3450.0</td>\n",
       "      <td>Female</td>\n",
       "    </tr>\n",
       "    <tr>\n",
       "      <th>...</th>\n",
       "      <td>...</td>\n",
       "      <td>...</td>\n",
       "      <td>...</td>\n",
       "      <td>...</td>\n",
       "      <td>...</td>\n",
       "      <td>...</td>\n",
       "      <td>...</td>\n",
       "    </tr>\n",
       "    <tr>\n",
       "      <th>339</th>\n",
       "      <td>Gentoo</td>\n",
       "      <td>Biscoe</td>\n",
       "      <td>NaN</td>\n",
       "      <td>NaN</td>\n",
       "      <td>NaN</td>\n",
       "      <td>NaN</td>\n",
       "      <td>NaN</td>\n",
       "    </tr>\n",
       "    <tr>\n",
       "      <th>340</th>\n",
       "      <td>Gentoo</td>\n",
       "      <td>Biscoe</td>\n",
       "      <td>46.8</td>\n",
       "      <td>14.3</td>\n",
       "      <td>215.0</td>\n",
       "      <td>4850.0</td>\n",
       "      <td>Female</td>\n",
       "    </tr>\n",
       "    <tr>\n",
       "      <th>341</th>\n",
       "      <td>Gentoo</td>\n",
       "      <td>Biscoe</td>\n",
       "      <td>50.4</td>\n",
       "      <td>15.7</td>\n",
       "      <td>222.0</td>\n",
       "      <td>5750.0</td>\n",
       "      <td>Male</td>\n",
       "    </tr>\n",
       "    <tr>\n",
       "      <th>342</th>\n",
       "      <td>Gentoo</td>\n",
       "      <td>Biscoe</td>\n",
       "      <td>45.2</td>\n",
       "      <td>14.8</td>\n",
       "      <td>212.0</td>\n",
       "      <td>5200.0</td>\n",
       "      <td>Female</td>\n",
       "    </tr>\n",
       "    <tr>\n",
       "      <th>343</th>\n",
       "      <td>Gentoo</td>\n",
       "      <td>Biscoe</td>\n",
       "      <td>49.9</td>\n",
       "      <td>16.1</td>\n",
       "      <td>213.0</td>\n",
       "      <td>5400.0</td>\n",
       "      <td>Male</td>\n",
       "    </tr>\n",
       "  </tbody>\n",
       "</table>\n",
       "<p>344 rows × 7 columns</p>\n",
       "</div>"
      ],
      "text/plain": [
       "    species     island  bill_length_mm  bill_depth_mm  flipper_length_mm  \\\n",
       "0    Adelie  Torgersen            39.1           18.7              181.0   \n",
       "1    Adelie  Torgersen            39.5           17.4              186.0   \n",
       "2    Adelie  Torgersen            40.3           18.0              195.0   \n",
       "3    Adelie  Torgersen             NaN            NaN                NaN   \n",
       "4    Adelie  Torgersen            36.7           19.3              193.0   \n",
       "..      ...        ...             ...            ...                ...   \n",
       "339  Gentoo     Biscoe             NaN            NaN                NaN   \n",
       "340  Gentoo     Biscoe            46.8           14.3              215.0   \n",
       "341  Gentoo     Biscoe            50.4           15.7              222.0   \n",
       "342  Gentoo     Biscoe            45.2           14.8              212.0   \n",
       "343  Gentoo     Biscoe            49.9           16.1              213.0   \n",
       "\n",
       "     body_mass_g     sex  \n",
       "0         3750.0    Male  \n",
       "1         3800.0  Female  \n",
       "2         3250.0  Female  \n",
       "3            NaN     NaN  \n",
       "4         3450.0  Female  \n",
       "..           ...     ...  \n",
       "339          NaN     NaN  \n",
       "340       4850.0  Female  \n",
       "341       5750.0    Male  \n",
       "342       5200.0  Female  \n",
       "343       5400.0    Male  \n",
       "\n",
       "[344 rows x 7 columns]"
      ]
     },
     "execution_count": 42,
     "metadata": {},
     "output_type": "execute_result"
    }
   ],
   "source": [
    "import seaborn as sns\n",
    "penguins = sns.load_dataset(\"penguins\")\n",
    "penguins"
   ]
  },
  {
   "cell_type": "code",
   "execution_count": null,
   "id": "ba09ef26",
   "metadata": {},
   "outputs": [],
   "source": []
  }
 ],
 "metadata": {
  "kernelspec": {
   "display_name": "Python 3 (ipykernel)",
   "language": "python",
   "name": "python3"
  },
  "language_info": {
   "codemirror_mode": {
    "name": "ipython",
    "version": 3
   },
   "file_extension": ".py",
   "mimetype": "text/x-python",
   "name": "python",
   "nbconvert_exporter": "python",
   "pygments_lexer": "ipython3",
   "version": "3.9.7"
  }
 },
 "nbformat": 4,
 "nbformat_minor": 5
}
