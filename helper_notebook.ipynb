{
 "cells": [
  {
   "cell_type": "code",
   "execution_count": 10,
   "id": "b053b86c",
   "metadata": {},
   "outputs": [],
   "source": [
    "import pandas as pd\n",
    "import streamlit as st\n",
    "import plotly.express as px"
   ]
  },
  {
   "cell_type": "code",
   "execution_count": 11,
   "id": "61179099",
   "metadata": {},
   "outputs": [
    {
     "data": {
      "text/html": [
       "<div>\n",
       "<style scoped>\n",
       "    .dataframe tbody tr th:only-of-type {\n",
       "        vertical-align: middle;\n",
       "    }\n",
       "\n",
       "    .dataframe tbody tr th {\n",
       "        vertical-align: top;\n",
       "    }\n",
       "\n",
       "    .dataframe thead th {\n",
       "        text-align: right;\n",
       "    }\n",
       "</style>\n",
       "<table border=\"1\" class=\"dataframe\">\n",
       "  <thead>\n",
       "    <tr style=\"text-align: right;\">\n",
       "      <th></th>\n",
       "      <th>Supplier Name</th>\n",
       "      <th>Product Line Number</th>\n",
       "      <th>Product Line Description</th>\n",
       "      <th>Buying Group Number</th>\n",
       "      <th>Buying Group Name</th>\n",
       "      <th>Customer #</th>\n",
       "      <th>Parent Customer</th>\n",
       "      <th>Customer Name</th>\n",
       "      <th>Customer Shipping City</th>\n",
       "      <th>Customer Shipping State</th>\n",
       "      <th>...</th>\n",
       "      <th>Channel Number</th>\n",
       "      <th>Channel Description</th>\n",
       "      <th>Segment Code</th>\n",
       "      <th>Segment Description</th>\n",
       "      <th>Tier Number</th>\n",
       "      <th>Tier Description</th>\n",
       "      <th>Product Line Sub-Category</th>\n",
       "      <th>Dot DC</th>\n",
       "      <th>Table</th>\n",
       "      <th>Segment Description 2</th>\n",
       "    </tr>\n",
       "  </thead>\n",
       "  <tbody>\n",
       "    <tr>\n",
       "      <th>0</th>\n",
       "      <td>AWAKE CHOCOLATE</td>\n",
       "      <td>1769</td>\n",
       "      <td>AWAKE CHOCOLATE</td>\n",
       "      <td>11.0</td>\n",
       "      <td>UNIPRO REPORTING</td>\n",
       "      <td>141740-1</td>\n",
       "      <td>J. POLEP</td>\n",
       "      <td>J. POLEP</td>\n",
       "      <td>CHICOPEE</td>\n",
       "      <td>MA</td>\n",
       "      <td>...</td>\n",
       "      <td>4.0</td>\n",
       "      <td>RETAIL</td>\n",
       "      <td>4004.0</td>\n",
       "      <td>CONVENIENCE STORE</td>\n",
       "      <td>1.0</td>\n",
       "      <td>TIER I</td>\n",
       "      <td>GROCERY</td>\n",
       "      <td>LIVERPOOL</td>\n",
       "      <td>Dot</td>\n",
       "      <td>CONVENIENCE STORE</td>\n",
       "    </tr>\n",
       "    <tr>\n",
       "      <th>1</th>\n",
       "      <td>AWAKE CHOCOLATE</td>\n",
       "      <td>1769</td>\n",
       "      <td>AWAKE CHOCOLATE</td>\n",
       "      <td>11.0</td>\n",
       "      <td>UNIPRO REPORTING</td>\n",
       "      <td>141740-1</td>\n",
       "      <td>J. POLEP</td>\n",
       "      <td>J. POLEP</td>\n",
       "      <td>CHICOPEE</td>\n",
       "      <td>MA</td>\n",
       "      <td>...</td>\n",
       "      <td>4.0</td>\n",
       "      <td>RETAIL</td>\n",
       "      <td>4004.0</td>\n",
       "      <td>CONVENIENCE STORE</td>\n",
       "      <td>1.0</td>\n",
       "      <td>TIER I</td>\n",
       "      <td>GROCERY</td>\n",
       "      <td>LIVERPOOL</td>\n",
       "      <td>Dot</td>\n",
       "      <td>CONVENIENCE STORE</td>\n",
       "    </tr>\n",
       "    <tr>\n",
       "      <th>2</th>\n",
       "      <td>AWAKE CHOCOLATE</td>\n",
       "      <td>1769</td>\n",
       "      <td>AWAKE CHOCOLATE</td>\n",
       "      <td>14.0</td>\n",
       "      <td>FEDERATED</td>\n",
       "      <td>145235-1</td>\n",
       "      <td>R.C. TAYLOR</td>\n",
       "      <td>R.C. TAYLOR</td>\n",
       "      <td>LUBBOCK</td>\n",
       "      <td>TX</td>\n",
       "      <td>...</td>\n",
       "      <td>4.0</td>\n",
       "      <td>RETAIL</td>\n",
       "      <td>4004.0</td>\n",
       "      <td>CONVENIENCE STORE</td>\n",
       "      <td>2.0</td>\n",
       "      <td>TIER II</td>\n",
       "      <td>GROCERY</td>\n",
       "      <td>ARDMORE</td>\n",
       "      <td>Dot</td>\n",
       "      <td>CONVENIENCE STORE</td>\n",
       "    </tr>\n",
       "    <tr>\n",
       "      <th>3</th>\n",
       "      <td>AWAKE CHOCOLATE</td>\n",
       "      <td>1769</td>\n",
       "      <td>AWAKE CHOCOLATE</td>\n",
       "      <td>100.0</td>\n",
       "      <td>MISCELLANEOUS INDUSTRIAL</td>\n",
       "      <td>23036-3</td>\n",
       "      <td>Tropical</td>\n",
       "      <td>TROPICAL FOODS--TX</td>\n",
       "      <td>GRAPEVINE</td>\n",
       "      <td>TX</td>\n",
       "      <td>...</td>\n",
       "      <td>1.0</td>\n",
       "      <td>FOODSERVICE</td>\n",
       "      <td>1003.0</td>\n",
       "      <td>FOOD PROCESSORS</td>\n",
       "      <td>6.0</td>\n",
       "      <td>INDUSTRIAL</td>\n",
       "      <td>GROCERY</td>\n",
       "      <td>ARDMORE</td>\n",
       "      <td>Dot</td>\n",
       "      <td>ALTERNATE RETAIL</td>\n",
       "    </tr>\n",
       "    <tr>\n",
       "      <th>4</th>\n",
       "      <td>AWAKE CHOCOLATE</td>\n",
       "      <td>1769</td>\n",
       "      <td>AWAKE CHOCOLATE</td>\n",
       "      <td>100.0</td>\n",
       "      <td>MISCELLANEOUS INDUSTRIAL</td>\n",
       "      <td>23036-3</td>\n",
       "      <td>Tropical</td>\n",
       "      <td>TROPICAL FOODS--TX</td>\n",
       "      <td>GRAPEVINE</td>\n",
       "      <td>TX</td>\n",
       "      <td>...</td>\n",
       "      <td>1.0</td>\n",
       "      <td>FOODSERVICE</td>\n",
       "      <td>1003.0</td>\n",
       "      <td>FOOD PROCESSORS</td>\n",
       "      <td>6.0</td>\n",
       "      <td>INDUSTRIAL</td>\n",
       "      <td>GROCERY</td>\n",
       "      <td>ARDMORE</td>\n",
       "      <td>Dot</td>\n",
       "      <td>ALTERNATE RETAIL</td>\n",
       "    </tr>\n",
       "    <tr>\n",
       "      <th>...</th>\n",
       "      <td>...</td>\n",
       "      <td>...</td>\n",
       "      <td>...</td>\n",
       "      <td>...</td>\n",
       "      <td>...</td>\n",
       "      <td>...</td>\n",
       "      <td>...</td>\n",
       "      <td>...</td>\n",
       "      <td>...</td>\n",
       "      <td>...</td>\n",
       "      <td>...</td>\n",
       "      <td>...</td>\n",
       "      <td>...</td>\n",
       "      <td>...</td>\n",
       "      <td>...</td>\n",
       "      <td>...</td>\n",
       "      <td>...</td>\n",
       "      <td>...</td>\n",
       "      <td>...</td>\n",
       "      <td>...</td>\n",
       "      <td>...</td>\n",
       "    </tr>\n",
       "    <tr>\n",
       "      <th>16653</th>\n",
       "      <td>AWAKE CHOCOLATE</td>\n",
       "      <td>1769</td>\n",
       "      <td>AWAKE CHOCOLATE</td>\n",
       "      <td>8.0</td>\n",
       "      <td>PFG</td>\n",
       "      <td>230244-1</td>\n",
       "      <td>Vistar</td>\n",
       "      <td>VISTAR-NEW ENGLAND</td>\n",
       "      <td>SOUTH WINDSOR</td>\n",
       "      <td>CT</td>\n",
       "      <td>...</td>\n",
       "      <td>2.0</td>\n",
       "      <td>FOODSERVICE</td>\n",
       "      <td>3001.0</td>\n",
       "      <td>VENDING</td>\n",
       "      <td>4.0</td>\n",
       "      <td>CORPORATES</td>\n",
       "      <td>GROCERY</td>\n",
       "      <td>BEAR</td>\n",
       "      <td>Dot</td>\n",
       "      <td>VENDING</td>\n",
       "    </tr>\n",
       "    <tr>\n",
       "      <th>16654</th>\n",
       "      <td>AWAKE CHOCOLATE</td>\n",
       "      <td>1769</td>\n",
       "      <td>AWAKE CHOCOLATE</td>\n",
       "      <td>8.0</td>\n",
       "      <td>PFG</td>\n",
       "      <td>230244-1</td>\n",
       "      <td>Vistar</td>\n",
       "      <td>VISTAR-NEW ENGLAND</td>\n",
       "      <td>SOUTH WINDSOR</td>\n",
       "      <td>CT</td>\n",
       "      <td>...</td>\n",
       "      <td>2.0</td>\n",
       "      <td>FOODSERVICE</td>\n",
       "      <td>3001.0</td>\n",
       "      <td>VENDING</td>\n",
       "      <td>4.0</td>\n",
       "      <td>CORPORATES</td>\n",
       "      <td>GROCERY</td>\n",
       "      <td>BEAR</td>\n",
       "      <td>Dot</td>\n",
       "      <td>VENDING</td>\n",
       "    </tr>\n",
       "    <tr>\n",
       "      <th>16655</th>\n",
       "      <td>AWAKE CHOCOLATE</td>\n",
       "      <td>1769</td>\n",
       "      <td>AWAKE CHOCOLATE</td>\n",
       "      <td>8.0</td>\n",
       "      <td>PFG</td>\n",
       "      <td>230244-1</td>\n",
       "      <td>Vistar</td>\n",
       "      <td>VISTAR-NEW ENGLAND</td>\n",
       "      <td>SOUTH WINDSOR</td>\n",
       "      <td>CT</td>\n",
       "      <td>...</td>\n",
       "      <td>2.0</td>\n",
       "      <td>FOODSERVICE</td>\n",
       "      <td>3001.0</td>\n",
       "      <td>VENDING</td>\n",
       "      <td>4.0</td>\n",
       "      <td>CORPORATES</td>\n",
       "      <td>GROCERY</td>\n",
       "      <td>BEAR</td>\n",
       "      <td>Dot</td>\n",
       "      <td>VENDING</td>\n",
       "    </tr>\n",
       "    <tr>\n",
       "      <th>16656</th>\n",
       "      <td>AWAKE CHOCOLATE</td>\n",
       "      <td>1769</td>\n",
       "      <td>AWAKE CHOCOLATE</td>\n",
       "      <td>8.0</td>\n",
       "      <td>PFG</td>\n",
       "      <td>230251-1</td>\n",
       "      <td>Vistar</td>\n",
       "      <td>VISTAR-PHOENIX</td>\n",
       "      <td>PHOENIX</td>\n",
       "      <td>AZ</td>\n",
       "      <td>...</td>\n",
       "      <td>2.0</td>\n",
       "      <td>FOODSERVICE</td>\n",
       "      <td>3001.0</td>\n",
       "      <td>VENDING</td>\n",
       "      <td>4.0</td>\n",
       "      <td>CORPORATES</td>\n",
       "      <td>GROCERY</td>\n",
       "      <td>BULLHEAD CITY</td>\n",
       "      <td>Dot</td>\n",
       "      <td>VENDING</td>\n",
       "    </tr>\n",
       "    <tr>\n",
       "      <th>16657</th>\n",
       "      <td>AWAKE CHOCOLATE</td>\n",
       "      <td>1769</td>\n",
       "      <td>AWAKE CHOCOLATE</td>\n",
       "      <td>8.0</td>\n",
       "      <td>PFG</td>\n",
       "      <td>230251-1</td>\n",
       "      <td>Vistar</td>\n",
       "      <td>VISTAR-PHOENIX</td>\n",
       "      <td>PHOENIX</td>\n",
       "      <td>AZ</td>\n",
       "      <td>...</td>\n",
       "      <td>2.0</td>\n",
       "      <td>FOODSERVICE</td>\n",
       "      <td>3001.0</td>\n",
       "      <td>VENDING</td>\n",
       "      <td>4.0</td>\n",
       "      <td>CORPORATES</td>\n",
       "      <td>GROCERY</td>\n",
       "      <td>BULLHEAD CITY</td>\n",
       "      <td>Dot</td>\n",
       "      <td>VENDING</td>\n",
       "    </tr>\n",
       "  </tbody>\n",
       "</table>\n",
       "<p>16658 rows × 34 columns</p>\n",
       "</div>"
      ],
      "text/plain": [
       "         Supplier Name  Product Line Number Product Line Description  \\\n",
       "0      AWAKE CHOCOLATE                 1769          AWAKE CHOCOLATE   \n",
       "1      AWAKE CHOCOLATE                 1769          AWAKE CHOCOLATE   \n",
       "2      AWAKE CHOCOLATE                 1769          AWAKE CHOCOLATE   \n",
       "3      AWAKE CHOCOLATE                 1769          AWAKE CHOCOLATE   \n",
       "4      AWAKE CHOCOLATE                 1769          AWAKE CHOCOLATE   \n",
       "...                ...                  ...                      ...   \n",
       "16653  AWAKE CHOCOLATE                 1769          AWAKE CHOCOLATE   \n",
       "16654  AWAKE CHOCOLATE                 1769          AWAKE CHOCOLATE   \n",
       "16655  AWAKE CHOCOLATE                 1769          AWAKE CHOCOLATE   \n",
       "16656  AWAKE CHOCOLATE                 1769          AWAKE CHOCOLATE   \n",
       "16657  AWAKE CHOCOLATE                 1769          AWAKE CHOCOLATE   \n",
       "\n",
       "       Buying Group Number         Buying Group Name Customer #  \\\n",
       "0                     11.0          UNIPRO REPORTING   141740-1   \n",
       "1                     11.0          UNIPRO REPORTING   141740-1   \n",
       "2                     14.0                 FEDERATED   145235-1   \n",
       "3                    100.0  MISCELLANEOUS INDUSTRIAL    23036-3   \n",
       "4                    100.0  MISCELLANEOUS INDUSTRIAL    23036-3   \n",
       "...                    ...                       ...        ...   \n",
       "16653                  8.0                       PFG   230244-1   \n",
       "16654                  8.0                       PFG   230244-1   \n",
       "16655                  8.0                       PFG   230244-1   \n",
       "16656                  8.0                       PFG   230251-1   \n",
       "16657                  8.0                       PFG   230251-1   \n",
       "\n",
       "      Parent Customer       Customer Name Customer Shipping City  \\\n",
       "0            J. POLEP            J. POLEP               CHICOPEE   \n",
       "1            J. POLEP            J. POLEP               CHICOPEE   \n",
       "2         R.C. TAYLOR         R.C. TAYLOR                LUBBOCK   \n",
       "3            Tropical  TROPICAL FOODS--TX              GRAPEVINE   \n",
       "4            Tropical  TROPICAL FOODS--TX              GRAPEVINE   \n",
       "...               ...                 ...                    ...   \n",
       "16653          Vistar  VISTAR-NEW ENGLAND          SOUTH WINDSOR   \n",
       "16654          Vistar  VISTAR-NEW ENGLAND          SOUTH WINDSOR   \n",
       "16655          Vistar  VISTAR-NEW ENGLAND          SOUTH WINDSOR   \n",
       "16656          Vistar      VISTAR-PHOENIX                PHOENIX   \n",
       "16657          Vistar      VISTAR-PHOENIX                PHOENIX   \n",
       "\n",
       "      Customer Shipping State  ... Channel Number  Channel Description  \\\n",
       "0                          MA  ...            4.0               RETAIL   \n",
       "1                          MA  ...            4.0               RETAIL   \n",
       "2                          TX  ...            4.0               RETAIL   \n",
       "3                          TX  ...            1.0          FOODSERVICE   \n",
       "4                          TX  ...            1.0          FOODSERVICE   \n",
       "...                       ...  ...            ...                  ...   \n",
       "16653                      CT  ...            2.0          FOODSERVICE   \n",
       "16654                      CT  ...            2.0          FOODSERVICE   \n",
       "16655                      CT  ...            2.0          FOODSERVICE   \n",
       "16656                      AZ  ...            2.0          FOODSERVICE   \n",
       "16657                      AZ  ...            2.0          FOODSERVICE   \n",
       "\n",
       "      Segment Code Segment Description  Tier Number  Tier Description  \\\n",
       "0           4004.0   CONVENIENCE STORE          1.0            TIER I   \n",
       "1           4004.0   CONVENIENCE STORE          1.0            TIER I   \n",
       "2           4004.0   CONVENIENCE STORE          2.0           TIER II   \n",
       "3           1003.0     FOOD PROCESSORS          6.0        INDUSTRIAL   \n",
       "4           1003.0     FOOD PROCESSORS          6.0        INDUSTRIAL   \n",
       "...            ...                 ...          ...               ...   \n",
       "16653       3001.0             VENDING          4.0        CORPORATES   \n",
       "16654       3001.0             VENDING          4.0        CORPORATES   \n",
       "16655       3001.0             VENDING          4.0        CORPORATES   \n",
       "16656       3001.0             VENDING          4.0        CORPORATES   \n",
       "16657       3001.0             VENDING          4.0        CORPORATES   \n",
       "\n",
       "      Product Line Sub-Category         Dot DC Table  Segment Description 2  \n",
       "0                       GROCERY      LIVERPOOL   Dot      CONVENIENCE STORE  \n",
       "1                       GROCERY      LIVERPOOL   Dot      CONVENIENCE STORE  \n",
       "2                       GROCERY        ARDMORE   Dot      CONVENIENCE STORE  \n",
       "3                       GROCERY        ARDMORE   Dot       ALTERNATE RETAIL  \n",
       "4                       GROCERY        ARDMORE   Dot       ALTERNATE RETAIL  \n",
       "...                         ...            ...   ...                    ...  \n",
       "16653                   GROCERY           BEAR   Dot                VENDING  \n",
       "16654                   GROCERY           BEAR   Dot                VENDING  \n",
       "16655                   GROCERY           BEAR   Dot                VENDING  \n",
       "16656                   GROCERY  BULLHEAD CITY   Dot                VENDING  \n",
       "16657                   GROCERY  BULLHEAD CITY   Dot                VENDING  \n",
       "\n",
       "[16658 rows x 34 columns]"
      ]
     },
     "execution_count": 11,
     "metadata": {},
     "output_type": "execute_result"
    }
   ],
   "source": [
    "df = pd.read_excel(r\"C:\\Users\\mikej\\Master Data\\streamlit-dash\\data.xlsx\")\n",
    "df"
   ]
  },
  {
   "cell_type": "code",
   "execution_count": 9,
   "id": "88367603",
   "metadata": {},
   "outputs": [
    {
     "data": {
      "application/vnd.plotly.v1+json": {
       "config": {
        "plotlyServerURL": "https://plot.ly"
       },
       "data": [
        {
         "alignmentgroup": "True",
         "hovertemplate": "variable=Dollars<br>value=%{x}<br>Segment Description 2=%{y}<extra></extra>",
         "legendgroup": "Dollars",
         "marker": {
          "color": "#636efa",
          "pattern": {
           "shape": ""
          }
         },
         "name": "Dollars",
         "offsetgroup": "Dollars",
         "orientation": "h",
         "showlegend": true,
         "textposition": "auto",
         "type": "bar",
         "x": [
          85.54,
          884.98,
          14226.68,
          16129.460000000001,
          46069.4455,
          167641.9,
          1384872.5137983193,
          3507554.1,
          4459422.1258000005
         ],
         "xaxis": "x",
         "y": [
          "E&S DEALERS",
          "JAN/SAN/PAPER",
          "FOOD PROCESSORS",
          "GROCERY",
          "ONLINE DISTRIBUTORS",
          "BROADLINE DISTRIBUTOR",
          "CONVENIENCE STORE",
          "ALTERNATE RETAIL",
          "VENDING"
         ],
         "yaxis": "y"
        }
       ],
       "layout": {
        "barmode": "relative",
        "legend": {
         "title": {
          "text": "variable"
         },
         "tracegroupgap": 0
        },
        "margin": {
         "t": 60
        },
        "template": {
         "data": {
          "bar": [
           {
            "error_x": {
             "color": "#2a3f5f"
            },
            "error_y": {
             "color": "#2a3f5f"
            },
            "marker": {
             "line": {
              "color": "#E5ECF6",
              "width": 0.5
             },
             "pattern": {
              "fillmode": "overlay",
              "size": 10,
              "solidity": 0.2
             }
            },
            "type": "bar"
           }
          ],
          "barpolar": [
           {
            "marker": {
             "line": {
              "color": "#E5ECF6",
              "width": 0.5
             },
             "pattern": {
              "fillmode": "overlay",
              "size": 10,
              "solidity": 0.2
             }
            },
            "type": "barpolar"
           }
          ],
          "carpet": [
           {
            "aaxis": {
             "endlinecolor": "#2a3f5f",
             "gridcolor": "white",
             "linecolor": "white",
             "minorgridcolor": "white",
             "startlinecolor": "#2a3f5f"
            },
            "baxis": {
             "endlinecolor": "#2a3f5f",
             "gridcolor": "white",
             "linecolor": "white",
             "minorgridcolor": "white",
             "startlinecolor": "#2a3f5f"
            },
            "type": "carpet"
           }
          ],
          "choropleth": [
           {
            "colorbar": {
             "outlinewidth": 0,
             "ticks": ""
            },
            "type": "choropleth"
           }
          ],
          "contour": [
           {
            "colorbar": {
             "outlinewidth": 0,
             "ticks": ""
            },
            "colorscale": [
             [
              0,
              "#0d0887"
             ],
             [
              0.1111111111111111,
              "#46039f"
             ],
             [
              0.2222222222222222,
              "#7201a8"
             ],
             [
              0.3333333333333333,
              "#9c179e"
             ],
             [
              0.4444444444444444,
              "#bd3786"
             ],
             [
              0.5555555555555556,
              "#d8576b"
             ],
             [
              0.6666666666666666,
              "#ed7953"
             ],
             [
              0.7777777777777778,
              "#fb9f3a"
             ],
             [
              0.8888888888888888,
              "#fdca26"
             ],
             [
              1,
              "#f0f921"
             ]
            ],
            "type": "contour"
           }
          ],
          "contourcarpet": [
           {
            "colorbar": {
             "outlinewidth": 0,
             "ticks": ""
            },
            "type": "contourcarpet"
           }
          ],
          "heatmap": [
           {
            "colorbar": {
             "outlinewidth": 0,
             "ticks": ""
            },
            "colorscale": [
             [
              0,
              "#0d0887"
             ],
             [
              0.1111111111111111,
              "#46039f"
             ],
             [
              0.2222222222222222,
              "#7201a8"
             ],
             [
              0.3333333333333333,
              "#9c179e"
             ],
             [
              0.4444444444444444,
              "#bd3786"
             ],
             [
              0.5555555555555556,
              "#d8576b"
             ],
             [
              0.6666666666666666,
              "#ed7953"
             ],
             [
              0.7777777777777778,
              "#fb9f3a"
             ],
             [
              0.8888888888888888,
              "#fdca26"
             ],
             [
              1,
              "#f0f921"
             ]
            ],
            "type": "heatmap"
           }
          ],
          "heatmapgl": [
           {
            "colorbar": {
             "outlinewidth": 0,
             "ticks": ""
            },
            "colorscale": [
             [
              0,
              "#0d0887"
             ],
             [
              0.1111111111111111,
              "#46039f"
             ],
             [
              0.2222222222222222,
              "#7201a8"
             ],
             [
              0.3333333333333333,
              "#9c179e"
             ],
             [
              0.4444444444444444,
              "#bd3786"
             ],
             [
              0.5555555555555556,
              "#d8576b"
             ],
             [
              0.6666666666666666,
              "#ed7953"
             ],
             [
              0.7777777777777778,
              "#fb9f3a"
             ],
             [
              0.8888888888888888,
              "#fdca26"
             ],
             [
              1,
              "#f0f921"
             ]
            ],
            "type": "heatmapgl"
           }
          ],
          "histogram": [
           {
            "marker": {
             "pattern": {
              "fillmode": "overlay",
              "size": 10,
              "solidity": 0.2
             }
            },
            "type": "histogram"
           }
          ],
          "histogram2d": [
           {
            "colorbar": {
             "outlinewidth": 0,
             "ticks": ""
            },
            "colorscale": [
             [
              0,
              "#0d0887"
             ],
             [
              0.1111111111111111,
              "#46039f"
             ],
             [
              0.2222222222222222,
              "#7201a8"
             ],
             [
              0.3333333333333333,
              "#9c179e"
             ],
             [
              0.4444444444444444,
              "#bd3786"
             ],
             [
              0.5555555555555556,
              "#d8576b"
             ],
             [
              0.6666666666666666,
              "#ed7953"
             ],
             [
              0.7777777777777778,
              "#fb9f3a"
             ],
             [
              0.8888888888888888,
              "#fdca26"
             ],
             [
              1,
              "#f0f921"
             ]
            ],
            "type": "histogram2d"
           }
          ],
          "histogram2dcontour": [
           {
            "colorbar": {
             "outlinewidth": 0,
             "ticks": ""
            },
            "colorscale": [
             [
              0,
              "#0d0887"
             ],
             [
              0.1111111111111111,
              "#46039f"
             ],
             [
              0.2222222222222222,
              "#7201a8"
             ],
             [
              0.3333333333333333,
              "#9c179e"
             ],
             [
              0.4444444444444444,
              "#bd3786"
             ],
             [
              0.5555555555555556,
              "#d8576b"
             ],
             [
              0.6666666666666666,
              "#ed7953"
             ],
             [
              0.7777777777777778,
              "#fb9f3a"
             ],
             [
              0.8888888888888888,
              "#fdca26"
             ],
             [
              1,
              "#f0f921"
             ]
            ],
            "type": "histogram2dcontour"
           }
          ],
          "mesh3d": [
           {
            "colorbar": {
             "outlinewidth": 0,
             "ticks": ""
            },
            "type": "mesh3d"
           }
          ],
          "parcoords": [
           {
            "line": {
             "colorbar": {
              "outlinewidth": 0,
              "ticks": ""
             }
            },
            "type": "parcoords"
           }
          ],
          "pie": [
           {
            "automargin": true,
            "type": "pie"
           }
          ],
          "scatter": [
           {
            "fillpattern": {
             "fillmode": "overlay",
             "size": 10,
             "solidity": 0.2
            },
            "type": "scatter"
           }
          ],
          "scatter3d": [
           {
            "line": {
             "colorbar": {
              "outlinewidth": 0,
              "ticks": ""
             }
            },
            "marker": {
             "colorbar": {
              "outlinewidth": 0,
              "ticks": ""
             }
            },
            "type": "scatter3d"
           }
          ],
          "scattercarpet": [
           {
            "marker": {
             "colorbar": {
              "outlinewidth": 0,
              "ticks": ""
             }
            },
            "type": "scattercarpet"
           }
          ],
          "scattergeo": [
           {
            "marker": {
             "colorbar": {
              "outlinewidth": 0,
              "ticks": ""
             }
            },
            "type": "scattergeo"
           }
          ],
          "scattergl": [
           {
            "marker": {
             "colorbar": {
              "outlinewidth": 0,
              "ticks": ""
             }
            },
            "type": "scattergl"
           }
          ],
          "scattermapbox": [
           {
            "marker": {
             "colorbar": {
              "outlinewidth": 0,
              "ticks": ""
             }
            },
            "type": "scattermapbox"
           }
          ],
          "scatterpolar": [
           {
            "marker": {
             "colorbar": {
              "outlinewidth": 0,
              "ticks": ""
             }
            },
            "type": "scatterpolar"
           }
          ],
          "scatterpolargl": [
           {
            "marker": {
             "colorbar": {
              "outlinewidth": 0,
              "ticks": ""
             }
            },
            "type": "scatterpolargl"
           }
          ],
          "scatterternary": [
           {
            "marker": {
             "colorbar": {
              "outlinewidth": 0,
              "ticks": ""
             }
            },
            "type": "scatterternary"
           }
          ],
          "surface": [
           {
            "colorbar": {
             "outlinewidth": 0,
             "ticks": ""
            },
            "colorscale": [
             [
              0,
              "#0d0887"
             ],
             [
              0.1111111111111111,
              "#46039f"
             ],
             [
              0.2222222222222222,
              "#7201a8"
             ],
             [
              0.3333333333333333,
              "#9c179e"
             ],
             [
              0.4444444444444444,
              "#bd3786"
             ],
             [
              0.5555555555555556,
              "#d8576b"
             ],
             [
              0.6666666666666666,
              "#ed7953"
             ],
             [
              0.7777777777777778,
              "#fb9f3a"
             ],
             [
              0.8888888888888888,
              "#fdca26"
             ],
             [
              1,
              "#f0f921"
             ]
            ],
            "type": "surface"
           }
          ],
          "table": [
           {
            "cells": {
             "fill": {
              "color": "#EBF0F8"
             },
             "line": {
              "color": "white"
             }
            },
            "header": {
             "fill": {
              "color": "#C8D4E3"
             },
             "line": {
              "color": "white"
             }
            },
            "type": "table"
           }
          ]
         },
         "layout": {
          "annotationdefaults": {
           "arrowcolor": "#2a3f5f",
           "arrowhead": 0,
           "arrowwidth": 1
          },
          "autotypenumbers": "strict",
          "coloraxis": {
           "colorbar": {
            "outlinewidth": 0,
            "ticks": ""
           }
          },
          "colorscale": {
           "diverging": [
            [
             0,
             "#8e0152"
            ],
            [
             0.1,
             "#c51b7d"
            ],
            [
             0.2,
             "#de77ae"
            ],
            [
             0.3,
             "#f1b6da"
            ],
            [
             0.4,
             "#fde0ef"
            ],
            [
             0.5,
             "#f7f7f7"
            ],
            [
             0.6,
             "#e6f5d0"
            ],
            [
             0.7,
             "#b8e186"
            ],
            [
             0.8,
             "#7fbc41"
            ],
            [
             0.9,
             "#4d9221"
            ],
            [
             1,
             "#276419"
            ]
           ],
           "sequential": [
            [
             0,
             "#0d0887"
            ],
            [
             0.1111111111111111,
             "#46039f"
            ],
            [
             0.2222222222222222,
             "#7201a8"
            ],
            [
             0.3333333333333333,
             "#9c179e"
            ],
            [
             0.4444444444444444,
             "#bd3786"
            ],
            [
             0.5555555555555556,
             "#d8576b"
            ],
            [
             0.6666666666666666,
             "#ed7953"
            ],
            [
             0.7777777777777778,
             "#fb9f3a"
            ],
            [
             0.8888888888888888,
             "#fdca26"
            ],
            [
             1,
             "#f0f921"
            ]
           ],
           "sequentialminus": [
            [
             0,
             "#0d0887"
            ],
            [
             0.1111111111111111,
             "#46039f"
            ],
            [
             0.2222222222222222,
             "#7201a8"
            ],
            [
             0.3333333333333333,
             "#9c179e"
            ],
            [
             0.4444444444444444,
             "#bd3786"
            ],
            [
             0.5555555555555556,
             "#d8576b"
            ],
            [
             0.6666666666666666,
             "#ed7953"
            ],
            [
             0.7777777777777778,
             "#fb9f3a"
            ],
            [
             0.8888888888888888,
             "#fdca26"
            ],
            [
             1,
             "#f0f921"
            ]
           ]
          },
          "colorway": [
           "#636efa",
           "#EF553B",
           "#00cc96",
           "#ab63fa",
           "#FFA15A",
           "#19d3f3",
           "#FF6692",
           "#B6E880",
           "#FF97FF",
           "#FECB52"
          ],
          "font": {
           "color": "#2a3f5f"
          },
          "geo": {
           "bgcolor": "white",
           "lakecolor": "white",
           "landcolor": "#E5ECF6",
           "showlakes": true,
           "showland": true,
           "subunitcolor": "white"
          },
          "hoverlabel": {
           "align": "left"
          },
          "hovermode": "closest",
          "mapbox": {
           "style": "light"
          },
          "paper_bgcolor": "white",
          "plot_bgcolor": "#E5ECF6",
          "polar": {
           "angularaxis": {
            "gridcolor": "white",
            "linecolor": "white",
            "ticks": ""
           },
           "bgcolor": "#E5ECF6",
           "radialaxis": {
            "gridcolor": "white",
            "linecolor": "white",
            "ticks": ""
           }
          },
          "scene": {
           "xaxis": {
            "backgroundcolor": "#E5ECF6",
            "gridcolor": "white",
            "gridwidth": 2,
            "linecolor": "white",
            "showbackground": true,
            "ticks": "",
            "zerolinecolor": "white"
           },
           "yaxis": {
            "backgroundcolor": "#E5ECF6",
            "gridcolor": "white",
            "gridwidth": 2,
            "linecolor": "white",
            "showbackground": true,
            "ticks": "",
            "zerolinecolor": "white"
           },
           "zaxis": {
            "backgroundcolor": "#E5ECF6",
            "gridcolor": "white",
            "gridwidth": 2,
            "linecolor": "white",
            "showbackground": true,
            "ticks": "",
            "zerolinecolor": "white"
           }
          },
          "shapedefaults": {
           "line": {
            "color": "#2a3f5f"
           }
          },
          "ternary": {
           "aaxis": {
            "gridcolor": "white",
            "linecolor": "white",
            "ticks": ""
           },
           "baxis": {
            "gridcolor": "white",
            "linecolor": "white",
            "ticks": ""
           },
           "bgcolor": "#E5ECF6",
           "caxis": {
            "gridcolor": "white",
            "linecolor": "white",
            "ticks": ""
           }
          },
          "title": {
           "x": 0.05
          },
          "xaxis": {
           "automargin": true,
           "gridcolor": "white",
           "linecolor": "white",
           "ticks": "",
           "title": {
            "standoff": 15
           },
           "zerolinecolor": "white",
           "zerolinewidth": 2
          },
          "yaxis": {
           "automargin": true,
           "gridcolor": "white",
           "linecolor": "white",
           "ticks": "",
           "title": {
            "standoff": 15
           },
           "zerolinecolor": "white",
           "zerolinewidth": 2
          }
         }
        },
        "xaxis": {
         "anchor": "y",
         "domain": [
          0,
          1
         ],
         "title": {
          "text": "value"
         }
        },
        "yaxis": {
         "anchor": "x",
         "domain": [
          0,
          1
         ],
         "title": {
          "text": "Segment Description 2"
         }
        }
       }
      },
      "text/html": [
       "<div>                            <div id=\"9495bd05-8820-4fdf-bbc2-ec43a54c60a2\" class=\"plotly-graph-div\" style=\"height:525px; width:100%;\"></div>            <script type=\"text/javascript\">                require([\"plotly\"], function(Plotly) {                    window.PLOTLYENV=window.PLOTLYENV || {};                                    if (document.getElementById(\"9495bd05-8820-4fdf-bbc2-ec43a54c60a2\")) {                    Plotly.newPlot(                        \"9495bd05-8820-4fdf-bbc2-ec43a54c60a2\",                        [{\"alignmentgroup\":\"True\",\"hovertemplate\":\"variable=Dollars<br>value=%{x}<br>Segment Description 2=%{y}<extra></extra>\",\"legendgroup\":\"Dollars\",\"marker\":{\"color\":\"#636efa\",\"pattern\":{\"shape\":\"\"}},\"name\":\"Dollars\",\"offsetgroup\":\"Dollars\",\"orientation\":\"h\",\"showlegend\":true,\"textposition\":\"auto\",\"x\":[85.54,884.98,14226.68,16129.460000000001,46069.4455,167641.9,1384872.5137983193,3507554.1,4459422.1258000005],\"xaxis\":\"x\",\"y\":[\"E&S DEALERS\",\"JAN/SAN/PAPER\",\"FOOD PROCESSORS\",\"GROCERY\",\"ONLINE DISTRIBUTORS\",\"BROADLINE DISTRIBUTOR\",\"CONVENIENCE STORE\",\"ALTERNATE RETAIL\",\"VENDING\"],\"yaxis\":\"y\",\"type\":\"bar\"}],                        {\"template\":{\"data\":{\"histogram2dcontour\":[{\"type\":\"histogram2dcontour\",\"colorbar\":{\"outlinewidth\":0,\"ticks\":\"\"},\"colorscale\":[[0.0,\"#0d0887\"],[0.1111111111111111,\"#46039f\"],[0.2222222222222222,\"#7201a8\"],[0.3333333333333333,\"#9c179e\"],[0.4444444444444444,\"#bd3786\"],[0.5555555555555556,\"#d8576b\"],[0.6666666666666666,\"#ed7953\"],[0.7777777777777778,\"#fb9f3a\"],[0.8888888888888888,\"#fdca26\"],[1.0,\"#f0f921\"]]}],\"choropleth\":[{\"type\":\"choropleth\",\"colorbar\":{\"outlinewidth\":0,\"ticks\":\"\"}}],\"histogram2d\":[{\"type\":\"histogram2d\",\"colorbar\":{\"outlinewidth\":0,\"ticks\":\"\"},\"colorscale\":[[0.0,\"#0d0887\"],[0.1111111111111111,\"#46039f\"],[0.2222222222222222,\"#7201a8\"],[0.3333333333333333,\"#9c179e\"],[0.4444444444444444,\"#bd3786\"],[0.5555555555555556,\"#d8576b\"],[0.6666666666666666,\"#ed7953\"],[0.7777777777777778,\"#fb9f3a\"],[0.8888888888888888,\"#fdca26\"],[1.0,\"#f0f921\"]]}],\"heatmap\":[{\"type\":\"heatmap\",\"colorbar\":{\"outlinewidth\":0,\"ticks\":\"\"},\"colorscale\":[[0.0,\"#0d0887\"],[0.1111111111111111,\"#46039f\"],[0.2222222222222222,\"#7201a8\"],[0.3333333333333333,\"#9c179e\"],[0.4444444444444444,\"#bd3786\"],[0.5555555555555556,\"#d8576b\"],[0.6666666666666666,\"#ed7953\"],[0.7777777777777778,\"#fb9f3a\"],[0.8888888888888888,\"#fdca26\"],[1.0,\"#f0f921\"]]}],\"heatmapgl\":[{\"type\":\"heatmapgl\",\"colorbar\":{\"outlinewidth\":0,\"ticks\":\"\"},\"colorscale\":[[0.0,\"#0d0887\"],[0.1111111111111111,\"#46039f\"],[0.2222222222222222,\"#7201a8\"],[0.3333333333333333,\"#9c179e\"],[0.4444444444444444,\"#bd3786\"],[0.5555555555555556,\"#d8576b\"],[0.6666666666666666,\"#ed7953\"],[0.7777777777777778,\"#fb9f3a\"],[0.8888888888888888,\"#fdca26\"],[1.0,\"#f0f921\"]]}],\"contourcarpet\":[{\"type\":\"contourcarpet\",\"colorbar\":{\"outlinewidth\":0,\"ticks\":\"\"}}],\"contour\":[{\"type\":\"contour\",\"colorbar\":{\"outlinewidth\":0,\"ticks\":\"\"},\"colorscale\":[[0.0,\"#0d0887\"],[0.1111111111111111,\"#46039f\"],[0.2222222222222222,\"#7201a8\"],[0.3333333333333333,\"#9c179e\"],[0.4444444444444444,\"#bd3786\"],[0.5555555555555556,\"#d8576b\"],[0.6666666666666666,\"#ed7953\"],[0.7777777777777778,\"#fb9f3a\"],[0.8888888888888888,\"#fdca26\"],[1.0,\"#f0f921\"]]}],\"surface\":[{\"type\":\"surface\",\"colorbar\":{\"outlinewidth\":0,\"ticks\":\"\"},\"colorscale\":[[0.0,\"#0d0887\"],[0.1111111111111111,\"#46039f\"],[0.2222222222222222,\"#7201a8\"],[0.3333333333333333,\"#9c179e\"],[0.4444444444444444,\"#bd3786\"],[0.5555555555555556,\"#d8576b\"],[0.6666666666666666,\"#ed7953\"],[0.7777777777777778,\"#fb9f3a\"],[0.8888888888888888,\"#fdca26\"],[1.0,\"#f0f921\"]]}],\"mesh3d\":[{\"type\":\"mesh3d\",\"colorbar\":{\"outlinewidth\":0,\"ticks\":\"\"}}],\"scatter\":[{\"fillpattern\":{\"fillmode\":\"overlay\",\"size\":10,\"solidity\":0.2},\"type\":\"scatter\"}],\"parcoords\":[{\"type\":\"parcoords\",\"line\":{\"colorbar\":{\"outlinewidth\":0,\"ticks\":\"\"}}}],\"scatterpolargl\":[{\"type\":\"scatterpolargl\",\"marker\":{\"colorbar\":{\"outlinewidth\":0,\"ticks\":\"\"}}}],\"bar\":[{\"error_x\":{\"color\":\"#2a3f5f\"},\"error_y\":{\"color\":\"#2a3f5f\"},\"marker\":{\"line\":{\"color\":\"#E5ECF6\",\"width\":0.5},\"pattern\":{\"fillmode\":\"overlay\",\"size\":10,\"solidity\":0.2}},\"type\":\"bar\"}],\"scattergeo\":[{\"type\":\"scattergeo\",\"marker\":{\"colorbar\":{\"outlinewidth\":0,\"ticks\":\"\"}}}],\"scatterpolar\":[{\"type\":\"scatterpolar\",\"marker\":{\"colorbar\":{\"outlinewidth\":0,\"ticks\":\"\"}}}],\"histogram\":[{\"marker\":{\"pattern\":{\"fillmode\":\"overlay\",\"size\":10,\"solidity\":0.2}},\"type\":\"histogram\"}],\"scattergl\":[{\"type\":\"scattergl\",\"marker\":{\"colorbar\":{\"outlinewidth\":0,\"ticks\":\"\"}}}],\"scatter3d\":[{\"type\":\"scatter3d\",\"line\":{\"colorbar\":{\"outlinewidth\":0,\"ticks\":\"\"}},\"marker\":{\"colorbar\":{\"outlinewidth\":0,\"ticks\":\"\"}}}],\"scattermapbox\":[{\"type\":\"scattermapbox\",\"marker\":{\"colorbar\":{\"outlinewidth\":0,\"ticks\":\"\"}}}],\"scatterternary\":[{\"type\":\"scatterternary\",\"marker\":{\"colorbar\":{\"outlinewidth\":0,\"ticks\":\"\"}}}],\"scattercarpet\":[{\"type\":\"scattercarpet\",\"marker\":{\"colorbar\":{\"outlinewidth\":0,\"ticks\":\"\"}}}],\"carpet\":[{\"aaxis\":{\"endlinecolor\":\"#2a3f5f\",\"gridcolor\":\"white\",\"linecolor\":\"white\",\"minorgridcolor\":\"white\",\"startlinecolor\":\"#2a3f5f\"},\"baxis\":{\"endlinecolor\":\"#2a3f5f\",\"gridcolor\":\"white\",\"linecolor\":\"white\",\"minorgridcolor\":\"white\",\"startlinecolor\":\"#2a3f5f\"},\"type\":\"carpet\"}],\"table\":[{\"cells\":{\"fill\":{\"color\":\"#EBF0F8\"},\"line\":{\"color\":\"white\"}},\"header\":{\"fill\":{\"color\":\"#C8D4E3\"},\"line\":{\"color\":\"white\"}},\"type\":\"table\"}],\"barpolar\":[{\"marker\":{\"line\":{\"color\":\"#E5ECF6\",\"width\":0.5},\"pattern\":{\"fillmode\":\"overlay\",\"size\":10,\"solidity\":0.2}},\"type\":\"barpolar\"}],\"pie\":[{\"automargin\":true,\"type\":\"pie\"}]},\"layout\":{\"autotypenumbers\":\"strict\",\"colorway\":[\"#636efa\",\"#EF553B\",\"#00cc96\",\"#ab63fa\",\"#FFA15A\",\"#19d3f3\",\"#FF6692\",\"#B6E880\",\"#FF97FF\",\"#FECB52\"],\"font\":{\"color\":\"#2a3f5f\"},\"hovermode\":\"closest\",\"hoverlabel\":{\"align\":\"left\"},\"paper_bgcolor\":\"white\",\"plot_bgcolor\":\"#E5ECF6\",\"polar\":{\"bgcolor\":\"#E5ECF6\",\"angularaxis\":{\"gridcolor\":\"white\",\"linecolor\":\"white\",\"ticks\":\"\"},\"radialaxis\":{\"gridcolor\":\"white\",\"linecolor\":\"white\",\"ticks\":\"\"}},\"ternary\":{\"bgcolor\":\"#E5ECF6\",\"aaxis\":{\"gridcolor\":\"white\",\"linecolor\":\"white\",\"ticks\":\"\"},\"baxis\":{\"gridcolor\":\"white\",\"linecolor\":\"white\",\"ticks\":\"\"},\"caxis\":{\"gridcolor\":\"white\",\"linecolor\":\"white\",\"ticks\":\"\"}},\"coloraxis\":{\"colorbar\":{\"outlinewidth\":0,\"ticks\":\"\"}},\"colorscale\":{\"sequential\":[[0.0,\"#0d0887\"],[0.1111111111111111,\"#46039f\"],[0.2222222222222222,\"#7201a8\"],[0.3333333333333333,\"#9c179e\"],[0.4444444444444444,\"#bd3786\"],[0.5555555555555556,\"#d8576b\"],[0.6666666666666666,\"#ed7953\"],[0.7777777777777778,\"#fb9f3a\"],[0.8888888888888888,\"#fdca26\"],[1.0,\"#f0f921\"]],\"sequentialminus\":[[0.0,\"#0d0887\"],[0.1111111111111111,\"#46039f\"],[0.2222222222222222,\"#7201a8\"],[0.3333333333333333,\"#9c179e\"],[0.4444444444444444,\"#bd3786\"],[0.5555555555555556,\"#d8576b\"],[0.6666666666666666,\"#ed7953\"],[0.7777777777777778,\"#fb9f3a\"],[0.8888888888888888,\"#fdca26\"],[1.0,\"#f0f921\"]],\"diverging\":[[0,\"#8e0152\"],[0.1,\"#c51b7d\"],[0.2,\"#de77ae\"],[0.3,\"#f1b6da\"],[0.4,\"#fde0ef\"],[0.5,\"#f7f7f7\"],[0.6,\"#e6f5d0\"],[0.7,\"#b8e186\"],[0.8,\"#7fbc41\"],[0.9,\"#4d9221\"],[1,\"#276419\"]]},\"xaxis\":{\"gridcolor\":\"white\",\"linecolor\":\"white\",\"ticks\":\"\",\"title\":{\"standoff\":15},\"zerolinecolor\":\"white\",\"automargin\":true,\"zerolinewidth\":2},\"yaxis\":{\"gridcolor\":\"white\",\"linecolor\":\"white\",\"ticks\":\"\",\"title\":{\"standoff\":15},\"zerolinecolor\":\"white\",\"automargin\":true,\"zerolinewidth\":2},\"scene\":{\"xaxis\":{\"backgroundcolor\":\"#E5ECF6\",\"gridcolor\":\"white\",\"linecolor\":\"white\",\"showbackground\":true,\"ticks\":\"\",\"zerolinecolor\":\"white\",\"gridwidth\":2},\"yaxis\":{\"backgroundcolor\":\"#E5ECF6\",\"gridcolor\":\"white\",\"linecolor\":\"white\",\"showbackground\":true,\"ticks\":\"\",\"zerolinecolor\":\"white\",\"gridwidth\":2},\"zaxis\":{\"backgroundcolor\":\"#E5ECF6\",\"gridcolor\":\"white\",\"linecolor\":\"white\",\"showbackground\":true,\"ticks\":\"\",\"zerolinecolor\":\"white\",\"gridwidth\":2}},\"shapedefaults\":{\"line\":{\"color\":\"#2a3f5f\"}},\"annotationdefaults\":{\"arrowcolor\":\"#2a3f5f\",\"arrowhead\":0,\"arrowwidth\":1},\"geo\":{\"bgcolor\":\"white\",\"landcolor\":\"#E5ECF6\",\"subunitcolor\":\"white\",\"showland\":true,\"showlakes\":true,\"lakecolor\":\"white\"},\"title\":{\"x\":0.05},\"mapbox\":{\"style\":\"light\"}}},\"xaxis\":{\"anchor\":\"y\",\"domain\":[0.0,1.0],\"title\":{\"text\":\"value\"}},\"yaxis\":{\"anchor\":\"x\",\"domain\":[0.0,1.0],\"title\":{\"text\":\"Segment Description 2\"}},\"legend\":{\"title\":{\"text\":\"variable\"},\"tracegroupgap\":0},\"margin\":{\"t\":60},\"barmode\":\"relative\"},                        {\"responsive\": true}                    ).then(function(){\n",
       "                            \n",
       "var gd = document.getElementById('9495bd05-8820-4fdf-bbc2-ec43a54c60a2');\n",
       "var x = new MutationObserver(function (mutations, observer) {{\n",
       "        var display = window.getComputedStyle(gd).display;\n",
       "        if (!display || display === 'none') {{\n",
       "            console.log([gd, 'removed!']);\n",
       "            Plotly.purge(gd);\n",
       "            observer.disconnect();\n",
       "        }}\n",
       "}});\n",
       "\n",
       "// Listen for the removal of the full notebook cells\n",
       "var notebookContainer = gd.closest('#notebook-container');\n",
       "if (notebookContainer) {{\n",
       "    x.observe(notebookContainer, {childList: true});\n",
       "}}\n",
       "\n",
       "// Listen for the clearing of the current output cell\n",
       "var outputEl = gd.closest('.output');\n",
       "if (outputEl) {{\n",
       "    x.observe(outputEl, {childList: true});\n",
       "}}\n",
       "\n",
       "                        })                };                });            </script>        </div>"
      ]
     },
     "metadata": {},
     "output_type": "display_data"
    }
   ],
   "source": [
    "px.bar(df_selection.groupby('Segment Description 2')['Dollars'].sum().sort_values(),orientation = 'h')"
   ]
  },
  {
   "cell_type": "code",
   "execution_count": 17,
   "id": "94b58772",
   "metadata": {},
   "outputs": [],
   "source": [
    "df_selection = df.groupby('Customer Name')['Dollars'].sum().sort_values(ascending=False)"
   ]
  },
  {
   "cell_type": "code",
   "execution_count": 18,
   "id": "2e409061",
   "metadata": {},
   "outputs": [
    {
     "data": {
      "text/plain": [
       "Customer Name\n",
       "VISTAR-RETAIL CENTRAL       1.054461e+06\n",
       "VISTAR-GEORGIA              7.718037e+05\n",
       "VISTAR-RETAIL EAST          5.376510e+05\n",
       "VISTAR-HOUSTON              3.704582e+05\n",
       "VISTAR-KENTUCKY             3.635816e+05\n",
       "                                ...     \n",
       "C.M. TANNER GROCERY CO.     2.154000e+01\n",
       "MARQUE'S FOOD DIST. INC.    0.000000e+00\n",
       "TYLER C-STORE WHOLESALE     0.000000e+00\n",
       "STANLEY MARVEL CO.          0.000000e+00\n",
       "GREEN RABBIT/BRAINTREE     -4.500000e-03\n",
       "Name: Dollars, Length: 205, dtype: float64"
      ]
     },
     "execution_count": 18,
     "metadata": {},
     "output_type": "execute_result"
    }
   ],
   "source": [
    "df_selection"
   ]
  },
  {
   "cell_type": "code",
   "execution_count": 16,
   "id": "911fbd1f",
   "metadata": {},
   "outputs": [
    {
     "data": {
      "text/html": [
       "<div>\n",
       "<style scoped>\n",
       "    .dataframe tbody tr th:only-of-type {\n",
       "        vertical-align: middle;\n",
       "    }\n",
       "\n",
       "    .dataframe tbody tr th {\n",
       "        vertical-align: top;\n",
       "    }\n",
       "\n",
       "    .dataframe thead th {\n",
       "        text-align: right;\n",
       "    }\n",
       "</style>\n",
       "<table border=\"1\" class=\"dataframe\">\n",
       "  <thead>\n",
       "    <tr style=\"text-align: right;\">\n",
       "      <th></th>\n",
       "      <th>Invoice Date</th>\n",
       "      <th>Dollars</th>\n",
       "      <th>Qty Received</th>\n",
       "      <th>Qty Ordered</th>\n",
       "    </tr>\n",
       "  </thead>\n",
       "  <tbody>\n",
       "    <tr>\n",
       "      <th>0</th>\n",
       "      <td>2022-01-03</td>\n",
       "      <td>4944.24</td>\n",
       "      <td>43.0</td>\n",
       "      <td>43</td>\n",
       "    </tr>\n",
       "    <tr>\n",
       "      <th>1</th>\n",
       "      <td>2022-01-04</td>\n",
       "      <td>1177.20</td>\n",
       "      <td>11.0</td>\n",
       "      <td>11</td>\n",
       "    </tr>\n",
       "    <tr>\n",
       "      <th>2</th>\n",
       "      <td>2022-01-05</td>\n",
       "      <td>11772.00</td>\n",
       "      <td>102.0</td>\n",
       "      <td>113</td>\n",
       "    </tr>\n",
       "    <tr>\n",
       "      <th>3</th>\n",
       "      <td>2022-01-06</td>\n",
       "      <td>19065.40</td>\n",
       "      <td>166.0</td>\n",
       "      <td>185</td>\n",
       "    </tr>\n",
       "    <tr>\n",
       "      <th>4</th>\n",
       "      <td>2022-01-07</td>\n",
       "      <td>9692.27</td>\n",
       "      <td>90.0</td>\n",
       "      <td>103</td>\n",
       "    </tr>\n",
       "    <tr>\n",
       "      <th>...</th>\n",
       "      <td>...</td>\n",
       "      <td>...</td>\n",
       "      <td>...</td>\n",
       "      <td>...</td>\n",
       "    </tr>\n",
       "    <tr>\n",
       "      <th>513</th>\n",
       "      <td>2023-12-04</td>\n",
       "      <td>9630.30</td>\n",
       "      <td>86.0</td>\n",
       "      <td>94</td>\n",
       "    </tr>\n",
       "    <tr>\n",
       "      <th>514</th>\n",
       "      <td>2023-12-05</td>\n",
       "      <td>17041.26</td>\n",
       "      <td>148.0</td>\n",
       "      <td>148</td>\n",
       "    </tr>\n",
       "    <tr>\n",
       "      <th>515</th>\n",
       "      <td>2023-12-06</td>\n",
       "      <td>4318.70</td>\n",
       "      <td>26.0</td>\n",
       "      <td>38</td>\n",
       "    </tr>\n",
       "    <tr>\n",
       "      <th>516</th>\n",
       "      <td>2023-12-07</td>\n",
       "      <td>29310.14</td>\n",
       "      <td>224.0</td>\n",
       "      <td>226</td>\n",
       "    </tr>\n",
       "    <tr>\n",
       "      <th>517</th>\n",
       "      <td>2023-12-08</td>\n",
       "      <td>14595.38</td>\n",
       "      <td>122.0</td>\n",
       "      <td>123</td>\n",
       "    </tr>\n",
       "  </tbody>\n",
       "</table>\n",
       "<p>518 rows × 4 columns</p>\n",
       "</div>"
      ],
      "text/plain": [
       "    Invoice Date   Dollars  Qty Received  Qty Ordered\n",
       "0     2022-01-03   4944.24          43.0           43\n",
       "1     2022-01-04   1177.20          11.0           11\n",
       "2     2022-01-05  11772.00         102.0          113\n",
       "3     2022-01-06  19065.40         166.0          185\n",
       "4     2022-01-07   9692.27          90.0          103\n",
       "..           ...       ...           ...          ...\n",
       "513   2023-12-04   9630.30          86.0           94\n",
       "514   2023-12-05  17041.26         148.0          148\n",
       "515   2023-12-06   4318.70          26.0           38\n",
       "516   2023-12-07  29310.14         224.0          226\n",
       "517   2023-12-08  14595.38         122.0          123\n",
       "\n",
       "[518 rows x 4 columns]"
      ]
     },
     "execution_count": 16,
     "metadata": {},
     "output_type": "execute_result"
    }
   ],
   "source": [
    "sales_per_day = df_selection.groupby('Invoice Date').sum([['Dollars']]).reset_index()"
   ]
  },
  {
   "cell_type": "code",
   "execution_count": 3,
   "id": "41e768c3",
   "metadata": {},
   "outputs": [
    {
     "ename": "AttributeError",
     "evalue": "'DataFrameGroupBy' object has no attribute 'unique'",
     "output_type": "error",
     "traceback": [
      "\u001b[1;31m---------------------------------------------------------------------------\u001b[0m",
      "\u001b[1;31mAttributeError\u001b[0m                            Traceback (most recent call last)",
      "\u001b[1;32m~\\AppData\\Local\\Temp/ipykernel_15956/317343190.py\u001b[0m in \u001b[0;36m<module>\u001b[1;34m\u001b[0m\n\u001b[1;32m----> 1\u001b[1;33m \u001b[0mdf\u001b[0m\u001b[1;33m.\u001b[0m\u001b[0mgroupby\u001b[0m\u001b[1;33m(\u001b[0m\u001b[0mpd\u001b[0m\u001b[1;33m.\u001b[0m\u001b[0mGrouper\u001b[0m\u001b[1;33m(\u001b[0m\u001b[0mfreq\u001b[0m\u001b[1;33m=\u001b[0m\u001b[1;34m'Y'\u001b[0m\u001b[1;33m,\u001b[0m \u001b[0mkey\u001b[0m\u001b[1;33m=\u001b[0m\u001b[1;34m'Invoice Date'\u001b[0m\u001b[1;33m)\u001b[0m\u001b[1;33m)\u001b[0m\u001b[1;33m.\u001b[0m\u001b[0munique\u001b[0m\u001b[1;33m(\u001b[0m\u001b[1;33m)\u001b[0m\u001b[1;33m\u001b[0m\u001b[1;33m\u001b[0m\u001b[0m\n\u001b[0m",
      "\u001b[1;32m~\\anaconda3\\lib\\site-packages\\pandas\\core\\groupby\\groupby.py\u001b[0m in \u001b[0;36m__getattr__\u001b[1;34m(self, attr)\u001b[0m\n\u001b[0;32m    950\u001b[0m             \u001b[1;32mreturn\u001b[0m \u001b[0mself\u001b[0m\u001b[1;33m[\u001b[0m\u001b[0mattr\u001b[0m\u001b[1;33m]\u001b[0m\u001b[1;33m\u001b[0m\u001b[1;33m\u001b[0m\u001b[0m\n\u001b[0;32m    951\u001b[0m \u001b[1;33m\u001b[0m\u001b[0m\n\u001b[1;32m--> 952\u001b[1;33m         raise AttributeError(\n\u001b[0m\u001b[0;32m    953\u001b[0m             \u001b[1;34mf\"'{type(self).__name__}' object has no attribute '{attr}'\"\u001b[0m\u001b[1;33m\u001b[0m\u001b[1;33m\u001b[0m\u001b[0m\n\u001b[0;32m    954\u001b[0m         )\n",
      "\u001b[1;31mAttributeError\u001b[0m: 'DataFrameGroupBy' object has no attribute 'unique'"
     ]
    }
   ],
   "source": [
    "df.groupby(pd.Grouper(freq='Y', key='Invoice Date')).unique()"
   ]
  },
  {
   "cell_type": "code",
   "execution_count": 5,
   "id": "f8f3e971",
   "metadata": {},
   "outputs": [
    {
     "data": {
      "text/plain": [
       "array([2022, 2023])"
      ]
     },
     "execution_count": 5,
     "metadata": {},
     "output_type": "execute_result"
    }
   ],
   "source": [
    "df['Invoice Date'].dt.year.unique()"
   ]
  },
  {
   "cell_type": "code",
   "execution_count": null,
   "id": "7552e4ef",
   "metadata": {},
   "outputs": [],
   "source": []
  }
 ],
 "metadata": {
  "kernelspec": {
   "display_name": "Python 3 (ipykernel)",
   "language": "python",
   "name": "python3"
  },
  "language_info": {
   "codemirror_mode": {
    "name": "ipython",
    "version": 3
   },
   "file_extension": ".py",
   "mimetype": "text/x-python",
   "name": "python",
   "nbconvert_exporter": "python",
   "pygments_lexer": "ipython3",
   "version": "3.9.7"
  }
 },
 "nbformat": 4,
 "nbformat_minor": 5
}
