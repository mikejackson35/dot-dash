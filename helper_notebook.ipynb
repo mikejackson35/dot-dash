{
 "cells": [
  {
   "cell_type": "code",
   "execution_count": null,
   "id": "c3d058d8",
   "metadata": {},
   "outputs": [],
   "source": [
    "pip install openpyxl"
   ]
  },
  {
   "cell_type": "code",
   "execution_count": null,
   "id": "fe4dc954",
   "metadata": {},
   "outputs": [],
   "source": [
    "openpyxl.__version__"
   ]
  },
  {
   "cell_type": "code",
   "execution_count": null,
   "id": "b053b86c",
   "metadata": {},
   "outputs": [],
   "source": [
    "import pandas as pd\n",
    "import streamlit as st\n",
    "import plotly.express as px\n",
    "import openpyxl"
   ]
  },
  {
   "cell_type": "code",
   "execution_count": null,
   "id": "61179099",
   "metadata": {},
   "outputs": [],
   "source": [
    "df = pd.read_excel(r\"C:\\Users\\mikej\\Master Data\\streamlit-dash\\data.xlsx\")\n",
    "df"
   ]
  },
  {
   "cell_type": "code",
   "execution_count": null,
   "id": "88367603",
   "metadata": {},
   "outputs": [],
   "source": [
    "px.bar(df_selection.groupby('Segment Description 2')['Dollars'].sum().sort_values(),orientation = 'h')"
   ]
  },
  {
   "cell_type": "code",
   "execution_count": null,
   "id": "94b58772",
   "metadata": {},
   "outputs": [],
   "source": [
    "df_selection = df.groupby('Customer Name')['Dollars'].sum().sort_values(ascending=False)"
   ]
  },
  {
   "cell_type": "code",
   "execution_count": null,
   "id": "2e409061",
   "metadata": {},
   "outputs": [],
   "source": [
    "df_selection"
   ]
  },
  {
   "cell_type": "code",
   "execution_count": null,
   "id": "911fbd1f",
   "metadata": {},
   "outputs": [],
   "source": [
    "sales_per_day = df_selection.groupby('Invoice Date').sum([['Dollars']]).reset_index()"
   ]
  },
  {
   "cell_type": "code",
   "execution_count": null,
   "id": "41e768c3",
   "metadata": {},
   "outputs": [],
   "source": [
    "df.groupby(pd.Grouper(freq='Y', key='Invoice Date')).unique()"
   ]
  },
  {
   "cell_type": "code",
   "execution_count": null,
   "id": "f8f3e971",
   "metadata": {},
   "outputs": [],
   "source": [
    "df['Invoice Date'].dt.year.unique()"
   ]
  },
  {
   "cell_type": "code",
   "execution_count": null,
   "id": "7552e4ef",
   "metadata": {},
   "outputs": [],
   "source": []
  }
 ],
 "metadata": {
  "kernelspec": {
   "display_name": "Python 3 (ipykernel)",
   "language": "python",
   "name": "python3"
  },
  "language_info": {
   "codemirror_mode": {
    "name": "ipython",
    "version": 3
   },
   "file_extension": ".py",
   "mimetype": "text/x-python",
   "name": "python",
   "nbconvert_exporter": "python",
   "pygments_lexer": "ipython3",
   "version": "3.9.7"
  }
 },
 "nbformat": 4,
 "nbformat_minor": 5
}
